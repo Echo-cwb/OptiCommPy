{
 "cells": [
  {
   "cell_type": "markdown",
   "metadata": {
    "toc": true
   },
   "source": [
    "<h1>Table of Contents<span class=\"tocSkip\"></span></h1>\n",
    "<div class=\"toc\"><ul class=\"toc-item\"></ul></div>"
   ]
  },
  {
   "cell_type": "code",
   "execution_count": 1,
   "metadata": {},
   "outputs": [],
   "source": [
    "from commpy.modulation import QAMModem\n",
    "from commpy.utilities  import signal_power\n",
    "import matplotlib.pyplot as plt\n",
    "import numpy as np\n",
    "import scipy as sp"
   ]
  },
  {
   "cell_type": "code",
   "execution_count": 2,
   "metadata": {},
   "outputs": [],
   "source": [
    "from scipy import special as sp\n",
    "\n",
    "def Qfunc(x):\n",
    "    return 0.5-0.5*sp.erf(x/np.sqrt(2))\n",
    "\n",
    "def theoryBER(M, EbN0, constType):\n",
    "    \n",
    "    EbN0lin = 10**(EbN0/10)        \n",
    "    k  = np.log2(M) \n",
    "    \n",
    "    if constType == 'qam':\n",
    "        L  = np.sqrt(M)      \n",
    "        Pb = 2*(1-1/L)/np.log2(L)*Qfunc(np.sqrt(3*np.log2(L)/(L**2-1)*(2*EbN0lin)))\n",
    "        \n",
    "    elif constType == 'psk':\n",
    "        Ps = 2*Qfunc(np.sqrt(2*k*EbN0lin)*np.sin(np.pi/M))\n",
    "        Pb = Ps/k\n",
    "    \n",
    "    return Pb  "
   ]
  },
  {
   "cell_type": "code",
   "execution_count": 3,
   "metadata": {},
   "outputs": [
    {
     "name": "stdout",
     "output_type": "stream",
     "text": [
      "EbN0: 11.00 dB, EbN0_est: 11.00 dB, BER: 6.5e-02 \n",
      "EbN0: 11.50 dB, EbN0_est: 11.50 dB, BER: 5.8e-02 \n",
      "EbN0: 12.00 dB, EbN0_est: 11.99 dB, BER: 5.2e-02 \n",
      "EbN0: 12.50 dB, EbN0_est: 12.48 dB, BER: 4.6e-02 \n",
      "EbN0: 13.00 dB, EbN0_est: 13.02 dB, BER: 4.0e-02 \n",
      "EbN0: 13.50 dB, EbN0_est: 13.47 dB, BER: 3.5e-02 \n",
      "EbN0: 14.00 dB, EbN0_est: 13.99 dB, BER: 2.9e-02 \n",
      "EbN0: 14.50 dB, EbN0_est: 14.50 dB, BER: 2.4e-02 \n",
      "EbN0: 15.00 dB, EbN0_est: 14.98 dB, BER: 2.0e-02 \n",
      "EbN0: 15.50 dB, EbN0_est: 15.50 dB, BER: 1.6e-02 \n",
      "EbN0: 16.00 dB, EbN0_est: 16.01 dB, BER: 1.2e-02 \n",
      "EbN0: 16.50 dB, EbN0_est: 16.52 dB, BER: 9.4e-03 \n",
      "EbN0: 17.00 dB, EbN0_est: 17.00 dB, BER: 7.1e-03 \n",
      "EbN0: 17.50 dB, EbN0_est: 17.52 dB, BER: 4.9e-03 \n",
      "EbN0: 18.00 dB, EbN0_est: 17.99 dB, BER: 3.5e-03 \n",
      "EbN0: 18.50 dB, EbN0_est: 18.51 dB, BER: 2.3e-03 \n",
      "EbN0: 19.00 dB, EbN0_est: 19.00 dB, BER: 1.4e-03 \n",
      "EbN0: 19.50 dB, EbN0_est: 19.51 dB, BER: 8.7e-04 \n",
      "EbN0: 20.00 dB, EbN0_est: 20.02 dB, BER: 4.7e-04 \n",
      "EbN0: 20.50 dB, EbN0_est: 20.50 dB, BER: 2.6e-04 \n",
      "EbN0: 21.00 dB, EbN0_est: 21.00 dB, BER: 1.3e-04 \n",
      "EbN0: 21.50 dB, EbN0_est: 21.50 dB, BER: 6.2e-05 \n",
      "EbN0: 22.00 dB, EbN0_est: 22.01 dB, BER: 2.3e-05 \n",
      "EbN0: 22.50 dB, EbN0_est: 22.50 dB, BER: 7.6e-06 \n",
      "EbN0: 23.00 dB, EbN0_est: 23.01 dB, BER: 5.1e-06 \n",
      "EbN0: 23.50 dB, EbN0_est: 23.52 dB, BER: 0.0e+00 \n",
      "EbN0: 24.00 dB, EbN0_est: 24.01 dB, BER: 0.0e+00 \n",
      "EbN0: 24.50 dB, EbN0_est: 24.52 dB, BER: 0.0e+00 \n",
      "Total of bits counted:  786432\n"
     ]
    }
   ],
   "source": [
    "# Run BER vs Ebn0 Monte Carlo simulation \n",
    "\n",
    "M  = 256  # Modulation order\n",
    "\n",
    "EbN0dB_    = np.arange(1,15,0.5)+10\n",
    "BER        = np.zeros(EbN0dB_.shape)\n",
    "EbN0dB_est = np.zeros(EbN0dB_.shape)\n",
    "\n",
    "for indSNR in range(EbN0dB_.size):\n",
    "    \n",
    "    EbN0dB = EbN0dB_[indSNR]\n",
    "    \n",
    "    # generate random bits\n",
    "    bitsTx   = np.random.randint(2, size=3*2**18)    \n",
    "\n",
    "    # Map bits to constellation symbols\n",
    "    mod = QAMModem(m=M)\n",
    "    symbTx = mod.modulate(bitsTx)\n",
    "        \n",
    "    # Normalize symbols energy to 1\n",
    "    symbTx = symbTx/np.sqrt(mod.Es)\n",
    "\n",
    "    # AWGN    \n",
    "    snrdB    = EbN0dB + 10*np.log10(np.log2(M))\n",
    "    noiseVar = 1/(10**(snrdB/10))\n",
    "\n",
    "    σ        = np.sqrt(noiseVar)\n",
    "    noise    = np.random.normal(0,σ, symbTx.size) + 1j*np.random.normal(0,σ, symbTx.size)\n",
    "    noise    = 1/np.sqrt(2)*noise    \n",
    "\n",
    "    symbRx = symbTx + noise\n",
    "              \n",
    "    # Demodulate received symbols        \n",
    "    bitsRx = mod.demodulate(np.sqrt(mod.Es)*symbRx, demod_type = 'hard')    \n",
    "\n",
    "    # BER calculation, EbN0 estimation\n",
    "    ERR = np.logical_xor(bitsRx, bitsTx)\n",
    "    BER[indSNR] = ERR.sum()/ERR.size\n",
    "    EbN0dB_est[indSNR] = 10*np.log10(1/(signal_power(symbRx-symbTx)*np.log2(M)))\n",
    "    print('EbN0: %3.2f dB, EbN0_est: %3.2f dB, BER: %3.1e ' %(EbN0dB, EbN0dB_est[indSNR], BER[indSNR]))    \n",
    "\n",
    "print('Total of bits counted: ', ERR.size)"
   ]
  },
  {
   "cell_type": "code",
   "execution_count": 4,
   "metadata": {},
   "outputs": [
    {
     "name": "stderr",
     "output_type": "stream",
     "text": [
      "C:\\ProgramData\\Anaconda3\\lib\\site-packages\\ipykernel_launcher.py:4: RuntimeWarning: divide by zero encountered in log10\n",
      "  after removing the cwd from sys.path.\n"
     ]
    },
    {
     "data": {
      "image/png": "[encoded data removed]",
      "text/plain": [
       "<Figure size 432x288 with 1 Axes>"
      ]
     },
     "metadata": {
      "needs_background": "light"
     },
     "output_type": "display_data"
    }
   ],
   "source": [
    "# Plot simulation results and theoretical curves        \n",
    "BERtheory = theoryBER(M, EbN0dB_,'qam')   \n",
    "\n",
    "plt.plot(EbN0dB_,np.log10(BER),'o', label='Monte Carlo sim');\n",
    "plt.plot(EbN0dB_, np.log10(BERtheory), label = 'theory')\n",
    "plt.legend();\n",
    "plt.xlabel('EbN0 [dB]');\n",
    "plt.ylabel('log10(BER)');\n",
    "plt.grid()"
   ]
  },
  {
   "cell_type": "code",
   "execution_count": 5,
   "metadata": {},
   "outputs": [
    {
     "name": "stdout",
     "output_type": "stream",
     "text": [
      "Help on class QAMModem in module commpy.modulation:\n",
      "\n",
      "class QAMModem(Modem)\n",
      " |  QAMModem(m)\n",
      " |  \n",
      " |  Creates a Quadrature Amplitude Modulation (QAM) Modem object.\n",
      " |  \n",
      " |  Parameters\n",
      " |  ----------\n",
      " |  m : int\n",
      " |      Size of the PSK constellation.\n",
      " |  \n",
      " |  Attributes\n",
      " |  ----------\n",
      " |  constellation : 1D-ndarray of complex\n",
      " |                  Modem constellation. If changed, the length of the new constellation must be a power of 2.\n",
      " |  \n",
      " |  Es            : float\n",
      " |                  Average energy per symbols.\n",
      " |  \n",
      " |  m             : integer\n",
      " |                  Constellation length.\n",
      " |  \n",
      " |  num_bits_symb : integer\n",
      " |                  Number of bits per symbol.\n",
      " |  \n",
      " |  Raises\n",
      " |  ------\n",
      " |  ValueError\n",
      " |                  If the constellation is changed to an array-like with length that is not a power of 2.\n",
      " |                  If the parameter m would lead to an non-square QAM during initialization.\n",
      " |  \n",
      " |  Method resolution order:\n",
      " |      QAMModem\n",
      " |      Modem\n",
      " |      builtins.object\n",
      " |  \n",
      " |  Methods defined here:\n",
      " |  \n",
      " |  __init__(self, m)\n",
      " |      Creates a Quadrature Amplitude Modulation (QAM) Modem object.\n",
      " |      \n",
      " |      Parameters\n",
      " |      ----------\n",
      " |      m : int\n",
      " |          Size of the QAM constellation. Must lead to a square QAM (ie sqrt(m) is an integer).\n",
      " |      \n",
      " |      Raises\n",
      " |      ------\n",
      " |      ValueError\n",
      " |                      If m would lead to an non-square QAM.\n",
      " |  \n",
      " |  ----------------------------------------------------------------------\n",
      " |  Methods inherited from Modem:\n",
      " |  \n",
      " |  demodulate(self, input_symbols, demod_type, noise_var=0)\n",
      " |      Demodulate (map) a set of constellation symbols to corresponding bits.\n",
      " |      \n",
      " |      Parameters\n",
      " |      ----------\n",
      " |      input_symbols : 1D ndarray of complex floats\n",
      " |          Input symbols to be demodulated.\n",
      " |      \n",
      " |      demod_type : string\n",
      " |          'hard' for hard decision output (bits)\n",
      " |          'soft' for soft decision output (LLRs)\n",
      " |      \n",
      " |      noise_var : float\n",
      " |          AWGN variance. Needs to be specified only if demod_type is 'soft'\n",
      " |      \n",
      " |      Returns\n",
      " |      -------\n",
      " |      demod_bits : 1D ndarray of ints\n",
      " |          Corresponding demodulated bits.\n",
      " |  \n",
      " |  modulate(self, input_bits)\n",
      " |      Modulate (map) an array of bits to constellation symbols.\n",
      " |      \n",
      " |      Parameters\n",
      " |      ----------\n",
      " |      input_bits : 1D ndarray of ints\n",
      " |          Inputs bits to be modulated (mapped).\n",
      " |      \n",
      " |      Returns\n",
      " |      -------\n",
      " |      baseband_symbols : 1D ndarray of complex floats\n",
      " |          Modulated complex symbols.\n",
      " |  \n",
      " |  plot_constellation(self)\n",
      " |      Plot the constellation\n",
      " |  \n",
      " |  ----------------------------------------------------------------------\n",
      " |  Data descriptors inherited from Modem:\n",
      " |  \n",
      " |  __dict__\n",
      " |      dictionary for instance variables (if defined)\n",
      " |  \n",
      " |  __weakref__\n",
      " |      list of weak references to the object (if defined)\n",
      " |  \n",
      " |  constellation\n",
      " |      Constellation of the modem.\n",
      "\n"
     ]
    }
   ],
   "source": [
    "help(QAMModem)"
   ]
  },
  {
   "cell_type": "code",
   "execution_count": null,
   "metadata": {},
   "outputs": [],
   "source": []
  }
 ],
 "metadata": {
  "kernelspec": {
   "display_name": "Python 3",
   "language": "python",
   "name": "python3"
  },
  "language_info": {
   "codemirror_mode": {
    "name": "ipython",
    "version": 3
   },
   "file_extension": ".py",
   "mimetype": "text/x-python",
   "name": "python",
   "nbconvert_exporter": "python",
   "pygments_lexer": "ipython3",
   "version": "3.7.4"
  },
  "toc": {
   "base_numbering": 1,
   "nav_menu": {},
   "number_sections": true,
   "sideBar": true,
   "skip_h1_title": true,
   "title_cell": "Table of Contents",
   "title_sidebar": "Contents",
   "toc_cell": true,
   "toc_position": {},
   "toc_section_display": true,
   "toc_window_display": false
  }
 },
 "nbformat": 4,
 "nbformat_minor": 5
}
