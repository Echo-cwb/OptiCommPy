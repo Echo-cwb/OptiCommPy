{
 "cells": [
  {
   "cell_type": "code",
   "execution_count": 1,
   "metadata": {
    "ExecuteTime": {
     "end_time": "2021-10-13T14:59:06.240233Z",
     "start_time": "2021-10-13T14:59:03.044716Z"
    }
   },
   "outputs": [],
   "source": [
    "import matplotlib.pyplot as plt\n",
    "import numpy as np\n",
    "from numpy.random import normal\n",
    "from commpy.utilities  import signal_power, upsample\n",
    "from commpy.modulation import QAMModem\n",
    "from utils.dsp import firFilter, pulseShape, lowPassFIR, edc, fourthPowerFOE, dbp, cpr\n",
    "from utils.models import mzm, linFiberCh, iqm, ssfm, edfa, phaseNoise, coherentReceiver, manakov_ssf\n",
    "from utils.tx import simpleWDMTx\n",
    "from utils.core import parameters\n",
    "\n",
    "from scipy import signal\n",
    "import scipy.constants as const"
   ]
  },
  {
   "cell_type": "code",
   "execution_count": 2,
   "metadata": {
    "ExecuteTime": {
     "end_time": "2021-10-13T14:59:06.351952Z",
     "start_time": "2021-10-13T14:59:06.339960Z"
    }
   },
   "outputs": [
    {
     "data": {
      "text/html": [
       "\n",
       "<style>\n",
       ".output_png {\n",
       "    display: table-cell;\n",
       "    text-align: center;\n",
       "    vertical-align: middle;\n",
       "}\n",
       "</style>\n"
      ],
      "text/plain": [
       "<IPython.core.display.HTML object>"
      ]
     },
     "execution_count": 2,
     "metadata": {},
     "output_type": "execute_result"
    }
   ],
   "source": [
    "from IPython.core.display import HTML\n",
    "from IPython.core.pylabtools import figsize\n",
    "from IPython.display import display, Math\n",
    "\n",
    "HTML(\"\"\"\n",
    "<style>\n",
    ".output_png {\n",
    "    display: table-cell;\n",
    "    text-align: center;\n",
    "    vertical-align: middle;\n",
    "}\n",
    "</style>\n",
    "\"\"\")"
   ]
  },
  {
   "cell_type": "code",
   "execution_count": 3,
   "metadata": {
    "ExecuteTime": {
     "end_time": "2021-10-13T14:59:07.834615Z",
     "start_time": "2021-10-13T14:59:07.822623Z"
    }
   },
   "outputs": [],
   "source": [
    "%matplotlib inline\n",
    "#figsize(7, 2.5)\n",
    "figsize(10, 3)"
   ]
  },
  {
   "cell_type": "markdown",
   "metadata": {},
   "source": [
    "# Simulation of coherent WDM systems"
   ]
  },
  {
   "cell_type": "markdown",
   "metadata": {},
   "source": [
    "## Coherent WDM system\n",
    "\n",
    "### Transmitter"
   ]
  },
  {
   "cell_type": "code",
   "execution_count": 4,
   "metadata": {
    "ExecuteTime": {
     "end_time": "2021-10-11T18:00:51.294585Z",
     "start_time": "2021-10-11T18:00:51.281595Z"
    }
   },
   "outputs": [
    {
     "name": "stdout",
     "output_type": "stream",
     "text": [
      "Help on function simpleWDMTx in module utils.tx:\n",
      "\n",
      "simpleWDMTx(param)\n",
      "    Simple WDM transmitter\n",
      "    \n",
      "    Generates a complex baseband waveform representing a WDM signal with arbitrary number of carriers\n",
      "    \n",
      "    :param.M: QAM order [default: 16]\n",
      "    :param.Rs: carrier baud rate [baud][default: 32e9]\n",
      "    :param.SpS: samples per symbol [default: 16]\n",
      "    :param.Nbits: total number of bits per carrier [default: 60000]\n",
      "    :param.pulse: pulse shape ['nrz', 'rrc'][default: 'rrc']\n",
      "    :param.Ntaps: number of coefficients of the rrc filter [default: 4096]\n",
      "    :param.alphaRRC: rolloff do rrc filter [default: 0.01]\n",
      "    :param.Pch_dBm: launched power per WDM channel [dBm][default:-3 dBm]\n",
      "    :param.Nch: number of WDM channels [default: 5]\n",
      "    :param.Fc: central frequency of the WDM spectrum [Hz][default: 193.1e12 Hz]\n",
      "    :param.freqSpac: frequency spacing of the WDM grid [Hz][default: 40e9 Hz]\n",
      "    :param.Nmodes: number of polarization modes [default: 1]\n",
      "\n"
     ]
    }
   ],
   "source": [
    "help(simpleWDMTx)"
   ]
  },
  {
   "cell_type": "code",
   "execution_count": 5,
   "metadata": {
    "ExecuteTime": {
     "end_time": "2021-10-11T18:00:51.309574Z",
     "start_time": "2021-10-11T18:00:51.296586Z"
    }
   },
   "outputs": [
    {
     "name": "stdout",
     "output_type": "stream",
     "text": [
      "Help on function ssfm in module utils.models:\n",
      "\n",
      "ssfm(Ei, Fs, paramCh)\n",
      "    Split-step Fourier method (symmetric, single-pol.)\n",
      "    \n",
      "    :param Ei: input signal\n",
      "    :param Fs: sampling frequency of Ei [Hz]\n",
      "    :param paramCh: object with physical parameters of the optical channel\n",
      "    \n",
      "    :paramCh.Ltotal: total fiber length [km][default: 400 km]\n",
      "    :paramCh.Lspan: span length [km][default: 80 km]\n",
      "    :paramCh.hz: step-size for the split-step Fourier method [km][default: 0.5 km]\n",
      "    :paramCh.alpha: fiber attenuation parameter [dB/km][default: 0.2 dB/km]\n",
      "    :paramCh.D: chromatic dispersion parameter [ps/nm/km][default: 16 ps/nm/km]\n",
      "    :paramCh.gamma: fiber nonlinear parameter [1/W/km][default: 1.3 1/W/km]\n",
      "    :paramCh.Fc: carrier frequency [Hz] [default: 193.1e12 Hz]\n",
      "    :paramCh.amp: 'edfa', 'ideal', or 'None. [default:'edfa']\n",
      "    :paramCh.NF: edfa noise figure [dB] [default: 4.5 dB]    \n",
      "    \n",
      "    :return Ech: propagated signal\n",
      "\n"
     ]
    }
   ],
   "source": [
    "help(ssfm)"
   ]
  },
  {
   "cell_type": "markdown",
   "metadata": {},
   "source": [
    "## Polarization multiplexed WDM signal"
   ]
  },
  {
   "cell_type": "markdown",
   "metadata": {},
   "source": [
    "**signal generation**"
   ]
  },
  {
   "cell_type": "code",
   "execution_count": 3,
   "metadata": {
    "ExecuteTime": {
     "end_time": "2021-10-13T15:14:18.951224Z",
     "start_time": "2021-10-13T15:14:01.710423Z"
    },
    "lines_to_next_cell": 0
   },
   "outputs": [
    {
     "name": "stdout",
     "output_type": "stream",
     "text": [
      "Mode #0\n",
      "channel 1 power : -2.01 dBm, fc : 193.1000 THz\n",
      "Mode #1\n",
      "channel 1 power : -2.01 dBm, fc : 193.1000 THz\n",
      "total WDM signal power: 1.00 dBm\n"
     ]
    }
   ],
   "source": [
    "# Parâmetros do transmissor:\n",
    "param = parameters()\n",
    "param.M   = 16            # ordem do formato de modulação\n",
    "param.Rs  = 32e9         # taxa de sinalização [baud]\n",
    "param.SpS = 8            # número de amostras por símbolo\n",
    "param.Nbits = 400000     # número de bits\n",
    "param.pulse = 'nrz'      # formato de pulso\n",
    "param.Ntaps = 4096       # número de coeficientes do filtro RRC\n",
    "param.alphaRRC = 0.01    # rolloff do filtro RRC\n",
    "param.Pch_dBm = 1        # potência média por canal WDM [dBm]\n",
    "param.Nch     = 1        # número de canais WDM\n",
    "param.Fc      = 193.1e12 # frequência central do espectro WDM\n",
    "param.freqSpac = 40e9    # espaçamento em frequência da grade de canais WDM\n",
    "param.Nmodes = 2         # número de modos de polarização\n",
    "\n",
    "sigWDM_Tx, symbTx_, param = simpleWDMTx(param)\n",
    "\n",
    "freqGrid = param.freqGrid"
   ]
  },
  {
   "cell_type": "markdown",
   "metadata": {},
   "source": [
    "**Nonlinear fiber propagation with the split-step Fourier method**"
   ]
  },
  {
   "cell_type": "code",
   "execution_count": 4,
   "metadata": {
    "ExecuteTime": {
     "end_time": "2021-10-13T15:14:27.637651Z",
     "start_time": "2021-10-13T15:14:25.634894Z"
    },
    "scrolled": false
   },
   "outputs": [
    {
     "data": {
      "application/vnd.jupyter.widget-view+json": {
       "model_id": "90dcf1cb1bb146b487d4bd3a8580a153",
       "version_major": 2,
       "version_minor": 0
      },
      "text/plain": [
       "  0%|          | 0/4 [00:00<?, ?it/s]"
      ]
     },
     "metadata": {},
     "output_type": "display_data"
    }
   ],
   "source": [
    "linearChannel = True\n",
    "\n",
    "# optical channel parameters\n",
    "paramCh = parameters()\n",
    "paramCh.Ltotal = 80   # km\n",
    "paramCh.Lspan  = 20    # km\n",
    "paramCh.alpha = 0.2    # dB/km\n",
    "paramCh.D = 0          # ps/nm/km\n",
    "paramCh.Fc = 193.1e12  # Hz\n",
    "paramCh.hz = 0.1       # km\n",
    "paramCh.gamma = 1.3    # 1/(W.km)\n",
    "\n",
    "if linearChannel:\n",
    "    paramCh.hz = paramCh.Lspan \n",
    "    paramCh.gamma = 0  \n",
    "\n",
    "Fs = param.Rs*param.SpS\n",
    "sigWDM, paramCh = manakov_ssf(sigWDM_Tx, Fs, paramCh) \n",
    "\n",
    "\n",
    "receivedSignal = sigWDM.copy()\n",
    "transmSymbols  = symbTx_.copy()"
   ]
  },
  {
   "cell_type": "markdown",
   "metadata": {},
   "source": [
    "**Optical WDM spectrum before and after transmission**"
   ]
  },
  {
   "cell_type": "code",
   "execution_count": 148,
   "metadata": {
    "ExecuteTime": {
     "end_time": "2021-10-13T14:12:31.528664Z",
     "start_time": "2021-10-13T14:12:31.116447Z"
    },
    "lines_to_next_cell": 2
   },
   "outputs": [
    {
     "data": {
      "image/png": "[encoded data removed]",
      "text/plain": [
       "<Figure size 432x288 with 1 Axes>"
      ]
     },
     "metadata": {
      "needs_background": "light"
     },
     "output_type": "display_data"
    }
   ],
   "source": [
    "# plot psd\n",
    "plt.figure()\n",
    "plt.xlim(paramCh.Fc-Fs/2,paramCh.Fc+Fs/2);\n",
    "plt.psd(sigWDM_Tx[:,0], Fs=param.SpS*param.Rs, Fc=paramCh.Fc, NFFT = 4*1024, sides='twosided', label = 'WDM spectrum - Tx')\n",
    "plt.psd(sigWDM[:,0], Fs=Fs, Fc=paramCh.Fc, NFFT = 4*1024, sides='twosided', label = 'WDM spectrum - Rx')\n",
    "plt.legend(loc='lower left')\n",
    "plt.title('optical WDM spectrum');"
   ]
  },
  {
   "cell_type": "markdown",
   "metadata": {},
   "source": [
    "**WDM channels coherent detection and demodulation**"
   ]
  },
  {
   "cell_type": "code",
   "execution_count": 11,
   "metadata": {},
   "outputs": [
    {
     "name": "stdout",
     "output_type": "stream",
     "text": [
      "Demodulating channel #0 , fc: 193.1000 THz, λ: 1552.5244 nm\n",
      "\n",
      "Local oscillator P: 10.00 dBm, lw: 0.00 kHz, FO: 64.00 MHz\n",
      "\n"
     ]
    },
    {
     "data": {
      "image/png": "[encoded data removed]",
      "text/plain": [
       "<Figure size 432x288 with 2 Axes>"
      ]
     },
     "metadata": {
      "needs_background": "light"
     },
     "output_type": "display_data"
    }
   ],
   "source": [
    "### Receiver\n",
    "\n",
    "# parameters\n",
    "chIndex  = 0    # index of the channel to be demodulated\n",
    "plotPSD  = True\n",
    "\n",
    "Fa = param.SpS*param.Rs\n",
    "Fc = paramCh.Fc\n",
    "Ta = 1/Fa\n",
    "mod = QAMModem(m=param.M)\n",
    "\n",
    "print('Demodulating channel #%d , fc: %.4f THz, λ: %.4f nm\\n'\\\n",
    "      %(chIndex, (Fc + freqGrid[chIndex])/1e12, const.c/(Fc + freqGrid[chIndex])/1e-9))\n",
    "\n",
    "symbTx = transmSymbols[:,:,chIndex]\n",
    "\n",
    "# local oscillator (LO) parameters:\n",
    "FO      = 64e6                  # frequency offset\n",
    "Δf_lo   = freqGrid[chIndex]+FO  # downshift of the channel to be demodulated\n",
    "lw      = 0*100e3               # linewidth\n",
    "Plo_dBm = 10                    # power in dBm\n",
    "Plo     = 10**(Plo_dBm/10)*1e-3 # power in W\n",
    "ϕ_lo    = 0                     # initial phase in rad    \n",
    "\n",
    "print('Local oscillator P: %.2f dBm, lw: %.2f kHz, FO: %.2f MHz\\n'\\\n",
    "      %(Plo_dBm, lw/1e3, FO/1e6))\n",
    "\n",
    "# generate LO field\n",
    "π       = np.pi\n",
    "t       = np.arange(0, len(sigWDM))*Ta\n",
    "ϕ_pn_lo = phaseNoise(lw, len(sigWDM), Ta)\n",
    "sigLO   = np.sqrt(Plo)*np.exp(1j*(2*π*Δf_lo*t + ϕ_lo + ϕ_pn_lo))\n",
    "\n",
    "# polarization multiplexed coherent optical receiver\n",
    "sigRx = pdmCoherentReceiver(sigWDM, sigLO, θsig=0, Rdx=1, Rdy=1)\n",
    "\n",
    "fig, (ax1, ax2) = plt.subplots(1, 2)\n",
    "\n",
    "ax1.plot(sigRx[0::param.SpS,0].real, sigRx[0::param.SpS,0].imag,'.')\n",
    "ax1.axis('square');\n",
    "ax2.plot(sigRx[0::param.SpS,1].real, sigRx[0::param.SpS,1].imag,'.')\n",
    "ax2.axis('square');"
   ]
  },
  {
   "cell_type": "code",
   "execution_count": 6,
   "metadata": {
    "ExecuteTime": {
     "end_time": "2021-10-12T21:40:30.480663Z",
     "start_time": "2021-10-12T21:40:30.167858Z"
    }
   },
   "outputs": [
    {
     "ename": "IndexError",
     "evalue": "index 4 is out of bounds for axis 0 with size 1",
     "output_type": "error",
     "traceback": [
      "\u001b[1;31m---------------------------------------------------------------------------\u001b[0m",
      "\u001b[1;31mIndexError\u001b[0m                                Traceback (most recent call last)",
      "\u001b[1;32m<ipython-input-6-51a252ed15ee>\u001b[0m in \u001b[0;36m<module>\u001b[1;34m\u001b[0m\n\u001b[0;32m     12\u001b[0m \u001b[1;33m\u001b[0m\u001b[0m\n\u001b[0;32m     13\u001b[0m print('Demodulating channel #%d , fc: %.4f THz, λ: %.4f nm\\n'\\\n\u001b[1;32m---> 14\u001b[1;33m       %(chIndex, (Fc + freqGrid[chIndex])/1e12, const.c/(Fc + freqGrid[chIndex])/1e-9))\n\u001b[0m\u001b[0;32m     15\u001b[0m \u001b[1;33m\u001b[0m\u001b[0m\n\u001b[0;32m     16\u001b[0m \u001b[0msigWDM\u001b[0m \u001b[1;33m=\u001b[0m \u001b[0mreceivedSignal\u001b[0m\u001b[1;33m[\u001b[0m\u001b[1;33m:\u001b[0m\u001b[1;33m,\u001b[0m\u001b[0mpolIndex\u001b[0m\u001b[1;33m]\u001b[0m\u001b[1;33m.\u001b[0m\u001b[0mreshape\u001b[0m\u001b[1;33m(\u001b[0m\u001b[0mlen\u001b[0m\u001b[1;33m(\u001b[0m\u001b[0msigWDM\u001b[0m\u001b[1;33m)\u001b[0m\u001b[1;33m,\u001b[0m\u001b[1;33m)\u001b[0m\u001b[1;33m\u001b[0m\u001b[1;33m\u001b[0m\u001b[0m\n",
      "\u001b[1;31mIndexError\u001b[0m: index 4 is out of bounds for axis 0 with size 1"
     ]
    }
   ],
   "source": [
    "# Rx filtering\n",
    "\n",
    "# Matched filter\n",
    "if param.pulse == 'nrz':\n",
    "    pulse = pulseShape('nrz', param.SpS)\n",
    "elif param.pulse == 'rrc':\n",
    "    pulse = pulseShape('rrc', param.SpS, N=param.Ntaps, alpha=param.alphaRRC, Ts=1/param.Rs)\n",
    "\n",
    "pulse = pulse/np.max(np.abs(pulse))            \n",
    "sigRx = firFilter(pulse, sigRx)\n",
    "\n",
    "# plot psd\n",
    "if plotPSD:\n",
    "    plt.figure();\n",
    "   # plt.ylim(-250,-50);\n",
    "    plt.psd(sigRx, Fs=Fa, NFFT = 16*1024, sides='twosided', label = 'Spectrum of the received signal')\n",
    "    plt.legend(loc='upper left');\n",
    "    plt.xlim(-Fa/2,Fa/2);\n",
    "\n",
    "fig, (ax1, ax2, ax3, ax4) = plt.subplots(1, 4,figsize=(15,4.5))\n",
    "fig.suptitle('Sequence of DSP blocks')\n",
    "\n",
    "ax1.plot(sigRx.real, sigRx.imag,'.', markersize=4)\n",
    "ax1.axis('square')\n",
    "ax1.title.set_text('Output of coherent front-end')\n",
    "ax1.grid()\n",
    "\n",
    "# digital backpropagation\n",
    "# hzDBP = 5\n",
    "# Pin   = 10**(param.Pch_dBm/10)*1e-3\n",
    "# sigRx = sigRx/np.sqrt(signal_power(sigRx))\n",
    "# sigRx = dbp(np.sqrt(Pin)*sigRx, Fa, paramCh.Ltotal, paramCh.Lspan, hzDBP, paramCh.alpha, paramCh.gamma, paramCh.D, paramCh.Fc)\n",
    "# sigRx = sigRx.reshape(len(sigRx),)\n",
    "# sigRx = firFilter(pulse, sigRx)\n",
    "    \n",
    "# CD compensation\n",
    "sigRx = edc(sigRx, paramCh.Ltotal, paramCh.D, Fc-Δf_lo, Fa)\n",
    "\n",
    "# simple timing recovery\n",
    "varVector = np.var((sigRx.T).reshape(-1,param.SpS), axis=0) # finds best sampling instant\n",
    "sampDelay = np.where(varVector == np.amax(varVector))[0][0]\n",
    "\n",
    "# downsampling\n",
    "sigRx = sigRx[sampDelay::param.SpS]\n",
    "\n",
    "discard = 1000\n",
    "ind = np.arange(discard, sigRx.size-discard)\n",
    "\n",
    "# symbol normalization\n",
    "sigRx = sigRx/np.sqrt(signal_power(sigRx[ind]))\n",
    "\n",
    "# plot constellation after CD compensation\n",
    "ax2.plot(sigRx.real, sigRx.imag,'.', markersize=4)\n",
    "ax2.axis('square')\n",
    "ax2.title.set_text('After CD comp.')\n",
    "ax2.grid()\n",
    "\n",
    "# calculate time delay due to walkoff\n",
    "symbDelay = np.argmax(signal.correlate(np.abs(symbTx), np.abs(sigRx)))-sigRx.size+1 \n",
    "\n",
    "# compensate walkoff time delay\n",
    "sigRx = np.roll(sigRx, symbDelay)\n",
    "\n",
    "# symbol normalization\n",
    "sigRx = sigRx/np.sqrt(signal_power(sigRx[ind]))\n",
    "\n",
    "# estimate and compensate LO frequency offset\n",
    "fo = fourthPowerFOE(sigRx, 1/param.Rs)\n",
    "print('Estimated FO : %3.4f MHz'%(fo/1e6))\n",
    "\n",
    "sigRx = sigRx*np.exp(-1j*2*π*fo*np.arange(0,len(sigRx))/param.Rs)\n",
    "\n",
    "# plot constellation after LO frequency offset compensation\n",
    "ax3.plot(sigRx[ind].real, sigRx[ind].imag,'.', markersize=4)\n",
    "ax3.axis('square')\n",
    "ax3.title.set_text('After CFR (4th-power FOE)')\n",
    "ax3.grid()\n",
    "\n",
    "# compensate phase noise (carrier phase recovery - cpr)\n",
    "windowSize = 30\n",
    "c  = mod.constellation/np.sqrt(mod.Es)\n",
    "sigRx, ϕ, θ = cpr(sigRx, windowSize, c, symbTx)\n",
    "\n",
    "# plot phases estimated by cpr\n",
    "phaseOffSet = np.mean(np.roll(ϕ_pn_lo[::param.SpS], symbDelay)-θ)\n",
    "plt.figure()\n",
    "plt.plot(np.roll(ϕ_pn_lo[::param.SpS], symbDelay), label='phase of the LO');\n",
    "plt.plot(θ+phaseOffSet, label='phase estimated by CPR');\n",
    "plt.grid()\n",
    "plt.xlim(0,θ.size)\n",
    "plt.legend();\n",
    "\n",
    "# correct (possible) phase ambiguity\n",
    "rot = np.mean(symbTx[ind]/sigRx[ind])\n",
    "sigRx  = rot*sigRx\n",
    "\n",
    "# symbol normalization\n",
    "sigRx = sigRx/np.sqrt(signal_power(sigRx[ind]))\n",
    "\n",
    "# plot constellation after cpr\n",
    "ax4.plot(sigRx[ind].real, sigRx[ind].imag,'.', markersize=4)\n",
    "ax4.axis('square')\n",
    "ax4.title.set_text('After CPR (DD-PLL)')\n",
    "ax4.grid()\n",
    "\n",
    "# estimate SNR of the received constellation\n",
    "SNR = signal_power(symbTx[ind])/signal_power(sigRx[ind]-symbTx[ind])\n",
    "\n",
    "# hard decision demodulation of the received symbols    \n",
    "bitsRx = mod.demodulate(np.sqrt(mod.Es)*sigRx, demod_type = 'hard') \n",
    "bitsTx = mod.demodulate(np.sqrt(mod.Es)*symbTx, demod_type = 'hard') \n",
    "\n",
    "err = np.logical_xor(bitsRx[discard:bitsRx.size-discard], \n",
    "                     bitsTx[discard:bitsTx.size-discard])\n",
    "BER = np.mean(err)\n",
    "\n",
    "print('Estimated SNR = %.2f dB \\n'%(10*np.log10(SNR)))\n",
    "print('Total counted bits = %d  '%(err.size))\n",
    "print('Total of counted errors = %d  '%(err.sum()))\n",
    "print('BER = %.2e  '%(BER))\n",
    "\n",
    "plt.figure()\n",
    "plt.plot(err,'o', label = 'errors location')\n",
    "plt.legend()\n",
    "plt.grid()"
   ]
  },
  {
   "cell_type": "code",
   "execution_count": 6,
   "metadata": {
    "ExecuteTime": {
     "end_time": "2021-10-11T20:26:40.063109Z",
     "start_time": "2021-10-11T20:26:27.658386Z"
    }
   },
   "outputs": [
    {
     "data": {
      "image/png": "[encoded data removed]",
      "text/plain": [
       "<Figure size 360x360 with 1 Axes>"
      ]
     },
     "metadata": {
      "needs_background": "light"
     },
     "output_type": "display_data"
    }
   ],
   "source": [
    "from scipy.stats.kde import gaussian_kde\n",
    "\n",
    "y = (sigRx[ind]).real\n",
    "x = (sigRx[ind]).imag\n",
    "\n",
    "k = gaussian_kde(np.vstack([x, y]))\n",
    "k.set_bandwidth(bw_method=k.factor/4)\n",
    "\n",
    "xi, yi = 1.1*np.mgrid[x.min():x.max():x.size**0.5*1j,y.min():y.max():y.size**0.5*1j]\n",
    "zi = k(np.vstack([xi.flatten(), yi.flatten()]))\n",
    "plt.figure(figsize=(5,5))\n",
    "plt.pcolormesh(xi, yi, zi.reshape(xi.shape), alpha=1, shading='auto');"
   ]
  },
  {
   "cell_type": "code",
   "execution_count": 7,
   "metadata": {
    "ExecuteTime": {
     "end_time": "2021-10-13T15:14:36.676744Z",
     "start_time": "2021-10-13T15:14:35.056750Z"
    }
   },
   "outputs": [
    {
     "data": {
      "image/png": "[encoded data removed]",
      "text/plain": [
       "<Figure size 432x288 with 1 Axes>"
      ]
     },
     "metadata": {
      "needs_background": "light"
     },
     "output_type": "display_data"
    }
   ],
   "source": [
    "from numpy.matlib import repmat\n",
    "from tqdm.notebook import tqdm\n",
    "\n",
    "x = receivedSignal[::int(param.SpS/2)]\n",
    "d = transmSymbols[:,:,0]\n",
    "\n",
    "x = x.reshape(len(x),2)/np.sqrt(signal_power(x))\n",
    "d = d.reshape(len(d),2)/np.sqrt(signal_power(d))\n",
    "\n",
    "θ = np.pi/3\n",
    "\n",
    "rot = np.array([[np.cos(θ), -np.sin(θ)],[np.sin(θ), np.cos(θ)]])\n",
    "\n",
    "x = x@rot\n",
    "\n",
    "plt.plot(x.real, x.imag,'.');\n",
    "plt.plot(d.real, d.imag,'.');\n",
    "plt.axis('square')\n",
    "plt.xlim(-3.5, 3.5)\n",
    "plt.ylim(-3.5, 3.5);"
   ]
  },
  {
   "cell_type": "code",
   "execution_count": 8,
   "metadata": {
    "ExecuteTime": {
     "end_time": "2021-10-14T21:40:11.280482Z",
     "start_time": "2021-10-14T21:40:11.155557Z"
    }
   },
   "outputs": [],
   "source": [
    "from numba import njit, jit\n",
    "\n",
    "def mimoAdaptEqualizer(x, dx=[], paramEq=[]):              \n",
    "    \"\"\"\n",
    "    N-by-N MIMO adaptive equalizer\n",
    "    \n",
    "    \"\"\"\n",
    "   \n",
    "    # check input parameters\n",
    "    numIter    = getattr(paramEq, 'numIter', 1)\n",
    "    nTaps      = getattr(paramEq, 'nTaps', 15)\n",
    "    mu         = getattr(paramEq, 'mu', 1e-3)\n",
    "    SpS        = getattr(paramEq, 'SpS', 2)\n",
    "    H          = getattr(paramEq, 'H', [])\n",
    "    L          = getattr(paramEq, 'L', [])\n",
    "    Hiter      = getattr(paramEq, 'Hiter', [])\n",
    "    storeCoeff = getattr(paramEq, 'storeCoeff', False)\n",
    "    alg        = getattr(paramEq, 'alg', ['nlms'])\n",
    "    M          = getattr(paramEq, 'M', 4)    \n",
    "    \n",
    "    # We want all the signal sequences to be disposed in columns:\n",
    "    if not len(dx):\n",
    "        dx = x.copy()\n",
    "        \n",
    "    try:\n",
    "        if x.shape[1] > x.shape[0]:\n",
    "            x = x.T       \n",
    "    except IndexError:\n",
    "        x  = x.reshape(len(x),1)       \n",
    "        \n",
    "    try:        \n",
    "        if dx.shape[1] > dx.shape[0]:\n",
    "            dx = dx.T\n",
    "    except IndexError:        \n",
    "        dx = dx.reshape(len(dx),1)\n",
    "\n",
    "    nModes = int(x.shape[1]) # number of sinal modes (order of the MIMO equalizer)\n",
    "    \n",
    "    Lpad    = int(np.floor(nTaps/2))\n",
    "    zeroPad = np.zeros((Lpad, nModes), dtype='complex')\n",
    "    x = np.concatenate((zeroPad, x, zeroPad)) # pad start and end of the signal with zeros\n",
    "    \n",
    "    # Defining training parameters:\n",
    "    mod = QAMModem(m=M) # commpy QAM constellation modem object\n",
    "    constSymb = mod.constellation/np.sqrt(mod.Es) # complex-valued constellation symbols\n",
    "\n",
    "    if not L: # if L is not defined\n",
    "        L = [int(np.fix((len(x)-nTaps)/SpS+1))] # Length of the output (1 sample/symbol) of the training section       \n",
    "    \n",
    "    if len(H) == 0: # if H is not defined\n",
    "        H  = np.zeros((nModes**2, nTaps), dtype='complex')\n",
    "        \n",
    "        for initH in range(0, nModes): # initialize filters' taps\n",
    "            H[initH + initH*nModes, int(np.floor(H.shape[1]/2))] = 1 # Central spike initialization\n",
    "           \n",
    "    # Equalizer training:\n",
    "    for indIter in tqdm(range(0, numIter)):\n",
    "        print(alg[0],'training iteration #%d'%indIter)        \n",
    "        yEq, H, errSq, Hiter = coreAdaptEq(x, dx, SpS, H, L[0], mu, nTaps, storeCoeff, alg[0], constSymb)               \n",
    "        print(alg[0],'MSE = %.6f.'%np.nanmean(errSq))\n",
    "        \n",
    "    return  yEq, H, errSq, Hiter\n",
    "\n",
    "@jit(nopython=True)\n",
    "def coreAdaptEq(x, dx, SpS, H, L, mu, nTaps, storeCoeff, alg, constSymb):\n",
    "    \"\"\"\n",
    "    Adaptive equalizer core processing function\n",
    "    \n",
    "    \"\"\"\n",
    "    \n",
    "    # allocate variables\n",
    "    nModes  = int(x.shape[1])\n",
    "    indTaps = np.arange(0, nTaps) \n",
    "    indMode = np.arange(0, nModes)\n",
    "    \n",
    "    errSq   = np.empty((nModes, L))\n",
    "    yEq     = x[0:L].copy()    \n",
    "    yEq[:]  = np.nan    \n",
    "    outEq   = np.array([[0+1j*0]]).repeat(nModes).reshape(nModes, 1)\n",
    "    \n",
    "    if storeCoeff:\n",
    "        Hiter = np.array([[0+1j*0]]).repeat((nModes**2)*nTaps*L).reshape(nModes**2, nTaps, L)\n",
    "    else:\n",
    "        Hiter = np.array([[0+1j*0]]).repeat((nModes**2)*nTaps).reshape(nModes**2, nTaps, 1)\n",
    "        \n",
    "    # Radii cma, rde\n",
    "    Rcma = (np.mean(np.abs(constSymb)**4)/np.mean(np.abs(constSymb)**2))*np.ones((1, nModes))+1j*0          \n",
    "    Rrde = np.unique(np.abs(constSymb))\n",
    "        \n",
    "    for ind in range(0, L):       \n",
    "        outEq[:] = 0\n",
    "            \n",
    "        indIn = indTaps + ind*SpS # simplify indexing and improve speed\n",
    "\n",
    "        # pass signal sequence through the equalizer:\n",
    "        for N in range(0, nModes):\n",
    "            inEq   = x[indIn, N].reshape(len(indIn), 1) # slice input coming from the Nth mode            \n",
    "            outEq += H[indMode+N*nModes,:]@inEq         # add contribution from the Nth mode to the equalizer's output                 \n",
    "                        \n",
    "        yEq[ind,:] = outEq.T        \n",
    "                    \n",
    "        # update equalizer taps acording to adaptive specified \n",
    "        # training algorithm and save squared error:        \n",
    "        if alg == 'nlms':\n",
    "            H, errSq[:,ind] = nlmsUp(x[indIn, :], dx[ind,:], outEq, mu, H, nModes)\n",
    "        elif alg == 'cma':\n",
    "            H, errSq[:,ind] = cmaUp(x[indIn, :], Rcma, outEq, mu, H, nModes) \n",
    "        elif alg == 'ddlms':\n",
    "            H, errSq[:,ind] = ddlmsUp(x[indIn, :], constSymb, outEq, mu, H, nModes)\n",
    "        elif alg == 'rde':\n",
    "            H, errSq[:,ind] = rdeUp(x[indIn, :], Rrde, outEq, mu, H, nModes)\n",
    "        \n",
    "        if storeCoeff:\n",
    "            Hiter[:,:, ind] = H  \n",
    "        else:\n",
    "            Hiter[:,:, 1] = H\n",
    "            \n",
    "    return yEq, H, errSq, Hiter\n",
    "\n",
    "@jit(nopython=True)\n",
    "def nlmsUp(x, dx, outEq, mu, H, nModes):\n",
    "    \"\"\"\n",
    "    coefficient update with the NLMS algorithm    \n",
    "    \"\"\"          \n",
    "    indMode = np.arange(0, nModes)    \n",
    "    err = dx - outEq.T # calculate output error for the NLMS algorithm \n",
    "    \n",
    "    errDiag = np.diag(err[0]) # define diagonal matrix from error array\n",
    "    \n",
    "    # update equalizer taps \n",
    "    for N in range(0, nModes):\n",
    "            indUpdTaps = indMode+N*nModes # simplify indexing and improve speed\n",
    "            inAdapt = x[:, N].T/np.linalg.norm(x[:,N])**2 # NLMS normalization\n",
    "            inAdaptPar = inAdapt.repeat(nModes).reshape(len(x), -1).T # expand input to parallelize tap adaptation\n",
    "            H[indUpdTaps,:] = H[indUpdTaps,:] + mu*errDiag@np.conj(inAdaptPar) # gradient descent update   \n",
    "\n",
    "    return H, np.abs(err)**2\n",
    "\n",
    "@jit(nopython=True)\n",
    "def ddlmsUp(x, constSymb, outEq, mu, H, nModes):\n",
    "    \"\"\"\n",
    "    coefficient update with the DDLMS algorithm    \n",
    "    \"\"\"      \n",
    "    indMode    = np.arange(0, nModes)\n",
    "    outEq      = outEq.T\n",
    "    decided    = outEq.copy()\n",
    "    decided[:] = np.nan\n",
    "       \n",
    "    for k in range(0, outEq.shape[1]):\n",
    "        indSymb = np.argmin(np.abs(outEq[0,k] - constSymb))\n",
    "        decided[0,k] = constSymb[indSymb]\n",
    "                \n",
    "    err = decided - outEq # calculate output error for the DDLMS algorithm   \n",
    "\n",
    "    errDiag = np.diag(err[0]) # define diagonal matrix from error array\n",
    "   \n",
    "    # update equalizer taps \n",
    "    for N in range(0, nModes):\n",
    "            indUpdTaps = indMode+N*nModes # simplify indexing\n",
    "            inAdapt = x[:, N].T\n",
    "            inAdaptPar = inAdapt.repeat(nModes).reshape(len(x), -1).T # expand input to parallelize tap adaptation\n",
    "            H[indUpdTaps,:] = H[indUpdTaps,:] + mu*errDiag@np.conj(inAdaptPar) # gradient descent update   \n",
    "\n",
    "    return H, np.abs(err)**2\n",
    "\n",
    "\n",
    "@jit(nopython=True)\n",
    "def cmaUp(x, R, outEq, mu, H, nModes):\n",
    "    \"\"\"\n",
    "    coefficient update with the CMA algorithm    \n",
    "    \"\"\"      \n",
    "    indMode = np.arange(0, nModes)\n",
    "    outEq = outEq.T\n",
    "    err   = R - np.abs(outEq)**2 # calculate output error for the CMA algorithm \n",
    "\n",
    "    prodErrOut = np.diag(err[0])@np.diag(outEq[0]) # define diagonal matrix \n",
    "    \n",
    "    # update equalizer taps  \n",
    "    for N in range(0, nModes):\n",
    "            indUpdTaps = indMode+N*nModes # simplify indexing\n",
    "            inAdapt = x[:, N].T\n",
    "            inAdaptPar = inAdapt.repeat(nModes).reshape(len(x), -1).T # expand input to parallelize tap adaptation\n",
    "            H[indUpdTaps,:] = H[indUpdTaps,:] + mu*prodErrOut@np.conj(inAdaptPar) # gradient descent update   \n",
    "\n",
    "    return H, np.abs(err)**2\n",
    "\n",
    "@jit(nopython=True)\n",
    "def rdeUp(x, R, outEq, mu, H, nModes):\n",
    "    \"\"\"\n",
    "    coefficient update with the RDE algorithm    \n",
    "    \"\"\"      \n",
    "    indMode    = np.arange(0, nModes)\n",
    "    outEq      = outEq.T    \n",
    "    decidedR    = outEq.copy()\n",
    "    decidedR[:] = np.nan\n",
    "    \n",
    "    # find closest constellation radius\n",
    "    for k in range(0, outEq.shape[1]):\n",
    "        indR = np.argmin(np.abs(R - np.abs(outEq[0,k])))\n",
    "        decidedR[0,k] = R[indR]\n",
    "        \n",
    "    err  = decidedR**2 - np.abs(outEq)**2 # calculate output error for the RDE algorithm \n",
    "    \n",
    "    prodErrOut = np.diag(err[0])@np.diag(outEq[0]) # define diagonal matrix \n",
    "    \n",
    "    # update equalizer taps \n",
    "    for N in range(0, nModes):\n",
    "            indUpdTaps = indMode+N*nModes # simplify indexing\n",
    "            inAdapt = x[:, N].T\n",
    "            inAdaptPar = inAdapt.repeat(nModes).reshape(len(x), -1).T # expand input to parallelize tap adaptation\n",
    "            H[indUpdTaps,:] = H[indUpdTaps,:] + mu*prodErrOut@np.conj(inAdaptPar) # gradient descent update   \n",
    "\n",
    "    return H, np.abs(err)**2"
   ]
  },
  {
   "cell_type": "code",
   "execution_count": 73,
   "metadata": {
    "ExecuteTime": {
     "end_time": "2021-10-14T21:45:49.088563Z",
     "start_time": "2021-10-14T21:45:45.440696Z"
    }
   },
   "outputs": [
    {
     "data": {
      "application/vnd.jupyter.widget-view+json": {
       "model_id": "15b2802748d745f58dfcc993b3888281",
       "version_major": 2,
       "version_minor": 0
      },
      "text/plain": [
       "  0%|          | 0/10 [00:00<?, ?it/s]"
      ]
     },
     "metadata": {},
     "output_type": "display_data"
    },
    {
     "name": "stdout",
     "output_type": "stream",
     "text": [
      "nlms training iteration #0\n",
      "nlms MSE = 0.328294.\n",
      "nlms training iteration #1\n",
      "nlms MSE = 0.004671.\n",
      "nlms training iteration #2\n",
      "nlms MSE = 0.002221.\n",
      "nlms training iteration #3\n",
      "nlms MSE = 0.001973.\n",
      "nlms training iteration #4\n",
      "nlms MSE = 0.001895.\n",
      "nlms training iteration #5\n",
      "nlms MSE = 0.001860.\n",
      "nlms training iteration #6\n",
      "nlms MSE = 0.001838.\n",
      "nlms training iteration #7\n",
      "nlms MSE = 0.001820.\n",
      "nlms training iteration #8\n",
      "nlms MSE = 0.001804.\n",
      "nlms training iteration #9\n",
      "nlms MSE = 0.001788.\n"
     ]
    }
   ],
   "source": [
    "paramEq = parameters()\n",
    "paramEq.nTaps = 75\n",
    "paramEq.SpS   = 2\n",
    "paramEq.mu    = 1e-3\n",
    "paramEq.numIter = 10\n",
    "paramEq.storeCoeff = False\n",
    "paramEq.alg   = ['nlms']\n",
    "paramEq.M     = 16\n",
    "#paramEq.H = H\n",
    "#paramEq.L = [20000]\n",
    "\n",
    "y_EQ, H, errSq, Hiter = mimoAdaptEqualizer(x, dx=d, paramEq=paramEq)\n",
    "\n",
    "# y_EQ, H, errSq, Hiter = mimoAdaptEqualizer(np.matlib.repmat(x,1,3),\\\n",
    "#                                            dx=np.matlib.repmat(d,1,3),\\\n",
    "#                                            paramEq=paramEq)"
   ]
  },
  {
   "cell_type": "code",
   "execution_count": 74,
   "metadata": {
    "ExecuteTime": {
     "end_time": "2021-10-14T21:45:56.044007Z",
     "start_time": "2021-10-14T21:45:54.141730Z"
    }
   },
   "outputs": [
    {
     "data": {
      "image/png": "[encoded data removed]",
      "text/plain": [
       "<Figure size 432x288 with 2 Axes>"
      ]
     },
     "metadata": {
      "needs_background": "light"
     },
     "output_type": "display_data"
    }
   ],
   "source": [
    "fig, (ax1, ax2) = plt.subplots(1, 2)\n",
    "discard = 1000\n",
    "\n",
    "ax1.plot(y_EQ[discard:-discard,0].real, y_EQ[discard:-discard,0].imag,'.')\n",
    "ax1.plot(d[:,0].real, d[:,0].imag,'.')\n",
    "ax1.axis('square')\n",
    "ax1.set_xlim(-1.5, 1.5)\n",
    "ax1.set_ylim(-1.5, 1.5)\n",
    "\n",
    "ax2.plot(y_EQ[discard:-discard,1].real, y_EQ[discard:-discard,1].imag,'.')\n",
    "ax2.plot(d[:,1].real, d[:,1].imag,'.')\n",
    "ax2.axis('square')\n",
    "ax2.set_xlim(-1.5, 1.5)\n",
    "ax2.set_ylim(-1.5, 1.5);"
   ]
  },
  {
   "cell_type": "code",
   "execution_count": 75,
   "metadata": {},
   "outputs": [
    {
     "data": {
      "image/png": "[encoded data removed]",
      "text/plain": [
       "<Figure size 432x288 with 2 Axes>"
      ]
     },
     "metadata": {
      "needs_background": "light"
     },
     "output_type": "display_data"
    }
   ],
   "source": [
    "fig, (ax1, ax2) = plt.subplots(1, 2)\n",
    "discard = 1\n",
    "\n",
    "ax1.plot(np.abs(y_EQ[discard:-discard,0]),'.')\n",
    "ax1.plot(np.abs(d[:,0]),'.');\n",
    "#ax1.axis('square')\n",
    "#ax1.set_xlim(-1.5, 1.5)\n",
    "#ax1.set_ylim(-1.5, 1.5)\n",
    "\n",
    "ax2.plot(np.abs(y_EQ[discard:-discard,1]),'.')\n",
    "ax2.plot(np.abs(d[:,1]),'.');\n",
    "#ax2.axis('square')\n",
    "#ax2.set_xlim(-1.5, 1.5)\n",
    "#ax2.set_ylim(-1.5, 1.5);"
   ]
  },
  {
   "cell_type": "code",
   "execution_count": 76,
   "metadata": {
    "ExecuteTime": {
     "end_time": "2021-10-14T21:45:56.044007Z",
     "start_time": "2021-10-14T21:45:54.141730Z"
    }
   },
   "outputs": [
    {
     "data": {
      "image/png": "[encoded data removed]",
      "text/plain": [
       "<Figure size 432x288 with 1 Axes>"
      ]
     },
     "metadata": {
      "needs_background": "light"
     },
     "output_type": "display_data"
    }
   ],
   "source": [
    "Nav = 2000\n",
    "h = np.ones(Nav)/Nav\n",
    "\n",
    "plt.figure()\n",
    "for ind in range(0, errSq.shape[0]):\n",
    "    err_ = errSq[ind,:]\n",
    "    plt.plot(10*np.log10(firFilter(h, err_)));\n",
    "\n",
    "plt.grid()\n",
    "plt.xlim(0,errSq.shape[1])\n",
    "plt.xlabel('symbol')\n",
    "plt.ylabel('MSE (dB)');"
   ]
  },
  {
   "cell_type": "code",
   "execution_count": 77,
   "metadata": {
    "ExecuteTime": {
     "end_time": "2021-10-14T21:46:00.220586Z",
     "start_time": "2021-10-14T21:46:00.001723Z"
    }
   },
   "outputs": [
    {
     "data": {
      "image/png": "[encoded data removed]",
      "text/plain": [
       "<Figure size 432x288 with 1 Axes>"
      ]
     },
     "metadata": {
      "needs_background": "light"
     },
     "output_type": "display_data"
    }
   ],
   "source": [
    "plt.plot(H.real.T,'-');\n",
    "plt.plot(H.imag.T,'-');\n",
    "\n",
    "# plt.stem(H[0,:].real.T,linefmt='r');\n",
    "# plt.stem(H[3,:].imag.T,linefmt='b');"
   ]
  },
  {
   "cell_type": "code",
   "execution_count": null,
   "metadata": {
    "ExecuteTime": {
     "end_time": "2021-10-13T15:15:18.368981Z",
     "start_time": "2021-10-13T15:15:18.358986Z"
    }
   },
   "outputs": [],
   "source": [
    "#!pip install line_profiler"
   ]
  },
  {
   "cell_type": "code",
   "execution_count": 28,
   "metadata": {
    "ExecuteTime": {
     "end_time": "2021-10-13T15:19:14.213591Z",
     "start_time": "2021-10-13T15:19:14.189606Z"
    }
   },
   "outputs": [],
   "source": [
    "%load_ext line_profiler"
   ]
  },
  {
   "cell_type": "code",
   "execution_count": 29,
   "metadata": {
    "ExecuteTime": {
     "end_time": "2021-10-13T13:13:58.094232Z",
     "start_time": "2021-10-13T13:13:52.742450Z"
    }
   },
   "outputs": [
    {
     "data": {
      "application/vnd.jupyter.widget-view+json": {
       "model_id": "5d033ce83eee4cf595c130a5f11c1b9f",
       "version_major": 2,
       "version_minor": 0
      },
      "text/plain": [
       "  0%|          | 0/10 [00:00<?, ?it/s]"
      ]
     },
     "metadata": {},
     "output_type": "display_data"
    },
    {
     "name": "stdout",
     "output_type": "stream",
     "text": [
      "NLMS training iteration #0\n",
      "NLMS MSE = 0.021114.\n",
      "NLMS training iteration #1\n",
      "NLMS MSE = 0.002989.\n",
      "NLMS training iteration #2\n",
      "NLMS MSE = 0.002790.\n",
      "NLMS training iteration #3\n",
      "NLMS MSE = 0.002633.\n",
      "NLMS training iteration #4\n",
      "NLMS MSE = 0.002502.\n",
      "NLMS training iteration #5\n",
      "NLMS MSE = 0.002393.\n",
      "NLMS training iteration #6\n",
      "NLMS MSE = 0.002300.\n",
      "NLMS training iteration #7\n",
      "NLMS MSE = 0.002222.\n",
      "NLMS training iteration #8\n",
      "NLMS MSE = 0.002156.\n",
      "NLMS training iteration #9\n",
      "NLMS MSE = 0.002100.\n"
     ]
    }
   ],
   "source": [
    "%lprun -f MIMO_NLMS_v1 MIMO_NLMS_v1(x, d, paramEq)"
   ]
  },
  {
   "cell_type": "code",
   "execution_count": 397,
   "metadata": {
    "ExecuteTime": {
     "end_time": "2021-10-13T14:25:49.751793Z",
     "start_time": "2021-10-13T14:25:49.741801Z"
    }
   },
   "outputs": [
    {
     "data": {
      "text/plain": [
       "(36, 25, 1)"
      ]
     },
     "execution_count": 397,
     "metadata": {},
     "output_type": "execute_result"
    }
   ],
   "source": [
    "Hiter.shape"
   ]
  },
  {
   "cell_type": "code",
   "execution_count": 405,
   "metadata": {},
   "outputs": [
    {
     "data": {
      "text/plain": [
       "2"
      ]
     },
     "execution_count": 405,
     "metadata": {},
     "output_type": "execute_result"
    }
   ],
   "source": [
    "len(x.T)"
   ]
  },
  {
   "cell_type": "code",
   "execution_count": 27,
   "metadata": {},
   "outputs": [
    {
     "data": {
      "text/plain": [
       "100"
      ]
     },
     "execution_count": 27,
     "metadata": {},
     "output_type": "execute_result"
    }
   ],
   "source": [
    "h.size"
   ]
  },
  {
   "cell_type": "code",
   "execution_count": 78,
   "metadata": {},
   "outputs": [
    {
     "data": {
      "text/plain": [
       "(200000, 2)"
      ]
     },
     "execution_count": 78,
     "metadata": {},
     "output_type": "execute_result"
    }
   ],
   "source": [
    "errSq.shape\n",
    "x.shape"
   ]
  },
  {
   "cell_type": "code",
   "execution_count": 23,
   "metadata": {},
   "outputs": [
    {
     "name": "stdout",
     "output_type": "stream",
     "text": [
      "Help on function firFilter in module utils.dsp:\n",
      "\n",
      "firFilter(h, x)\n",
      "    Implements FIR filtering and compensates filter delay\n",
      "    (assuming the impulse response is symmetric)\n",
      "    \n",
      "    :param h: impulse response (symmetric)\n",
      "    :param x: input signal \n",
      "    :return y: output filtered signal\n",
      "\n"
     ]
    }
   ],
   "source": [
    "help(firFilter)"
   ]
  },
  {
   "cell_type": "code",
   "execution_count": 6,
   "metadata": {},
   "outputs": [],
   "source": [
    "#@jit(nopython=True)\n",
    "def pbs(E, θ=0):\n",
    "    \"\"\"\n",
    "    Polarization beam splitter (pbs)\n",
    "    \n",
    "    :param E: input pol. multiplexed field [2d nparray]\n",
    "    :param θ: rotation angle of input field [rad][default: 0 rad]\n",
    "    \n",
    "    :return: Ex output single pol. field [1d nparray]\n",
    "    :return: Ey output single pol. field [1d nparray]\n",
    "    \n",
    "    \"\"\"  \n",
    "    try:\n",
    "        assert E.shape[1] == 2, 'E need to be a N-by-2 2d nparray or a 1d nparray'\n",
    "    except IndexError:\n",
    "        E = np.repeat(E, 2).reshape(-1,2)\n",
    "        E[:,1] = 0\n",
    "        \n",
    "    rot = np.array([[np.cos(θ), -np.sin(θ)],[np.sin(θ), np.cos(θ)]])+1j*0\n",
    "\n",
    "    E = E@rot\n",
    "    \n",
    "    Ex = E[:,0]\n",
    "    Ey = E[:,1]    \n",
    "\n",
    "    return Ex, Ey"
   ]
  },
  {
   "cell_type": "code",
   "execution_count": 120,
   "metadata": {},
   "outputs": [
    {
     "data": {
      "image/png": "[encoded data removed]",
      "text/plain": [
       "<Figure size 432x288 with 2 Axes>"
      ]
     },
     "metadata": {
      "needs_background": "light"
     },
     "output_type": "display_data"
    }
   ],
   "source": [
    "Ex, Ey = pbs(y_EQ[:,0], θ=np.pi/2)\n",
    "\n",
    "fig, (ax1, ax2) = plt.subplots(1, 2)\n",
    "discard = 1000\n",
    "\n",
    "ax1.plot(Ex[discard:-discard].real, Ex[discard:-discard].imag,'.')\n",
    "ax1.plot(d[:,0].real, d[:,0].imag,'.')\n",
    "ax1.axis('square')\n",
    "ax1.set_xlim(-1.5, 1.5)\n",
    "ax1.set_ylim(-1.5, 1.5)\n",
    "\n",
    "ax2.plot(Ey[discard:-discard].real, Ey[discard:-discard].imag,'.')\n",
    "ax2.plot(d[:,1].real, d[:,1].imag,'.')\n",
    "ax2.axis('square')\n",
    "ax2.set_xlim(-1.5, 1.5)\n",
    "ax2.set_ylim(-1.5, 1.5);"
   ]
  },
  {
   "cell_type": "code",
   "execution_count": 7,
   "metadata": {},
   "outputs": [],
   "source": [
    "def pdmCoherentReceiver(Es, Elo, θsig=0, Rdx=1, Rdy=1):\n",
    "    \"\"\"\n",
    "    Polarization multiplexed coherent optical front-end\n",
    "    \n",
    "    :param Es: input signal field [2d nparray]\n",
    "    :param Elo: input LO field [nparray]\n",
    "    :param Rd: photodiode resposivity [scalar]\n",
    "    \n",
    "    :return: downconverted signal after balanced detection    \n",
    "    \"\"\"\n",
    "    assert Rdx > 0 and Rdy >0, 'PD responsivity should be a positive scalar'\n",
    "    assert len(Es) == len(Elo), 'Es and Elo need to have the same number of samples'\n",
    "            \n",
    "    Elox, Eloy = pbs(Elo, θ = np.pi/4) # split LO into two orthogonal polarizations\n",
    "    Esx,  Esy  = pbs(Es, θ = θsig)     # split signal into two orthogonal polarizations\n",
    "    \n",
    "    Sx = coherentReceiver(Esx, Elox, Rd=Rdx) # coherent detection of pol.X\n",
    "    Sy = coherentReceiver(Esy, Eloy, Rd=Rdy) # coherent detection of pol.Y\n",
    "    \n",
    "    Sx = Sx.reshape(len(Sx),1)\n",
    "    Sy = Sy.reshape(len(Sy),1)\n",
    "    \n",
    "    return np.concatenate((Sx, Sy), axis=1)\n"
   ]
  },
  {
   "cell_type": "code",
   "execution_count": 105,
   "metadata": {},
   "outputs": [
    {
     "ename": "IndexError",
     "evalue": "tuple index out of range",
     "output_type": "error",
     "traceback": [
      "\u001b[1;31m---------------------------------------------------------------------------\u001b[0m",
      "\u001b[1;31mIndexError\u001b[0m                                Traceback (most recent call last)",
      "\u001b[1;32m<ipython-input-105-3e4aa5339f66>\u001b[0m in \u001b[0;36m<module>\u001b[1;34m\u001b[0m\n\u001b[1;32m----> 1\u001b[1;33m \u001b[0merr_\u001b[0m\u001b[1;33m.\u001b[0m\u001b[0mshape\u001b[0m\u001b[1;33m[\u001b[0m\u001b[1;36m1\u001b[0m\u001b[1;33m]\u001b[0m\u001b[1;33m\u001b[0m\u001b[1;33m\u001b[0m\u001b[0m\n\u001b[0m",
      "\u001b[1;31mIndexError\u001b[0m: tuple index out of range"
     ]
    }
   ],
   "source": [
    "err_.shape[1]"
   ]
  },
  {
   "cell_type": "code",
   "execution_count": 122,
   "metadata": {},
   "outputs": [
    {
     "data": {
      "text/plain": [
       "array([[1],\n",
       "       [2],\n",
       "       [3],\n",
       "       [4]])"
      ]
     },
     "execution_count": 122,
     "metadata": {},
     "output_type": "execute_result"
    }
   ],
   "source": [
    "a = np.array([[1,2,3,4]]).T\n",
    "a"
   ]
  },
  {
   "cell_type": "code",
   "execution_count": 124,
   "metadata": {},
   "outputs": [
    {
     "data": {
      "text/plain": [
       "array([[1, 1],\n",
       "       [2, 2],\n",
       "       [3, 3],\n",
       "       [4, 4]])"
      ]
     },
     "execution_count": 124,
     "metadata": {},
     "output_type": "execute_result"
    }
   ],
   "source": [
    "np.concatenate((a,a),axis=1)"
   ]
  },
  {
   "cell_type": "code",
   "execution_count": null,
   "metadata": {},
   "outputs": [],
   "source": []
  }
 ],
 "metadata": {
  "jupytext": {
   "encoding": "# -*- coding: utf-8 -*-",
   "formats": "ipynb,py:light"
  },
  "kernelspec": {
   "display_name": "Python 3",
   "language": "python",
   "name": "python3"
  },
  "language_info": {
   "codemirror_mode": {
    "name": "ipython",
    "version": 3
   },
   "file_extension": ".py",
   "mimetype": "text/x-python",
   "name": "python",
   "nbconvert_exporter": "python",
   "pygments_lexer": "ipython3",
   "version": "3.8.8"
  },
  "toc": {
   "base_numbering": 1,
   "nav_menu": {},
   "number_sections": true,
   "sideBar": true,
   "skip_h1_title": true,
   "title_cell": "Table of Contents",
   "title_sidebar": "Contents",
   "toc_cell": true,
   "toc_position": {
    "height": "calc(100% - 180px)",
    "left": "10px",
    "top": "150px",
    "width": "261.719px"
   },
   "toc_section_display": true,
   "toc_window_display": false
  },
  "varInspector": {
   "cols": {
    "lenName": 16,
    "lenType": 16,
    "lenVar": 40
   },
   "kernels_config": {
    "python": {
     "delete_cmd_postfix": "",
     "delete_cmd_prefix": "del ",
     "library": "var_list.py",
     "varRefreshCmd": "print(var_dic_list())"
    },
    "r": {
     "delete_cmd_postfix": ") ",
     "delete_cmd_prefix": "rm(",
     "library": "var_list.r",
     "varRefreshCmd": "cat(var_dic_list()) "
    }
   },
   "position": {
    "height": "144.4px",
    "left": "1163px",
    "right": "20px",
    "top": "121px",
    "width": "350px"
   },
   "types_to_exclude": [
    "module",
    "function",
    "builtin_function_or_method",
    "instance",
    "_Feature"
   ],
   "window_display": false
  }
 },
 "nbformat": 4,
 "nbformat_minor": 2
}
