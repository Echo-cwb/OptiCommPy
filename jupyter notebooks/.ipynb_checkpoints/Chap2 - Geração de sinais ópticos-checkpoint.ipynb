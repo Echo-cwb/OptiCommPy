{
 "cells": [
  {
   "cell_type": "code",
   "execution_count": 1,
   "metadata": {},
   "outputs": [],
   "source": [
    "import sympy as sp\n",
    "import numpy as np\n",
    "import matplotlib.pyplot as plt\n",
    "from sympy import cos, sin, exp, Matrix, sqrt\n",
    "import pandas as pd\n",
    "\n",
    "from IPython.display import display, Math\n",
    "from IPython.display import display as disp"
   ]
  },
  {
   "cell_type": "code",
   "execution_count": 2,
   "metadata": {},
   "outputs": [
    {
     "data": {
      "text/html": [
       "<style>\n",
       ".output {\n",
       "    align-items: center;\n",
       "}\n",
       "</style>"
      ],
      "text/plain": [
       "<IPython.core.display.HTML object>"
      ]
     },
     "execution_count": 2,
     "metadata": {},
     "output_type": "execute_result"
    }
   ],
   "source": [
    "from IPython.core.display import HTML\n",
    "from IPython.core.pylabtools import figsize\n",
    "\n",
    "# HTML(\"\"\"\n",
    "# <style>\n",
    "# .output_png {\n",
    "#     display: table-cell;\n",
    "#     text-align: center;\n",
    "#     vertical-align: middle;\n",
    "# }\n",
    "# </style>\n",
    "# \"\"\")\n",
    "\n",
    "CSS = \"\"\"\n",
    ".output {\n",
    "    align-items: center;\n",
    "}\n",
    "\"\"\"\n",
    "\n",
    "HTML('<style>{}</style>'.format(CSS))"
   ]
  },
  {
   "cell_type": "code",
   "execution_count": 3,
   "metadata": {},
   "outputs": [],
   "source": [
    "figsize(10, 3)"
   ]
  },
  {
   "cell_type": "markdown",
   "metadata": {},
   "source": [
    "# Geração de sinais ópticos\n",
    "\n",
    "Num sistema de comunicação digital óptica, a função do transmissor é converter uma dada sequência de bits num trem de pulsos elétricos que, por sua vez, será utilizado na modulação de uma portadora óptica (laser). A modulação de portadoras ópticas é realizada por meio de dispositivos de conversão eletro-óptica.\n",
    "\n",
    "<img src=\"./figuras/Tx_OOK.png\" width=\"400\">\n",
    "\n",
    "Diversas técnicas de modulação podem ser implementadas e diversos fatores podem influenciar o projeto de um transmissor óptico. "
   ]
  },
  {
   "cell_type": "markdown",
   "metadata": {},
   "source": [
    "## Representações para a portadora óptica"
   ]
  },
  {
   "cell_type": "markdown",
   "metadata": {},
   "source": [
    "O campo elétrico $\\mathbf{E}(t)$ da portadora óptica portadora óptica de onda contínua pode ser representado por\n",
    "\n",
    "$$\\begin{equation} \\mathbf{E}(t) = A \\cos \\left(\\omega_c t + \\theta\\right) \\mathbf{e} \\end{equation}$$ \n",
    "\n",
    "em que $\\omega_c = 2\\pi f_{c}\\label{eq1} $ rad/s é a frequência angular de oscilação, $A$ a amplitude e $\\theta$ a fase da onda."
   ]
  },
  {
   "cell_type": "code",
   "execution_count": 4,
   "metadata": {},
   "outputs": [
    {
     "data": {
      "text/latex": [
       "$\\displaystyle E(t) = A \\cos{\\left(\\omega_{c} t + θ \\right)}$"
      ],
      "text/plain": [
       "<IPython.core.display.Math object>"
      ]
     },
     "metadata": {},
     "output_type": "display_data"
    }
   ],
   "source": [
    "θ, omega_c, A, t = sp.symbols('θ, omega_c, A, t', real=True)\n",
    "\n",
    "j = sp.I\n",
    "π = sp.pi\n",
    "\n",
    "E = A*cos(omega_c*t + θ)\n",
    "\n",
    "disp(Math('E(t) = '+sp.latex(E)))"
   ]
  },
  {
   "cell_type": "markdown",
   "metadata": {},
   "source": [
    "$E(t)=\\operatorname{Re}\\left[A e^{j \\theta} \\exp \\left(j \\omega_c t\\right)\\right]$"
   ]
  },
  {
   "cell_type": "code",
   "execution_count": 5,
   "metadata": {},
   "outputs": [
    {
     "data": {
      "text/latex": [
       "$\\displaystyle E(t) = A \\cos{\\left(\\omega_{c} t + θ \\right)}$"
      ],
      "text/plain": [
       "<IPython.core.display.Math object>"
      ]
     },
     "metadata": {},
     "output_type": "display_data"
    }
   ],
   "source": [
    "E = sp.re(A*exp(j*θ)*exp(j*omega_c*t)).simplify()\n",
    "\n",
    "disp(Math('E(t) = '+sp.latex(E)))"
   ]
  },
  {
   "cell_type": "code",
   "execution_count": 6,
   "metadata": {},
   "outputs": [
    {
     "data": {
      "text/latex": [
       "$\\displaystyle E(t) = - A \\sin{\\left(θ \\right)} \\sin{\\left(\\omega_{c} t \\right)} + A \\cos{\\left(θ \\right)} \\cos{\\left(\\omega_{c} t \\right)}$"
      ],
      "text/plain": [
       "<IPython.core.display.Math object>"
      ]
     },
     "metadata": {},
     "output_type": "display_data"
    }
   ],
   "source": [
    "E = sp.expand_trig(E).cancel()\n",
    "\n",
    "disp(Math('E(t) = '+sp.latex(E)))"
   ]
  },
  {
   "cell_type": "code",
   "execution_count": 7,
   "metadata": {},
   "outputs": [
    {
     "data": {
      "text/latex": [
       "$\\displaystyle E(t) = A \\cos{\\left(\\omega_{c} t \\right)}$"
      ],
      "text/plain": [
       "<IPython.core.display.Math object>"
      ]
     },
     "metadata": {},
     "output_type": "display_data"
    }
   ],
   "source": [
    "E = E.subs({θ:0})\n",
    "disp(Math('E(t) = '+sp.latex(E)))"
   ]
  },
  {
   "cell_type": "markdown",
   "metadata": {},
   "source": [
    "## Modulador de Mach-Zehnder\n",
    "\n",
    "\n",
    "<img src=\"./figuras/MZM.png\" width=\"600\">\n",
    "\n",
    "\n",
    "$$\\begin{equation}\n",
    "\\left[\\begin{array}{l}\n",
    "\\hat{E}_{1} \\\\\n",
    "\\hat{E}_{2}\n",
    "\\end{array}\\right]=\\frac{1}{\\sqrt{2}}\\left[\\begin{array}{ll}\n",
    "1 & j \\\\\n",
    "j & 1\n",
    "\\end{array}\\right]\\left[\\begin{array}{cc}\n",
    "e^{j \\phi_{1}} & 0 \\\\\n",
    "0 & e^{j \\phi_{2}}\n",
    "\\end{array}\\right]\\frac{1}{\\sqrt{2}}\\left[\\begin{array}{ll}\n",
    "1 & j \\\\\n",
    "j & 1\n",
    "\\end{array}\\right]\\left[\\begin{array}{c}\n",
    "\\hat{E}_{i} \\\\\n",
    "0\n",
    "\\end{array}\\right]\n",
    "\\end{equation}$$"
   ]
  },
  {
   "cell_type": "code",
   "execution_count": 8,
   "metadata": {},
   "outputs": [],
   "source": [
    "ϕ1, ϕ2, ϕ = sp.symbols('ϕ1, ϕ2, ϕ', real=True)\n",
    "Ai        = sp.symbols('A_i', real=True)"
   ]
  },
  {
   "cell_type": "code",
   "execution_count": 9,
   "metadata": {},
   "outputs": [
    {
     "data": {
      "text/latex": [
       "$\\displaystyle C = \\left[\\begin{matrix}\\frac{\\sqrt{2}}{2} & \\frac{\\sqrt{2} i}{2}\\\\\\frac{\\sqrt{2} i}{2} & \\frac{\\sqrt{2}}{2}\\end{matrix}\\right]$"
      ],
      "text/plain": [
       "<IPython.core.display.Math object>"
      ]
     },
     "metadata": {},
     "output_type": "display_data"
    }
   ],
   "source": [
    "C  = 1/sqrt(2)*Matrix([[1, j],[j, 1]])\n",
    "\n",
    "disp(Math('C = '+sp.latex(C)))"
   ]
  },
  {
   "cell_type": "code",
   "execution_count": 10,
   "metadata": {},
   "outputs": [
    {
     "data": {
      "text/latex": [
       "$\\displaystyle M = \\left[\\begin{matrix}e^{i ϕ_{1}} & 0\\\\0 & e^{i ϕ_{2}}\\end{matrix}\\right]$"
      ],
      "text/plain": [
       "<IPython.core.display.Math object>"
      ]
     },
     "metadata": {},
     "output_type": "display_data"
    }
   ],
   "source": [
    "M = Matrix([[exp(j*ϕ1), 0],[0, exp(j*ϕ2)]])\n",
    "\n",
    "disp(Math('M = '+sp.latex(M)))"
   ]
  },
  {
   "cell_type": "code",
   "execution_count": 11,
   "metadata": {},
   "outputs": [
    {
     "ename": "NameError",
     "evalue": "name 'MZ' is not defined",
     "output_type": "error",
     "traceback": [
      "\u001b[1;31m---------------------------------------------------------------------------\u001b[0m",
      "\u001b[1;31mNameError\u001b[0m                                 Traceback (most recent call last)",
      "\u001b[1;32m<ipython-input-11-4016f8c367b6>\u001b[0m in \u001b[0;36m<module>\u001b[1;34m\u001b[0m\n\u001b[1;32m----> 1\u001b[1;33m \u001b[0mT\u001b[0m \u001b[1;33m=\u001b[0m \u001b[0mC\u001b[0m\u001b[1;33m*\u001b[0m\u001b[0mMZ\u001b[0m\u001b[1;33m*\u001b[0m\u001b[0mC\u001b[0m\u001b[1;33m\u001b[0m\u001b[1;33m\u001b[0m\u001b[0m\n\u001b[0m\u001b[0;32m      2\u001b[0m \u001b[1;33m\u001b[0m\u001b[0m\n\u001b[0;32m      3\u001b[0m \u001b[0mdisp\u001b[0m\u001b[1;33m(\u001b[0m\u001b[0mMath\u001b[0m\u001b[1;33m(\u001b[0m\u001b[1;34m'T = '\u001b[0m\u001b[1;33m+\u001b[0m\u001b[0msp\u001b[0m\u001b[1;33m.\u001b[0m\u001b[0mlatex\u001b[0m\u001b[1;33m(\u001b[0m\u001b[0mT\u001b[0m\u001b[1;33m)\u001b[0m\u001b[1;33m)\u001b[0m\u001b[1;33m)\u001b[0m\u001b[1;33m\u001b[0m\u001b[1;33m\u001b[0m\u001b[0m\n",
      "\u001b[1;31mNameError\u001b[0m: name 'MZ' is not defined"
     ]
    }
   ],
   "source": [
    "T = C*M*C\n",
    "\n",
    "disp(Math('T = '+sp.latex(T)))"
   ]
  },
  {
   "cell_type": "code",
   "execution_count": null,
   "metadata": {},
   "outputs": [],
   "source": [
    "Ei = Matrix([[Ai],[0]])\n",
    "\n",
    "disp(Math('\\hat{E}_i = '+sp.latex(Ei)))"
   ]
  },
  {
   "cell_type": "code",
   "execution_count": null,
   "metadata": {},
   "outputs": [],
   "source": [
    "Eo = T*Ei\n",
    "disp(Math('\\hat{E}_o = '+sp.latex(Eo)))"
   ]
  },
  {
   "cell_type": "code",
   "execution_count": null,
   "metadata": {},
   "outputs": [],
   "source": [
    "Eo[1].subs({ϕ1:ϕ, ϕ2:-ϕ}).simplify()"
   ]
  },
  {
   "cell_type": "markdown",
   "metadata": {},
   "source": [
    "$$\\begin{equation}\n",
    "\\frac{\\hat{E}_{\\text {out }}(t)}{\\hat{E}_{\\text {in }}(t)}=\\frac{1}{2} \\left(e^{j \\varphi(t)}+e^{-j \\varphi(t)}\\right)e^{j\\frac{\\pi}{2}}\n",
    "\\end{equation}$$"
   ]
  },
  {
   "cell_type": "markdown",
   "metadata": {},
   "source": [
    "$$\n",
    "\\varphi(t)=\\frac{1}{2V_{\\pi}}[u(t)+V_b]\\pi\n",
    "$$"
   ]
  },
  {
   "cell_type": "markdown",
   "metadata": {},
   "source": [
    "$$\\begin{equation}\n",
    "A_{\\text {out}}(t) = A_{i n}(t) \\cos \\left(\\frac{1}{2V_{\\pi}}[u(t)+V_b]\\pi\\right)\n",
    "\\end{equation}$$"
   ]
  },
  {
   "cell_type": "code",
   "execution_count": null,
   "metadata": {},
   "outputs": [],
   "source": [
    "def mzm(Ai, Vπ, u, Vb):\n",
    "    \"\"\"\n",
    "    Modulador MZM\n",
    "    \n",
    "    :param Vπ: tensão Vπ\n",
    "    :param Vb: tensão de bias\n",
    "    :param u:  sinal modulante\n",
    "    :param Ai: amplitude da portadora CW\n",
    "    \n",
    "    :return Ao: amplitude da portadora modulada\n",
    "    \"\"\"\n",
    "    π  = np.pi\n",
    "    Ao = Ai*np.cos(0.5/Vπ*(u+Vb)*π)\n",
    "    \n",
    "    return Ao\n",
    "    "
   ]
  },
  {
   "cell_type": "markdown",
   "metadata": {},
   "source": [
    "## Transmitindo informação na intensidade (potência) da portadora óptica"
   ]
  },
  {
   "cell_type": "code",
   "execution_count": null,
   "metadata": {},
   "outputs": [],
   "source": [
    "Vπ = 2\n",
    "Vb = 0#-Vπ/2\n",
    "\n",
    "u = np.arange(-2*Vπ, 2*Vπ, 0.01)\n",
    "\n",
    "Ai = 1\n",
    "Ao = mzm(Ai, Vπ, u, Vb)\n",
    "\n",
    "plt.figure(figsize=(6,4))\n",
    "plt.plot(u, Ao, label = 'amplitude $A(t)$', linewidth = 2);\n",
    "plt.xlabel('Tensão (V)')\n",
    "plt.xlim(min(u), max(u));\n",
    "\n",
    "plt.plot(u, np.abs(Ao)**2, label = 'potência $|A(t)|^2$', linewidth = 2);\n",
    "plt.xlabel('Tensão (V)')\n",
    "plt.xlim(min(u), max(u));\n",
    "plt.legend()\n",
    "plt.grid()"
   ]
  },
  {
   "cell_type": "markdown",
   "metadata": {},
   "source": [
    "## Transmitindo informação na amplitude do campo elétrico"
   ]
  },
  {
   "cell_type": "code",
   "execution_count": null,
   "metadata": {},
   "outputs": [],
   "source": [
    "Vπ = 2\n",
    "Vb = -Vπ\n",
    "\n",
    "u = np.arange(-2*Vπ, 2*Vπ, 0.01)\n",
    "\n",
    "Ai = 1\n",
    "\n",
    "Ao = mzm(Ai, Vπ, u, Vb)\n",
    "\n",
    "plt.figure(figsize=(6,4))\n",
    "plt.plot(u, Ao, label = 'amplitude $A(t)$', linewidth = 2);\n",
    "plt.xlabel('Tensão (V)')\n",
    "plt.xlim(min(u), max(u));\n",
    "\n",
    "plt.plot(u, np.abs(Ao)**2, label = 'potência $|A(t)|^2$', linewidth = 2);\n",
    "plt.xlabel('Tensão (V)')\n",
    "plt.xlim(min(u), max(u));\n",
    "plt.legend()\n",
    "plt.grid()"
   ]
  },
  {
   "cell_type": "markdown",
   "metadata": {},
   "source": [
    "### Chaveamento por deslocamento de amplitude (*amplitude shift-keying* - ASK) ou modulação de amplitude de pulso (*pulse amplitude modulation* - PAM)"
   ]
  },
  {
   "cell_type": "markdown",
   "metadata": {},
   "source": [
    "$ E(t)=\\operatorname{Re}\\left[A(t) e^{j \\phi} \\exp \\left(j \\omega_c t\\right)\\right]$"
   ]
  },
  {
   "cell_type": "markdown",
   "metadata": {},
   "source": [
    "$$ \\begin{align} A(t) &= \\sqrt{P_{0}} \\left[ \\sum_{n} b_{n} \\delta \\left(t-n T_{s}\\right)\\right] \\ast p(t) \\nonumber \\\\ & = \\sqrt{P_{0}} \\sum_{n} b_{n} p\\left(t-n T_{s}\\right)\\end{align}$$"
   ]
  },
  {
   "cell_type": "code",
   "execution_count": null,
   "metadata": {},
   "outputs": [],
   "source": [
    "Rs  = 10e9  # Taxa de símbolos [baud]\n",
    "Ts  = 1/Rs  # Período de símbolo em segundos\n",
    "N   = 10    # número de intervalos de sinalização\n",
    "\n",
    "t = np.arange(0, N+1)*(Ts/1e-12) # tempo em picosegundos (ps)\n",
    "\n",
    "plt.vlines(t, 0, 1, linestyles='dashed', color = 'k')    \n",
    "plt.xlabel('tempo [ps]');\n",
    "plt.title('intervalos de sinalização');\n",
    "plt.grid()\n",
    "plt.xticks(t);\n",
    "plt.xlim(0, t.max());"
   ]
  },
  {
   "cell_type": "code",
   "execution_count": null,
   "metadata": {},
   "outputs": [],
   "source": [
    "from commpy.utilities  import signal_power, upsample\n",
    "from utils.dsp import firFilter, pulseShape, eyediagram"
   ]
  },
  {
   "cell_type": "code",
   "execution_count": null,
   "metadata": {
    "lines_to_next_cell": 2
   },
   "outputs": [],
   "source": [
    "# parâmetros da simulação\n",
    "SpS = 32\n",
    "\n",
    "Rs     = 10e9          # Taxa de símbolos (para o caso do OOK Rs = Rb)\n",
    "Ts     = 1/Rs          # Período de símbolo em segundos\n",
    "Fa     = 1/(Ts/SpS)    # Frequência de amostragem do sinal (amostras/segundo)\n",
    "Ta     = 1/Fa          # Período de amostragem"
   ]
  },
  {
   "cell_type": "code",
   "execution_count": null,
   "metadata": {},
   "outputs": [],
   "source": [
    "# gera sequência de bits pseudo-aleatórios\n",
    "bits   = np.random.randint(2, size=20)    \n",
    "n      = np.arange(0, bits.size)\n",
    "\n",
    "# mapeia bits para símbolos binários\n",
    "symbTx = 2*bits-1\n",
    "\n",
    "plt.figure(1)\n",
    "plt.stem(bits, basefmt=\" \", use_line_collection=True)\n",
    "plt.xlabel('n')\n",
    "plt.ylabel('$b_n$')\n",
    "plt.grid()\n",
    "plt.xticks(np.arange(0, bits.size));\n",
    "\n",
    "plt.figure(2)\n",
    "plt.stem(symbTx, basefmt=\" \", use_line_collection=True)\n",
    "plt.xlabel('n')\n",
    "plt.ylabel('$s_n$')\n",
    "plt.grid()\n",
    "plt.xticks(np.arange(0, symbTx.size));"
   ]
  },
  {
   "cell_type": "markdown",
   "metadata": {},
   "source": [
    "## Gerando sinais binários\n",
    "\n",
    "### Pulso retangular ideal"
   ]
  },
  {
   "cell_type": "code",
   "execution_count": null,
   "metadata": {},
   "outputs": [],
   "source": [
    "# upsampling\n",
    "symbolsUp = upsample(symbTx, SpS)\n",
    "\n",
    "# pulso retangular ideal\n",
    "pulse = pulseShape('rect', SpS)\n",
    "pulse = pulse/max(abs(pulse))\n",
    "\n",
    "t = (0.5+np.arange(0, pulse.size))*(Ta/1e-12)\n",
    "\n",
    "plt.figure(1)\n",
    "plt.plot(t, pulse,'-', label = 'p(t)', linewidth=3)\n",
    "plt.xlabel('tempo [ps]')\n",
    "plt.ylabel('amplitude')\n",
    "plt.xlim(min(t), max(t))\n",
    "plt.grid()\n",
    "plt.legend()\n",
    "\n",
    "# formatação de pulso retangular\n",
    "sigTx  = firFilter(pulse, symbolsUp)\n",
    "sigTx  = sigTx.real\n",
    "\n",
    "# plota sinal \n",
    "t = np.arange(0, sigTx.size)*(Ta/1e-12)\n",
    "\n",
    "# instantes centrais dos intervalos de sinalização\n",
    "symbolsUp = upsample(2*bits-1, SpS)\n",
    "symbolsUp[symbolsUp==0] = np.nan\n",
    "\n",
    "plt.figure(2)\n",
    "plt.plot(t, sigTx,'-', linewidth=3)\n",
    "plt.plot(t, symbolsUp.real, 'o')\n",
    "plt.xlabel('tempo [ps]')\n",
    "plt.ylabel('amplitude [V]')\n",
    "plt.title('$\\sum_{n}\\;s_{n}\\;p(t-n T_s)$')\n",
    "plt.grid()\n",
    "\n",
    "t = (0.5 + np.arange(0, bits.size))*(Ts/1e-12)\n",
    "plt.vlines(t, -1, 1, linestyles='dashed', color = 'k');\n",
    "plt.xlim(0, max(t));\n",
    "\n",
    "# modulação óptica\n",
    "P0 = 100e-3 # potência da portadora CW na entrada no MZM\n",
    "Vπ = 2 \n",
    "Vb = -Vπ/2\n",
    "Ai = np.sqrt(P0)\n",
    "sigTxo = mzm(Ai, Vπ, sigTx, Vb)\n",
    "\n",
    "# plota sinal \n",
    "t = np.arange(0, sigTxo.size)*(Ta/1e-12)\n",
    "\n",
    "plt.figure(3)\n",
    "plt.plot(t, np.abs(sigTxo)**2,'-', linewidth=3)\n",
    "plt.xlabel('tempo [ps]')\n",
    "plt.ylabel('potência [W]')\n",
    "plt.title('$\\sqrt{P_0}\\;\\sum_{n}\\;\\;b_{n}p(t-n T_s)$')\n",
    "plt.grid()\n",
    "\n",
    "t = (0.5 + np.arange(0, bits.size))*(Ts/1e-12)\n",
    "plt.xlim(0, max(t));"
   ]
  },
  {
   "cell_type": "markdown",
   "metadata": {},
   "source": [
    "### Pulso NRZ típico"
   ]
  },
  {
   "cell_type": "code",
   "execution_count": null,
   "metadata": {},
   "outputs": [],
   "source": [
    "# pulso NRZ típico\n",
    "pulse = pulseShape('nrz', SpS)\n",
    "pulse = pulse/max(abs(pulse))\n",
    "\n",
    "t = np.arange(0, pulse.size)*(Ta/1e-12)\n",
    "\n",
    "plt.figure(1)\n",
    "plt.plot(t, pulse,'-', label = 'p(t)', linewidth=3)\n",
    "plt.xlabel('tempo [ps]')\n",
    "plt.ylabel('amplitude')\n",
    "plt.xlim(min(t), max(t))\n",
    "plt.grid()\n",
    "plt.legend()\n",
    "\n",
    "# upsampling\n",
    "symbolsUp = upsample(symbTx, SpS)\n",
    "\n",
    "# formatação de pulso retangular\n",
    "sigTx  = firFilter(pulse, symbolsUp)\n",
    "sigTx = sigTx.real\n",
    "\n",
    "t = np.arange(0, sigTx.size)*(Ta/1e-12)\n",
    "\n",
    "# instantes centrais dos intervalos de sinalização\n",
    "symbolsUp = upsample(2*bits-1, SpS)\n",
    "symbolsUp[symbolsUp==0] = np.nan\n",
    "#symbolsUp = (symbolsUp + 1)/2\n",
    "\n",
    "plt.figure(2)\n",
    "plt.plot(t, sigTx,'-',linewidth=3)\n",
    "plt.plot(t, symbolsUp.real,'o')\n",
    "plt.xlabel('tempo [ps]')\n",
    "plt.ylabel('amplitude [V]')\n",
    "plt.title('$\\sum_{n}\\;s_{n}\\;p(t-n T_s)$')\n",
    "plt.grid()\n",
    "\n",
    "t = (0.5*Ts + np.arange(0, bits.size*Ts, Ts))/1e-12\n",
    "plt.vlines(t, -1, 1, linestyles='dashed', color = 'k');\n",
    "plt.xlim(0, max(t));\n",
    "\n",
    "# modulação óptica\n",
    "P0 = 100e-3 # potência da portadora CW na entrada no MZM\n",
    "Vπ = 2 \n",
    "Vb = -Vπ/2\n",
    "Ai = np.sqrt(P0)\n",
    "sigTxo = mzm(Ai, Vπ, sigTx, Vb)\n",
    "\n",
    "# plota sinal \n",
    "t = np.arange(0, sigTxo.size)*(Ta/1e-12)\n",
    "\n",
    "plt.figure(3)\n",
    "plt.plot(t, np.abs(sigTxo)**2,'-', linewidth=3)\n",
    "plt.xlabel('tempo [ps]')\n",
    "plt.ylabel('potência [W]')\n",
    "plt.title('$\\sqrt{P_0}\\;\\sum_{n}\\;\\;b_{n}p(t-n T_s)$')\n",
    "plt.grid()\n",
    "\n",
    "t = (0.5 + np.arange(0, bits.size))*(Ts/1e-12)\n",
    "plt.xlim(0, max(t));"
   ]
  },
  {
   "cell_type": "markdown",
   "metadata": {},
   "source": [
    "### Pulso cosseno levantado"
   ]
  },
  {
   "cell_type": "code",
   "execution_count": null,
   "metadata": {},
   "outputs": [],
   "source": [
    "# pulso cosseno levantado (raised cosine)\n",
    "Ncoeffs = 640\n",
    "rolloff = 0.01\n",
    "\n",
    "pulse = pulseShape('rc', SpS, Ncoeffs, rolloff, Ts)\n",
    "pulse = pulse/max(abs(pulse))\n",
    "\n",
    "t = np.arange(0, pulse.size)*(Ta/1e-12)\n",
    "\n",
    "plt.figure(1)\n",
    "plt.plot(t, pulse,'-', label = 'p(t)', linewidth=3)\n",
    "plt.xlabel('tempo [ps]')\n",
    "plt.ylabel('amplitude')\n",
    "plt.xlim(min(t), max(t))\n",
    "plt.grid()\n",
    "plt.legend()\n",
    "\n",
    "t = (-0.0*Ts + np.arange(0, (Ncoeffs/SpS)*Ts, Ts))/1e-12\n",
    "plt.vlines(t + 0.5*(Ts/1e-12), -0.2, 1, linestyles='dashed', color = 'k')\n",
    "\n",
    "# upsampling\n",
    "symbolsUp = upsample(symbTx, SpS)\n",
    "\n",
    "# formatação de pulso \n",
    "sigTx  = firFilter(pulse, symbolsUp)\n",
    "sigTx = sigTx.real\n",
    "\n",
    "t = np.arange(0, sigTx.size)*(Ta/1e-12)\n",
    "\n",
    "# instantes centrais dos intervalos de sinalização\n",
    "symbolsUp = upsample(2*bits-1, SpS)\n",
    "symbolsUp[symbolsUp==0] = np.nan\n",
    "\n",
    "\n",
    "plt.figure(2)\n",
    "plt.plot(t, sigTx,'-', linewidth=3)\n",
    "plt.plot(t, symbolsUp.real,'o')\n",
    "plt.xlabel('tempo [ps]')\n",
    "plt.ylabel('amplitude [V]')\n",
    "plt.title('$\\sum_{n}\\;s_{n}\\;p(t-n T_s)$')\n",
    "plt.grid()\n",
    "\n",
    "t = (0.5*Ts + np.arange(0, bits.size*Ts, Ts))/1e-12\n",
    "plt.vlines(t, -1, 1, linestyles='dashed', color = 'k');\n",
    "plt.xlim(0, max(t));\n",
    "\n",
    "# modulação óptica\n",
    "P0 = 100e-3 # potência da portadora CW na entrada no MZM\n",
    "Vπ = 2 \n",
    "Vb = -Vπ/2\n",
    "Ai = np.sqrt(P0)\n",
    "sigTxo = mzm(Ai, Vπ, sigTx, Vb)\n",
    "\n",
    "# plota sinal \n",
    "t = np.arange(0, sigTxo.size)*(Ta/1e-12)\n",
    "\n",
    "plt.figure(3)\n",
    "plt.plot(t, np.abs(sigTxo)**2,'-', linewidth=3)\n",
    "plt.xlabel('tempo [ps]')\n",
    "plt.ylabel('potência [W]')\n",
    "plt.title('$\\sqrt{P_0}\\;\\sum_{n}\\;\\;b_{n}p(t-n T_s)$')\n",
    "plt.grid()\n",
    "\n",
    "t = (0.5 + np.arange(0, bits.size))*(Ts/1e-12)\n",
    "plt.xlim(0, max(t));"
   ]
  },
  {
   "cell_type": "markdown",
   "metadata": {},
   "source": [
    "## Densidade espectral de potência do sinal modulado"
   ]
  },
  {
   "cell_type": "code",
   "execution_count": null,
   "metadata": {},
   "outputs": [],
   "source": [
    "# gera sequência de bits pseudo-aleatórios\n",
    "bits   = np.random.randint(2, size=10000)    \n",
    "n      = np.arange(0, bits.size)\n",
    "\n",
    "# mapeia bits para pulsos elétricos\n",
    "symbTx = 2*bits-1\n",
    "symbTx = symbTx/np.sqrt(signal_power(symbTx))\n",
    "\n",
    "# upsampling\n",
    "symbolsUp = upsample(symbTx, SpS)\n",
    "\n",
    "# # pulso cosseno levantado (raised cosine)\n",
    "# Ncoeffs = 640\n",
    "# rolloff = 0.1\n",
    "\n",
    "# pulse = pulseShape('rc', SpS, Ncoeffs, rolloff, Ts)\n",
    "# pulse = pulse/max(abs(pulse))\n",
    "\n",
    "# pulso NRZ típico\n",
    "pulse = pulseShape('nrz', SpS)\n",
    "pulse = pulse/max(abs(pulse))\n",
    "\n",
    "# formatação de pulso\n",
    "sigTx  = firFilter(pulse, symbolsUp)\n",
    "\n",
    "# plota psd\n",
    "plt.figure();\n",
    "plt.psd(sigTx,Fs=Fa, NFFT = 16*1024, sides='twosided', label = 'Espectro do sinal elétrico')\n",
    "plt.legend(loc='upper left');\n",
    "plt.xlim(-3*Rs,3*Rs);\n",
    "plt.ylim(-200,-50);"
   ]
  },
  {
   "cell_type": "code",
   "execution_count": null,
   "metadata": {},
   "outputs": [],
   "source": [
    "P0 = 100e-3 # potência da portadora CW na entrada no MZM\n",
    "\n",
    "Vπ = 2 \n",
    "Vb = -Vπ/2\n",
    "Ai = np.sqrt(P0)\n",
    "\n",
    "sigTxo = mzm(Ai, Vπ, sigTx, Vb)\n",
    "\n",
    "# plota psd\n",
    "plt.figure();\n",
    "plt.psd(np.abs(sigTxo)**2,Fs=Fa, NFFT = 16*1024, sides='twosided', label = 'Espectro do sinal óptico [OOK]')\n",
    "plt.legend(loc='upper left');\n",
    "plt.xlim(-3*Rs,3*Rs);\n",
    "plt.ylim(-200,-50);"
   ]
  },
  {
   "cell_type": "code",
   "execution_count": null,
   "metadata": {},
   "outputs": [],
   "source": [
    "Nsamples = 10000\n",
    "\n",
    "# diagrama de olho\n",
    "eyediagram(np.abs(sigTxo)**2, Nsamples, SpS)\n",
    "eyediagram(sigTx, Nsamples, SpS)"
   ]
  },
  {
   "cell_type": "markdown",
   "metadata": {},
   "source": [
    "### PAM4"
   ]
  },
  {
   "cell_type": "code",
   "execution_count": null,
   "metadata": {},
   "outputs": [],
   "source": [
    "# gera sequência de bits pseudo-aleatórios\n",
    "bits_a   = np.random.randint(2, size=20)\n",
    "bits_b   = np.random.randint(2, size=20)\n",
    "\n",
    "# mapeia bits para símbolos PAM4\n",
    "symbTx = 2/3*(2*bits_a-1) + 1/3*(2*bits_b-1)\n",
    "\n",
    "plt.figure(2)\n",
    "plt.stem(symbTx, basefmt=\" \", use_line_collection=True)\n",
    "plt.xlabel('n')\n",
    "plt.ylabel('$s_n$')\n",
    "plt.grid()\n",
    "plt.xticks(np.arange(0, symbTx.size));\n",
    "\n",
    "pd.set_option('display.max_columns', 500)\n",
    "pd.options.display.float_format = '{:,d}'.format\n",
    "df = pd.DataFrame({'bits a': bits_a, 'bits b': bits_b})\n",
    "\n",
    "display(df.T)"
   ]
  },
  {
   "cell_type": "code",
   "execution_count": null,
   "metadata": {},
   "outputs": [],
   "source": [
    "# upsampling\n",
    "symbolsUp = upsample(symbTx, SpS)\n",
    "\n",
    "# pulso NRZ típico\n",
    "pulse = pulseShape('nrz', SpS)\n",
    "pulse = pulse/max(abs(pulse))\n",
    "\n",
    "# formatação de pulso\n",
    "sigTx  = firFilter(pulse, symbolsUp)\n",
    "sigTx = sigTx.real\n",
    "\n",
    "t = np.arange(0, sigTx.size)*(Ta/1e-12)\n",
    "\n",
    "# instantes centrais dos intervalos de sinalização\n",
    "symbolsUp = upsample(symbTx, SpS)\n",
    "symbolsUp[symbolsUp==0] = np.nan\n",
    "\n",
    "plt.figure(2)\n",
    "plt.plot(t, sigTx,'-',linewidth=3)\n",
    "plt.plot(t, symbolsUp.real,'o')\n",
    "plt.xlabel('tempo [ps]')\n",
    "plt.ylabel('amplitude [V]')\n",
    "plt.title('$\\sum_{n}\\;s_{n}\\;p(t-n T_s)$')\n",
    "plt.grid()\n",
    "\n",
    "t = (0.5*Ts + np.arange(0, symbTx.size*Ts, Ts))/1e-12\n",
    "plt.vlines(t, -1, 1, linestyles='dashed', color = 'k');\n",
    "plt.xlim(0, max(t));\n",
    "\n",
    "# modulação óptica\n",
    "P0 = 100e-3 # potência da portadora CW na entrada no MZM\n",
    "Vπ = 2 \n",
    "Vb = -Vπ/2\n",
    "Ai = np.sqrt(P0)\n",
    "sigTxo = mzm(Ai, Vπ, sigTx, Vb)\n",
    "\n",
    "# plota sinal \n",
    "t = np.arange(0, sigTxo.size)*(Ta/1e-12)\n",
    "\n",
    "plt.figure(3)\n",
    "plt.plot(t, np.abs(sigTxo)**2,'-', linewidth=3)\n",
    "plt.xlabel('tempo [ps]')\n",
    "plt.ylabel('potência [W]')\n",
    "plt.title('$\\sqrt{P_0}\\;\\sum_{n}\\;\\;b_{n}p(t-n T_s)$')\n",
    "plt.grid()\n",
    "\n",
    "t = (0.5 + np.arange(0, symbTx.size))*(Ts/1e-12)\n",
    "plt.xlim(0, max(t));\n",
    "\n",
    "# # plota psd\n",
    "# plt.figure();\n",
    "# plt.psd(sigTx,Fs=Fa, NFFT = 16*1024, sides='twosided', label = 'Espectro do sinal OOK')\n",
    "# plt.legend(loc='upper left');\n",
    "# plt.xlim(-3*Rs,3*Rs);\n",
    "# plt.ylim(-200,-50);"
   ]
  },
  {
   "cell_type": "code",
   "execution_count": null,
   "metadata": {
    "lines_to_next_cell": 0
   },
   "outputs": [],
   "source": [
    "# gera sequência de bits pseudo-aleatórios\n",
    "bits1   = np.random.randint(2, size=1e4)  \n",
    "bits2   = np.random.randint(2, size=1e4) \n",
    "\n",
    "n      = np.arange(0, bits.size)\n",
    "\n",
    "# mapeia bits para símbolos PAM4\n",
    "symbTx = 2/3*(2*bits1-1) + 1/3*(2*bits2-1)\n",
    "\n",
    "# upsampling\n",
    "symbolsUp = upsample(symbTx, SpS)\n",
    "\n",
    "# pulso NRZ típico\n",
    "pulse = pulseShape('nrz', SpS)\n",
    "pulse = pulse/max(abs(pulse))\n",
    "\n",
    "# formatação de pulso\n",
    "sigTx  = firFilter(pulse, symbolsUp)\n",
    "sigTx = sigTx.real\n",
    "\n",
    "Nsamples = 20000\n",
    "\n",
    "# diagrama de olho\n",
    "eyediagram(sigTx, Nsamples, SpS)"
   ]
  },
  {
   "cell_type": "markdown",
   "metadata": {
    "lines_to_next_cell": 2
   },
   "source": [
    "### QPSK"
   ]
  },
  {
   "cell_type": "code",
   "execution_count": null,
   "metadata": {},
   "outputs": [],
   "source": [
    "# gera sequência de bits pseudo-aleatórios\n",
    "bitsI   = np.random.randint(2, size=10000)  \n",
    "bitsQ   = np.random.randint(2, size=10000) \n",
    "\n",
    "n  = np.arange(0, bits.size)\n",
    "\n",
    "# mapeia bits para símbolos \n",
    "symbTx_I = 2*bitsI-1\n",
    "symbTx_Q = 2*bitsQ-1\n",
    "\n",
    "symbTx_I = symbTx_I/np.sqrt(signal_power(symbTx_I))\n",
    "symbTx_Q = symbTx_Q/np.sqrt(signal_power(symbTx_Q))\n",
    "\n",
    "symbTx = symbTx_I + 1j*symbTx_Q\n",
    "\n",
    "# upsampling\n",
    "symbolsUp = upsample(symbTx, SpS)\n",
    "\n",
    "# pulso NRZ típico\n",
    "pulse = pulseShape('nrz', SpS)\n",
    "pulse = pulse/max(abs(pulse))\n",
    "\n",
    "# formatação de pulso\n",
    "sigTx  = firFilter(pulse, symbolsUp)\n",
    "\n",
    "# plota psd\n",
    "plt.figure();\n",
    "plt.psd(sigTx,Fs=Fa, NFFT = 16*1024, sides='twosided', label = 'Espectro elétrico do sinal QPSK')\n",
    "plt.legend(loc='upper left');\n",
    "plt.xlim(-3*Rs,3*Rs);\n",
    "plt.ylim(-200,-50);\n",
    "\n",
    "# modulação óptica\n",
    "Vπ = 2 \n",
    "Vb = -Vπ\n",
    "Ai = 1\n",
    "\n",
    "sigTxo_I = mzm(Ai, Vπ, sigTx.real, Vb)\n",
    "sigTxo_Q = mzm(Ai, Vπ, sigTx.imag, Vb)\n",
    "\n",
    "sigTxo = sigTxo_I + 1j*sigTxo_Q\n",
    "\n",
    "# plota psd\n",
    "plt.figure();\n",
    "plt.psd(sigTxo, Fs=Fa, NFFT = 16*1024, sides='twosided', label = 'Espectro óptico do sinal QPSK')\n",
    "plt.legend(loc='upper left');\n",
    "plt.xlim(-3*Rs,3*Rs);\n",
    "plt.ylim(-200,-50);"
   ]
  },
  {
   "cell_type": "code",
   "execution_count": null,
   "metadata": {},
   "outputs": [],
   "source": [
    "Nsamples = 10000\n",
    "\n",
    "# diagrama de olho\n",
    "eyediagram(np.abs(sigTxo)**2, Nsamples, SpS)"
   ]
  },
  {
   "cell_type": "code",
   "execution_count": null,
   "metadata": {},
   "outputs": [],
   "source": [
    "t = np.arange(0, sigTxo.size)*Ta\n",
    "\n",
    "Vπ = 2 \n",
    "Vb = Vπ/2\n",
    "Ai = 1\n",
    "\n",
    "senoideRF = Vπ/2*np.cos(2*np.pi*Rs*t + np.pi)\n",
    "\n",
    "sigTxo_   = mzm(sigTxo, Vπ, senoideRF, Vb)\n",
    "\n",
    "Nsamples = 10000\n",
    "\n",
    "# diagrama de olho\n",
    "eyediagram(np.abs(sigTxo)**2, Nsamples, SpS, ptype='fancy', plotlabel='óptico')\n",
    "eyediagram(np.abs(mzm(Ai, Vπ, senoideRF, Vb))**2, Nsamples, SpS)\n",
    "eyediagram(np.abs(sigTxo_)**2, Nsamples, SpS)"
   ]
  },
  {
   "cell_type": "code",
   "execution_count": null,
   "metadata": {},
   "outputs": [],
   "source": [
    "plt.figure(figsize=(6,6))\n",
    "plt.plot(sigTxo.real,sigTxo.imag)\n",
    "plt.grid()\n",
    "plt.axis('equal');\n",
    "\n",
    "plt.figure(figsize=(6,6))\n",
    "plt.plot(sigTxo_.real,sigTxo_.imag)\n",
    "plt.grid()\n",
    "plt.axis('equal');"
   ]
  },
  {
   "cell_type": "code",
   "execution_count": null,
   "metadata": {},
   "outputs": [],
   "source": [
    "# from matplotlib.animation import FuncAnimation\n",
    "\n",
    "# fig = plt.figure()\n",
    "# ax = plt.axes(xlim=(0, 4), ylim=(-2, 2))\n",
    "# line, = ax.plot([], [], lw=3)\n",
    "\n",
    "# def init():\n",
    "#     line.set_data([], [])\n",
    "#     return line,\n",
    "# def animate(i):\n",
    "#     x = np.linspace(0, 4, 200)\n",
    "#     y = np.sin(2*np.pi*x[0:i])\n",
    "#     line.set_data(x[0:i], y)\n",
    "#     return line,\n",
    "\n",
    "# anim = FuncAnimation(fig, animate, init_func=init,\n",
    "#                                frames=200, interval=20, blit=True)\n",
    "\n",
    "# anim.save('sine_wave.gif', writer='imagemagick')"
   ]
  },
  {
   "cell_type": "code",
   "execution_count": null,
   "metadata": {},
   "outputs": [],
   "source": [
    "#![SegmentLocal](sine_wave.gif \"segment\")"
   ]
  },
  {
   "cell_type": "code",
   "execution_count": null,
   "metadata": {},
   "outputs": [],
   "source": []
  }
 ],
 "metadata": {
  "jupytext": {
   "encoding": "# -*- coding: utf-8 -*-",
   "formats": "ipynb,py:light"
  },
  "kernelspec": {
   "display_name": "Python 3",
   "language": "python",
   "name": "python3"
  },
  "language_info": {
   "codemirror_mode": {
    "name": "ipython",
    "version": 3
   },
   "file_extension": ".py",
   "mimetype": "text/x-python",
   "name": "python",
   "nbconvert_exporter": "python",
   "pygments_lexer": "ipython3",
   "version": "3.7.4"
  },
  "varInspector": {
   "cols": {
    "lenName": 16,
    "lenType": 16,
    "lenVar": 40
   },
   "kernels_config": {
    "python": {
     "delete_cmd_postfix": "",
     "delete_cmd_prefix": "del ",
     "library": "var_list.py",
     "varRefreshCmd": "print(var_dic_list())"
    },
    "r": {
     "delete_cmd_postfix": ") ",
     "delete_cmd_prefix": "rm(",
     "library": "var_list.r",
     "varRefreshCmd": "cat(var_dic_list()) "
    }
   },
   "oldHeight": 614,
   "position": {
    "height": "40px",
    "left": "726px",
    "right": "20px",
    "top": "72px",
    "width": "475px"
   },
   "types_to_exclude": [
    "module",
    "function",
    "builtin_function_or_method",
    "instance",
    "_Feature"
   ],
   "varInspector_section_display": "none",
   "window_display": false
  }
 },
 "nbformat": 4,
 "nbformat_minor": 2
}
