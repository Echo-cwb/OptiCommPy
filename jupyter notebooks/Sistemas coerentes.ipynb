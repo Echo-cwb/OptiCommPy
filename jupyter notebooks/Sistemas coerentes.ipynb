{
 "cells": [
  {
   "cell_type": "code",
   "execution_count": null,
   "metadata": {},
   "outputs": [],
   "source": [
    "import matplotlib.pyplot as plt\n",
    "import numpy as np\n",
    "from sympy import Matrix, zeros\n",
    "from numpy.random import normal\n",
    "from commpy.utilities  import signal_power, upsample\n",
    "from commpy.modulation import Modem, QAMModem\n",
    "from utils.dsp import firFilter, pulseShape, eyediagram, lowPassFIR\n",
    "from utils.models import mzm, linFiberCh"
   ]
  },
  {
   "cell_type": "code",
   "execution_count": null,
   "metadata": {},
   "outputs": [],
   "source": [
    "from IPython.core.display import HTML\n",
    "from IPython.core.pylabtools import figsize\n",
    "from IPython.display import display, Math\n",
    "\n",
    "HTML(\"\"\"\n",
    "<style>\n",
    ".output_png {\n",
    "    display: table-cell;\n",
    "    text-align: center;\n",
    "    vertical-align: middle;\n",
    "}\n",
    "</style>\n",
    "\"\"\")"
   ]
  },
  {
   "cell_type": "code",
   "execution_count": null,
   "metadata": {},
   "outputs": [],
   "source": [
    "figsize(10, 3)"
   ]
  },
  {
   "cell_type": "code",
   "execution_count": null,
   "metadata": {},
   "outputs": [],
   "source": [
    "import sympy as sp\n",
    "from IPython.display import Math, display\n",
    "\n",
    "# função para print de expressões simbólicas\n",
    "def symdisp(expr, var, unit=' '):\n",
    "    '''\n",
    "    Latex style display of sympy expressions\n",
    "    \n",
    "    :param expr: expression in latex [string]\n",
    "    :param var: sympy variable, function, expression.\n",
    "    :param unit: string indicating unit of var [string]\n",
    "    '''\n",
    "    display(Math(expr+sp.latex(var)+'\\;'+unit))"
   ]
  },
  {
   "cell_type": "markdown",
   "metadata": {},
   "source": [
    "# Introdução às Comunicações Ópticas Coerentes"
   ]
  },
  {
   "cell_type": "markdown",
   "metadata": {
    "toc": true
   },
   "source": [
    "<h1>Table of Contents<span class=\"tocSkip\"></span></h1>\n",
    "<div class=\"toc\"><ul class=\"toc-item\"><li><span><a href=\"#Por-que-comunicações-ópticas-coerentes?\" data-toc-modified-id=\"Por-que-comunicações-ópticas-coerentes?-1\"><span class=\"toc-item-num\">1&nbsp;&nbsp;</span>Por que comunicações ópticas coerentes?</a></span></li><li><span><a href=\"#Transmissão-de-formatos-de-modulação-coerentes\" data-toc-modified-id=\"Transmissão-de-formatos-de-modulação-coerentes-2\"><span class=\"toc-item-num\">2&nbsp;&nbsp;</span>Transmissão de formatos de modulação coerentes</a></span></li><li><span><a href=\"#Detecção-coerente-de-sinais-ópticos\" data-toc-modified-id=\"Detecção-coerente-de-sinais-ópticos-3\"><span class=\"toc-item-num\">3&nbsp;&nbsp;</span>Detecção coerente de sinais ópticos</a></span><ul class=\"toc-item\"><li><span><a href=\"#Receptor-IM/DD\" data-toc-modified-id=\"Receptor-IM/DD-3.1\"><span class=\"toc-item-num\">3.1&nbsp;&nbsp;</span>Receptor IM/DD</a></span></li><li><span><a href=\"#Receptor-coerente\" data-toc-modified-id=\"Receptor-coerente-3.2\"><span class=\"toc-item-num\">3.2&nbsp;&nbsp;</span>Receptor coerente</a></span></li></ul></li><li><span><a href=\"#Batimento-entre-sinal-e-laser-oscilador-local-(LO)\" data-toc-modified-id=\"Batimento-entre-sinal-e-laser-oscilador-local-(LO)-4\"><span class=\"toc-item-num\">4&nbsp;&nbsp;</span>Batimento entre sinal e laser oscilador local (LO)</a></span><ul class=\"toc-item\"><li><span><a href=\"#Batimentos-entre-um-sinal-e-um-oscilador-local\" data-toc-modified-id=\"Batimentos-entre-um-sinal-e-um-oscilador-local-4.1\"><span class=\"toc-item-num\">4.1&nbsp;&nbsp;</span>Batimentos entre um sinal e um oscilador local</a></span></li><li><span><a href=\"#Potência-do-sinal-detectado-$s(t)$\" data-toc-modified-id=\"Potência-do-sinal-detectado-$s(t)$-4.2\"><span class=\"toc-item-num\">4.2&nbsp;&nbsp;</span>Potência do sinal detectado $s(t)$</a></span></li></ul></li><li><span><a href=\"#Híbrida-$2\\times-4$-90°\" data-toc-modified-id=\"Híbrida-$2\\times-4$-90°-5\"><span class=\"toc-item-num\">5&nbsp;&nbsp;</span>Híbrida $2\\times 4$ 90°</a></span><ul class=\"toc-item\"><li><span><a href=\"#Exemplo-de-um-circuito-fotônico-que-implementa-uma-híbrida\" data-toc-modified-id=\"Exemplo-de-um-circuito-fotônico-que-implementa-uma-híbrida-5.1\"><span class=\"toc-item-num\">5.1&nbsp;&nbsp;</span>Exemplo de um circuito fotônico que implementa uma híbrida</a></span></li><li><span><a href=\"#Matriz-de-transferência-entrada-saída\" data-toc-modified-id=\"Matriz-de-transferência-entrada-saída-5.2\"><span class=\"toc-item-num\">5.2&nbsp;&nbsp;</span>Matriz de transferência entrada-saída</a></span></li><li><span><a href=\"#Derivação-das-expressões-para-o-front-end-coerente\" data-toc-modified-id=\"Derivação-das-expressões-para-o-front-end-coerente-5.3\"><span class=\"toc-item-num\">5.3&nbsp;&nbsp;</span>Derivação das expressões para o front-end coerente</a></span></li><li><span><a href=\"#Tipos-de-detecção-óptica-coerente\" data-toc-modified-id=\"Tipos-de-detecção-óptica-coerente-5.4\"><span class=\"toc-item-num\">5.4&nbsp;&nbsp;</span>Tipos de detecção óptica coerente</a></span></li></ul></li><li><span><a href=\"#Exemplo:-detecção-coerente-de-um-laser-não-modulado\" data-toc-modified-id=\"Exemplo:-detecção-coerente-de-um-laser-não-modulado-6\"><span class=\"toc-item-num\">6&nbsp;&nbsp;</span>Exemplo: detecção coerente de um laser não-modulado</a></span></li><li><span><a href=\"#Exemplo:-simulação-10G-OOK-vs-10G-BPSK\" data-toc-modified-id=\"Exemplo:-simulação-10G-OOK-vs-10G-BPSK-7\"><span class=\"toc-item-num\">7&nbsp;&nbsp;</span>Exemplo: simulação 10G OOK vs 10G BPSK</a></span></li><li><span><a href=\"#Exemplo:-simulação-com-formatos-QPSK,-QAM\" data-toc-modified-id=\"Exemplo:-simulação-com-formatos-QPSK,-QAM-8\"><span class=\"toc-item-num\">8&nbsp;&nbsp;</span>Exemplo: simulação com formatos QPSK, QAM</a></span></li><li><span><a href=\"#Sistemas-WDM-coerentes\" data-toc-modified-id=\"Sistemas-WDM-coerentes-9\"><span class=\"toc-item-num\">9&nbsp;&nbsp;</span>Sistemas WDM coerentes</a></span></li></ul></div>"
   ]
  },
  {
   "cell_type": "markdown",
   "metadata": {},
   "source": [
    "## Por que comunicações ópticas coerentes?\n",
    "\n",
    "* Receptores com melhor sensitividade.\n",
    "\n",
    "* Laser sintonizáveis podem ser utilizados para detecção coerente em sistemas WDM.\n",
    "\n",
    "* Possibilidade de compensação via DSP de efeitos distorcivos do canal óptico (dispersão cromática, PMD, etc).\n",
    "\n",
    "* Uso de técnicas avançadas de modulação e codificação.\n",
    "\n",
    "* Maior eficiência no uso do espectro disponível na fibra."
   ]
  },
  {
   "cell_type": "markdown",
   "metadata": {},
   "source": [
    "## Transmissão de formatos de modulação coerentes\n",
    "\n",
    "<img src=\"./figuras/Tx_IQM.png\" width=\"400\">\n",
    "\n",
    "## Detecção coerente de sinais ópticos\n",
    "\n",
    "### Receptor IM/DD\n",
    "<img src=\"./figuras/Rx_OOK.png\" width=\"400\">\n",
    "\n",
    "### Receptor coerente\n",
    "<img src=\"./figuras/hibrida_4x90.png\" width=\"650\">"
   ]
  },
  {
   "cell_type": "code",
   "execution_count": 76,
   "metadata": {},
   "outputs": [],
   "source": [
    "t, ω_c, ω_lo, ϕ_lo, Δω, Δϕ = sp.symbols('t, ω_c, ω_{LO}, ϕ_{LO}, Δω, Δϕ', real=True)\n",
    "P_s, P_lo, R = sp.symbols('P_s, P_{LO}, R_d', real=True, positive=True)\n",
    "\n",
    "A = sp.Function('A', real=True)(t)\n",
    "ϕ = sp.Function('ϕ', real=True)(t)\n",
    "\n",
    "π = sp.pi\n",
    "j = sp.I"
   ]
  },
  {
   "cell_type": "markdown",
   "metadata": {},
   "source": [
    "**Campo elétrico da portadora óptica modulada $E_s(t)$**"
   ]
  },
  {
   "cell_type": "code",
   "execution_count": 77,
   "metadata": {},
   "outputs": [
    {
     "data": {
      "text/latex": [
       "$\\displaystyle E_s(t) =\\sqrt{P_{s}} A{\\left(t \\right)} e^{i \\left(t ω_{c} + ϕ{\\left(t \\right)}\\right)}\\; $"
      ],
      "text/plain": [
       "<IPython.core.display.Math object>"
      ]
     },
     "metadata": {},
     "output_type": "display_data"
    }
   ],
   "source": [
    "E_s = sp.sqrt(P_s)*A*sp.exp(j*(ω_c*t + ϕ))\n",
    "\n",
    "symdisp('E_s(t) =', E_s)"
   ]
  },
  {
   "cell_type": "markdown",
   "metadata": {},
   "source": [
    "**Campo elétrico do laser oscilador local $E_{LO}(t)$**"
   ]
  },
  {
   "cell_type": "code",
   "execution_count": 78,
   "metadata": {},
   "outputs": [
    {
     "data": {
      "text/latex": [
       "$\\displaystyle E_{LO}(t) =\\sqrt{P_{LO}} e^{i \\left(t ω_{LO} + ϕ_{LO}\\right)}\\; $"
      ],
      "text/plain": [
       "<IPython.core.display.Math object>"
      ]
     },
     "metadata": {},
     "output_type": "display_data"
    }
   ],
   "source": [
    "E_lo = sp.sqrt(P_lo)*sp.exp(j*(ω_lo*t + ϕ_lo))\n",
    "\n",
    "symdisp('E_{LO}(t) =', E_lo)"
   ]
  },
  {
   "cell_type": "markdown",
   "metadata": {},
   "source": [
    "## Batimento entre sinal e laser oscilador local (LO)\n",
    "\n",
    "$$\n",
    "\\begin{aligned}\n",
    "I_1(t) &= R_d\\left|E_s(t) + jE_{LO}(t) \\right|^2 \\nonumber\\\\\n",
    "       &= R_d\\left[E_s(t) + jE_{LO}(t) \\right]\\left[E_s^*(t) - jE_{LO}^*(t) \\right] \\nonumber\\\\\n",
    "       &= R_d\\left[E_s(t)E_s^*(t) + jE_{LO}(t)E_s^*(t) - jE_s(t)E_{LO}^*(t) -j^2E_{LO}(t)E_{LO}^*(t) \\right] \\nonumber\\\\\n",
    "       &= R_d\\left[A^2P_s + jE_{LO}(t)E_s^*(t) - jE_s(t)E_{LO}^*(t) + P_{LO}\\right] \\nonumber\\\\\n",
    "       &= R_d\\left[A^2P_s + P_{LO}\\right] + R_d\\left[ jE_{LO}(t)E_s^*(t) +(jE_{LO}(t)E_s^*(t))^* \\right] \\nonumber\\\\\n",
    "       &= R_d\\left[A^2P_s + P_{LO}\\right] + R_d 2\\operatorname{Re}\\left[jE_{LO}(t)E_s^*(t)\\right] \\nonumber\\\\\n",
    "       &= R_d\\left[A^2P_s + P_{LO}\\right] + 2R_d\\operatorname{Re}\\left[j\\sqrt{P_{LO}}e^{j(ω_{LO}t + ϕ_{LO})}A\\sqrt{P_{s}}e^{-j(ω_ct + ϕ)}\\right] \\nonumber\\\\\n",
    "       &= R_d\\left[A^2P_s + P_{LO}\\right] + 2R_dA\\sqrt{P_{LO}}\\sqrt{P_{s}}\\operatorname{Re}\\left[je^{j(ω_{LO}t + ϕ_{LO})}e^{-j(ω_ct + ϕ)}\\right] \\nonumber\\\\\n",
    "       &= R_d\\left[A^2P_s + P_{LO}\\right] + 2R_dA\\sqrt{P_{LO}}\\sqrt{P_{s}}\\operatorname{Re}\\left[e^{j(ω_{LO}t -ω_ct + ϕ_{LO}- ϕ + \\pi/2)}\\right] \\nonumber\\\\\n",
    "       &= R_d\\left[A^2P_s + P_{LO}\\right] + 2R_dA\\sqrt{P_{LO}}\\sqrt{P_{s}}\\cos(ω_{LO}t -ω_ct + ϕ_{LO}- ϕ + \\pi/2) \\nonumber\\\\\n",
    "       &= R_d\\left[A^2P_s + P_{LO}\\right] - 2R_dA\\sqrt{P_{LO}}\\sqrt{P_{s}}\\operatorname{sen}(ω_{LO}t -ω_ct + ϕ_{LO} - ϕ) \\nonumber\\\\\n",
    "       &= R_d\\left[A^2P_s + P_{LO}\\right] + 2R_dA\\sqrt{P_{LO}}\\sqrt{P_{s}}\\operatorname{sen}(ω_ct - ω_{LO}t + ϕ - ϕ_{LO}) \\nonumber\\\\\n",
    "       &= R_d\\left[A^2P_s + P_{LO}\\right] + 2R_dA\\sqrt{P_{LO}}\\sqrt{P_{s}}\\operatorname{sen}(\\Delta ωt + \\Delta \\phi) \\nonumber\\\\\n",
    "\\end{aligned}\n",
    "$$\n",
    "\n",
    "em que $\\Delta \\omega = \\omega_c - \\omega_{LO}$ e $\\Delta \\phi = \\phi - \\phi_{LO}$."
   ]
  },
  {
   "cell_type": "markdown",
   "metadata": {},
   "source": [
    "### Batimentos entre um sinal e um oscilador local\n",
    "\n",
    "**Fotocorrente $i_1(t)\\propto |E_s + jE_{LO}|^2$**"
   ]
  },
  {
   "cell_type": "code",
   "execution_count": 79,
   "metadata": {
    "scrolled": true
   },
   "outputs": [
    {
     "data": {
      "text/latex": [
       "$\\displaystyle E_{i_1}(t) =\\frac{\\sqrt{P_{s}} A{\\left(t \\right)} e^{i \\left(t ω_{c} + ϕ{\\left(t \\right)}\\right)}}{2} + \\frac{i \\sqrt{P_{LO}} e^{i \\left(t ω_{LO} + ϕ_{LO}\\right)}}{2}\\; $"
      ],
      "text/plain": [
       "<IPython.core.display.Math object>"
      ]
     },
     "metadata": {},
     "output_type": "display_data"
    },
    {
     "data": {
      "text/latex": [
       "$\\displaystyle i_1(t) =\\frac{\\sqrt{P_{s}} \\sqrt{P_{LO}} R_{d} A{\\left(t \\right)} \\sin{\\left(t ω_{c} - t ω_{LO} - ϕ_{LO} + ϕ{\\left(t \\right)} \\right)}}{2} + \\frac{P_{s} R_{d} A^{2}{\\left(t \\right)}}{4} + \\frac{P_{LO} R_{d}}{4}\\; $"
      ],
      "text/plain": [
       "<IPython.core.display.Math object>"
      ]
     },
     "metadata": {},
     "output_type": "display_data"
    }
   ],
   "source": [
    "Ei1 = (E_s + j*E_lo)/2\n",
    "\n",
    "symdisp('E_{i_1}(t) =', Ei1)\n",
    "\n",
    "i1 = R*sp.Abs(Ei1)**2\n",
    "\n",
    "i1 = sp.re(i1).simplify().expand()\n",
    "\n",
    "symdisp('i_1(t) =', i1)"
   ]
  },
  {
   "cell_type": "markdown",
   "metadata": {},
   "source": [
    "**Fotocorrente $i_2(t) \\propto |E_s - jE_{LO}|^2$**"
   ]
  },
  {
   "cell_type": "code",
   "execution_count": 80,
   "metadata": {},
   "outputs": [
    {
     "data": {
      "text/latex": [
       "$\\displaystyle E_{i_2}(t) =\\frac{\\sqrt{P_{s}} A{\\left(t \\right)} e^{i \\left(t ω_{c} + ϕ{\\left(t \\right)}\\right)}}{2} - \\frac{i \\sqrt{P_{LO}} e^{i \\left(t ω_{LO} + ϕ_{LO}\\right)}}{2}\\; $"
      ],
      "text/plain": [
       "<IPython.core.display.Math object>"
      ]
     },
     "metadata": {},
     "output_type": "display_data"
    },
    {
     "data": {
      "text/latex": [
       "$\\displaystyle i_2(t) =- \\frac{\\sqrt{P_{s}} \\sqrt{P_{LO}} R_{d} A{\\left(t \\right)} \\sin{\\left(t ω_{c} - t ω_{LO} - ϕ_{LO} + ϕ{\\left(t \\right)} \\right)}}{2} + \\frac{P_{s} R_{d} A^{2}{\\left(t \\right)}}{4} + \\frac{P_{LO} R_{d}}{4}\\; $"
      ],
      "text/plain": [
       "<IPython.core.display.Math object>"
      ]
     },
     "metadata": {},
     "output_type": "display_data"
    }
   ],
   "source": [
    "Ei2 = (E_s - j*E_lo)/2\n",
    "\n",
    "symdisp('E_{i_2}(t) =', Ei2)\n",
    "\n",
    "i2 = R*sp.Abs(Ei2)**2\n",
    "\n",
    "i2 = sp.re(i2).simplify().expand()\n",
    "\n",
    "symdisp('i_2(t) =', i2)"
   ]
  },
  {
   "cell_type": "markdown",
   "metadata": {},
   "source": [
    "**Corrente $s_Q(t) = i_1(t)-i_2(t)$**"
   ]
  },
  {
   "cell_type": "code",
   "execution_count": 81,
   "metadata": {},
   "outputs": [
    {
     "data": {
      "text/latex": [
       "$\\displaystyle s_Q(t) =\\sqrt{P_{s}} \\sqrt{P_{LO}} R_{d} A{\\left(t \\right)} \\sin{\\left(t ω_{c} - t ω_{LO} - ϕ_{LO} + ϕ{\\left(t \\right)} \\right)}\\; $"
      ],
      "text/plain": [
       "<IPython.core.display.Math object>"
      ]
     },
     "metadata": {},
     "output_type": "display_data"
    }
   ],
   "source": [
    "sQ = i1 - i2 # saída do fotodetector balanceado\n",
    "\n",
    "sQ = sQ.simplify()\n",
    "\n",
    "symdisp('s_Q(t) =', sQ)"
   ]
  },
  {
   "cell_type": "markdown",
   "metadata": {},
   "source": [
    "**Fotocorrente $i_3(t) \\propto |E_s + E_{LO}|^2$**"
   ]
  },
  {
   "cell_type": "code",
   "execution_count": 82,
   "metadata": {},
   "outputs": [
    {
     "data": {
      "text/latex": [
       "$\\displaystyle E_{i_3}(t) =\\frac{\\sqrt{P_{s}} A{\\left(t \\right)} e^{i \\left(t ω_{c} + ϕ{\\left(t \\right)}\\right)}}{2} + \\frac{\\sqrt{P_{LO}} e^{i \\left(t ω_{LO} + ϕ_{LO}\\right)}}{2}\\; $"
      ],
      "text/plain": [
       "<IPython.core.display.Math object>"
      ]
     },
     "metadata": {},
     "output_type": "display_data"
    },
    {
     "data": {
      "text/latex": [
       "$\\displaystyle i_3(t) =\\frac{\\sqrt{P_{s}} \\sqrt{P_{LO}} R_{d} A{\\left(t \\right)} \\cos{\\left(t ω_{c} - t ω_{LO} - ϕ_{LO} + ϕ{\\left(t \\right)} \\right)}}{2} + \\frac{P_{s} R_{d} A^{2}{\\left(t \\right)}}{4} + \\frac{P_{LO} R_{d}}{4}\\; $"
      ],
      "text/plain": [
       "<IPython.core.display.Math object>"
      ]
     },
     "metadata": {},
     "output_type": "display_data"
    }
   ],
   "source": [
    "Ei3 = (E_s + E_lo)/2\n",
    "\n",
    "symdisp('E_{i_3}(t) =', Ei3)\n",
    "\n",
    "i3 = R*sp.Abs(Ei3)**2\n",
    "\n",
    "i3 = sp.re(i3).simplify().expand()\n",
    "\n",
    "symdisp('i_3(t) =', i3)"
   ]
  },
  {
   "cell_type": "markdown",
   "metadata": {},
   "source": [
    "**Fotocorrente $i_4(t) \\propto |E_s - E_{LO}|^2$**"
   ]
  },
  {
   "cell_type": "code",
   "execution_count": 83,
   "metadata": {},
   "outputs": [
    {
     "data": {
      "text/latex": [
       "$\\displaystyle E_{i_4}(t) =\\frac{\\sqrt{P_{s}} A{\\left(t \\right)} e^{i \\left(t ω_{c} + ϕ{\\left(t \\right)}\\right)}}{2} - \\frac{\\sqrt{P_{LO}} e^{i \\left(t ω_{LO} + ϕ_{LO}\\right)}}{2}\\; $"
      ],
      "text/plain": [
       "<IPython.core.display.Math object>"
      ]
     },
     "metadata": {},
     "output_type": "display_data"
    },
    {
     "data": {
      "text/latex": [
       "$\\displaystyle i_4(t) =- \\frac{\\sqrt{P_{s}} \\sqrt{P_{LO}} R_{d} A{\\left(t \\right)} \\cos{\\left(t ω_{c} - t ω_{LO} - ϕ_{LO} + ϕ{\\left(t \\right)} \\right)}}{2} + \\frac{P_{s} R_{d} A^{2}{\\left(t \\right)}}{4} + \\frac{P_{LO} R_{d}}{4}\\; $"
      ],
      "text/plain": [
       "<IPython.core.display.Math object>"
      ]
     },
     "metadata": {},
     "output_type": "display_data"
    }
   ],
   "source": [
    "Ei4 = (E_s - E_lo)/2\n",
    "\n",
    "symdisp('E_{i_4}(t) =', Ei4)\n",
    "\n",
    "i4 = R*sp.Abs(Ei4)**2\n",
    "\n",
    "i4 = sp.re(i4).simplify().expand()\n",
    "\n",
    "symdisp('i_4(t) =', i4)"
   ]
  },
  {
   "cell_type": "markdown",
   "metadata": {},
   "source": [
    "**Corrente $s_I(t) = i_3(t)-i_4(t)$**"
   ]
  },
  {
   "cell_type": "code",
   "execution_count": 84,
   "metadata": {},
   "outputs": [
    {
     "data": {
      "text/latex": [
       "$\\displaystyle s_I(t) =\\sqrt{P_{s}} \\sqrt{P_{LO}} R_{d} A{\\left(t \\right)} \\cos{\\left(t ω_{c} - t ω_{LO} - ϕ_{LO} + ϕ{\\left(t \\right)} \\right)}\\; $"
      ],
      "text/plain": [
       "<IPython.core.display.Math object>"
      ]
     },
     "metadata": {},
     "output_type": "display_data"
    }
   ],
   "source": [
    "sI = i3 - i4 # saída do fotodetector balanceado\n",
    "\n",
    "sI = sI.simplify()\n",
    "\n",
    "symdisp('s_I(t) =', sI)"
   ]
  },
  {
   "cell_type": "markdown",
   "metadata": {},
   "source": [
    "**Sinal complexo detectado $s(t) = s_I(t) + js_Q(t)$**"
   ]
  },
  {
   "cell_type": "code",
   "execution_count": 85,
   "metadata": {},
   "outputs": [
    {
     "data": {
      "text/latex": [
       "$\\displaystyle s(t) =\\sqrt{P_{s}} \\sqrt{P_{LO}} R_{d} A{\\left(t \\right)} e^{i \\left(t ω_{c} - t ω_{LO} - ϕ_{LO} + ϕ{\\left(t \\right)}\\right)}\\; $"
      ],
      "text/plain": [
       "<IPython.core.display.Math object>"
      ]
     },
     "metadata": {},
     "output_type": "display_data"
    }
   ],
   "source": [
    "s = sI + j*sQ\n",
    "\n",
    "s = s.simplify()\n",
    "\n",
    "symdisp('s(t) =', s)"
   ]
  },
  {
   "cell_type": "markdown",
   "metadata": {},
   "source": [
    "### Potência do sinal detectado $s(t)$"
   ]
  },
  {
   "cell_type": "code",
   "execution_count": 87,
   "metadata": {},
   "outputs": [
    {
     "data": {
      "text/latex": [
       "$\\displaystyle P_r(t) =P_{s} P_{LO} R_{d}^{2} A^{2}{\\left(t \\right)}\\; $"
      ],
      "text/plain": [
       "<IPython.core.display.Math object>"
      ]
     },
     "metadata": {},
     "output_type": "display_data"
    }
   ],
   "source": [
    "Pr = sp.Abs(s)**2 # potência do sinal s(t)\n",
    "\n",
    "symdisp('P_r(t) =', Pr)"
   ]
  },
  {
   "cell_type": "markdown",
   "metadata": {},
   "source": [
    "## Híbrida $2\\times 4$ 90°\n",
    "\n",
    "### Exemplo de um circuito fotônico que implementa uma híbrida\n",
    "\n",
    "<img src=\"./figuras/hibrida_PIC.png\" width=\"400\">\n",
    "\n",
    "### Matriz de transferência entrada-saída\n",
    "\n",
    "$$M=\\left[\\begin{array}{cccc}\\frac{\\sqrt{2}}{2} & \\frac{\\sqrt{2} j}{2} & 0 & 0 \\\\ \\frac{\\sqrt{2} j}{2} & \\frac{\\sqrt{2}}{2} & 0 & 0 \\\\ 0 & 0 & \\frac{\\sqrt{2}}{2} & \\frac{\\sqrt{2 j}}{2} \\\\ 0 & 0 & \\frac{\\sqrt{2} j}{2} & \\frac{\\sqrt{2}}{2}\\end{array}\\right]$$\n",
    "\n",
    "$$\n",
    "U=\\left[\\begin{array}{llll}\n",
    "1 & 0 & 0 & 0 \\\\\n",
    "0 & 0 & 1 & 0 \\\\\n",
    "0 & 1 & 0 & 0 \\\\\n",
    "0 & 0 & 0 & i\n",
    "\\end{array}\\right]\n",
    "$$\n",
    "\n",
    "$$ T = MUM $$"
   ]
  },
  {
   "cell_type": "markdown",
   "metadata": {},
   "source": [
    "### Derivação das expressões para o front-end coerente"
   ]
  },
  {
   "cell_type": "markdown",
   "metadata": {},
   "source": [
    "**Matriz de transferência do acoplador 3dB**"
   ]
  },
  {
   "cell_type": "code",
   "execution_count": null,
   "metadata": {},
   "outputs": [],
   "source": [
    "C_3dB  = 1/sp.sqrt(2)*Matrix([[1, j],[j, 1]])\n",
    "\n",
    "symdisp('C_{3dB} = ', C_3dB)"
   ]
  },
  {
   "cell_type": "markdown",
   "metadata": {},
   "source": [
    "**Matriz de transferência da híbrida $2\\times4$ 90°**"
   ]
  },
  {
   "cell_type": "code",
   "execution_count": null,
   "metadata": {},
   "outputs": [],
   "source": [
    "M = Matrix([[C_3dB, zeros(2)], [zeros(2), C_3dB]])\n",
    "U = Matrix([[1, 0, 0, 0],[0, 0, 1, 0],[0, 1, 0, 0],[0, 0, 0, j]])\n",
    "\n",
    "symdisp('M = ', M)\n",
    "symdisp('U = ', U)\n",
    "symdisp('T = MUM = ', M*U*M)"
   ]
  },
  {
   "cell_type": "markdown",
   "metadata": {},
   "source": [
    "**Derivação das expressões do *front-end* coerente com o Sympy**"
   ]
  },
  {
   "cell_type": "code",
   "execution_count": null,
   "metadata": {},
   "outputs": [],
   "source": [
    "# define funções do sympy para auxílio na derivação das expressões\n",
    "\n",
    "# híbrida\n",
    "def hybrid_2x4_90(E1, E2):\n",
    "    \n",
    "    M = Matrix([[C_3dB, zeros(2)], \n",
    "                [zeros(2), C_3dB]])\n",
    "    \n",
    "    U = Matrix([[1, 0, 0, 0],\n",
    "                [0, 0, 1, 0],\n",
    "                [0, 1, 0, 0],\n",
    "                [0, 0, 0, j]])\n",
    "    \n",
    "    Ei = Matrix([[E1],[0],[0],[E2]]) # vetor 4x1\n",
    "    \n",
    "    Eo = M*U*M*Ei \n",
    "    \n",
    "    return Eo    \n",
    "\n",
    "# fotodetector balanceado\n",
    "def bpd(E1, E2, R=1):\n",
    "    \n",
    "    i1 = sp.Abs(E1)**2 # |E1|^2\n",
    "    i2 = sp.Abs(E2)**2 # |E2|^2\n",
    "    i = i1 - i2\n",
    "    \n",
    "    return R*sp.re(i).simplify().expand()"
   ]
  },
  {
   "cell_type": "code",
   "execution_count": null,
   "metadata": {},
   "outputs": [],
   "source": [
    "Eo = hybrid_2x4_90(E_s, E_lo)\n",
    "\n",
    "print('Entrada óptica da híbrida:')\n",
    "symdisp('E_i = ', Matrix([[E_s],[0],[0],[E_lo]]))"
   ]
  },
  {
   "cell_type": "code",
   "execution_count": null,
   "metadata": {},
   "outputs": [],
   "source": [
    "print('Saída óptica da híbrida:')\n",
    "symdisp('E_o = ', Eo)"
   ]
  },
  {
   "cell_type": "markdown",
   "metadata": {},
   "source": [
    "**Fotodetecção balanceada**"
   ]
  },
  {
   "cell_type": "code",
   "execution_count": null,
   "metadata": {},
   "outputs": [],
   "source": [
    "sI = bpd(Eo[1], Eo[0], R) # fotodeteccão balanceada de Eo[1] e Eo[0]\n",
    "sQ = bpd(Eo[2], Eo[3], R) # fotodeteccão balanceada de Eo[2] e Eo[3]\n",
    "\n",
    "symdisp('s_I = ', sI)\n",
    "symdisp('s_Q = ', sQ)"
   ]
  },
  {
   "cell_type": "markdown",
   "metadata": {},
   "source": [
    "**Campo elétrico recuperado**"
   ]
  },
  {
   "cell_type": "code",
   "execution_count": null,
   "metadata": {},
   "outputs": [],
   "source": [
    "s  = sI + j*sQ\n",
    "s  = s.simplify()\n",
    "\n",
    "symdisp('s = ', s)"
   ]
  },
  {
   "cell_type": "code",
   "execution_count": null,
   "metadata": {},
   "outputs": [],
   "source": [
    "s = s.subs({ω_lo:ω_c + Δω, ϕ:ϕ_lo + Δϕ})\n",
    "\n",
    "s = s.simplify().doit()\n",
    "\n",
    "symdisp('s = ', s)"
   ]
  },
  {
   "cell_type": "markdown",
   "metadata": {},
   "source": [
    "### Tipos de detecção óptica coerente\n",
    "\n",
    "* **Detecção homódina (*homodyne detection*)**($\\Delta\\omega = 0$): a frequência do laser do transmissor e a frequência do laser oscilador local são idênticas.\n",
    "\n",
    "* **Detecção heteródina (*heterodyne detection*)**($\\Delta\\omega \\neq 0$): a frequência do laser do transmissor e a frequência do laser oscilador local são diferentes.\n",
    "\n",
    "* **Detecção intradina (*intradyne detection*)**($\\Delta\\omega \\approx 0$): a frequência do laser do transmissor e do laser oscilador local são \"ligeiramente\" diferentes."
   ]
  },
  {
   "cell_type": "markdown",
   "metadata": {},
   "source": [
    "**Assumindo coerência perfeita entre os lasers do transmissor e do receptor($Δω=0, ϕ_{LO}=0$)**"
   ]
  },
  {
   "cell_type": "code",
   "execution_count": null,
   "metadata": {},
   "outputs": [],
   "source": [
    "# assumindo que portadora e oscilador local estão sincronizados em fase e frequência\n",
    "s = s.subs({Δω:0, Δϕ:ϕ})/(sp.sqrt(P_s)*sp.sqrt(P_lo)*R)\n",
    "\n",
    "symdisp('s = ', s)"
   ]
  },
  {
   "cell_type": "markdown",
   "metadata": {},
   "source": [
    "**Funções para modelagem de um receptor coerente utilizando o numpy**"
   ]
  },
  {
   "cell_type": "code",
   "execution_count": null,
   "metadata": {},
   "outputs": [],
   "source": [
    "def balancedPD(E1, E2, R):\n",
    "    '''\n",
    "    Balanced photodetector (BPD)\n",
    "    \n",
    "    :param E1: input field [nparray]\n",
    "    :param E2: input field [nparray]\n",
    "    :param R: photodiode responsivity\n",
    "    \n",
    "    :return: balanced photocurrent\n",
    "    '''\n",
    "    i1 = R*E1*np.conj(E1)\n",
    "    i2 = R*E2*np.conj(E2)\n",
    "    \n",
    "    return i1-i2\n",
    "\n",
    "def hybrid_2x4_90deg(E1, E2):\n",
    "    '''\n",
    "    Optical 2 x 4 90° hybrid\n",
    "    \n",
    "    '''\n",
    "    # Hybrid transfer matrix    \n",
    "    T = np.array([[ 1/2,  1j/2,  1j/2, -1/2],\n",
    "                  [ 1j/2, -1/2,  1/2,  1j/2],\n",
    "                  [ 1j/2,  1/2, -1j/2, -1/2],\n",
    "                  [-1/2,  1j/2, -1/2,  1j/2]])\n",
    "    \n",
    "    Ei = np.array([E1, np.zeros((E1.size,)), \n",
    "                   np.zeros((E1.size,)), E2])    \n",
    "    \n",
    "    Eo = T@Ei\n",
    "    \n",
    "    return Eo\n",
    "    \n",
    "def coherentReceiver(Es, Elo, Rd=1):\n",
    "    '''\n",
    "    Single polarization coherent optical front-end\n",
    "    \n",
    "    '''\n",
    "    # Hybrid 2 x 4 90° \n",
    "    Eo = hybrid_2x4_90deg(Es, Elo)\n",
    "        \n",
    "    # balanced photodetection\n",
    "    sI = balancedPD(Eo[1,:], Eo[0,:], Rd)\n",
    "    sQ = balancedPD(Eo[2,:], Eo[3,:], Rd)\n",
    "    \n",
    "    return sI + 1j*sQ"
   ]
  },
  {
   "cell_type": "code",
   "execution_count": null,
   "metadata": {},
   "outputs": [],
   "source": [
    "def phaseNoise(lw, Nsamples, Ts):\n",
    "    \n",
    "    σ2 = 2*np.pi*lw*Ts    \n",
    "    phi = np.zeros(Nsamples)\n",
    "    \n",
    "    for ind in range(0, Nsamples-1):\n",
    "        phi[ind+1] = phi[ind] + normal(0, np.sqrt(σ2))\n",
    "        \n",
    "    return phi"
   ]
  },
  {
   "cell_type": "markdown",
   "metadata": {},
   "source": [
    "## Exemplo: detecção coerente de um laser não-modulado"
   ]
  },
  {
   "cell_type": "code",
   "execution_count": null,
   "metadata": {
    "lines_to_next_cell": 0
   },
   "outputs": [],
   "source": [
    "# parâmetros da simulação\n",
    "Fa     = 128e9    # Frequência de amostragem do sinal\n",
    "Ta     = 1/Fa     # Período de amostragem\n",
    "\n",
    "Nsamples = 1000\n",
    "\n",
    "#Pi_dBm = 10  # potência de sinal óptico na entrada do modulador em dBm\n",
    "π = np.pi\n",
    "\n",
    "#\n",
    "lw = 0*100e3\n",
    "pn_sig = phaseNoise(lw, Nsamples, Ta)\n",
    "pn_lo  = phaseNoise(lw, Nsamples, Ta)\n",
    "\n",
    "# parâmetros do sinal\n",
    "Pin   = 1     # potência do laser\n",
    "f_sig = 2e9   # frequência do sinal\n",
    "ϕs    = π/2   # fase do laser\n",
    "\n",
    "# parâmetros do oscilador local\n",
    "Plo  = 1    # potência do oscilador local na entrada do receptor\n",
    "f_lo = 2e9  # frequência do oscilador local\n",
    "ϕ_lo = 0    # fase do oscilador local\n",
    "\n",
    "############# Simulação #############\n",
    "\n",
    "# oscilador local\n",
    "t     = np.arange(0, Nsamples)*Ta\n",
    "sig   = np.sqrt(Pin)*np.exp(1j*(2*π*f_sig*t + ϕs   + pn_sig))*np.ones(t.size) # campo elétrico do sinal\n",
    "sigLO = np.sqrt(Plo)*np.exp(1j*(2*π*f_lo*t + ϕ_lo + pn_lo)) # campo elétrico do oscilador local\n",
    "\n",
    "fig, axs = plt.subplots(2)\n",
    "fig.suptitle('Campo elétrico')\n",
    "axs[0].plot(t, sig.real, label = 'sig [real]')\n",
    "axs[0].plot(t, sig.imag, label = 'sig [imag]')\n",
    "axs[0].legend();\n",
    "axs[1].plot(t, sigLO.real, label = 'LO [real]')\n",
    "axs[1].plot(t, sigLO.imag, label = 'LO [imag]');\n",
    "axs[1].legend();"
   ]
  },
  {
   "cell_type": "code",
   "execution_count": null,
   "metadata": {
    "lines_to_next_cell": 0
   },
   "outputs": [],
   "source": [
    "# receptor coerente\n",
    "sigRx = coherentReceiver(sig, sigLO)\n",
    "\n",
    "plt.figure(figsize=(4,4))\n",
    "plt.plot(sigRx.real,sigRx.imag,'o-', markersize=3, label='Rx')\n",
    "plt.ylabel('$S_Q$', fontsize=14)\n",
    "plt.xlabel('$S_I$', fontsize=14)\n",
    "plt.xlim(-1.1,1.1)\n",
    "plt.ylim(-1.1,1.1)\n",
    "plt.grid()\n",
    "\n",
    "plt.arrow(0, 0, sigRx[-1].real,sigRx[-1].imag, length_includes_head=True, shape ='full',\n",
    "                                         alpha = 0.5, width = 0.015, edgecolor = 'blue', \n",
    "                                         facecolor = 'blue', lw = 2, zorder = 5, label='Recebido')\n",
    "\n",
    "plt.arrow(0, 0, sig[0].real,sig[0].imag, length_includes_head=True, shape ='full',\n",
    "                                         alpha = 0.5, width = 0.015, edgecolor = 'red', \n",
    "                                         facecolor = 'red', lw = 2, zorder = 5, label='Transmitido')\n",
    "plt.legend(loc='lower left');"
   ]
  },
  {
   "cell_type": "markdown",
   "metadata": {},
   "source": [
    "## Exemplo: simulação 10G OOK vs 10G BPSK"
   ]
  },
  {
   "cell_type": "code",
   "execution_count": null,
   "metadata": {
    "lines_to_next_cell": 0
   },
   "outputs": [],
   "source": [
    "modulation = 'BPSK' # 'OOK', 'BPSK'\n",
    "\n",
    "# parâmetros da simulação\n",
    "SpS    = 16            # número de amostras por símbolo\n",
    "Rs     = 10e9          # Taxa de símbolos (para o caso do OOK Rs = Rb)\n",
    "Ts     = 1/Rs          # Período de símbolo em segundos\n",
    "Fa     = 1/(Ts/SpS)    # Frequência de amostragem do sinal (amostras/segundo)\n",
    "Ta     = 1/Fa          # Período de amostragem\n",
    "\n",
    "π = np.pi\n",
    "\n",
    "# parâmetros do MZM\n",
    "Vπ = 2\n",
    "\n",
    "if modulation == 'OOK':\n",
    "    Vb  = -Vπ/2\n",
    "    Amp = 1\n",
    "    Pi_dBm = -10+3.5  # potência de sinal óptico na entrada do modulador em dBm\n",
    "elif modulation == 'BPSK':\n",
    "    Vb = -Vπ\n",
    "    Amp = 2\n",
    "    Pi_dBm = -10  # potência de sinal óptico na entrada do modulador em dBm\n",
    "    \n",
    "Pi = 10**(Pi_dBm/10)*1e-3 # potência de sinal óptico em W na entrada do MZM\n",
    "\n",
    "# parâmetros do receptor\n",
    "B   = 10e9     # banda do receptor em Hz\n",
    "Plo_dBm  = 10   # potência do oscilador local\n",
    "Δf_lo = 0       # desvio de frequência do oscilador local\n",
    "ϕ_lo  = 0       # fase do oscilador local\n",
    "\n",
    "Plo = 10**(Plo_dBm/10)*1e-3 # potência do oscilador local na entrada do receptor\n",
    "\n",
    "############# Simulação #############\n",
    "\n",
    "### Transmissor\n",
    "\n",
    "# gera sequência de bits pseudo-aleatórios\n",
    "bitsTx   = np.random.randint(2, size=20000)    \n",
    "n        = np.arange(0, bitsTx.size)\n",
    "\n",
    "# mapeia bits para pulsos elétricos\n",
    "symbTx = 2*bitsTx-1\n",
    "symbTx = symbTx/np.sqrt(signal_power(symbTx))\n",
    "\n",
    "# upsampling\n",
    "symbolsUp = upsample(symbTx, SpS)\n",
    "\n",
    "# pulso\n",
    "pulse = pulseShape('nrz', SpS)\n",
    "pulse = pulse/max(abs(pulse))\n",
    "\n",
    "# formatação de pulso\n",
    "sigTx  = firFilter(pulse, symbolsUp)\n",
    "\n",
    "# modulação óptica\n",
    "Ai      = np.sqrt(Pi)\n",
    "sigTxo_ = mzm(Ai, Vπ, Amp*sigTx, Vb)\n",
    "\n",
    "# adiciona ruído ASE ao sinal óptico\n",
    "σASE  = 1e-6#1e-5\n",
    "ruido = normal(0, np.sqrt(Fa*(σASE/(2*B))), sigTxo_.size) + 1j*normal(0, np.sqrt(Fa*(σASE/(2*B))), sigTxo_.size)\n",
    "\n",
    "sigTxo = sigTxo_ + ruido\n",
    "\n",
    "### Recepcão coerente\n",
    "Pin = (np.abs(sigTxo)**2).mean() # Potência óptica média média recebida\n",
    "\n",
    "# oscilador local\n",
    "t     = np.arange(0, sigTxo.size)*Ta\n",
    "sigLO = np.sqrt(Plo)*np.exp(1j*(2*π*Δf_lo*t + ϕ_lo))\n",
    "\n",
    "# receptor coerente\n",
    "sigRx = coherentReceiver(sigTxo, sigLO)\n",
    "sigRx = sigRx/np.std(sigRx)\n",
    "\n",
    "# filtragem Rx\n",
    "N = 8001\n",
    "h = lowPassFIR(B, Fa, N, typeF='rect')\n",
    "sigRx = firFilter(h, sigRx)\n",
    "\n",
    "# calculando a OSNR na simulação\n",
    "sigTxo_Rx   = firFilter(h, sigTxo_)\n",
    "sigTxo_DDRx = firFilter(h, sigTxo)\n",
    "ruido_Rx    = firFilter(h, ruido)\n",
    "\n",
    "OSNR = signal_power(sigTxo_Rx)/signal_power(ruido_Rx)\n",
    "\n",
    "Nsamples = 10000\n",
    "\n",
    "sigEye = sigRx.copy()\n",
    "eyediagram(sigTx,  Nsamples, SpS, plotlabel = 'Tx')\n",
    "eyediagram(sigEye[int(h.size/SpS)::], Nsamples, SpS, plotlabel = 'Coh-Rx')\n",
    "eyediagram(np.abs(sigTxo_DDRx)**2, Nsamples, SpS, plotlabel = 'DD-Rx')\n",
    "\n",
    "# captura amostras no meio dos intervalos de sinalização\n",
    "sigRx = sigRx[0::SpS]\n",
    "sigRx = sigRx/np.sqrt(signal_power(sigRx))\n",
    "\n",
    "if modulation == 'OOK':\n",
    "    symbTx = (symbTx+1)/np.sqrt(signal_power(symbTx+1))\n",
    "    \n",
    "# Aplica a regra de decisão ótima\n",
    "bitsRx = np.empty(bitsTx.size)\n",
    "bitsRx[sigRx> symbTx.mean()] = 1\n",
    "bitsRx[sigRx<= symbTx.mean()] = 0\n",
    "\n",
    "discard = 500\n",
    "ind = np.arange(discard, sigRx.size-discard)\n",
    "\n",
    "# estima SNR do sinal recebido: SNR = Es/σ^2\n",
    "SNR = 1/signal_power(sigRx[ind]-symbTx[ind])\n",
    "\n",
    "err = np.logical_xor(bitsRx[ind], \n",
    "                     bitsTx[ind])\n",
    "BER = np.mean(err)\n",
    "\n",
    "print('P_sig[opt] = %.2f dBm'%(10*np.log10(signal_power(sigTxo_)/1e-3)))\n",
    "print('P_ase[opt] = %.2f dBm'%(10*np.log10(signal_power(ruido_Rx)/1e-3)))\n",
    "print('OSNR[est,Bsig] = %.2f dB \\n'%(10*np.log10(OSNR)))\n",
    "print('SNR[est] = %.2f dB \\n'%(10*np.log10(SNR)))\n",
    "print('Total de erros contados = %d  '%(err.sum()))\n",
    "print('BER = %.2e  '%(BER))\n",
    "\n",
    "plt.plot(err,'o', label = 'erros')\n",
    "plt.legend()\n",
    "plt.grid()"
   ]
  },
  {
   "cell_type": "code",
   "execution_count": null,
   "metadata": {},
   "outputs": [],
   "source": [
    "plt.figure(figsize=(4,4))\n",
    "plt.axis('square')\n",
    "plt.ylabel('$S_Q$', fontsize=14)\n",
    "plt.xlabel('$S_I$', fontsize=14)\n",
    "plt.xlim(-2.5, 2.5)\n",
    "plt.ylim(-2.5, 2.5)\n",
    "plt.grid()\n",
    "\n",
    "plt.plot(sigRx[ind].real,sigRx[ind].imag,'.', markersize=4, label='Rx')\n",
    "plt.plot(symbTx[ind].real,symbTx[ind].imag,'k.', markersize=4, label='Tx')\n",
    "plt.legend();"
   ]
  },
  {
   "cell_type": "code",
   "execution_count": null,
   "metadata": {},
   "outputs": [],
   "source": [
    "def iqm(Ai, sig, Vπ, VbI, VbQ):\n",
    "\n",
    "    sigOut = mzm(Ai/np.sqrt(2), Vπ, sig.real, VbI) + 1j*mzm(Ai/np.sqrt(2), Vπ, sig.imag, VbQ)\n",
    "    \n",
    "    return sigOut"
   ]
  },
  {
   "cell_type": "markdown",
   "metadata": {},
   "source": [
    "## Exemplo: simulação com formatos QPSK, QAM"
   ]
  },
  {
   "cell_type": "code",
   "execution_count": null,
   "metadata": {
    "lines_to_next_cell": 0,
    "scrolled": false
   },
   "outputs": [],
   "source": [
    "plotEyeDiagrams = False\n",
    "plotPSD         = False\n",
    "\n",
    "# parâmetros da simulação\n",
    "M      = 16\n",
    "SpS    = 16            # número de amostras por símbolo\n",
    "Rs     = 32e9          # Taxa de símbolos \n",
    "Ts     = 1/Rs          # Período de símbolo em segundos\n",
    "Fa     = 1/(Ts/SpS)    # Frequência de amostragem do sinal (amostras/segundo)\n",
    "Ta     = 1/Fa          # Período de amostragem\n",
    "\n",
    "Pi_dBm = -10#+2.45  # potência de sinal óptico na entrada do modulador em dBm\n",
    "π = np.pi\n",
    "\n",
    "# parâmetros do IQM\n",
    "Vπ = 2\n",
    "Vb = -Vπ\n",
    "Pi = 10**(Pi_dBm/10)*1e-3 # potência de sinal óptico em W na entrada do MZM\n",
    "\n",
    "# parâmetros do canal óptico\n",
    "Ltotal = 5    # km\n",
    "alpha = 0.2   # dB/km\n",
    "D = 16        # ps/nm/km\n",
    "Fc = 193.1e12 # Hz\n",
    "\n",
    "# parâmetros do receptor\n",
    "B  = 32e9     # banda do receptor em Hz\n",
    "\n",
    "Plo_dBm  = 10    # potência do oscilador local\n",
    "Δf_lo    = 0     # desvio de frequência do oscilador local\n",
    "ϕ_lo     = 0     # fase do oscilador local\n",
    "lw       = 0*10e3\n",
    "\n",
    "Plo = 10**(Plo_dBm/10)*1e-3 # potência do oscilador local na entrada do receptor\n",
    "\n",
    "############# Simulação #############\n",
    "\n",
    "### Transmissor\n",
    "\n",
    "# generate random bits\n",
    "bitsTx   = np.random.randint(2, size=80000)    \n",
    "\n",
    "# map bits to constellation symbols\n",
    "mod = QAMModem(m=M)\n",
    "symbTx = mod.modulate(bitsTx)\n",
    "Es = mod.Es;\n",
    "\n",
    "# normalize symbols energy to 1\n",
    "symbTx = symbTx/np.sqrt(Es)\n",
    "\n",
    "# upsampling\n",
    "symbolsUp = upsample(symbTx, SpS)\n",
    "\n",
    "# pulso\n",
    "#pulse = pulseShape('nrz', SpS)\n",
    "pulse = pulseShape('rrc', SpS, N=2048, alpha=0.01, Ts=Ts)\n",
    "pulse = pulse/np.max(np.abs(pulse))\n",
    "\n",
    "# formatação de pulso\n",
    "sigTx  = firFilter(pulse, symbolsUp)\n",
    "\n",
    "# modulação óptica\n",
    "Ai      = np.sqrt(Pi)\n",
    "sigTxo_ = iqm(Ai, 0.5*sigTx, Vπ, Vb, Vb)\n",
    "    \n",
    "# adiciona ruído ASE ao sinal óptico\n",
    "σASE  = 1e-8\n",
    "ruido = normal(0, np.sqrt(Fa*(σASE/(2*B))), sigTxo_.size) + 1j*normal(0, np.sqrt(Fa*(σASE/(2*B))), sigTxo_.size)\n",
    "\n",
    "sigTxo = sigTxo_ + ruido\n",
    "\n",
    "# calculando a OSNR na simulação\n",
    "OSNR = signal_power(sigTxo_)/(signal_power(ruido)*(B/Fa))\n",
    "\n",
    "# plota psd\n",
    "if plotPSD:\n",
    "    plt.figure();\n",
    "    plt.ylim(-250,-50);\n",
    "    plt.psd(sigTxo, Fs=Fa, NFFT = 16*1024, sides='twosided', label = 'Espectro óptico do sinal + ruído')\n",
    "    plt.legend(loc='upper left');\n",
    "    plt.xlim(-4*Rs,4*Rs);\n",
    "\n",
    "### Canal óptico linear\n",
    "\n",
    "sigTxo = linFiberCh(sigTxo, Ltotal, alpha, D, Fc, Fa)\n",
    "#sigTxo = linFiberCh(sigTxo, Ltotal, -alpha, -D, Fc, Fa)\n",
    "\n",
    "### Recepcão coerente\n",
    "Pin = (np.abs(sigTxo)**2).mean() # Potência óptica média média recebida\n",
    "\n",
    "# oscilador local\n",
    "t      = np.arange(0, sigTxo.size)*Ta\n",
    "ϕ_pn_lo  = phaseNoise(lw, sigTxo.size, Ta)\n",
    "\n",
    "sigLO = np.sqrt(Plo)*np.exp(1j*(2*π*Δf_lo*t + ϕ_lo + ϕ_pn_lo))\n",
    "\n",
    "# receptor coerente\n",
    "sigRx = coherentReceiver(sigTxo, sigLO)\n",
    "#sigRx = sigRx/np.sqrt(signal_power(sigRx))\n",
    "\n",
    "# filtragem Rx\n",
    "N = 4001\n",
    "h = lowPassFIR(B, Fa, N, typeF='rect')\n",
    "sigRx = firFilter(pulse, sigRx)\n",
    "\n",
    "# plota psd\n",
    "if plotPSD:\n",
    "    plt.figure();\n",
    "    plt.ylim(-250,-50);\n",
    "    plt.psd(sigRx, Fs=Fa, NFFT = 16*1024, sides='twosided', label = 'Espectro do sinal recebido')\n",
    "    plt.legend(loc='upper left');\n",
    "    plt.xlim(-4*Rs,4*Rs);\n",
    "\n",
    "# calculando a OSNR na simulação\n",
    "#sigTxo_Rx   = firFilter(h, sigTxo_)\n",
    "sigTxo_DDRx = firFilter(h, sigTxo)\n",
    "ruido_Rx    = firFilter(h, ruido)\n",
    "\n",
    "Nsamples = 16000\n",
    "sigEye = sigRx.copy()\n",
    "\n",
    "#visualiza diagramas de olho\n",
    "if plotEyeDiagrams:\n",
    "    eyediagram(sigTx,  Nsamples, SpS, plotlabel = 'Tx')\n",
    "    eyediagram(sigEye, Nsamples, SpS, plotlabel = 'Coh-Rx')\n",
    "    eyediagram(np.abs(sigTxo_DDRx)**2, Nsamples, SpS, plotlabel = 'DD-Rx')\n",
    "\n",
    "# captura amostras no meio dos intervalos de sinalização\n",
    "sigRx = sigRx[0::SpS]\n",
    "\n",
    "discard = 2000\n",
    "ind = np.arange(discard, sigRx.size-discard)\n",
    "\n",
    "# normaliza constelação recebida\n",
    "sigRx = sigRx/np.sqrt(signal_power(sigRx[ind]))\n",
    "\n",
    "# compensa (possível) rotação de fase adicionada pelo canal\n",
    "rot = np.mean(symbTx[ind]/sigRx[ind])\n",
    "sigRx  = rot*sigRx\n",
    "\n",
    "# estima SNR da constelação recebida\n",
    "SNR = signal_power(symbTx[ind])/signal_power(sigRx[ind]-symbTx[ind])\n",
    "\n",
    "# Aplica a regra de decisão brusca        \n",
    "bitsRx = mod.demodulate(np.sqrt(Es)*sigRx, demod_type = 'hard') \n",
    "\n",
    "err = np.logical_xor(bitsRx[discard:bitsRx.size-discard], \n",
    "                     bitsTx[discard:bitsTx.size-discard])\n",
    "BER = np.mean(err)\n",
    "\n",
    "print('P_sig[opt] = %.2f dBm'%(10*np.log10(signal_power(sigTxo_)/1e-3)))\n",
    "print('P_ase[opt] = %.2f dBm'%(10*np.log10(signal_power(ruido_Rx)/1e-3)))\n",
    "print('OSNR[est] = %.2f dB \\n'%(10*np.log10(OSNR)))\n",
    "print('SNR[est] = %.2f dB \\n'%(10*np.log10(SNR)))\n",
    "print('Total de erros contados = %d  '%(err.sum()))\n",
    "print('BER = %.2e  '%(BER))\n",
    "\n",
    "plt.figure()\n",
    "plt.plot(err,'o', label = 'erros')\n",
    "plt.legend()\n",
    "plt.grid()"
   ]
  },
  {
   "cell_type": "code",
   "execution_count": null,
   "metadata": {},
   "outputs": [],
   "source": [
    "plt.figure(figsize=(4,4))\n",
    "plt.ylabel('$S_Q$', fontsize=14)\n",
    "plt.xlabel('$S_I$', fontsize=14)\n",
    "#plt.xlim(-1.1,1.1)\n",
    "#plt.ylim(-1.1,1.1)\n",
    "plt.grid()\n",
    "\n",
    "plt.plot(sigRx[ind].real,sigRx[ind].imag,'.', markersize=4, label='Rx')\n",
    "plt.plot(symbTx[ind].real,symbTx[ind].imag,'k.', markersize=4, label='Tx');"
   ]
  },
  {
   "cell_type": "markdown",
   "metadata": {},
   "source": [
    "## Sistemas WDM coerentes"
   ]
  },
  {
   "cell_type": "code",
   "execution_count": null,
   "metadata": {},
   "outputs": [],
   "source": [
    "def simpleWDMTx(param):\n",
    "    \n",
    "    # transmitter parameters\n",
    "    Ts  = 1/param.Rs        # symbol period [s]\n",
    "    Fa  = 1/(Ts/param.SpS)  # sampling frequency [samples/s]\n",
    "    Ta  = 1/Fa              # sampling period [s]\n",
    "    \n",
    "    # central frequencies of the WDM channels\n",
    "    freqGrid = np.arange(-np.floor(param.Nch/2), np.floor(param.Nch/2)+1,1)*param.freqSpac\n",
    "    \n",
    "    if (param.Nch % 2) == 0:\n",
    "        freqGrid += param.freqSpac/2\n",
    "        \n",
    "    # IQM parameters\n",
    "    Ai = 1\n",
    "    Vπ = 2\n",
    "    Vb = -Vπ\n",
    "    Pch = 10**(param.Pch_dBm/10)*1e-3   # optical signal power per WDM channel\n",
    "        \n",
    "    π = np.pi\n",
    "    \n",
    "    t = np.arange(0, int((param.Nbits)/np.log2(M)*param.SpS))\n",
    "    \n",
    "    # allocate array \n",
    "    sigTxWDM = np.zeros((t.size, param.Nmodes), dtype='complex')\n",
    "    \n",
    "    Psig = 0\n",
    "    \n",
    "    for indMode in range(0, param.Nmodes):        \n",
    "        print('Mode #%d'%(indMode))\n",
    "        \n",
    "        for indCh in range(0, param.Nch):\n",
    "            # generate random bits\n",
    "            bitsTx   = np.random.randint(2, size=param.Nbits)    \n",
    "\n",
    "            # map bits to constellation symbols\n",
    "            mod = QAMModem(m=param.M)\n",
    "            symbTx = mod.modulate(bitsTx)\n",
    "            Es = mod.Es\n",
    "\n",
    "            # normalize symbols energy to 1\n",
    "            symbTx = symbTx/np.sqrt(Es)\n",
    "\n",
    "            # upsampling\n",
    "            symbolsUp = upsample(symbTx, param.SpS)\n",
    "\n",
    "            # pulse shaping\n",
    "            if param.pulse == 'nrz':\n",
    "                pulse = pulseShape('nrz', param.SpS)\n",
    "            elif param.pulse == 'rrc':\n",
    "                pulse = pulseShape('rrc', param.SpS, N=param.Ntaps, alpha=param.alphaRRC, Ts=Ts)\n",
    "\n",
    "            pulse = pulse/np.max(np.abs(pulse))\n",
    "\n",
    "            # formatação de pulso\n",
    "            sigTx  = firFilter(pulse, symbolsUp)\n",
    "\n",
    "            # optical modulation\n",
    "            sigTxCh = iqm(Ai, 0.5*sigTx, Vπ, Vb, Vb)\n",
    "            sigTxCh = np.sqrt(Pch/param.Nmodes)*sigTxCh/np.sqrt(signal_power(sigTxCh))\n",
    "\n",
    "            print('channel %d power : %.2f dBm, fc : %3.4f THz' \n",
    "                  %(indCh+1, 10*np.log10(signal_power(sigTxCh)/1e-3), \n",
    "                    (param.Fc+freqGrid[indCh])/1e12))\n",
    "\n",
    "            sigTxWDM[:,indMode] = sigTxWDM[:,indMode] + sigTxCh*np.exp(1j*2*π*(freqGrid[indCh]/Fa)*t)\n",
    "            \n",
    "        Psig = Psig + signal_power(sigTxWDM[:,indMode])\n",
    "        \n",
    "    print('total WDM signal power: %.2f dBm'%(10*np.log10(Psig/1e-3)))\n",
    "    \n",
    "    return sigTxWDM"
   ]
  },
  {
   "cell_type": "code",
   "execution_count": null,
   "metadata": {},
   "outputs": [],
   "source": [
    "class parameters:\n",
    "    pass"
   ]
  },
  {
   "cell_type": "code",
   "execution_count": null,
   "metadata": {
    "lines_to_next_cell": 0
   },
   "outputs": [],
   "source": [
    "param = parameters()\n",
    "param.M   = 16           # ordem do formato de modulação\n",
    "param.Rs  = 32e9         # taxa de sinalização [baud]\n",
    "param.SpS = 16           # número de amostras por símbolo\n",
    "param.Nbits = 40000      # número de bits\n",
    "param.pulse = 'rrc'      # formato de pulso\n",
    "param.Ntaps = 4096       # número de coeficientes do filtro RRC\n",
    "param.alphaRRC = 0.01    # rolloff do filtro RRC\n",
    "param.Pch_dBm = -3       # potência média por canal WDM [dBm]\n",
    "param.Nch     = 7        # número de canais WDM\n",
    "param.Fc      = 193.1e12 # frequência central do espectro WDM\n",
    "param.freqSpac = 40e9    # espaçamento em frequência da grade de canais WDM\n",
    "param.Nmodes = 1         # número de modos de polarização\n",
    "\n",
    "sigWDM = simpleWDMTx(param)\n",
    "\n",
    "sigWDM = linFiberCh(sigWDM, Ltotal, alpha, D, Fc, Fa)"
   ]
  },
  {
   "cell_type": "code",
   "execution_count": null,
   "metadata": {},
   "outputs": [],
   "source": [
    "# plota psd\n",
    "plt.figure()\n",
    "plt.psd(sigWDM[:,0], Fs=SpS*Rs, NFFT = 4*1024, sides='twosided', label = 'WDM spectrum')\n",
    "plt.psd(sigWDM[:,1], Fs=SpS*Rs, NFFT = 4*1024, sides='twosided', label = 'WDM spectrum')\n",
    "plt.legend(loc='upper left');"
   ]
  }
 ],
 "metadata": {
  "jupytext": {
   "encoding": "# -*- coding: utf-8 -*-",
   "formats": "ipynb,py:light"
  },
  "kernelspec": {
   "display_name": "Python 3",
   "language": "python",
   "name": "python3"
  },
  "language_info": {
   "codemirror_mode": {
    "name": "ipython",
    "version": 3
   },
   "file_extension": ".py",
   "mimetype": "text/x-python",
   "name": "python",
   "nbconvert_exporter": "python",
   "pygments_lexer": "ipython3",
   "version": "3.7.4"
  },
  "toc": {
   "base_numbering": 1,
   "nav_menu": {},
   "number_sections": true,
   "sideBar": true,
   "skip_h1_title": true,
   "title_cell": "Table of Contents",
   "title_sidebar": "Contents",
   "toc_cell": true,
   "toc_position": {
    "height": "calc(100% - 180px)",
    "left": "10px",
    "top": "150px",
    "width": "261.719px"
   },
   "toc_section_display": true,
   "toc_window_display": false
  },
  "varInspector": {
   "cols": {
    "lenName": 16,
    "lenType": 16,
    "lenVar": 40
   },
   "kernels_config": {
    "python": {
     "delete_cmd_postfix": "",
     "delete_cmd_prefix": "del ",
     "library": "var_list.py",
     "varRefreshCmd": "print(var_dic_list())"
    },
    "r": {
     "delete_cmd_postfix": ") ",
     "delete_cmd_prefix": "rm(",
     "library": "var_list.r",
     "varRefreshCmd": "cat(var_dic_list()) "
    }
   },
   "types_to_exclude": [
    "module",
    "function",
    "builtin_function_or_method",
    "instance",
    "_Feature"
   ],
   "window_display": false
  }
 },
 "nbformat": 4,
 "nbformat_minor": 2
}
