{
 "cells": [
  {
   "cell_type": "code",
   "execution_count": 1,
   "metadata": {},
   "outputs": [],
   "source": [
    "import sympy as sp\n",
    "import numpy as np\n",
    "import matplotlib.pyplot as plt\n",
    "from sympy import cos, sin, exp"
   ]
  },
  {
   "cell_type": "markdown",
   "metadata": {},
   "source": [
    "# Geração de sinais ópticos\n",
    "\n",
    "Num sistema de comunicação digital óptica, a função do transmissor é converter uma dada sequência de bits num trem de pulsos elétricos que, por sua vez, será utilizado na modulação de uma portadora óptica (laser). A modulação de portadoras ópticas é realizada por meio de dispositivos de conversão eletro-óptica.\n",
    "\n",
    "Diversas técnicas de modulação podem ser implementadaas e diversos fatores podem influenciar o projeto de um transmissor óptico. "
   ]
  },
  {
   "cell_type": "markdown",
   "metadata": {},
   "source": [
    "## Formatos de modulação"
   ]
  },
  {
   "cell_type": "markdown",
   "metadata": {},
   "source": [
    "$\\mathbf{E}(t)=\\hat{\\mathbf{e}} A_{0} \\cos \\left(\\omega_{0} t-\\phi_{0}\\right)$"
   ]
  },
  {
   "cell_type": "code",
   "execution_count": 2,
   "metadata": {},
   "outputs": [
    {
     "data": {
      "text/latex": [
       "$\\displaystyle A_{0} \\cos{\\left(\\omega_{0} t - ϕ_{0} \\right)}$"
      ],
      "text/plain": [
       "A0*cos(omega0*t - ϕ0)"
      ]
     },
     "execution_count": 2,
     "metadata": {},
     "output_type": "execute_result"
    }
   ],
   "source": [
    "ϕ0, omega0, A0, t = sp.symbols('ϕ0, omega0, A0, t', real=True)\n",
    "\n",
    "j = sp.I\n",
    "\n",
    "E = A0*cos(omega0*t - ϕ0)\n",
    "E"
   ]
  },
  {
   "cell_type": "markdown",
   "metadata": {},
   "source": [
    "$\\mathbf{E}(t)=\\operatorname{Re}\\left[\\hat{\\mathbf{e}} A_{0} e^{j \\phi_{0}} \\exp \\left(-j \\omega_{0} t\\right)\\right]$"
   ]
  },
  {
   "cell_type": "code",
   "execution_count": 3,
   "metadata": {},
   "outputs": [
    {
     "data": {
      "text/latex": [
       "$\\displaystyle A_{0} \\cos{\\left(\\omega_{0} t - ϕ_{0} \\right)}$"
      ],
      "text/plain": [
       "A0*cos(omega0*t - ϕ0)"
      ]
     },
     "execution_count": 3,
     "metadata": {},
     "output_type": "execute_result"
    }
   ],
   "source": [
    "sp.re(A0*exp(j*ϕ0)*exp(-j*omega0*t)).simplify()"
   ]
  },
  {
   "cell_type": "code",
   "execution_count": 4,
   "metadata": {},
   "outputs": [
    {
     "data": {
      "text/latex": [
       "$\\displaystyle A_{0} \\sin{\\left(ϕ_{0} \\right)} \\sin{\\left(\\omega_{0} t \\right)} + A_{0} \\cos{\\left(ϕ_{0} \\right)} \\cos{\\left(\\omega_{0} t \\right)}$"
      ],
      "text/plain": [
       "A0*sin(ϕ0)*sin(omega0*t) + A0*cos(ϕ0)*cos(omega0*t)"
      ]
     },
     "execution_count": 4,
     "metadata": {},
     "output_type": "execute_result"
    }
   ],
   "source": [
    "sp.expand_trig(E).cancel()"
   ]
  },
  {
   "cell_type": "markdown",
   "metadata": {},
   "source": [
    "### Chaveamento por deslocamento de amplitude (*amplitude shift-keing* - ASK)"
   ]
  },
  {
   "cell_type": "markdown",
   "metadata": {},
   "source": [
    "$ E(t)=\\operatorname{Re}\\left[A_{0}(t) e^{j \\phi_{0}} \\exp \\left(-j \\omega_{0} t\\right)\\right]$"
   ]
  },
  {
   "cell_type": "markdown",
   "metadata": {},
   "source": [
    "$ A_{0}(t)=\\sqrt{P_{0}} \\sum_{n} b_{n} p\\left(t-n T_{b}\\right)$"
   ]
  },
  {
   "cell_type": "code",
   "execution_count": 5,
   "metadata": {},
   "outputs": [],
   "source": [
    "from commpy.modulation import Modem, QAMModem\n",
    "from commpy.utilities  import signal_power, upsample\n",
    "from commpy.filters    import rrcosfilter\n",
    "from scipy.signal import lfilter\n",
    "\n",
    "def filterNoDelay(h, x):\n",
    "    \"\"\"\n",
    "    h: impulse response (symmetric)\n",
    "    x: input signal \n",
    "    y: output signal\n",
    "    \"\"\"   \n",
    "    N = h.size\n",
    "    x = np.pad(x, (0, int(N/2)),'constant')\n",
    "    y = lfilter(h,1,x)\n",
    "    \n",
    "    return y[int(N/2):y.size]\n",
    "\n",
    "# def upsample(x, n):\n",
    "    \n",
    "#     x_up = np.zeros(x.size*n)   \n",
    "#     x_up[0::n] = x\n",
    "    \n",
    "#     return x_up"
   ]
  },
  {
   "cell_type": "code",
   "execution_count": 6,
   "metadata": {},
   "outputs": [
    {
     "data": {
      "image/png": "[encoded data removed]",
      "text/plain": [
       "<Figure size 432x288 with 1 Axes>"
      ]
     },
     "metadata": {
      "needs_background": "light"
     },
     "output_type": "display_data"
    }
   ],
   "source": [
    "# parâmetros da simulação\n",
    "SpS = 32\n",
    "\n",
    "Rs     = 10e9          # Taxa de símbolos\n",
    "Ts     = 1/Rs          # Período de símbolo em segundos\n",
    "Fa     = 1/(Ts/SpS)    # Frequência de amostragem do sinal (amostras/segundo)\n",
    "Ta     = 1/Fa          # Período de amostragem\n",
    "P0     = 1             # Potência\n",
    "    \n",
    "# gera sequência de bits pseudo-aleatórios\n",
    "bits   = np.random.randint(2, size=20)    \n",
    "n      = np.arange(0, bits.size)\n",
    "\n",
    "# mapeia bits para símbolos OOK\n",
    "symbTx = np.sqrt(P0)*bits\n",
    "\n",
    "plt.figure(1)\n",
    "plt.stem(symbTx, use_line_collection=True)\n",
    "plt.grid()"
   ]
  },
  {
   "cell_type": "code",
   "execution_count": 8,
   "metadata": {},
   "outputs": [
    {
     "name": "stderr",
     "output_type": "stream",
     "text": [
      "C:\\ProgramData\\Anaconda3\\lib\\site-packages\\numpy\\core\\numeric.py:538: ComplexWarning: Casting complex values to real discards the imaginary part\n",
      "  return array(a, dtype, copy=False, order=order)\n",
      "C:\\ProgramData\\Anaconda3\\lib\\site-packages\\numpy\\core\\numeric.py:538: ComplexWarning: Casting complex values to real discards the imaginary part\n",
      "  return array(a, dtype, copy=False, order=order)\n"
     ]
    },
    {
     "data": {
      "image/png": "[encoded data removed]",
      "text/plain": [
       "<Figure size 432x288 with 1 Axes>"
      ]
     },
     "metadata": {
      "needs_background": "light"
     },
     "output_type": "display_data"
    },
    {
     "data": {
      "image/png": "[encoded data removed]",
      "text/plain": [
       "<Figure size 432x288 with 1 Axes>"
      ]
     },
     "metadata": {
      "needs_background": "light"
     },
     "output_type": "display_data"
    }
   ],
   "source": [
    "# upsampling\n",
    "symbolsUp = upsample(symbTx, SpS)\n",
    "\n",
    "# pulso retangular\n",
    "pulse = np.ones(int(SpS/2))\n",
    "\n",
    "plt.figure(2)\n",
    "plt.plot(pulse,'-')\n",
    "plt.grid()\n",
    "\n",
    "# formatação de pulso\n",
    "sigTx  = filterNoDelay(pulse, symbolsUp)\n",
    "\n",
    "t = np.arange(0, sigTx.size)*Ta\n",
    "\n",
    "symbolsUp = upsample(2*bits-1, SpS)\n",
    "symbolsUp[symbolsUp==0] = np.nan\n",
    "symbolsUp = (symbolsUp + 1)/2\n",
    "\n",
    "plt.figure(3)\n",
    "plt.plot(t, sigTx,'-')\n",
    "plt.plot(t, symbolsUp,'o')\n",
    "plt.xlabel('tempo (s)')\n",
    "plt.xlabel('amplitude (s)')\n",
    "plt.grid()"
   ]
  },
  {
   "cell_type": "code",
   "execution_count": 12,
   "metadata": {},
   "outputs": [
    {
     "data": {
      "image/png": "[encoded data removed]",
      "text/plain": [
       "<Figure size 432x288 with 1 Axes>"
      ]
     },
     "metadata": {
      "needs_background": "light"
     },
     "output_type": "display_data"
    }
   ],
   "source": [
    "# gera sequência de bits pseudo-aleatórios\n",
    "bits   = np.random.randint(2, size=10000)    \n",
    "n      = np.arange(0, bits.size)\n",
    "\n",
    "# mapeia bits para símbolos OOK\n",
    "symbTx = np.sqrt(P0)*bits\n",
    "\n",
    "# upsampling\n",
    "symbolsUp = upsample(symbTx, SpS)\n",
    "\n",
    "# pulso retangular\n",
    "pulse = np.ones(int(SpS/2))\n",
    "\n",
    "# formatação de pulso\n",
    "sigTx  = filterNoDelay(pulse, symbolsUp)\n",
    "\n",
    "# plot spectrums\n",
    "plt.figure();\n",
    "plt.psd(sigTx,Fs=Fa, NFFT = 16*1024, sides='twosided', label = 'Tx spectrum')\n",
    "plt.legend(loc='upper left');\n",
    "plt.xlim(-8*Rs,8*Rs);"
   ]
  },
  {
   "cell_type": "code",
   "execution_count": null,
   "metadata": {},
   "outputs": [],
   "source": []
  }
 ],
 "metadata": {
  "jupytext": {
   "encoding": "# -*- coding: utf-8 -*-",
   "formats": "ipynb,py:light"
  },
  "kernelspec": {
   "display_name": "Python 3",
   "language": "python",
   "name": "python3"
  },
  "language_info": {
   "codemirror_mode": {
    "name": "ipython",
    "version": 3
   },
   "file_extension": ".py",
   "mimetype": "text/x-python",
   "name": "python",
   "nbconvert_exporter": "python",
   "pygments_lexer": "ipython3",
   "version": "3.7.4"
  },
  "varInspector": {
   "cols": {
    "lenName": 16,
    "lenType": 16,
    "lenVar": 40
   },
   "kernels_config": {
    "python": {
     "delete_cmd_postfix": "",
     "delete_cmd_prefix": "del ",
     "library": "var_list.py",
     "varRefreshCmd": "print(var_dic_list())"
    },
    "r": {
     "delete_cmd_postfix": ") ",
     "delete_cmd_prefix": "rm(",
     "library": "var_list.r",
     "varRefreshCmd": "cat(var_dic_list()) "
    }
   },
   "oldHeight": 614,
   "position": {
    "height": "40px",
    "left": "726px",
    "right": "20px",
    "top": "72px",
    "width": "475px"
   },
   "types_to_exclude": [
    "module",
    "function",
    "builtin_function_or_method",
    "instance",
    "_Feature"
   ],
   "varInspector_section_display": "none",
   "window_display": false
  }
 },
 "nbformat": 4,
 "nbformat_minor": 2
}
