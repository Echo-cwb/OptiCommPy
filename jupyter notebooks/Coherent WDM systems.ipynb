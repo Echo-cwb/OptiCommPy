{
 "cells": [
  {
   "cell_type": "code",
   "execution_count": 21,
   "metadata": {
    "ExecuteTime": {
     "end_time": "2021-10-11T17:06:05.778686Z",
     "start_time": "2021-10-11T17:06:05.695736Z"
    }
   },
   "outputs": [],
   "source": [
    "import matplotlib.pyplot as plt\n",
    "import numpy as np\n",
    "from numpy.random import normal\n",
    "from commpy.utilities  import signal_power, upsample\n",
    "from commpy.modulation import QAMModem\n",
    "from utils.dsp import firFilter, pulseShape, lowPassFIR, edc, fourthPowerFOE, dbp, cpr\n",
    "from utils.models import mzm, linFiberCh, iqm, ssfm, edfa, phaseNoise, coherentReceiver\n",
    "from utils.tx import simpleWDMTx\n",
    "\n",
    "from scipy import signal\n",
    "import scipy.constants as const"
   ]
  },
  {
   "cell_type": "code",
   "execution_count": 22,
   "metadata": {
    "ExecuteTime": {
     "end_time": "2021-10-11T17:06:05.810666Z",
     "start_time": "2021-10-11T17:06:05.781686Z"
    }
   },
   "outputs": [
    {
     "data": {
      "text/html": [
       "\n",
       "<style>\n",
       ".output_png {\n",
       "    display: table-cell;\n",
       "    text-align: center;\n",
       "    vertical-align: middle;\n",
       "}\n",
       "</style>\n"
      ],
      "text/plain": [
       "<IPython.core.display.HTML object>"
      ]
     },
     "execution_count": 22,
     "metadata": {},
     "output_type": "execute_result"
    }
   ],
   "source": [
    "from IPython.core.display import HTML\n",
    "from IPython.core.pylabtools import figsize\n",
    "from IPython.display import display, Math\n",
    "\n",
    "HTML(\"\"\"\n",
    "<style>\n",
    ".output_png {\n",
    "    display: table-cell;\n",
    "    text-align: center;\n",
    "    vertical-align: middle;\n",
    "}\n",
    "</style>\n",
    "\"\"\")"
   ]
  },
  {
   "cell_type": "code",
   "execution_count": 23,
   "metadata": {
    "ExecuteTime": {
     "end_time": "2021-10-11T17:06:05.902736Z",
     "start_time": "2021-10-11T17:06:05.814665Z"
    }
   },
   "outputs": [],
   "source": [
    "%matplotlib inline\n",
    "#figsize(7, 2.5)\n",
    "figsize(10, 3)"
   ]
  },
  {
   "cell_type": "markdown",
   "metadata": {},
   "source": [
    "# Simulation of coherent WDM systems"
   ]
  },
  {
   "cell_type": "markdown",
   "metadata": {
    "toc": true
   },
   "source": [
    "<h1>Table of Contents<span class=\"tocSkip\"></span></h1>\n",
    "<div class=\"toc\"><ul class=\"toc-item\"><li><span><a href=\"#Coherent-WDM-system\" data-toc-modified-id=\"Coherent-WDM-system-1\"><span class=\"toc-item-num\">1&nbsp;&nbsp;</span>Coherent WDM system</a></span><ul class=\"toc-item\"><li><span><a href=\"#Transmitter\" data-toc-modified-id=\"Transmitter-1.1\"><span class=\"toc-item-num\">1.1&nbsp;&nbsp;</span>Transmitter</a></span></li></ul></li></ul></div>"
   ]
  },
  {
   "cell_type": "markdown",
   "metadata": {},
   "source": [
    "## Coherent WDM system\n",
    "\n",
    "### Transmitter"
   ]
  },
  {
   "cell_type": "code",
   "execution_count": 24,
   "metadata": {
    "ExecuteTime": {
     "end_time": "2021-10-11T17:06:05.918725Z",
     "start_time": "2021-10-11T17:06:05.906732Z"
    }
   },
   "outputs": [],
   "source": [
    "# def simpleWDMTx(param):\n",
    "#     \"\"\"\n",
    "#     Simple WDM transmitter\n",
    "    \n",
    "#     Generates a complex baseband waveform representing a WDM signal with arbitrary number of carriers\n",
    "    \n",
    "#     :param.M: QAM order [default: 16]\n",
    "#     :param.Rs: carrier baud rate [baud][default: 32e9]\n",
    "#     :param.SpS: samples per symbol [default: 16]\n",
    "#     :param.Nbits: total number of bits per carrier [default: 60000]\n",
    "#     :param.pulse: pulse shape ['nrz', 'rrc'][default: 'rrc']\n",
    "#     :param.Ntaps: number of coefficients of the rrc filter [default: 4096]\n",
    "#     :param.alphaRRC: rolloff do rrc filter [default: 0.01]\n",
    "#     :param.Pch_dBm: launched power per WDM channel [dBm][default:-3 dBm]\n",
    "#     :param.Nch: number of WDM channels [default: 5]\n",
    "#     :param.Fc: central frequency of the WDM spectrum [Hz][default: 193.1e12 Hz]\n",
    "#     :param.freqSpac: frequency spacing of the WDM grid [Hz][default: 40e9 Hz]\n",
    "#     :param.Nmodes: number of polarization modes [default: 1]\n",
    "\n",
    "#     \"\"\"\n",
    "#     # check input parameters\n",
    "#     param.M     = getattr(param, 'M', 16)\n",
    "#     param.Rs    = getattr(param, 'Rs', 32e9)\n",
    "#     param.SpS   = getattr(param, 'SpS', 16)\n",
    "#     param.Nbits = getattr(param, 'Nbits', 60000)\n",
    "#     param.pulse = getattr(param, 'pulse', 'rrc')\n",
    "#     param.Ntaps    = getattr(param, 'Ntaps', 4096)\n",
    "#     param.alphaRRC = getattr(param, 'alphaRRC', 0.01)\n",
    "#     param.Pch_dBm  = getattr(param, 'Pch_dBm', -3)\n",
    "#     param.Nch      = getattr(param, 'Nch', 5)\n",
    "#     param.Fc       = getattr(param, 'Fc', 193.1e12)\n",
    "#     param.freqSpac = getattr(param, 'freqSpac', 50e9)\n",
    "#     param.Nmodes   = getattr(param, 'Nmodes', 1)\n",
    "    \n",
    "#     # transmitter parameters\n",
    "#     Ts  = 1/param.Rs        # symbol period [s]\n",
    "#     Fa  = 1/(Ts/param.SpS)  # sampling frequency [samples/s]\n",
    "#     Ta  = 1/Fa              # sampling period [s]\n",
    "    \n",
    "#     # central frequencies of the WDM channels\n",
    "#     freqGrid = np.arange(-np.floor(param.Nch/2), np.floor(param.Nch/2)+1,1)*param.freqSpac\n",
    "    \n",
    "#     if (param.Nch % 2) == 0:\n",
    "#         freqGrid += param.freqSpac/2\n",
    "        \n",
    "#     # IQM parameters\n",
    "#     Ai = 1\n",
    "#     Vπ = 2\n",
    "#     Vb = -Vπ\n",
    "#     Pch = 10**(param.Pch_dBm/10)*1e-3   # optical signal power per WDM channel\n",
    "        \n",
    "#     π = np.pi\n",
    "#     # time array\n",
    "#     t = np.arange(0, int(((param.Nbits)/np.log2(param.M))*param.SpS))\n",
    "    \n",
    "#     # allocate array \n",
    "#     sigTxWDM  = np.zeros((len(t), param.Nmodes), dtype='complex')\n",
    "#     symbTxWDM = np.zeros((int(len(t)/param.SpS), param.Nmodes, param.Nch), dtype='complex')\n",
    "    \n",
    "#     Psig = 0\n",
    "    \n",
    "#     for indMode in range(0, param.Nmodes):        \n",
    "#         print('Mode #%d'%(indMode))\n",
    "        \n",
    "#         for indCh in range(0, param.Nch):\n",
    "#             # generate random bits\n",
    "#             bitsTx   = np.random.randint(2, size=param.Nbits)    \n",
    "\n",
    "#             # map bits to constellation symbols\n",
    "#             mod = QAMModem(m=param.M)\n",
    "#             symbTx = mod.modulate(bitsTx)\n",
    "#             Es = mod.Es\n",
    "\n",
    "#             # normalize symbols energy to 1\n",
    "#             symbTx = symbTx/np.sqrt(Es)\n",
    "            \n",
    "#             symbTxWDM[:,indMode,indCh] = symbTx\n",
    "            \n",
    "#             # upsampling\n",
    "#             symbolsUp = upsample(symbTx, param.SpS)\n",
    "\n",
    "#             # pulse shaping\n",
    "#             if param.pulse == 'nrz':\n",
    "#                 pulse = pulseShape('nrz', param.SpS)\n",
    "#             elif param.pulse == 'rrc':\n",
    "#                 pulse = pulseShape('rrc', param.SpS, N=param.Ntaps, alpha=param.alphaRRC, Ts=Ts)\n",
    "\n",
    "#             pulse = pulse/np.max(np.abs(pulse))\n",
    "#             sigTx = firFilter(pulse, symbolsUp)\n",
    "\n",
    "#             # optical modulation\n",
    "#             sigTxCh = iqm(Ai, 0.5*sigTx, Vπ, Vb, Vb)\n",
    "#             sigTxCh = np.sqrt(Pch/param.Nmodes)*sigTxCh/np.sqrt(signal_power(sigTxCh))\n",
    "            \n",
    "#             print('channel %d power : %.2f dBm, fc : %3.4f THz' \n",
    "#                   %(indCh+1, 10*np.log10(signal_power(sigTxCh)/1e-3), \n",
    "#                     (param.Fc+freqGrid[indCh])/1e12))\n",
    "\n",
    "#             sigTxWDM[:,indMode] += sigTxCh*np.exp(1j*2*π*(freqGrid[indCh]/Fa)*t)\n",
    "            \n",
    "#         Psig += signal_power(sigTxWDM[:,indMode])\n",
    "        \n",
    "#     print('total WDM signal power: %.2f dBm'%(10*np.log10(Psig/1e-3)))\n",
    "    \n",
    "#     param.freqGrid = freqGrid\n",
    "    \n",
    "#     return sigTxWDM, symbTxWDM, param"
   ]
  },
  {
   "cell_type": "code",
   "execution_count": 25,
   "metadata": {
    "ExecuteTime": {
     "end_time": "2021-10-11T17:06:05.934715Z",
     "start_time": "2021-10-11T17:06:05.921725Z"
    }
   },
   "outputs": [],
   "source": [
    "#def setDefaultsParams(param, func):\n",
    "    \n",
    " #   if func == 'SimpleWDMTx':\n",
    "        \n",
    "        # default parameters\n",
    "#        param.M   = getattr(param, 'M', 16)           # ordem do formato de modulação\n",
    "#        Rs  = 32e9         # taxa de sinalização [baud]\n",
    "#        SpS = 16           # número de amostras por símbolo\n",
    "#        Nbits = 60000      # número de bits\n",
    "#        pulse = 'rrc'      # formato de pulso\n",
    "#        Ntaps = 4096       # número de coeficientes do filtro RRC\n",
    "#        alphaRRC = 0.01    # rolloff do filtro RRC\n",
    "#        Pch_dBm = -1       # potência média por canal WDM [dBm]\n",
    "#        Nch     = 9        # número de canais WDM\n",
    "#        Fc      = 193.1e12 # frequência central do espectro WDM\n",
    "#        freqSpac = 40e9    # espaçamento em frequência da grade de canais WDM\n",
    "#        Nmodes = 1         # número de modos de polarização\n",
    "        \n",
    "#        try:\n",
    "#            param.M\n",
    "#        except AttributeError:\n",
    "#            otherStuff()\n",
    "    "
   ]
  },
  {
   "cell_type": "code",
   "execution_count": 26,
   "metadata": {
    "ExecuteTime": {
     "end_time": "2021-10-11T17:06:05.966696Z",
     "start_time": "2021-10-11T17:06:05.937716Z"
    }
   },
   "outputs": [],
   "source": [
    "class parameters:\n",
    "    \"\"\"\n",
    "    Basic class to be used as a struct of parameters\n",
    "    \"\"\"\n",
    "    pass"
   ]
  },
  {
   "cell_type": "code",
   "execution_count": 27,
   "metadata": {
    "ExecuteTime": {
     "end_time": "2021-10-11T17:06:05.998675Z",
     "start_time": "2021-10-11T17:06:05.968693Z"
    }
   },
   "outputs": [
    {
     "name": "stdout",
     "output_type": "stream",
     "text": [
      "Help on function ssfm in module utils.models:\n",
      "\n",
      "ssfm(Ei, Fs, Ltotal, Lspan, hz=0.5, alpha=0.2, gamma=1.3, D=16, Fc=193100000000000.0, amp='edfa', NF=4.5)\n",
      "    Split-step Fourier method (symmetric, single-pol.)\n",
      "    \n",
      "    :param Ei: input signal\n",
      "    :param Ltotal: total fiber length [km]\n",
      "    :param Lspan: span length [km]\n",
      "    :param hz: step-size for the split-step Fourier method [km][default: 0.5 km]\n",
      "    :param alpha: fiber attenuation parameter [dB/km][default: 0.2 dB/km]\n",
      "    :param D: chromatic dispersion parameter [ps/nm/km][default: 16 ps/nm/km]\n",
      "    :param gamma: fiber nonlinear parameter [1/W/km][default: 1.3 1/W/km]\n",
      "    :param amp: 'edfa', 'ideal', or 'None. [default:'edfa']\n",
      "    :param NF: edfa noise figure [dB] [default: 4.5 dB]\n",
      "    :param Fc: carrier frequency [Hz] [default: 193.1e12 Hz]\n",
      "    :param Fs: sampling frequency [Hz]\n",
      "    \n",
      "    :return Ech: propagated signal\n",
      "\n"
     ]
    }
   ],
   "source": [
    "help(ssfm)"
   ]
  },
  {
   "cell_type": "markdown",
   "metadata": {},
   "source": [
    "**WDM signal generation**"
   ]
  },
  {
   "cell_type": "code",
   "execution_count": 28,
   "metadata": {
    "ExecuteTime": {
     "end_time": "2021-10-11T17:06:17.954049Z",
     "start_time": "2021-10-11T17:06:06.003673Z"
    },
    "lines_to_next_cell": 0
   },
   "outputs": [
    {
     "name": "stdout",
     "output_type": "stream",
     "text": [
      "Mode #0\n",
      "channel 1 power : -0.00 dBm, fc : 193.0000 THz\n",
      "channel 2 power : 0.00 dBm, fc : 193.0500 THz\n",
      "channel 3 power : -0.00 dBm, fc : 193.1000 THz\n",
      "channel 4 power : 0.00 dBm, fc : 193.1500 THz\n",
      "channel 5 power : -0.00 dBm, fc : 193.2000 THz\n",
      "total WDM signal power: 6.99 dBm\n"
     ]
    }
   ],
   "source": [
    "# Parâmetros do transmissor:\n",
    "param = parameters()\n",
    "#param.M   = 64           # ordem do formato de modulação\n",
    "#param.Rs  = 32e9         # taxa de sinalização [baud]\n",
    "#param.SpS = 16           # número de amostras por símbolo\n",
    "#param.Nbits = 60000      # número de bits\n",
    "#param.pulse = 'rrc'      # formato de pulso\n",
    "#param.Ntaps = 4096       # número de coeficientes do filtro RRC\n",
    "#param.alphaRRC = 0.01    # rolloff do filtro RRC\n",
    "param.Pch_dBm = 0         # potência média por canal WDM [dBm]\n",
    "#param.Nch     = 9        # número de canais WDM\n",
    "#param.Fc      = 193.1e12 # frequência central do espectro WDM\n",
    "#param.freqSpac = 40e9    # espaçamento em frequência da grade de canais WDM\n",
    "#param.Nmodes = 1         # número de modos de polarização\n",
    "\n",
    "sigWDM_Tx, symbTx_, param = simpleWDMTx(param)\n",
    "\n",
    "freqGrid = param.freqGrid"
   ]
  },
  {
   "cell_type": "markdown",
   "metadata": {},
   "source": [
    "**Nonlinear fiber propagation with the split-step Fourier method**"
   ]
  },
  {
   "cell_type": "code",
   "execution_count": null,
   "metadata": {
    "ExecuteTime": {
     "start_time": "2021-10-11T17:06:05.725Z"
    },
    "scrolled": false
   },
   "outputs": [
    {
     "data": {
      "application/vnd.jupyter.widget-view+json": {
       "model_id": "6a28b8f8c00a4aa18156777f3df1a3d4",
       "version_major": 2,
       "version_minor": 0
      },
      "text/plain": [
       "HBox(children=(IntProgress(value=0, max=10), HTML(value='')))"
      ]
     },
     "metadata": {},
     "output_type": "display_data"
    }
   ],
   "source": [
    "linearChannel = False\n",
    "\n",
    "# optical channel parameters\n",
    "Ltotal = 800   # km\n",
    "Lspan  = 80    # km\n",
    "alpha = 0.2    # dB/km\n",
    "D = 16         # ps/nm/km\n",
    "Fc = 193.1e12  # Hz\n",
    "hz = 0.5       # km\n",
    "gamma = 1.3    # 1/(W.km)\n",
    "\n",
    "if linearChannel:\n",
    "    hz = Lspan  # km\n",
    "    gamma = 0   # 1/(W.km)\n",
    "    \n",
    "sigWDM = ssfm(sigWDM_Tx, param.Rs*param.SpS, Ltotal, Lspan, hz, alpha, gamma, D, Fc, amp='edfa') "
   ]
  },
  {
   "cell_type": "markdown",
   "metadata": {},
   "source": [
    "**Optical WDM spectrum before and after transmission**"
   ]
  },
  {
   "cell_type": "code",
   "execution_count": null,
   "metadata": {
    "ExecuteTime": {
     "start_time": "2021-10-11T17:06:05.729Z"
    },
    "lines_to_next_cell": 2
   },
   "outputs": [],
   "source": [
    "# plot psd\n",
    "plt.figure()\n",
    "plt.xlim(Fc-param.SpS*param.Rs/2,Fc+param.SpS*param.Rs/2);\n",
    "plt.psd(sigWDM_Tx[:,0], Fs=param.SpS*param.Rs, Fc=Fc, NFFT = 4*1024, sides='twosided', label = 'WDM spectrum - Tx')\n",
    "plt.psd(sigWDM, Fs=param.SpS*param.Rs, Fc=Fc, NFFT = 4*1024, sides='twosided', label = 'WDM spectrum - Rx')\n",
    "plt.legend(loc='lower left')\n",
    "plt.title('optical WDM spectrum');"
   ]
  },
  {
   "cell_type": "markdown",
   "metadata": {},
   "source": [
    "**WDM channels coherent detection and demodulation**"
   ]
  },
  {
   "cell_type": "code",
   "execution_count": null,
   "metadata": {
    "ExecuteTime": {
     "start_time": "2021-10-11T17:06:05.733Z"
    }
   },
   "outputs": [],
   "source": [
    "### Receiver\n",
    "\n",
    "# parameters\n",
    "chIndex = 2    # index of the channel to be demodulated\n",
    "plotPSD = True\n",
    "\n",
    "Fa = param.SpS*param.Rs\n",
    "Ta = 1/Fa\n",
    "mod = QAMModem(m=param.M)\n",
    "\n",
    "print('Demodulating channel #%d , fc: %.4f THz, λ: %.4f nm\\n'\\\n",
    "      %(chIndex, (Fc + freqGrid[chIndex])/1e12, const.c/(Fc + freqGrid[chIndex])/1e-9))\n",
    "\n",
    "sigWDM = sigWDM.reshape(len(sigWDM),)\n",
    "symbTx = symbTx_[:,:,chIndex].reshape(len(symbTx_),)\n",
    "\n",
    "# local oscillator (LO) parameters:\n",
    "FO      = 64e6                 # frequency offset\n",
    "Δf_lo   = freqGrid[chIndex]+FO  # downshift of the channel to be demodulated\n",
    "lw      = 100e3                 # linewidth\n",
    "Plo_dBm = 10                    # power in dBm\n",
    "Plo     = 10**(Plo_dBm/10)*1e-3 # power in W\n",
    "ϕ_lo    = 0                     # initial phase in rad    \n",
    "\n",
    "print('Local oscillator P: %.2f dBm, lw: %.2f kHz, FO: %.2f MHz\\n'\\\n",
    "      %(Plo_dBm, lw/1e3, FO/1e6))\n",
    "\n",
    "# generate LO field\n",
    "π       = np.pi\n",
    "t       = np.arange(0, len(sigWDM))*Ta\n",
    "ϕ_pn_lo = phaseNoise(lw, len(sigWDM), Ta)\n",
    "sigLO   = np.sqrt(Plo)*np.exp(1j*(2*π*Δf_lo*t + ϕ_lo + ϕ_pn_lo))\n",
    "\n",
    "# single-polarization coherent optical receiver\n",
    "sigRx = coherentReceiver(sigWDM, sigLO)\n",
    "\n",
    "# Rx filtering\n",
    "\n",
    "# Matched filter\n",
    "if param.pulse == 'nrz':\n",
    "    pulse = pulseShape('nrz', param.SpS)\n",
    "elif param.pulse == 'rrc':\n",
    "    pulse = pulseShape('rrc', param.SpS, N=param.Ntaps, alpha=param.alphaRRC, Ts=1/param.Rs)\n",
    "\n",
    "pulse = pulse/np.max(np.abs(pulse))            \n",
    "sigRx = firFilter(pulse, sigRx)\n",
    "\n",
    "# plot psd\n",
    "if plotPSD:\n",
    "    plt.figure();\n",
    "   # plt.ylim(-250,-50);\n",
    "    plt.psd(sigRx, Fs=Fa, NFFT = 16*1024, sides='twosided', label = 'Spectrum of the received signal')\n",
    "    plt.legend(loc='upper left');\n",
    "    plt.xlim(-Fa/2,Fa/2);\n",
    "\n",
    "fig, (ax1, ax2, ax3, ax4) = plt.subplots(1, 4,figsize=(15,4.5))\n",
    "fig.suptitle('Sequence of DSP blocks')\n",
    "\n",
    "ax1.plot(sigRx.real, sigRx.imag,'.', markersize=4)\n",
    "ax1.axis('square')\n",
    "ax1.title.set_text('Output of coherent front-end')\n",
    "ax1.grid()\n",
    "\n",
    "# digital backpropagation\n",
    "# hzDBP = 5\n",
    "# Pin   = 10**(param.Pch_dBm/10)*1e-3\n",
    "# sigRx = sigRx/np.sqrt(signal_power(sigRx))\n",
    "# sigRx = dbp(np.sqrt(Pin)*sigRx, Fa, Ltotal, Lspan, hzDBP, alpha, gamma, D, Fc)\n",
    "# sigRx = sigRx.reshape(len(sigRx),)\n",
    "# sigRx = firFilter(pulse, sigRx)\n",
    "    \n",
    "# CD compensation\n",
    "sigRx = edc(sigRx, Ltotal, D, Fc-Δf_lo, Fa)\n",
    "\n",
    "# simple timing recovery\n",
    "varVector = np.var((sigRx.T).reshape(-1,param.SpS), axis=0) # finds best sampling instant\n",
    "sampDelay = np.where(varVector == np.amax(varVector))[0][0]\n",
    "\n",
    "# downsampling\n",
    "sigRx = sigRx[sampDelay::param.SpS]\n",
    "\n",
    "discard = 1000\n",
    "ind = np.arange(discard, sigRx.size-discard)\n",
    "\n",
    "# symbol normalization\n",
    "sigRx = sigRx/np.sqrt(signal_power(sigRx[ind]))\n",
    "\n",
    "# plot constellation after CD compensation\n",
    "ax2.plot(sigRx.real, sigRx.imag,'.', markersize=4)\n",
    "ax2.axis('square')\n",
    "ax2.title.set_text('After CD comp.')\n",
    "ax2.grid()\n",
    "\n",
    "# calculate time delay due to walkoff\n",
    "symbDelay = np.argmax(signal.correlate(np.abs(symbTx), np.abs(sigRx)))-sigRx.size+1 \n",
    "\n",
    "# compensate walkoff time delay\n",
    "sigRx = np.roll(sigRx, symbDelay)\n",
    "\n",
    "# symbol normalization\n",
    "sigRx = sigRx/np.sqrt(signal_power(sigRx[ind]))\n",
    "\n",
    "# estimate and compensate LO frequency offset\n",
    "fo = fourthPowerFOE(sigRx, 1/param.Rs)\n",
    "print('Estimated FO : %3.4f MHz'%(fo/1e6))\n",
    "\n",
    "sigRx = sigRx*np.exp(-1j*2*π*fo*np.arange(0,len(sigRx))/param.Rs)\n",
    "\n",
    "# plot constellation after LO frequency offset compensation\n",
    "ax3.plot(sigRx[ind].real, sigRx[ind].imag,'.', markersize=4)\n",
    "ax3.axis('square')\n",
    "ax3.title.set_text('After CFR (4th-power FOE)')\n",
    "ax3.grid()\n",
    "\n",
    "# compensate phase noise (carrier phase recovery - cpr)\n",
    "windowSize = 40\n",
    "c  = mod.constellation/np.sqrt(mod.Es)\n",
    "sigRx, ϕ, θ = cpr(sigRx, windowSize, c, symbTx)\n",
    "\n",
    "# plot phases estimated by cpr\n",
    "phaseOffSet = np.mean(np.roll(ϕ_pn_lo[::param.SpS], symbDelay)-θ)\n",
    "plt.figure()\n",
    "plt.plot(np.roll(ϕ_pn_lo[::param.SpS], symbDelay), label='phase of the LO');\n",
    "plt.plot(θ+phaseOffSet, label='phase estimated by CPR');\n",
    "plt.grid()\n",
    "plt.xlim(0,θ.size)\n",
    "plt.legend();\n",
    "\n",
    "# correct (possible) phase ambiguity\n",
    "rot = np.mean(symbTx[ind]/sigRx[ind])\n",
    "sigRx  = rot*sigRx\n",
    "\n",
    "# symbol normalization\n",
    "sigRx = sigRx/np.sqrt(signal_power(sigRx[ind]))\n",
    "\n",
    "# plot constellation after cpr\n",
    "ax4.plot(sigRx[ind].real, sigRx[ind].imag,'.', markersize=4)\n",
    "ax4.axis('square')\n",
    "ax4.title.set_text('After CPR (DD-PLL)')\n",
    "ax4.grid()\n",
    "\n",
    "# estimate SNR of the received constellation\n",
    "SNR = signal_power(symbTx[ind])/signal_power(sigRx[ind]-symbTx[ind])\n",
    "\n",
    "# hard decision demodulation of the received symbols    \n",
    "bitsRx = mod.demodulate(np.sqrt(mod.Es)*sigRx, demod_type = 'hard') \n",
    "bitsTx = mod.demodulate(np.sqrt(mod.Es)*symbTx, demod_type = 'hard') \n",
    "\n",
    "err = np.logical_xor(bitsRx[discard:bitsRx.size-discard], \n",
    "                     bitsTx[discard:bitsTx.size-discard])\n",
    "BER = np.mean(err)\n",
    "\n",
    "print('Estimated SNR = %.2f dB \\n'%(10*np.log10(SNR)))\n",
    "print('Total counted bits = %d  '%(err.size))\n",
    "print('Total of counted errors = %d  '%(err.sum()))\n",
    "print('BER = %.2e  '%(BER))\n",
    "\n",
    "plt.figure()\n",
    "plt.plot(err,'o', label = 'errors location')\n",
    "plt.legend()\n",
    "plt.grid()"
   ]
  },
  {
   "cell_type": "code",
   "execution_count": null,
   "metadata": {
    "ExecuteTime": {
     "start_time": "2021-10-11T17:06:05.736Z"
    }
   },
   "outputs": [],
   "source": [
    "plt.figure(figsize=(5,5))\n",
    "plt.ylabel('$S_Q$', fontsize=14)\n",
    "plt.xlabel('$S_I$', fontsize=14)\n",
    "#plt.xlim(-1.1,1.1)\n",
    "#plt.ylim(-1.1,1.1)\n",
    "plt.grid()\n",
    "\n",
    "plt.plot(sigRx[ind].real,sigRx[ind].imag,'.', markersize=4, label='Rx')\n",
    "plt.plot(symbTx[ind].real,symbTx[ind].imag,'k.', markersize=4, label='Tx');"
   ]
  },
  {
   "cell_type": "code",
   "execution_count": null,
   "metadata": {
    "ExecuteTime": {
     "start_time": "2021-10-11T17:06:05.739Z"
    }
   },
   "outputs": [],
   "source": [
    "from scipy.stats.kde import gaussian_kde\n",
    "\n",
    "y = (sigRx[ind]).real\n",
    "x = (sigRx[ind]).imag\n",
    "\n",
    "k = gaussian_kde(np.vstack([x, y]))\n",
    "k.set_bandwidth(bw_method=k.factor/4)\n",
    "\n",
    "xi, yi = 1.1*np.mgrid[x.min():x.max():x.size**0.5*1j,y.min():y.max():y.size**0.5*1j]\n",
    "zi = k(np.vstack([xi.flatten(), yi.flatten()]))\n",
    "plt.figure(figsize=(5,5))\n",
    "plt.pcolormesh(xi, yi, zi.reshape(xi.shape), alpha=1, shading='auto');"
   ]
  },
  {
   "cell_type": "code",
   "execution_count": null,
   "metadata": {
    "ExecuteTime": {
     "start_time": "2021-10-11T17:06:05.741Z"
    }
   },
   "outputs": [],
   "source": [
    "def powerProfile(Pin, alpha, Lspan, Nspans):\n",
    "    \n",
    "    L = np.linspace(0, Nspans*Lspan, 2000)\n",
    "    \n",
    "    power = Pin-alpha*(L%Lspan)\n",
    "    \n",
    "    plt.plot(L, power,'')\n",
    "    plt.xlabel('L [km]')\n",
    "    plt.ylabel('power [dBm]')\n",
    "    plt.title('Power profile')\n",
    "    plt.grid()\n",
    "    plt.xlim(min(L), max(L))"
   ]
  },
  {
   "cell_type": "code",
   "execution_count": null,
   "metadata": {
    "ExecuteTime": {
     "start_time": "2021-10-11T17:06:05.744Z"
    }
   },
   "outputs": [],
   "source": [
    "powerProfile(10, 0.2, 80, 10)"
   ]
  }
 ],
 "metadata": {
  "jupytext": {
   "encoding": "# -*- coding: utf-8 -*-",
   "formats": "ipynb,py:light"
  },
  "kernelspec": {
   "display_name": "Python 3",
   "language": "python",
   "name": "python3"
  },
  "language_info": {
   "codemirror_mode": {
    "name": "ipython",
    "version": 3
   },
   "file_extension": ".py",
   "mimetype": "text/x-python",
   "name": "python",
   "nbconvert_exporter": "python",
   "pygments_lexer": "ipython3",
   "version": "3.7.4"
  },
  "toc": {
   "base_numbering": 1,
   "nav_menu": {},
   "number_sections": true,
   "sideBar": true,
   "skip_h1_title": true,
   "title_cell": "Table of Contents",
   "title_sidebar": "Contents",
   "toc_cell": true,
   "toc_position": {
    "height": "calc(100% - 180px)",
    "left": "10px",
    "top": "150px",
    "width": "261.719px"
   },
   "toc_section_display": true,
   "toc_window_display": false
  },
  "varInspector": {
   "cols": {
    "lenName": 16,
    "lenType": 16,
    "lenVar": 40
   },
   "kernels_config": {
    "python": {
     "delete_cmd_postfix": "",
     "delete_cmd_prefix": "del ",
     "library": "var_list.py",
     "varRefreshCmd": "print(var_dic_list())"
    },
    "r": {
     "delete_cmd_postfix": ") ",
     "delete_cmd_prefix": "rm(",
     "library": "var_list.r",
     "varRefreshCmd": "cat(var_dic_list()) "
    }
   },
   "position": {
    "height": "144.4px",
    "left": "1163px",
    "right": "20px",
    "top": "121px",
    "width": "350px"
   },
   "types_to_exclude": [
    "module",
    "function",
    "builtin_function_or_method",
    "instance",
    "_Feature"
   ],
   "window_display": false
  }
 },
 "nbformat": 4,
 "nbformat_minor": 2
}
