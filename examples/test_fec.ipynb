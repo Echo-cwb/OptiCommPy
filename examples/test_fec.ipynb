{
  "cells": [
    {
      "cell_type": "markdown",
      "metadata": {
        "id": "view-in-github",
        "colab_type": "text"
      },
      "source": [
        "<a href=\"https://colab.research.google.com/github/edsonportosilva/OptiCommPy/blob/main/examples/test_fec.ipynb\" target=\"_parent\"><img src=\"https://colab.research.google.com/assets/colab-badge.svg\" alt=\"Open In Colab\"/></a>"
      ]
    },
    {
      "cell_type": "markdown",
      "id": "a296f085",
      "metadata": {
        "id": "a296f085"
      },
      "source": [
        "<a href=\"https://colab.research.google.com/github/edsonportosilva/OptiCommPy/blob/main/examples/test_fec.ipynb\" target=\"_parent\"><img src=\"https://colab.research.google.com/assets/colab-badge.svg\" alt=\"Open In Colab\"/></a>"
      ]
    },
    {
      "cell_type": "code",
      "execution_count": 1,
      "id": "69ba8840",
      "metadata": {
        "id": "69ba8840",
        "outputId": "2d06c320-c58d-4a73-f4fe-43fdab6da3a1",
        "colab": {
          "base_uri": "https://localhost:8080/"
        }
      },
      "outputs": [
        {
          "output_type": "stream",
          "name": "stdout",
          "text": [
            "Cloning into 'OptiCommPy'...\n",
            "remote: Enumerating objects: 3051, done.\u001b[K\n",
            "remote: Counting objects: 100% (1282/1282), done.\u001b[K\n",
            "remote: Compressing objects: 100% (556/556), done.\u001b[K\n",
            "remote: Total 3051 (delta 842), reused 1157 (delta 725), pack-reused 1769\u001b[K\n",
            "Receiving objects: 100% (3051/3051), 66.54 MiB | 28.86 MiB/s, done.\n",
            "Resolving deltas: 100% (2107/2107), done.\n",
            "Looking in indexes: https://pypi.org/simple, https://us-python.pkg.dev/colab-wheels/public/simple/\n",
            "Processing /content/OptiCommPy\n",
            "\u001b[33m  DEPRECATION: A future pip version will change local packages to be built in-place without first copying to a temporary directory. We recommend you use --use-feature=in-tree-build to test your packages with this new behavior before it becomes the default.\n",
            "   pip 21.3 will remove support for this functionality. You can find discussion regarding this at https://github.com/pypa/pip/issues/7555.\u001b[0m\n",
            "Requirement already satisfied: numpy in /usr/local/lib/python3.7/dist-packages (from OpticCommpy==0.1.0) (1.21.6)\n",
            "Requirement already satisfied: scipy in /usr/local/lib/python3.7/dist-packages (from OpticCommpy==0.1.0) (1.7.3)\n",
            "Requirement already satisfied: matplotlib in /usr/local/lib/python3.7/dist-packages (from OpticCommpy==0.1.0) (3.2.2)\n",
            "Requirement already satisfied: sympy in /usr/local/lib/python3.7/dist-packages (from OpticCommpy==0.1.0) (1.7.1)\n",
            "Requirement already satisfied: tqdm in /usr/local/lib/python3.7/dist-packages (from OpticCommpy==0.1.0) (4.64.1)\n",
            "Requirement already satisfied: numba in /usr/local/lib/python3.7/dist-packages (from OpticCommpy==0.1.0) (0.56.4)\n",
            "Collecting scikit-commpy\n",
            "  Downloading scikit-commpy-0.8.0.tar.gz (102 kB)\n",
            "\u001b[K     |████████████████████████████████| 102 kB 30.3 MB/s \n",
            "\u001b[?25hRequirement already satisfied: python-dateutil>=2.1 in /usr/local/lib/python3.7/dist-packages (from matplotlib->OpticCommpy==0.1.0) (2.8.2)\n",
            "Requirement already satisfied: cycler>=0.10 in /usr/local/lib/python3.7/dist-packages (from matplotlib->OpticCommpy==0.1.0) (0.11.0)\n",
            "Requirement already satisfied: kiwisolver>=1.0.1 in /usr/local/lib/python3.7/dist-packages (from matplotlib->OpticCommpy==0.1.0) (1.4.4)\n",
            "Requirement already satisfied: pyparsing!=2.0.4,!=2.1.2,!=2.1.6,>=2.0.1 in /usr/local/lib/python3.7/dist-packages (from matplotlib->OpticCommpy==0.1.0) (3.0.9)\n",
            "Requirement already satisfied: typing-extensions in /usr/local/lib/python3.7/dist-packages (from kiwisolver>=1.0.1->matplotlib->OpticCommpy==0.1.0) (4.1.1)\n",
            "Requirement already satisfied: six>=1.5 in /usr/local/lib/python3.7/dist-packages (from python-dateutil>=2.1->matplotlib->OpticCommpy==0.1.0) (1.15.0)\n",
            "Requirement already satisfied: llvmlite<0.40,>=0.39.0dev0 in /usr/local/lib/python3.7/dist-packages (from numba->OpticCommpy==0.1.0) (0.39.1)\n",
            "Requirement already satisfied: setuptools in /usr/local/lib/python3.7/dist-packages (from numba->OpticCommpy==0.1.0) (57.4.0)\n",
            "Requirement already satisfied: importlib-metadata in /usr/local/lib/python3.7/dist-packages (from numba->OpticCommpy==0.1.0) (4.13.0)\n",
            "Requirement already satisfied: zipp>=0.5 in /usr/local/lib/python3.7/dist-packages (from importlib-metadata->numba->OpticCommpy==0.1.0) (3.10.0)\n",
            "Requirement already satisfied: mpmath>=0.19 in /usr/local/lib/python3.7/dist-packages (from sympy->OpticCommpy==0.1.0) (1.2.1)\n",
            "Building wheels for collected packages: OpticCommpy, scikit-commpy\n",
            "  Building wheel for OpticCommpy (setup.py) ... \u001b[?25l\u001b[?25hdone\n",
            "  Created wheel for OpticCommpy: filename=OpticCommpy-0.1.0-py3-none-any.whl size=40287 sha256=456b09e20e2f25ddfce66eb6f4235737e8dde1b4b4fa06f6b64e409a30b694a6\n",
            "  Stored in directory: /tmp/pip-ephem-wheel-cache-ggxh2lr8/wheels/86/a6/e4/b590dcf328df4752195276814fd608a284f1ead675da00b64c\n",
            "  Building wheel for scikit-commpy (setup.py) ... \u001b[?25l\u001b[?25hdone\n",
            "  Created wheel for scikit-commpy: filename=scikit_commpy-0.8.0-py3-none-any.whl size=115023 sha256=8201e954d2e86b4053887f88fd7b2eab0037f6cf4edbc14fc80bece4f5b70079\n",
            "  Stored in directory: /root/.cache/pip/wheels/53/31/e7/5eb3325934a65c0e0c2ee1e718c2b1a3db6f0ea13a403a3e9e\n",
            "Successfully built OpticCommpy scikit-commpy\n",
            "Installing collected packages: scikit-commpy, OpticCommpy\n",
            "Successfully installed OpticCommpy-0.1.0 scikit-commpy-0.8.0\n"
          ]
        }
      ],
      "source": [
        "if 'google.colab' in str(get_ipython()):    \n",
        "    ! git clone -b main https://github.com/edsonportosilva/OptiCommPy\n",
        "    from os import chdir as cd\n",
        "    cd('/content/OptiCommPy/')\n",
        "    ! pip install . "
      ]
    },
    {
      "cell_type": "code",
      "execution_count": 2,
      "id": "b701cab7",
      "metadata": {
        "ExecuteTime": {
          "end_time": "2022-11-21T15:03:52.801994Z",
          "start_time": "2022-11-21T15:03:50.780022Z"
        },
        "id": "b701cab7"
      },
      "outputs": [],
      "source": [
        "from optic.modulation import modulateGray, demodulateGray, GrayMapping\n",
        "from optic.metrics import signal_power, calcLLR, fastBERcalc\n",
        "from optic.fec import ldpcEncode, ldpcDecode\n",
        "from optic.models import awgn\n",
        "import matplotlib.pyplot as plt\n",
        "import numpy as np\n",
        "import scipy as sp\n",
        "from scipy import io\n",
        "from tqdm.notebook import tqdm\n",
        "from numba import njit\n",
        "\n",
        "import os.path as path"
      ]
    },
    {
      "cell_type": "code",
      "execution_count": 3,
      "id": "83907e1c",
      "metadata": {
        "ExecuteTime": {
          "end_time": "2022-11-21T15:03:52.817948Z",
          "start_time": "2022-11-21T15:03:52.802959Z"
        },
        "id": "83907e1c"
      },
      "outputs": [],
      "source": [
        "from commpy.channelcoding import ldpc\n",
        "from commpy.channelcoding.ldpc import triang_ldpc_systematic_encode as encodeLDPC\n",
        "from commpy.channelcoding.ldpc import ldpc_bp_decode as decodeLDPC\n",
        "from commpy.channelcoding.interleavers import RandInterlv"
      ]
    },
    {
      "cell_type": "code",
      "execution_count": 4,
      "id": "f018dcc9",
      "metadata": {
        "ExecuteTime": {
          "end_time": "2022-11-21T15:03:53.129667Z",
          "start_time": "2022-11-21T15:03:52.818917Z"
        },
        "id": "f018dcc9"
      },
      "outputs": [],
      "source": [
        "%load_ext autoreload\n",
        "%autoreload 2"
      ]
    },
    {
      "cell_type": "markdown",
      "id": "d73a900d",
      "metadata": {
        "id": "d73a900d"
      },
      "source": [
        "## Create LDPCparam files"
      ]
    },
    {
      "cell_type": "code",
      "execution_count": 5,
      "id": "a5921eee",
      "metadata": {
        "ExecuteTime": {
          "end_time": "2022-11-21T15:03:53.600688Z",
          "start_time": "2022-11-21T15:03:53.384671Z"
        },
        "id": "a5921eee"
      },
      "outputs": [],
      "source": [
        "# pathdir = r'C:\\Users\\edson.DESKTOP-54IJM4F\\Desktop\\DVBS2'\n",
        "\n",
        "# d = sp.io.loadmat(pathdir+'\\LDPC_ARJA_1280b_R45.mat')\n",
        "# H = d['H']\n",
        "\n",
        "# # H = d['LDPC']['H'] # parity check matrix\n",
        "# # H = H[0][0][0][0][0]\n",
        "# H = sp.sparse.csr_matrix.todense(H).astype(np.int8)\n",
        "# H = np.asarray(H)\n",
        "\n",
        "# file_path = r'C:\\Users\\edson.DESKTOP-54IJM4F\\Documents\\GitHub\\OptiCommPy-private\\optic\\fecParams\\LDPC_ARJA_1280b_R45.txt'\n",
        "\n",
        "# ldpc.write_ldpc_params(H, file_path)"
      ]
    },
    {
      "cell_type": "code",
      "execution_count": 14,
      "id": "db4f38c2",
      "metadata": {
        "ExecuteTime": {
          "end_time": "2022-11-21T15:03:53.772842Z",
          "start_time": "2022-11-21T15:03:53.601684Z"
        },
        "id": "db4f38c2",
        "outputId": "77cf1802-82a4-4c81-f6e5-4465459eea4a",
        "colab": {
          "base_uri": "https://localhost:8080/",
          "height": 35
        }
      },
      "outputs": [
        {
          "output_type": "execute_result",
          "data": {
            "text/plain": [
              "'/content/OptiCommPy/optic/fecParams//LDPC_DVBS2_64800b_R56.txt'"
            ],
            "application/vnd.google.colaboratory.intrinsic+json": {
              "type": "string"
            }
          },
          "metadata": {},
          "execution_count": 14
        }
      ],
      "source": [
        "# select FEC parameters\n",
        "family = \"DVBS2\"\n",
        "R = 56\n",
        "n = 64800\n",
        "\n",
        "if 'google.colab' in str(get_ipython()):\n",
        "  mainDir  = path.abspath(path.join(\"../\"))\n",
        "  filename = '/LDPC_' + family + '_' + str(n) + 'b_R' + str(R) + '.txt'\n",
        "  filePath = mainDir + r'/OptiCommPy/optic/fecParams/' + filename\n",
        "else:\n",
        "  mainDir  = path.abspath(path.join(\"../\"))\n",
        "  filename = '\\LDPC_' + family + '_' + str(n) + 'b_R' + str(R) + '.txt'\n",
        "  filePath = mainDir + r'\\optic\\fecParams' + filename\n",
        "\n",
        "filePath"
      ]
    },
    {
      "cell_type": "code",
      "execution_count": 15,
      "id": "4327ead5",
      "metadata": {
        "ExecuteTime": {
          "end_time": "2022-11-21T15:04:23.517072Z",
          "start_time": "2022-11-21T15:03:54.024002Z"
        },
        "lines_to_next_cell": 0,
        "id": "4327ead5",
        "outputId": "2f3d32bc-c0ba-4fb1-aa01-6b4c88697cbf",
        "colab": {
          "base_uri": "https://localhost:8080/"
        }
      },
      "outputs": [
        {
          "output_type": "stream",
          "name": "stdout",
          "text": [
            "BER = 2.67e-02\n",
            "BERpostFEC = 0.00e+00\n",
            "Number of bits =  648000\n"
          ]
        }
      ],
      "source": [
        "# Run AWGN simulation \n",
        "EbN0dB = 10\n",
        "M      = 64\n",
        "Nwords = 10\n",
        "nIter  = 10\n",
        "\n",
        "# FEC parameters\n",
        "LDPCparams = ldpc.get_ldpc_code_params(filePath)\n",
        "K = LDPCparams['n_vnodes'] - LDPCparams['n_cnodes']\n",
        "\n",
        "LDPCparams['filename'] = filename\n",
        "\n",
        "# modulation parameters\n",
        "constSymb = GrayMapping(M,'qam')        # constellation\n",
        "bitMap = demodulateGray(constSymb, M, 'qam') # bit mapping\n",
        "bitMap = bitMap.reshape(-1, int(np.log2(M)))\n",
        "Es = signal_power(constSymb)                 # mean symbol energy\n",
        "\n",
        "# generate random bits\n",
        "bits = np.random.randint(2, size = (K, Nwords))\n",
        "\n",
        "# encode data bits with LDPC soft-FEC\n",
        "bitsTx, codedBitsTx, interlv = ldpcEncode(bits, LDPCparams)\n",
        "\n",
        "# Map bits to constellation symbols\n",
        "symbTx = modulateGray(bitsTx, M, 'qam')\n",
        "\n",
        "# Normalize symbols energy to 1\n",
        "symbTx = symbTx/np.sqrt(signal_power(symbTx))\n",
        "\n",
        "# AWGN    \n",
        "snrdB  = EbN0dB + 10*np.log10(np.log2(M))\n",
        "symbRx = awgn(symbTx, snrdB)\n",
        "\n",
        "# pre-FEC BER calculation (hard demodulation)\n",
        "BER, _, _ = fastBERcalc(symbRx, symbTx, M, 'qam')\n",
        "print('BER = %.2e'%BER[0])\n",
        "\n",
        "# soft-demodulation\n",
        "noiseVar = 1/10**(snrdB/10)\n",
        "llr = calcLLR(symbRx, noiseVar, constSymb/np.sqrt(Es), bitMap)\n",
        "\n",
        "# soft-FEC decoding\n",
        "decodedBits, llr_out = ldpcDecode(llr, interlv, LDPCparams, nIter, alg=\"SPA\")\n",
        "\n",
        "# post-FEC BER calculation\n",
        "BERpost = np.mean(np.logical_xor(bits, decodedBits[0:K,:]))\n",
        "\n",
        "print('BERpostFEC = %.2e'%BERpost)\n",
        "print('Number of bits = ', decodedBits.size)"
      ]
    },
    {
      "cell_type": "code",
      "execution_count": null,
      "id": "4db6bec7",
      "metadata": {
        "ExecuteTime": {
          "end_time": "2022-11-21T15:28:38.161075Z",
          "start_time": "2022-11-21T15:04:23.518101Z"
        },
        "id": "4db6bec7"
      },
      "outputs": [],
      "source": [
        "Nwords = 10\n",
        "nIter  = 50\n",
        "\n",
        "# FEC parameters\n",
        "LDPCparams = ldpc.get_ldpc_code_params(filePath)\n",
        "LDPCparams['filename'] = filename\n",
        "K = LDPCparams['n_vnodes'] - LDPCparams['n_cnodes']\n",
        "\n",
        "# Run BER vs Ebn0 Monte Carlo simulation \n",
        "qamOrder  = [64]  # Modulation order\n",
        "EbN0dB_  = np.arange(7, 9.5, 0.05)\n",
        "\n",
        "BERpre   = np.zeros((len(EbN0dB_),len(qamOrder)))\n",
        "BERpost  = np.zeros((len(EbN0dB_),len(qamOrder)))\n",
        "\n",
        "BERpre[:]  = np.nan\n",
        "BERpost[:] = np.nan\n",
        "\n",
        "for ii, M in enumerate(qamOrder):\n",
        "    print('run sim: M = ', M)\n",
        "\n",
        "    # modulation parameters\n",
        "    constSymb = GrayMapping(M,'qam')        # constellation\n",
        "    bitMap = demodulateGray(constSymb, M, 'qam') # bit mapping\n",
        "    bitMap = bitMap.reshape(-1, int(np.log2(M)))\n",
        "    Es = signal_power(constSymb) # mean symbol energy\n",
        "\n",
        "    for indSNR in tqdm(range(EbN0dB_.size)):\n",
        "\n",
        "        EbN0dB = EbN0dB_[indSNR]\n",
        "\n",
        "        # generate random bits\n",
        "        bits = np.random.randint(2, size = (K, Nwords))\n",
        "\n",
        "        # encode data bits with LDPC soft-FEC\n",
        "        bitsTx, codedBitsTx, interlv = ldpcEncode(bits, LDPCparams)\n",
        "\n",
        "        # Map bits to constellation symbols\n",
        "        symbTx = modulateGray(bitsTx, M, 'qam')\n",
        "\n",
        "        # Normalize symbols energy to 1\n",
        "        symbTx = symbTx/np.sqrt(signal_power(symbTx))\n",
        "\n",
        "        # AWGN    \n",
        "        snrdB = EbN0dB + 10*np.log10(np.log2(M))\n",
        "        symbRx = awgn(symbTx, snrdB)\n",
        "\n",
        "        # pre-FEC BER calculation (hard demodulation)\n",
        "        BERpre[indSNR, ii], _, _ = fastBERcalc(symbRx, symbTx, M, 'qam')\n",
        "        #print('BER = %.2e'%BERpre[indSNR, ii])\n",
        "\n",
        "        # soft-demodulation\n",
        "        noiseVar = 1/10**(snrdB/10)\n",
        "        llr = calcLLR(symbRx, noiseVar, constSymb/np.sqrt(Es), bitMap)\n",
        "\n",
        "        # soft-FEC decoding\n",
        "        decodedBits, llr_out = ldpcDecode(llr, interlv, LDPCparams, nIter, alg=\"SPA\")\n",
        "\n",
        "        # post-FEC BER calculation\n",
        "        BERpost[indSNR, ii] = np.mean(np.logical_xor(codedBitsTx, decodedBits))\n",
        "        #print('BERpostFEC = %.2e'%BERpost[indSNR, ii])"
      ]
    },
    {
      "cell_type": "code",
      "execution_count": null,
      "id": "c6c7b223",
      "metadata": {
        "ExecuteTime": {
          "end_time": "2022-11-21T15:28:38.755878Z",
          "start_time": "2022-11-21T15:28:38.163040Z"
        },
        "lines_to_next_cell": 0,
        "id": "c6c7b223"
      },
      "outputs": [],
      "source": [
        "# Plot simulation results       \n",
        "BERpre[BERpre==0] = np.nan\n",
        "BERpost[BERpost==0] = np.nan\n",
        "\n",
        "plt.figure(figsize=(10,6))\n",
        "for ii, M in enumerate(qamOrder):\n",
        "    plt.plot(\n",
        "        EbN0dB_,\n",
        "        np.log10(BERpre[:, ii]),\n",
        "        'o-',\n",
        "        label=f'{str(M)}QAM monte carlo [pre]',\n",
        "    )\n",
        "\n",
        "\n",
        "#plt.gca().set_prop_cycle(None)\n",
        "\n",
        "for ii, M in enumerate(qamOrder):\n",
        "    plt.plot(\n",
        "        EbN0dB_,\n",
        "        np.log10(BERpost[:, ii]),\n",
        "        'kx-',\n",
        "        label=f'{str(M)}QAM monte carlo [post]',\n",
        "    )\n",
        "\n",
        "\n",
        "plt.xlim(min(EbN0dB_), max(EbN0dB_))\n",
        "plt.ylim(-6, 0)\n",
        "plt.legend();\n",
        "plt.xlabel('EbN0 [dB]');\n",
        "plt.ylabel('log10(BER)');\n",
        "plt.grid()"
      ]
    }
  ],
  "metadata": {
    "jupytext": {
      "encoding": "# -*- coding: utf-8 -*-",
      "formats": "ipynb,py:light"
    },
    "kernelspec": {
      "display_name": "Python 3 (ipykernel)",
      "language": "python",
      "name": "python3"
    },
    "language_info": {
      "codemirror_mode": {
        "name": "ipython",
        "version": 3
      },
      "file_extension": ".py",
      "mimetype": "text/x-python",
      "name": "python",
      "nbconvert_exporter": "python",
      "pygments_lexer": "ipython3",
      "version": "3.9.7"
    },
    "toc": {
      "base_numbering": 1,
      "nav_menu": {},
      "number_sections": true,
      "sideBar": true,
      "skip_h1_title": true,
      "title_cell": "Table of Contents",
      "title_sidebar": "Contents",
      "toc_cell": true,
      "toc_position": {},
      "toc_section_display": true,
      "toc_window_display": false
    },
    "varInspector": {
      "cols": {
        "lenName": 16,
        "lenType": 16,
        "lenVar": 40
      },
      "kernels_config": {
        "python": {
          "delete_cmd_postfix": "",
          "delete_cmd_prefix": "del ",
          "library": "var_list.py",
          "varRefreshCmd": "print(var_dic_list())"
        },
        "r": {
          "delete_cmd_postfix": ") ",
          "delete_cmd_prefix": "rm(",
          "library": "var_list.r",
          "varRefreshCmd": "cat(var_dic_list()) "
        }
      },
      "types_to_exclude": [
        "module",
        "function",
        "builtin_function_or_method",
        "instance",
        "_Feature"
      ],
      "window_display": false
    },
    "colab": {
      "provenance": [],
      "include_colab_link": true
    }
  },
  "nbformat": 4,
  "nbformat_minor": 5
}