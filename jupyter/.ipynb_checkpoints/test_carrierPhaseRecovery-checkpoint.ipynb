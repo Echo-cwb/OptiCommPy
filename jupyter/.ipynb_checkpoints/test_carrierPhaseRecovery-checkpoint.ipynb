{
 "cells": [
  {
   "cell_type": "code",
   "execution_count": 32,
   "id": "fd438d33",
   "metadata": {
    "ExecuteTime": {
     "end_time": "2021-11-15T15:40:57.539422Z",
     "start_time": "2021-11-15T15:40:57.365530Z"
    }
   },
   "outputs": [],
   "source": [
    "# Uncomment and run the code below to run this notebook in Colab\n",
    "#\n",
    "# from os import chdir as cd\n",
    "# ! git clone https://github.com/edsonportosilva/OpticCommpy-public\n",
    "# cd('/content/OpticCommpy-public')\n",
    "# !pip install .\n",
    "# !pip install numba --upgrade"
   ]
  },
  {
   "cell_type": "code",
   "execution_count": 33,
   "id": "badd7840",
   "metadata": {
    "ExecuteTime": {
     "end_time": "2021-11-15T15:40:57.728310Z",
     "start_time": "2021-11-15T15:40:57.543421Z"
    }
   },
   "outputs": [],
   "source": [
    "import matplotlib.pyplot as plt\n",
    "import numpy as np\n",
    "\n",
    "from commpy.modulation import QAMModem\n",
    "\n",
    "from optic.dsp import pulseShape, firFilter, edc, decimate, symbolSync #, fourthPowerFOE, dbp, cpr\n",
    "from optic.models import phaseNoise, pdmCoherentReceiver#, manakovSSF\n",
    "from optic.carrierRecovery import cpr\n",
    "from optic.tx import simpleWDMTx\n",
    "from optic.core import parameters\n",
    "from optic.metrics import fastBERcalc, monteCarloGMI, monteCarloMI, signal_power\n",
    "\n",
    "import scipy.constants as const"
   ]
  },
  {
   "cell_type": "code",
   "execution_count": 34,
   "id": "412a031d",
   "metadata": {
    "ExecuteTime": {
     "end_time": "2021-11-15T15:40:57.902205Z",
     "start_time": "2021-11-15T15:40:57.731310Z"
    }
   },
   "outputs": [
    {
     "data": {
      "text/html": [
       "\n",
       "<style>\n",
       ".output_png {\n",
       "    display: table-cell;\n",
       "    text-align: center;\n",
       "    vertical-align: middle;\n",
       "}\n",
       "</style>\n"
      ],
      "text/plain": [
       "<IPython.core.display.HTML object>"
      ]
     },
     "execution_count": 34,
     "metadata": {},
     "output_type": "execute_result"
    }
   ],
   "source": [
    "from IPython.core.display import HTML\n",
    "from IPython.core.pylabtools import figsize\n",
    "\n",
    "HTML(\"\"\"\n",
    "<style>\n",
    ".output_png {\n",
    "    display: table-cell;\n",
    "    text-align: center;\n",
    "    vertical-align: middle;\n",
    "}\n",
    "</style>\n",
    "\"\"\")"
   ]
  },
  {
   "cell_type": "code",
   "execution_count": 35,
   "id": "d6922d5b",
   "metadata": {
    "ExecuteTime": {
     "end_time": "2021-11-15T15:40:58.075102Z",
     "start_time": "2021-11-15T15:40:57.906203Z"
    }
   },
   "outputs": [],
   "source": [
    "%matplotlib inline\n",
    "#figsize(7, 2.5)\n",
    "figsize(10, 3)"
   ]
  },
  {
   "cell_type": "code",
   "execution_count": 36,
   "id": "f812a6cd",
   "metadata": {
    "ExecuteTime": {
     "end_time": "2021-11-15T15:40:58.247999Z",
     "start_time": "2021-11-15T15:40:58.078101Z"
    }
   },
   "outputs": [
    {
     "name": "stdout",
     "output_type": "stream",
     "text": [
      "The autoreload extension is already loaded. To reload it, use:\n",
      "  %reload_ext autoreload\n"
     ]
    }
   ],
   "source": [
    "%load_ext autoreload\n",
    "%autoreload 2\n",
    "#%load_ext line_profiler"
   ]
  },
  {
   "cell_type": "markdown",
   "id": "331c772b",
   "metadata": {},
   "source": [
    "# Simulation of coherent transmission"
   ]
  },
  {
   "cell_type": "markdown",
   "id": "1fe27070",
   "metadata": {},
   "source": [
    "\n",
    "## Transmitter"
   ]
  },
  {
   "cell_type": "markdown",
   "id": "be9e9cc3",
   "metadata": {},
   "source": [
    "**Polarization multiplexed signal generation**"
   ]
  },
  {
   "cell_type": "code",
   "execution_count": 37,
   "id": "6000f4dd",
   "metadata": {
    "ExecuteTime": {
     "end_time": "2021-11-15T15:40:58.684735Z",
     "start_time": "2021-11-15T15:40:58.250998Z"
    },
    "lines_to_next_cell": 0
   },
   "outputs": [
    {
     "name": "stdout",
     "output_type": "stream",
     "text": [
      "channel 0\t fc : 193.1000 THz\n",
      "  mode #0\t power: -2.01 dBm\n",
      "  mode #1\t power: -2.01 dBm\n",
      "channel 0\t power: 1.00 dBm\n",
      "\n",
      "total WDM signal power: 1.00 dBm\n"
     ]
    }
   ],
   "source": [
    "# Transmitter parameters:\n",
    "paramTx = parameters()\n",
    "paramTx.M   = 16           # order of the modulation format\n",
    "paramTx.Rs  = 32e9         # symbol rate [baud]\n",
    "paramTx.SpS = 4            # samples per symbol\n",
    "paramTx.Nbits = 40000      # total number of bits per polarization\n",
    "paramTx.pulse = 'rrc'      # pulse shaping filter\n",
    "paramTx.Ntaps = 1024       # number of pulse shaping filter coefficients\n",
    "paramTx.alphaRRC = 0.01    # RRC rolloff\n",
    "paramTx.Pch_dBm = 1        # power per WDM channel [dBm]\n",
    "paramTx.Nch     = 1        # number of WDM channels\n",
    "paramTx.Fc      = 193.1e12 # central optical frequency of the WDM spectrum\n",
    "#paramTx.freqSpac = 37.5e9  # WDM grid spacing\n",
    "paramTx.Nmodes = 2         # number of signal modes [2 for polarization multiplexed signals]\n",
    "\n",
    "# generate WDM signal\n",
    "sigTx, symbTx_, paramTx = simpleWDMTx(paramTx)"
   ]
  },
  {
   "cell_type": "markdown",
   "id": "23033fd0",
   "metadata": {},
   "source": [
    "### WDM channels coherent detection and demodulation"
   ]
  },
  {
   "cell_type": "code",
   "execution_count": 38,
   "id": "1d593996",
   "metadata": {
    "ExecuteTime": {
     "end_time": "2021-11-15T15:40:59.251396Z",
     "start_time": "2021-11-15T15:40:58.686738Z"
    }
   },
   "outputs": [
    {
     "name": "stdout",
     "output_type": "stream",
     "text": [
      "Demodulating channel #0 , fc: 193.1000 THz, λ: 1552.5244 nm\n",
      "\n",
      "Local oscillator P: 10.00 dBm, lw: 100.00 kHz, FO: 0.00 MHz\n",
      "\n"
     ]
    },
    {
     "data": {
      "image/png": "[encoded data removed]",
      "text/plain": [
       "<Figure size 720x216 with 2 Axes>"
      ]
     },
     "metadata": {
      "needs_background": "light"
     },
     "output_type": "display_data"
    }
   ],
   "source": [
    "# Receiver\n",
    "\n",
    "# parameters\n",
    "chIndex  = 0     # index of the channel to be demodulated\n",
    "plotPSD  = True\n",
    "\n",
    "Fc = paramTx.Fc\n",
    "Ts = 1/(paramTx.SpS*paramTx.Rs)\n",
    "\n",
    "mod = QAMModem(m=paramTx.M)\n",
    "\n",
    "freqGrid = paramTx.freqGrid\n",
    "print('Demodulating channel #%d , fc: %.4f THz, λ: %.4f nm\\n'\\\n",
    "      %(chIndex, (Fc + freqGrid[chIndex])/1e12, const.c/(Fc + freqGrid[chIndex])/1e-9))\n",
    "\n",
    "symbTx = symbTx_[:,:,chIndex]\n",
    "\n",
    "# local oscillator (LO) parameters:\n",
    "FO      = 0*64e6                # frequency offset\n",
    "Δf_lo   = freqGrid[chIndex]+FO  # downshift of the channel to be demodulated\n",
    "lw      = 100e3                 # linewidth\n",
    "Plo_dBm = 10                    # power in dBm\n",
    "Plo     = 10**(Plo_dBm/10)*1e-3 # power in W\n",
    "ϕ_lo    = 0                     # initial phase in rad    \n",
    "\n",
    "print('Local oscillator P: %.2f dBm, lw: %.2f kHz, FO: %.2f MHz\\n'\\\n",
    "      %(Plo_dBm, lw/1e3, FO/1e6))\n",
    "\n",
    "# generate LO field\n",
    "π       = np.pi\n",
    "t       = np.arange(0, len(sigTx))*Ts\n",
    "ϕ_pn_lo = phaseNoise(lw, len(sigTx), Ts)\n",
    "sigLO   = np.sqrt(Plo)*np.exp(1j*(2*π*Δf_lo*t + ϕ_lo + ϕ_pn_lo))\n",
    "\n",
    "# polarization multiplexed coherent optical receiver\n",
    "sigRx = pdmCoherentReceiver(sigTx, sigLO, θsig = 0, Rdx=1, Rdy=1)\n",
    "\n",
    "fig, (ax1, ax2) = plt.subplots(1, 2)\n",
    "\n",
    "ax1.plot(sigRx[0::paramTx.SpS,0].real, sigRx[0::paramTx.SpS,0].imag,'.')\n",
    "ax1.axis('square');\n",
    "ax2.plot(sigRx[0::paramTx.SpS,1].real, sigRx[0::paramTx.SpS,1].imag,'.')\n",
    "ax2.axis('square');"
   ]
  },
  {
   "cell_type": "markdown",
   "id": "a3c8caaf",
   "metadata": {},
   "source": [
    "### Matched filtering"
   ]
  },
  {
   "cell_type": "code",
   "execution_count": 39,
   "id": "1131f997",
   "metadata": {
    "ExecuteTime": {
     "end_time": "2021-11-15T15:40:59.851036Z",
     "start_time": "2021-11-15T15:40:59.260390Z"
    }
   },
   "outputs": [
    {
     "data": {
      "image/png": "[encoded data removed]",
      "text/plain": [
       "<Figure size 720x216 with 2 Axes>"
      ]
     },
     "metadata": {
      "needs_background": "light"
     },
     "output_type": "display_data"
    }
   ],
   "source": [
    "# Rx filtering\n",
    "\n",
    "# Matched filtering\n",
    "if paramTx.pulse == 'nrz':\n",
    "    pulse = pulseShape('nrz', paramTx.SpS)\n",
    "elif paramTx.pulse == 'rrc':\n",
    "    pulse = pulseShape('rrc', paramTx.SpS, N=paramTx.Ntaps, alpha=paramTx.alphaRRC, Ts=1/paramTx.Rs)\n",
    "    \n",
    "pulse = pulse/np.max(np.abs(pulse))            \n",
    "sigRx = firFilter(pulse, sigRx)\n",
    "\n",
    "fig, (ax1, ax2) = plt.subplots(1, 2)\n",
    "ax1.plot(sigRx[0::paramTx.SpS,0].real, sigRx[0::paramTx.SpS,0].imag,'.')\n",
    "ax1.axis('square');\n",
    "ax2.plot(sigRx[0::paramTx.SpS,1].real, sigRx[0::paramTx.SpS,1].imag,'.')\n",
    "ax2.axis('square');"
   ]
  },
  {
   "cell_type": "markdown",
   "id": "f0dd7bf2",
   "metadata": {},
   "source": [
    "### Downsampling to 1 sample/symbol and re-synchronization with transmitted sequences"
   ]
  },
  {
   "cell_type": "code",
   "execution_count": 40,
   "id": "5775413b",
   "metadata": {
    "ExecuteTime": {
     "end_time": "2021-11-15T15:41:00.039921Z",
     "start_time": "2021-11-15T15:40:59.854033Z"
    }
   },
   "outputs": [],
   "source": [
    "# decimation\n",
    "paramDec = parameters()\n",
    "paramDec.SpS_in  = paramTx.SpS\n",
    "paramDec.SpS_out = 2\n",
    "sigRx = decimate(sigRx, paramDec)\n",
    "\n",
    "symbRx = symbolSync(sigRx, symbTx, 2)"
   ]
  },
  {
   "cell_type": "markdown",
   "id": "c800bd61",
   "metadata": {},
   "source": [
    "### Power normalization"
   ]
  },
  {
   "cell_type": "code",
   "execution_count": 41,
   "id": "ed28966a",
   "metadata": {
    "ExecuteTime": {
     "end_time": "2021-11-15T15:41:00.195859Z",
     "start_time": "2021-11-15T15:41:00.041920Z"
    }
   },
   "outputs": [],
   "source": [
    "x = sigRx\n",
    "d = symbRx\n",
    "\n",
    "sigRx = sigRx.reshape(len(sigRx),2)/np.sqrt(signal_power(sigRx))\n",
    "d = d.reshape(len(d),2)/np.sqrt(signal_power(d))"
   ]
  },
  {
   "cell_type": "markdown",
   "id": "aeee3b0d",
   "metadata": {},
   "source": [
    "### Adaptive equalization"
   ]
  },
  {
   "cell_type": "code",
   "execution_count": 42,
   "id": "2d6ce847",
   "metadata": {
    "ExecuteTime": {
     "end_time": "2021-11-15T15:41:00.349900Z",
     "start_time": "2021-11-15T15:41:00.197855Z"
    }
   },
   "outputs": [],
   "source": [
    "mod = QAMModem(m=paramTx.M)\n",
    "\n",
    "# paramEq = parameters()\n",
    "# paramEq.nTaps = 15\n",
    "# paramEq.SpS   = 2\n",
    "# paramEq.mu    = [5e-3, 2e-3]\n",
    "# paramEq.numIter = 5\n",
    "# paramEq.storeCoeff = False\n",
    "# paramEq.alg   = ['nlms','dd-lms']\n",
    "# paramEq.M     = paramTx.M\n",
    "# paramEq.L = [20000, 80000]\n",
    "\n",
    "# y_EQ, H, errSq, Hiter = mimoAdaptEqualizer(x, dx=d, paramEq=paramEq)\n",
    "\n",
    "\n",
    "# fig, (ax1, ax2) = plt.subplots(1, 2)\n",
    "# discard = 1000\n",
    "\n",
    "# ax1.plot(y_EQ[discard:-discard,0].real, y_EQ[discard:-discard,0].imag,'.')\n",
    "# ax1.plot(d[:,0].real, d[:,0].imag,'.')\n",
    "# ax1.axis('square')\n",
    "# ax1.set_xlim(-1.5, 1.5)\n",
    "# ax1.set_ylim(-1.5, 1.5)\n",
    "\n",
    "# ax2.plot(y_EQ[discard:-discard,1].real, y_EQ[discard:-discard,1].imag,'.')\n",
    "# ax2.plot(d[:,1].real, d[:,1].imag,'.')\n",
    "# ax2.axis('square')\n",
    "# ax2.set_xlim(-1.5, 1.5)\n",
    "# ax2.set_ylim(-1.5, 1.5);"
   ]
  },
  {
   "cell_type": "code",
   "execution_count": 43,
   "id": "56f90fac",
   "metadata": {
    "ExecuteTime": {
     "end_time": "2021-11-15T15:41:00.507006Z",
     "start_time": "2021-11-15T15:41:00.351898Z"
    }
   },
   "outputs": [
    {
     "name": "stdout",
     "output_type": "stream",
     "text": [
      "Help on function cpr in module optic.carrierRecovery:\n",
      "\n",
      "cpr(Ei, symbTx=[], param=[])\n",
      "    Carrier phase recovery (CPR)\n",
      "\n"
     ]
    }
   ],
   "source": [
    "help(cpr)"
   ]
  },
  {
   "cell_type": "markdown",
   "id": "bb441d7f",
   "metadata": {},
   "source": [
    "### Carrier phase recovery"
   ]
  },
  {
   "cell_type": "code",
   "execution_count": 50,
   "id": "453f8e90",
   "metadata": {
    "ExecuteTime": {
     "end_time": "2021-11-15T15:57:00.625971Z",
     "start_time": "2021-11-15T15:56:59.055916Z"
    }
   },
   "outputs": [
    {
     "ename": "ValueError",
     "evalue": "unable to broadcast argument 1 to output array\nFile \"c:\\users\\edson\\documents\\github\\edsonportosilva\\opticcommpy\\optic\\carrierRecovery.py\", line 1, ",
     "output_type": "error",
     "traceback": [
      "\u001b[1;31m---------------------------------------------------------------------------\u001b[0m",
      "\u001b[1;31mValueError\u001b[0m                                Traceback (most recent call last)",
      "\u001b[1;32m<ipython-input-50-e488149cee2c>\u001b[0m in \u001b[0;36m<module>\u001b[1;34m\u001b[0m\n\u001b[0;32m      6\u001b[0m \u001b[0mparamCPR\u001b[0m\u001b[1;33m.\u001b[0m\u001b[0mpilotInd\u001b[0m \u001b[1;33m=\u001b[0m \u001b[0mnp\u001b[0m\u001b[1;33m.\u001b[0m\u001b[0marange\u001b[0m\u001b[1;33m(\u001b[0m\u001b[1;36m0\u001b[0m\u001b[1;33m,\u001b[0m \u001b[0mlen\u001b[0m\u001b[1;33m(\u001b[0m\u001b[0msigRx\u001b[0m\u001b[1;33m)\u001b[0m\u001b[1;33m,\u001b[0m \u001b[1;36m20\u001b[0m\u001b[1;33m)\u001b[0m\u001b[1;33m\u001b[0m\u001b[1;33m\u001b[0m\u001b[0m\n\u001b[0;32m      7\u001b[0m \u001b[1;33m\u001b[0m\u001b[0m\n\u001b[1;32m----> 8\u001b[1;33m \u001b[0my_CPR\u001b[0m\u001b[1;33m,\u001b[0m \u001b[0mϕ\u001b[0m\u001b[1;33m,\u001b[0m \u001b[0mθ\u001b[0m \u001b[1;33m=\u001b[0m \u001b[0mcpr\u001b[0m\u001b[1;33m(\u001b[0m\u001b[0msigRx\u001b[0m\u001b[1;33m,\u001b[0m \u001b[0msymbTx\u001b[0m\u001b[1;33m=\u001b[0m\u001b[0md\u001b[0m\u001b[1;33m,\u001b[0m \u001b[0mparam\u001b[0m\u001b[1;33m=\u001b[0m\u001b[0mparamCPR\u001b[0m\u001b[1;33m,\u001b[0m \u001b[0mpilotInd\u001b[0m \u001b[1;33m=\u001b[0m \u001b[0mnp\u001b[0m\u001b[1;33m.\u001b[0m\u001b[0marange\u001b[0m\u001b[1;33m(\u001b[0m\u001b[1;36m0\u001b[0m\u001b[1;33m,\u001b[0m \u001b[0mlen\u001b[0m\u001b[1;33m(\u001b[0m\u001b[0msigRx\u001b[0m\u001b[1;33m)\u001b[0m\u001b[1;33m,\u001b[0m \u001b[1;36m20\u001b[0m\u001b[1;33m)\u001b[0m\u001b[1;33m)\u001b[0m\u001b[1;33m\u001b[0m\u001b[1;33m\u001b[0m\u001b[0m\n\u001b[0m\u001b[0;32m      9\u001b[0m \u001b[1;33m\u001b[0m\u001b[0m\n\u001b[0;32m     10\u001b[0m \u001b[0my_CPR\u001b[0m \u001b[1;33m=\u001b[0m \u001b[0my_CPR\u001b[0m\u001b[1;33m/\u001b[0m\u001b[0mnp\u001b[0m\u001b[1;33m.\u001b[0m\u001b[0msqrt\u001b[0m\u001b[1;33m(\u001b[0m\u001b[0msignal_power\u001b[0m\u001b[1;33m(\u001b[0m\u001b[0my_CPR\u001b[0m\u001b[1;33m)\u001b[0m\u001b[1;33m)\u001b[0m\u001b[1;33m\u001b[0m\u001b[1;33m\u001b[0m\u001b[0m\n",
      "\u001b[1;32mc:\\users\\edson\\documents\\github\\edsonportosilva\\opticcommpy\\optic\\carrierRecovery.py\u001b[0m in \u001b[0;36mcpr\u001b[1;34m(Ei, symbTx, param, pilotInd)\u001b[0m\n\u001b[0;32m     30\u001b[0m \u001b[1;33m\u001b[0m\u001b[0m\n\u001b[0;32m     31\u001b[0m     \u001b[1;32mif\u001b[0m \u001b[0malg\u001b[0m \u001b[1;33m==\u001b[0m \u001b[1;34m'ddpll'\u001b[0m\u001b[1;33m:\u001b[0m\u001b[1;33m\u001b[0m\u001b[1;33m\u001b[0m\u001b[0m\n\u001b[1;32m---> 32\u001b[1;33m         \u001b[0mEo\u001b[0m\u001b[1;33m,\u001b[0m \u001b[0mϕ\u001b[0m\u001b[1;33m,\u001b[0m \u001b[0mθ\u001b[0m \u001b[1;33m=\u001b[0m \u001b[0mddpll\u001b[0m\u001b[1;33m(\u001b[0m\u001b[0mEi\u001b[0m\u001b[1;33m,\u001b[0m \u001b[0mN\u001b[0m\u001b[1;33m,\u001b[0m \u001b[0mconstSymb\u001b[0m\u001b[1;33m,\u001b[0m \u001b[0msymbTx\u001b[0m\u001b[1;33m,\u001b[0m \u001b[0mpilotInd\u001b[0m\u001b[1;33m)\u001b[0m\u001b[1;33m\u001b[0m\u001b[1;33m\u001b[0m\u001b[0m\n\u001b[0m\u001b[0;32m     33\u001b[0m     \u001b[1;32melif\u001b[0m \u001b[0malg\u001b[0m \u001b[1;33m==\u001b[0m \u001b[1;34m'bps'\u001b[0m\u001b[1;33m:\u001b[0m\u001b[1;33m\u001b[0m\u001b[1;33m\u001b[0m\u001b[0m\n\u001b[0;32m     34\u001b[0m         \u001b[0mEo\u001b[0m\u001b[1;33m,\u001b[0m \u001b[0mθ\u001b[0m \u001b[1;33m=\u001b[0m \u001b[0mbps\u001b[0m\u001b[1;33m(\u001b[0m\u001b[0mEi\u001b[0m\u001b[1;33m,\u001b[0m \u001b[0mN\u001b[0m\u001b[1;33m,\u001b[0m \u001b[0mconstSymb\u001b[0m\u001b[1;33m,\u001b[0m \u001b[0mB\u001b[0m\u001b[1;33m)\u001b[0m\u001b[1;33m\u001b[0m\u001b[1;33m\u001b[0m\u001b[0m\n",
      "\u001b[1;31mValueError\u001b[0m: unable to broadcast argument 1 to output array\nFile \"c:\\users\\edson\\documents\\github\\edsonportosilva\\opticcommpy\\optic\\carrierRecovery.py\", line 1, "
     ]
    }
   ],
   "source": [
    "paramCPR = parameters()\n",
    "paramCPR.alg = 'ddpll'\n",
    "paramCPR.M   = paramTx.M\n",
    "paramCPR.N   = 25\n",
    "paramCPR.B   = 32\n",
    "paramCPR.pilotInd = np.arange(0, len(sigRx), 20)\n",
    "\n",
    "y_CPR, ϕ, θ = cpr(sigRx, symbTx=d, param=paramCPR)\n",
    "\n",
    "y_CPR = y_CPR/np.sqrt(signal_power(y_CPR))\n",
    "\n",
    "plt.figure()\n",
    "plt.title('Carrier phase recovery')\n",
    "plt.plot(ϕ,'-.', θ,'-');\n",
    "\n",
    "\n",
    "fig, (ax1, ax2) = plt.subplots(1, 2)\n",
    "discard = 5000\n",
    "\n",
    "ax1.plot(y_CPR[discard:-discard,0].real, y_CPR[discard:-discard,0].imag,'.')\n",
    "ax1.plot(d[:,0].real, d[:,0].imag,'.')\n",
    "ax1.axis('square')\n",
    "ax1.set_xlim(-1.5, 1.5)\n",
    "ax1.set_ylim(-1.5, 1.5)\n",
    "\n",
    "ax2.plot(y_CPR[discard:-discard,1].real, y_CPR[discard:-discard,1].imag,'.')\n",
    "ax2.plot(d[:,1].real, d[:,1].imag,'.')\n",
    "ax2.axis('square')\n",
    "ax2.set_xlim(-1.5, 1.5)\n",
    "ax2.set_ylim(-1.5, 1.5);"
   ]
  },
  {
   "cell_type": "markdown",
   "id": "11570fce",
   "metadata": {},
   "source": [
    "### Evaluate transmission metrics"
   ]
  },
  {
   "cell_type": "code",
   "execution_count": 84,
   "id": "983e829e",
   "metadata": {
    "ExecuteTime": {
     "end_time": "2021-10-26T19:31:32.990101Z",
     "start_time": "2021-10-26T19:31:27.613512Z"
    }
   },
   "outputs": [
    {
     "name": "stdout",
     "output_type": "stream",
     "text": [
      "     pol.X     pol.Y      \n",
      "SER: 4.37e-03, 5.16e-03\n",
      "BER: 1.10e-03, 1.29e-03\n",
      "SNR: 16.93 dB, 16.91 dB\n",
      "MI: 3.98 bits, 3.98 bits\n",
      "GMI: 3.98 bits, 3.98 bits\n"
     ]
    }
   ],
   "source": [
    "ind = np.arange(discard, d.shape[0]-discard)\n",
    "BER, SER, SNR = fastBERcalc(y_CPR[ind,:], d[ind,:], mod)\n",
    "GMI,_    = monteCarloGMI(y_CPR[ind,:], d[ind,:], mod)\n",
    "MI       = monteCarloMI(y_CPR[ind,:], d[ind,:], mod)\n",
    "\n",
    "print('     pol.X     pol.Y      ')\n",
    "print('SER: %.2e, %.2e'%(SER[0], SER[1]))\n",
    "print('BER: %.2e, %.2e'%(BER[0], BER[1]))\n",
    "print('SNR: %.2f dB, %.2f dB'%(SNR[0], SNR[1]))\n",
    "print('MI: %.2f bits, %.2f bits'%(MI[0], MI[1]))\n",
    "print('GMI: %.2f bits, %.2f bits'%(GMI[0], GMI[1]))"
   ]
  }
 ],
 "metadata": {
  "jupytext": {
   "encoding": "# -*- coding: utf-8 -*-",
   "formats": "ipynb,py:light"
  },
  "kernelspec": {
   "display_name": "Python 3",
   "language": "python",
   "name": "python3"
  },
  "language_info": {
   "codemirror_mode": {
    "name": "ipython",
    "version": 3
   },
   "file_extension": ".py",
   "mimetype": "text/x-python",
   "name": "python",
   "nbconvert_exporter": "python",
   "pygments_lexer": "ipython3",
   "version": "3.8.8"
  },
  "toc": {
   "base_numbering": 1,
   "nav_menu": {},
   "number_sections": true,
   "sideBar": true,
   "skip_h1_title": true,
   "title_cell": "Table of Contents",
   "title_sidebar": "Contents",
   "toc_cell": true,
   "toc_position": {
    "height": "calc(100% - 180px)",
    "left": "10px",
    "top": "150px",
    "width": "261.719px"
   },
   "toc_section_display": true,
   "toc_window_display": false
  },
  "varInspector": {
   "cols": {
    "lenName": 16,
    "lenType": 16,
    "lenVar": 40
   },
   "kernels_config": {
    "python": {
     "delete_cmd_postfix": "",
     "delete_cmd_prefix": "del ",
     "library": "var_list.py",
     "varRefreshCmd": "print(var_dic_list())"
    },
    "r": {
     "delete_cmd_postfix": ") ",
     "delete_cmd_prefix": "rm(",
     "library": "var_list.r",
     "varRefreshCmd": "cat(var_dic_list()) "
    }
   },
   "position": {
    "height": "144.4px",
    "left": "1163px",
    "right": "20px",
    "top": "121px",
    "width": "350px"
   },
   "types_to_exclude": [
    "module",
    "function",
    "builtin_function_or_method",
    "instance",
    "_Feature"
   ],
   "window_display": false
  }
 },
 "nbformat": 4,
 "nbformat_minor": 5
}
