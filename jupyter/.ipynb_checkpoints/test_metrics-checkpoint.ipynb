{
 "cells": [
  {
   "cell_type": "markdown",
   "metadata": {
    "toc": true
   },
   "source": [
    "# Test transmission performance metrics for the AWGN channel"
   ]
  },
  {
   "cell_type": "code",
   "execution_count": 1,
   "metadata": {},
   "outputs": [],
   "source": [
    "from commpy.modulation import QAMModem\n",
    "from optic.metrics import signal_power, monteCarloGMI, fastBERcalc\n",
    "import matplotlib.pyplot as plt\n",
    "import numpy as np\n",
    "import scipy as sp\n",
    "from tqdm.notebook import tqdm\n",
    "from numba import njit"
   ]
  },
  {
   "cell_type": "code",
   "execution_count": 2,
   "metadata": {},
   "outputs": [],
   "source": [
    "from scipy import special as sp\n",
    "\n",
    "def Qfunc(x):\n",
    "    return 0.5-0.5*sp.erf(x/np.sqrt(2))\n",
    "\n",
    "def theoryBER(M, EbN0, constType):\n",
    "    \n",
    "    EbN0lin = 10**(EbN0/10)        \n",
    "    k  = np.log2(M) \n",
    "    \n",
    "    if constType == 'qam':\n",
    "        L  = np.sqrt(M)      \n",
    "        Pb = 2*(1-1/L)/np.log2(L)*Qfunc(np.sqrt(3*np.log2(L)/(L**2-1)*(2*EbN0lin)))\n",
    "        \n",
    "    elif constType == 'psk':\n",
    "        Ps = 2*Qfunc(np.sqrt(2*k*EbN0lin)*np.sin(np.pi/M))\n",
    "        Pb = Ps/k\n",
    "    \n",
    "    return Pb  \n",
    "\n",
    "@njit\n",
    "def awgn(tx, noiseVar):\n",
    "    \n",
    "    σ        = np.sqrt(noiseVar)\n",
    "    noise    = np.random.normal(0,σ, tx.size) + 1j*np.random.normal(0,σ, tx.size)\n",
    "    noise    = 1/np.sqrt(2)*noise\n",
    "    \n",
    "    rx = tx + noise\n",
    "    \n",
    "    return rx"
   ]
  },
  {
   "cell_type": "code",
   "execution_count": 3,
   "metadata": {},
   "outputs": [
    {
     "name": "stdout",
     "output_type": "stream",
     "text": [
      "run sim: M =  4\n"
     ]
    },
    {
     "data": {
      "application/vnd.jupyter.widget-view+json": {
       "model_id": "32424fb739f64bd7a4a8fbb553972a8a",
       "version_major": 2,
       "version_minor": 0
      },
      "text/plain": [
       "HBox(children=(HTML(value=''), FloatProgress(value=0.0, max=37.0), HTML(value='')))"
      ]
     },
     "metadata": {},
     "output_type": "display_data"
    },
    {
     "name": "stdout",
     "output_type": "stream",
     "text": [
      "\n",
      "run sim: M =  16\n"
     ]
    },
    {
     "data": {
      "application/vnd.jupyter.widget-view+json": {
       "model_id": "c7e159cf746c4256997cff0b59938460",
       "version_major": 2,
       "version_minor": 0
      },
      "text/plain": [
       "HBox(children=(HTML(value=''), FloatProgress(value=0.0, max=37.0), HTML(value='')))"
      ]
     },
     "metadata": {},
     "output_type": "display_data"
    },
    {
     "name": "stdout",
     "output_type": "stream",
     "text": [
      "\n",
      "run sim: M =  64\n"
     ]
    },
    {
     "data": {
      "application/vnd.jupyter.widget-view+json": {
       "model_id": "60ba4ef92c7a44728b59d5f7428a55d1",
       "version_major": 2,
       "version_minor": 0
      },
      "text/plain": [
       "HBox(children=(HTML(value=''), FloatProgress(value=0.0, max=37.0), HTML(value='')))"
      ]
     },
     "metadata": {},
     "output_type": "display_data"
    },
    {
     "name": "stdout",
     "output_type": "stream",
     "text": [
      "\n",
      "run sim: M =  256\n"
     ]
    },
    {
     "data": {
      "application/vnd.jupyter.widget-view+json": {
       "model_id": "79fea97bbe634cdc8aac3be0730afd1f",
       "version_major": 2,
       "version_minor": 0
      },
      "text/plain": [
       "HBox(children=(HTML(value=''), FloatProgress(value=0.0, max=37.0), HTML(value='')))"
      ]
     },
     "metadata": {},
     "output_type": "display_data"
    },
    {
     "name": "stdout",
     "output_type": "stream",
     "text": [
      "\n",
      "run sim: M =  1024\n"
     ]
    },
    {
     "data": {
      "application/vnd.jupyter.widget-view+json": {
       "model_id": "16bee9d39e934aa3b3d662938814ea85",
       "version_major": 2,
       "version_minor": 0
      },
      "text/plain": [
       "HBox(children=(HTML(value=''), FloatProgress(value=0.0, max=37.0), HTML(value='')))"
      ]
     },
     "metadata": {},
     "output_type": "display_data"
    },
    {
     "name": "stdout",
     "output_type": "stream",
     "text": [
      "\n",
      "run sim: M =  4096\n"
     ]
    },
    {
     "data": {
      "application/vnd.jupyter.widget-view+json": {
       "model_id": "95687175f6394e8eba4f3dfb8fef7237",
       "version_major": 2,
       "version_minor": 0
      },
      "text/plain": [
       "HBox(children=(HTML(value=''), FloatProgress(value=0.0, max=37.0), HTML(value='')))"
      ]
     },
     "metadata": {},
     "output_type": "display_data"
    },
    {
     "name": "stdout",
     "output_type": "stream",
     "text": [
      "\n"
     ]
    }
   ],
   "source": [
    "# Run BER vs Ebn0 Monte Carlo simulation \n",
    "\n",
    "qamOrder  = [4, 16, 64, 256, 1024, 4096]  # Modulation order\n",
    "\n",
    "EbN0dB_  = np.arange(-2, 35, 1)\n",
    "BER      = np.zeros((len(EbN0dB_),len(qamOrder)))\n",
    "BER[:]   = np.nan\n",
    "\n",
    "for ii, M in enumerate(qamOrder):\n",
    "    print('run sim: M = ', M)\n",
    "    for indSNR in tqdm(range(EbN0dB_.size)):\n",
    "\n",
    "        EbN0dB = EbN0dB_[indSNR]\n",
    "\n",
    "        # generate random bits\n",
    "        bitsTx = np.random.randint(2, size=2**19)    \n",
    "\n",
    "        # Map bits to constellation symbols\n",
    "        mod = QAMModem(m=M)\n",
    "        symbTx = mod.modulate(bitsTx)\n",
    "\n",
    "        # Normalize symbols energy to 1\n",
    "        symbTx = symbTx/np.sqrt(mod.Es)\n",
    "\n",
    "        # AWGN    \n",
    "        snrdB    = EbN0dB + 10*np.log10(np.log2(M))\n",
    "        noiseVar = 1/(10**(snrdB/10))\n",
    "\n",
    "        symbRx = awgn(symbTx, noiseVar)\n",
    "\n",
    "        # BER calculation\n",
    "        BER[indSNR, ii], _, _ = fastBERcalc(symbRx, symbTx, mod)\n",
    "        \n",
    "        if BER[indSNR, ii] == 0:              \n",
    "            break\n",
    "        "
   ]
  },
  {
   "cell_type": "code",
   "execution_count": 4,
   "metadata": {},
   "outputs": [
    {
     "data": {
      "image/png": "[encoded data removed]",
      "text/plain": [
       "<Figure size 720x432 with 1 Axes>"
      ]
     },
     "metadata": {
      "needs_background": "light"
     },
     "output_type": "display_data"
    }
   ],
   "source": [
    "# Plot simulation results and theoretical curves        \n",
    "BER[BER==0] = np.nan\n",
    "\n",
    "plt.figure(figsize=(10,6))\n",
    "for ii, M in enumerate(qamOrder):\n",
    "    plt.plot(EbN0dB_, np.log10(BER[:,ii]),'o', label=str(M)+'QAM monte carlo')\n",
    "\n",
    "plt.gca().set_prop_cycle(None)\n",
    "\n",
    "for M in qamOrder:\n",
    "    BERtheory = theoryBER(M, EbN0dB_,'qam')\n",
    "    BERtheory[BERtheory==0] = np.nan\n",
    "    plt.plot(EbN0dB_, np.log10(BERtheory),'-', label=str(M)+'QAM theory')\n",
    "\n",
    "plt.xlim(min(EbN0dB_), max(EbN0dB_))\n",
    "plt.ylim(-6, 0)\n",
    "plt.legend();\n",
    "plt.xlabel('EbN0 [dB]');\n",
    "plt.ylabel('log10(BER)');\n",
    "plt.grid()"
   ]
  },
  {
   "cell_type": "code",
   "execution_count": null,
   "metadata": {},
   "outputs": [
    {
     "name": "stdout",
     "output_type": "stream",
     "text": [
      "run sim: M =  4\n"
     ]
    },
    {
     "data": {
      "application/vnd.jupyter.widget-view+json": {
       "model_id": "93c6ea6b0b83484a94575f763f4390a2",
       "version_major": 2,
       "version_minor": 0
      },
      "text/plain": [
       "HBox(children=(HTML(value=''), FloatProgress(value=0.0, max=37.0), HTML(value='')))"
      ]
     },
     "metadata": {},
     "output_type": "display_data"
    },
    {
     "name": "stdout",
     "output_type": "stream",
     "text": [
      "\n",
      "run sim: M =  16\n"
     ]
    },
    {
     "data": {
      "application/vnd.jupyter.widget-view+json": {
       "model_id": "8b978e614b7943b4aa67656e763f3258",
       "version_major": 2,
       "version_minor": 0
      },
      "text/plain": [
       "HBox(children=(HTML(value=''), FloatProgress(value=0.0, max=37.0), HTML(value='')))"
      ]
     },
     "metadata": {},
     "output_type": "display_data"
    },
    {
     "name": "stdout",
     "output_type": "stream",
     "text": [
      "\n",
      "run sim: M =  64\n"
     ]
    },
    {
     "data": {
      "application/vnd.jupyter.widget-view+json": {
       "model_id": "26994bc5e1e84250838f794573298cb5",
       "version_major": 2,
       "version_minor": 0
      },
      "text/plain": [
       "HBox(children=(HTML(value=''), FloatProgress(value=0.0, max=37.0), HTML(value='')))"
      ]
     },
     "metadata": {},
     "output_type": "display_data"
    },
    {
     "name": "stdout",
     "output_type": "stream",
     "text": [
      "\n",
      "run sim: M =  256\n"
     ]
    },
    {
     "data": {
      "application/vnd.jupyter.widget-view+json": {
       "model_id": "1a820a263c2c4268b6ae628cdbc830a0",
       "version_major": 2,
       "version_minor": 0
      },
      "text/plain": [
       "HBox(children=(HTML(value=''), FloatProgress(value=0.0, max=37.0), HTML(value='')))"
      ]
     },
     "metadata": {},
     "output_type": "display_data"
    },
    {
     "name": "stdout",
     "output_type": "stream",
     "text": [
      "\n",
      "run sim: M =  1024\n"
     ]
    },
    {
     "data": {
      "application/vnd.jupyter.widget-view+json": {
       "model_id": "e8e64dc42c434593ae210c67edc9e2dd",
       "version_major": 2,
       "version_minor": 0
      },
      "text/plain": [
       "HBox(children=(HTML(value=''), FloatProgress(value=0.0, max=37.0), HTML(value='')))"
      ]
     },
     "metadata": {},
     "output_type": "display_data"
    },
    {
     "name": "stdout",
     "output_type": "stream",
     "text": [
      "\n",
      "run sim: M =  4096\n"
     ]
    },
    {
     "data": {
      "application/vnd.jupyter.widget-view+json": {
       "model_id": "8362abc14048405291ff74df31db3cff",
       "version_major": 2,
       "version_minor": 0
      },
      "text/plain": [
       "HBox(children=(HTML(value=''), FloatProgress(value=0.0, max=37.0), HTML(value='')))"
      ]
     },
     "metadata": {},
     "output_type": "display_data"
    }
   ],
   "source": [
    "# Run GMI vs SNR Monte Carlo simulation \n",
    "\n",
    "qamOrder  = [4, 16, 64, 256, 1024, 4096]  # Modulation order\n",
    "\n",
    "SNR  = np.arange(-2, 35, 1)\n",
    "GMI  = np.zeros((len(SNR),len(qamOrder)))\n",
    "\n",
    "for ii, M in enumerate(qamOrder):\n",
    "    print('run sim: M = ', M)\n",
    "    for indSNR in tqdm(range(SNR.size)):\n",
    "\n",
    "        snrdB = SNR[indSNR]\n",
    "\n",
    "        # generate random bits\n",
    "        bitsTx   = np.random.randint(2, size=2**18)    \n",
    "\n",
    "        # Map bits to constellation symbols\n",
    "        mod = QAMModem(m=M)\n",
    "        symbTx = mod.modulate(bitsTx)\n",
    "\n",
    "        # Normalize symbols energy to 1\n",
    "        symbTx = symbTx/np.sqrt(mod.Es)\n",
    "\n",
    "        # AWGN    \n",
    "        noiseVar = 1/(10**(snrdB/10))\n",
    "\n",
    "        symbRx = awgn(symbTx, noiseVar)\n",
    "\n",
    "        # GMI estimation\n",
    "        GMI[indSNR, ii], _  = monteCarloGMI(symbRx, symbTx, mod)\n",
    "        "
   ]
  },
  {
   "cell_type": "code",
   "execution_count": null,
   "metadata": {},
   "outputs": [],
   "source": [
    "plt.figure(figsize=(10,6))\n",
    "for ii, M in enumerate(qamOrder):\n",
    "    plt.plot(SNR, GMI[:,ii],'-', label=str(M)+'QAM monte carlo',linewidth=2)\n",
    "\n",
    "# plot theoretical AWGN channel capacity    \n",
    "C = np.log2(1 + 10**(SNR/10))\n",
    "plt.plot(SNR, C,'k-', label='AWGN capacity',linewidth=2)\n",
    "\n",
    "\n",
    "plt.xlim(min(SNR), max(SNR))\n",
    "plt.legend();\n",
    "plt.xlabel('SNR [dB]');\n",
    "plt.ylabel('GMI [bits]');\n",
    "plt.grid()"
   ]
  },
  {
   "cell_type": "code",
   "execution_count": null,
   "metadata": {},
   "outputs": [],
   "source": []
  }
 ],
 "metadata": {
  "kernelspec": {
   "display_name": "Python 3",
   "language": "python",
   "name": "python3"
  },
  "language_info": {
   "codemirror_mode": {
    "name": "ipython",
    "version": 3
   },
   "file_extension": ".py",
   "mimetype": "text/x-python",
   "name": "python",
   "nbconvert_exporter": "python",
   "pygments_lexer": "ipython3",
   "version": "3.8.5"
  },
  "toc": {
   "base_numbering": 1,
   "nav_menu": {},
   "number_sections": true,
   "sideBar": true,
   "skip_h1_title": true,
   "title_cell": "Table of Contents",
   "title_sidebar": "Contents",
   "toc_cell": true,
   "toc_position": {},
   "toc_section_display": true,
   "toc_window_display": false
  }
 },
 "nbformat": 4,
 "nbformat_minor": 5
}
