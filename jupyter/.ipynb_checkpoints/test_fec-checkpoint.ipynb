{
 "cells": [
  {
   "cell_type": "markdown",
   "metadata": {
    "toc": true
   },
   "source": [
    "<h1>Table of Contents<span class=\"tocSkip\"></span></h1>\n",
    "<div class=\"toc\"><ul class=\"toc-item\"><li><span><a href=\"#Test-LDPC-decoding\" data-toc-modified-id=\"Test-LDPC-decoding-1\"><span class=\"toc-item-num\">1&nbsp;&nbsp;</span>Test LDPC decoding</a></span></li></ul></div>"
   ]
  },
  {
   "cell_type": "code",
   "execution_count": 1,
   "metadata": {
    "ExecuteTime": {
     "end_time": "2021-11-21T19:36:02.350339Z",
     "start_time": "2021-11-21T19:35:59.634304Z"
    }
   },
   "outputs": [],
   "source": [
    "from commpy.modulation import QAMModem, PSKModem\n",
    "from optic.metrics import signal_power, calcLLR, fastBERcalc\n",
    "from optic.fec import loggaldecode\n",
    "import matplotlib.pyplot as plt\n",
    "import numpy as np\n",
    "import scipy as sp\n",
    "from tqdm.notebook import tqdm\n",
    "from numba import njit"
   ]
  },
  {
   "cell_type": "code",
   "execution_count": 2,
   "metadata": {
    "ExecuteTime": {
     "end_time": "2021-11-21T19:36:02.366328Z",
     "start_time": "2021-11-21T19:36:02.353336Z"
    }
   },
   "outputs": [],
   "source": [
    "@njit\n",
    "def awgn(tx, noiseVar):\n",
    "    \n",
    "    σ        = np.sqrt(noiseVar)\n",
    "    noise    = np.random.normal(0,σ, tx.size) + 1j*np.random.normal(0,σ, tx.size)\n",
    "    noise    = 1/np.sqrt(2)*noise\n",
    "    \n",
    "    rx = tx + noise\n",
    "    \n",
    "    return rx\n",
    "\n",
    "def sparse(H):\n",
    "    \n",
    "    M, N = H.shape\n",
    "\n",
    "    Nl = []\n",
    "    Ml = []\n",
    "    for m in range(M):\n",
    "        Nl.append([])\n",
    "\n",
    "    for n in range(N):\n",
    "        Ml.append([])\n",
    "\n",
    "    # Build the sparse representation of A using the M and N sets\n",
    "\n",
    "    for m in range(M):\n",
    "        for n in range(N):\n",
    "            if H[m, n]:\n",
    "                Nl[m].append(n)\n",
    "                Ml[n].append(m)\n",
    "    \n",
    "    return Nl, Ml"
   ]
  },
  {
   "cell_type": "markdown",
   "metadata": {},
   "source": [
    "## Test LDPC decoding"
   ]
  },
  {
   "cell_type": "code",
   "execution_count": 3,
   "metadata": {
    "ExecuteTime": {
     "end_time": "2021-11-21T19:36:02.397312Z",
     "start_time": "2021-11-21T19:36:02.369328Z"
    }
   },
   "outputs": [
    {
     "ename": "TypingError",
     "evalue": "Failed in nopython mode pipeline (step: nopython frontend)\n\u001b[1m\u001b[1m\u001b[1mUndecided type $110load_method.5 := <undecided>\u001b[0m\n\u001b[0m\u001b[1mDuring: resolving caller type: $110load_method.5\u001b[0m\n\u001b[0m\u001b[1mDuring: typing of call at c:\\users\\edson\\documents\\github\\opticcommpy\\optic\\fec.py (39)\n\u001b[0m\n\u001b[1m\nFile \"..\\optic\\fec.py\", line 39:\u001b[0m\n\u001b[1mdef loggaldecode(H, r, Nloop, Lc):\n    <source elided>\n            if H[m, n]:\n\u001b[1m                Nl[m].append(n)\n\u001b[0m                \u001b[1m^\u001b[0m\u001b[0m\n",
     "output_type": "error",
     "traceback": [
      "\u001b[1;31m---------------------------------------------------------------------------\u001b[0m",
      "\u001b[1;31mTypingError\u001b[0m                               Traceback (most recent call last)",
      "\u001b[1;32m<ipython-input-3-e70f3f28a243>\u001b[0m in \u001b[0;36m<module>\u001b[1;34m\u001b[0m\n\u001b[0;32m     41\u001b[0m \u001b[1;33m\u001b[0m\u001b[0m\n\u001b[0;32m     42\u001b[0m \u001b[1;31m#x = galdecode(A,p1,Nloop)\u001b[0m\u001b[1;33m\u001b[0m\u001b[1;33m\u001b[0m\u001b[1;33m\u001b[0m\u001b[0m\n\u001b[1;32m---> 43\u001b[1;33m \u001b[0mlamb\u001b[0m\u001b[1;33m,\u001b[0m \u001b[0mx\u001b[0m \u001b[1;33m=\u001b[0m \u001b[0mloggaldecode\u001b[0m\u001b[1;33m(\u001b[0m\u001b[0mH\u001b[0m\u001b[1;33m,\u001b[0m \u001b[0mr\u001b[0m\u001b[1;33m,\u001b[0m \u001b[0mNloop\u001b[0m\u001b[1;33m,\u001b[0m\u001b[0mLc\u001b[0m\u001b[1;33m)\u001b[0m\u001b[1;33m\u001b[0m\u001b[1;33m\u001b[0m\u001b[0m\n\u001b[0m",
      "\u001b[1;32m~\\AppData\\Roaming\\Python\\Python38\\site-packages\\numba\\core\\dispatcher.py\u001b[0m in \u001b[0;36m_compile_for_args\u001b[1;34m(self, *args, **kws)\u001b[0m\n\u001b[0;32m    480\u001b[0m                 \u001b[0me\u001b[0m\u001b[1;33m.\u001b[0m\u001b[0mpatch_message\u001b[0m\u001b[1;33m(\u001b[0m\u001b[0mmsg\u001b[0m\u001b[1;33m)\u001b[0m\u001b[1;33m\u001b[0m\u001b[1;33m\u001b[0m\u001b[0m\n\u001b[0;32m    481\u001b[0m \u001b[1;33m\u001b[0m\u001b[0m\n\u001b[1;32m--> 482\u001b[1;33m             \u001b[0merror_rewrite\u001b[0m\u001b[1;33m(\u001b[0m\u001b[0me\u001b[0m\u001b[1;33m,\u001b[0m \u001b[1;34m'typing'\u001b[0m\u001b[1;33m)\u001b[0m\u001b[1;33m\u001b[0m\u001b[1;33m\u001b[0m\u001b[0m\n\u001b[0m\u001b[0;32m    483\u001b[0m         \u001b[1;32mexcept\u001b[0m \u001b[0merrors\u001b[0m\u001b[1;33m.\u001b[0m\u001b[0mUnsupportedError\u001b[0m \u001b[1;32mas\u001b[0m \u001b[0me\u001b[0m\u001b[1;33m:\u001b[0m\u001b[1;33m\u001b[0m\u001b[1;33m\u001b[0m\u001b[0m\n\u001b[0;32m    484\u001b[0m             \u001b[1;31m# Something unsupported is present in the user code, add help info\u001b[0m\u001b[1;33m\u001b[0m\u001b[1;33m\u001b[0m\u001b[1;33m\u001b[0m\u001b[0m\n",
      "\u001b[1;32m~\\AppData\\Roaming\\Python\\Python38\\site-packages\\numba\\core\\dispatcher.py\u001b[0m in \u001b[0;36merror_rewrite\u001b[1;34m(e, issue_type)\u001b[0m\n\u001b[0;32m    421\u001b[0m                 \u001b[1;32mraise\u001b[0m \u001b[0me\u001b[0m\u001b[1;33m\u001b[0m\u001b[1;33m\u001b[0m\u001b[0m\n\u001b[0;32m    422\u001b[0m             \u001b[1;32melse\u001b[0m\u001b[1;33m:\u001b[0m\u001b[1;33m\u001b[0m\u001b[1;33m\u001b[0m\u001b[0m\n\u001b[1;32m--> 423\u001b[1;33m                 \u001b[1;32mraise\u001b[0m \u001b[0me\u001b[0m\u001b[1;33m.\u001b[0m\u001b[0mwith_traceback\u001b[0m\u001b[1;33m(\u001b[0m\u001b[1;32mNone\u001b[0m\u001b[1;33m)\u001b[0m\u001b[1;33m\u001b[0m\u001b[1;33m\u001b[0m\u001b[0m\n\u001b[0m\u001b[0;32m    424\u001b[0m \u001b[1;33m\u001b[0m\u001b[0m\n\u001b[0;32m    425\u001b[0m         \u001b[0margtypes\u001b[0m \u001b[1;33m=\u001b[0m \u001b[1;33m[\u001b[0m\u001b[1;33m]\u001b[0m\u001b[1;33m\u001b[0m\u001b[1;33m\u001b[0m\u001b[0m\n",
      "\u001b[1;31mTypingError\u001b[0m: Failed in nopython mode pipeline (step: nopython frontend)\n\u001b[1m\u001b[1m\u001b[1mUndecided type $110load_method.5 := <undecided>\u001b[0m\n\u001b[0m\u001b[1mDuring: resolving caller type: $110load_method.5\u001b[0m\n\u001b[0m\u001b[1mDuring: typing of call at c:\\users\\edson\\documents\\github\\opticcommpy\\optic\\fec.py (39)\n\u001b[0m\n\u001b[1m\nFile \"..\\optic\\fec.py\", line 39:\u001b[0m\n\u001b[1mdef loggaldecode(H, r, Nloop, Lc):\n    <source elided>\n            if H[m, n]:\n\u001b[1m                Nl[m].append(n)\n\u001b[0m                \u001b[1m^\u001b[0m\u001b[0m\n"
     ]
    }
   ],
   "source": [
    "# A used in chapter\n",
    "A = np.array([[1, 1, 1, 0, 0, 1, 1, 0, 0, 1],\n",
    "              [1, 0, 1, 0, 1, 1, 0, 1, 1, 0],\n",
    "              [0, 0, 1, 1, 1, 0, 1, 0, 1, 1],\n",
    "              [0, 1, 0, 1, 1, 1, 0, 1, 0, 1],\n",
    "              [1, 1, 0, 1, 0, 0, 1, 1, 1, 0]])\n",
    "\n",
    "# Inverse of first part, to get systematic form (not needed for decoding)\n",
    "Apinv = np.array([[1, 0, 1, 1, 0],\n",
    "                  [0, 1, 1, 0, 1],\n",
    "                  [0, 1, 0, 1, 1],\n",
    "                  [1, 1, 0, 1, 0],\n",
    "                  [1, 0, 1, 0, 1]])\n",
    "\n",
    "H = (Apinv@A)%2   # systematic parity check matrix\n",
    "\n",
    "M, N = A.shape\n",
    "K = N-M;\n",
    "P = H[:,N-K:N];\n",
    "G = np.concatenate((P, np.eye(int(K)))) # now A*G = 0 (mod 2)\n",
    "\n",
    "m = np.array([[1, 0, 1, 0, 1]]).T\n",
    "c = (G@m)%2;\n",
    "t = 2*(2*c-1);\n",
    "\n",
    "a = 2;   # signal amplitude\n",
    "sigma2 = 2;  # noise variance\n",
    "\n",
    "# First set the channel posterior probabilities\n",
    "p1 = np.array([[.22, .16,  .19,  .48, .55,  .87, .18, .79, .25, .76]]).T\n",
    "\n",
    "# then compute the received values that correspond to these\n",
    "r =  np.log((1./p1)-1)/(-2*a)*sigma2;  # received vector\n",
    "\n",
    "x0 = p1 > 0.5\n",
    "z0 = (A@x0)%2\n",
    "\n",
    "Nloop = 50;\n",
    "\n",
    "Lc = 2*a/sigma2;\n",
    "\n",
    "#x = galdecode(A,p1,Nloop)\n",
    "lamb, x = loggaldecode(H, r, Nloop,Lc)"
   ]
  },
  {
   "cell_type": "code",
   "execution_count": null,
   "metadata": {
    "ExecuteTime": {
     "end_time": "2021-11-21T19:36:06.008116Z",
     "start_time": "2021-11-21T19:36:02.399309Z"
    },
    "lines_to_next_cell": 0
   },
   "outputs": [],
   "source": [
    "# Run AWGN simulation \n",
    "EbN0dB = 4\n",
    "M      = 4\n",
    "Nwords = 100\n",
    "Nloop  = 50\n",
    "Lc = 1\n",
    "\n",
    "# generate random bits\n",
    "bitsTx = np.random.randint(2, size=(5, Nwords)) \n",
    "encodedBitsTx = ((G@bitsTx)%2).astype('int')\n",
    "encodedBitsTx = (encodedBitsTx.T).reshape(1,-1).T\n",
    "\n",
    "# Map bits to constellation symbols\n",
    "mod = QAMModem(m=M)\n",
    "symbTx = mod.modulate(encodedBitsTx)\n",
    "\n",
    "# Normalize symbols energy to 1\n",
    "symbTx = symbTx/np.sqrt(mod.Es)\n",
    "\n",
    "# AWGN    \n",
    "snrdB    = EbN0dB + 10*np.log10(np.log2(M))\n",
    "noiseVar = 1/(10**(snrdB/10))\n",
    "\n",
    "symbRx = awgn(symbTx, noiseVar)\n",
    "\n",
    "# BER calculation\n",
    "BER, _, _ = fastBERcalc(symbRx, symbTx, mod)\n",
    "print('BER = ', BER[0])\n",
    "\n",
    "constSymb = mod.constellation\n",
    "bitMap = mod.demodulate(constSymb, demod_type=\"hard\")\n",
    "bitMap = bitMap.reshape(-1, int(np.log2(M)))\n",
    "Es = mod.Es\n",
    "\n",
    "llr = calcLLR(symbRx, noiseVar, constSymb / np.sqrt(Es), bitMap)\n",
    "llr = llr.reshape(-1,1)\n",
    "\n",
    "decBits = np.zeros((10*Nwords,1))\n",
    "decBits[:] = np.nan\n",
    "\n",
    "for k in range(Nwords):  \n",
    "    llr_in = llr[10*k:10*k+10, :]\n",
    "    llr_out,_ = loggaldecode(H, llr_in, Nloop, Lc)\n",
    "    decBits[10*k:10*k+10,:] = ( np.sign(-llr_out) + 1 )/2\n",
    "\n",
    "BERpost = np.mean(np.logical_xor(encodedBitsTx, decBits))\n",
    "\n",
    "print('BERpostFEC = ', BERpost)"
   ]
  },
  {
   "cell_type": "code",
   "execution_count": null,
   "metadata": {},
   "outputs": [],
   "source": []
  },
  {
   "cell_type": "code",
   "execution_count": null,
   "metadata": {},
   "outputs": [],
   "source": []
  }
 ],
 "metadata": {
  "jupytext": {
   "encoding": "# -*- coding: utf-8 -*-",
   "formats": "ipynb,py:light"
  },
  "kernelspec": {
   "display_name": "Python 3",
   "language": "python",
   "name": "python3"
  },
  "language_info": {
   "codemirror_mode": {
    "name": "ipython",
    "version": 3
   },
   "file_extension": ".py",
   "mimetype": "text/x-python",
   "name": "python",
   "nbconvert_exporter": "python",
   "pygments_lexer": "ipython3",
   "version": "3.8.5"
  },
  "toc": {
   "base_numbering": 1,
   "nav_menu": {},
   "number_sections": true,
   "sideBar": true,
   "skip_h1_title": true,
   "title_cell": "Table of Contents",
   "title_sidebar": "Contents",
   "toc_cell": true,
   "toc_position": {},
   "toc_section_display": true,
   "toc_window_display": false
  },
  "varInspector": {
   "cols": {
    "lenName": 16,
    "lenType": 16,
    "lenVar": 40
   },
   "kernels_config": {
    "python": {
     "delete_cmd_postfix": "",
     "delete_cmd_prefix": "del ",
     "library": "var_list.py",
     "varRefreshCmd": "print(var_dic_list())"
    },
    "r": {
     "delete_cmd_postfix": ") ",
     "delete_cmd_prefix": "rm(",
     "library": "var_list.r",
     "varRefreshCmd": "cat(var_dic_list()) "
    }
   },
   "types_to_exclude": [
    "module",
    "function",
    "builtin_function_or_method",
    "instance",
    "_Feature"
   ],
   "window_display": false
  }
 },
 "nbformat": 4,
 "nbformat_minor": 5
}
