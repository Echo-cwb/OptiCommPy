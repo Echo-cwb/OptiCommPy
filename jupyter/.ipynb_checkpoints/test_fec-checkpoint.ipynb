{
 "cells": [
  {
   "cell_type": "code",
   "execution_count": 1,
   "id": "bbf65592",
   "metadata": {
    "ExecuteTime": {
     "end_time": "2021-11-23T04:51:42.171980Z",
     "start_time": "2021-11-23T04:51:39.077848Z"
    }
   },
   "outputs": [],
   "source": [
    "from commpy.modulation import QAMModem, PSKModem\n",
    "from optic.metrics import signal_power, calcLLR, fastBERcalc\n",
    "from optic.fec import loggaldecode\n",
    "import matplotlib.pyplot as plt\n",
    "import numpy as np\n",
    "import scipy as sp\n",
    "from scipy import io\n",
    "from tqdm.notebook import tqdm\n",
    "from numba import njit\n",
    "from numba.typed import List"
   ]
  },
  {
   "cell_type": "code",
   "execution_count": 2,
   "id": "4958f849",
   "metadata": {
    "ExecuteTime": {
     "end_time": "2021-11-23T04:51:42.187963Z",
     "start_time": "2021-11-23T04:51:42.173974Z"
    }
   },
   "outputs": [],
   "source": [
    "@njit\n",
    "def awgn(tx, noiseVar):\n",
    "    \n",
    "    σ        = np.sqrt(noiseVar)\n",
    "    noise    = np.random.normal(0,σ, tx.size) + 1j*np.random.normal(0,σ, tx.size)\n",
    "    noise    = 1/np.sqrt(2)*noise\n",
    "    \n",
    "    rx = tx + noise\n",
    "    \n",
    "    return rx\n",
    "\n",
    "def sparse(H):\n",
    "    \n",
    "    M, N = H.shape\n",
    "\n",
    "    Nl = []\n",
    "    Ml = []\n",
    "    for m in range(M):\n",
    "        Nl.append([])\n",
    "\n",
    "    for n in range(N):\n",
    "        Ml.append([])\n",
    "\n",
    "    # Build the sparse representation of A using the M and N sets\n",
    "    for n in tqdm(range(N)):\n",
    "        for m in range(M):\n",
    "            if H[m, n]:\n",
    "                Nl[m].append(n)\n",
    "                Ml[n].append(m)\n",
    "                \n",
    "    #return Nl, Ml            \n",
    "    return List(Nl), List(Ml)"
   ]
  },
  {
   "cell_type": "markdown",
   "id": "cad789cc",
   "metadata": {},
   "source": [
    "## Test LDPC decoding"
   ]
  },
  {
   "cell_type": "code",
   "execution_count": 20,
   "id": "f6ca6afa",
   "metadata": {
    "ExecuteTime": {
     "end_time": "2021-11-23T04:55:19.576646Z",
     "start_time": "2021-11-23T04:55:19.522677Z"
    }
   },
   "outputs": [
    {
     "data": {
      "application/vnd.jupyter.widget-view+json": {
       "model_id": "9adeae7b10604393a6fffccd16a331bd",
       "version_major": 2,
       "version_minor": 0
      },
      "text/plain": [
       "  0%|          | 0/10 [00:00<?, ?it/s]"
      ]
     },
     "metadata": {},
     "output_type": "display_data"
    }
   ],
   "source": [
    "# A used in chapter\n",
    "A = np.array([[1, 1, 1, 0, 0, 1, 1, 0, 0, 1],\n",
    "              [1, 0, 1, 0, 1, 1, 0, 1, 1, 0],\n",
    "              [0, 0, 1, 1, 1, 0, 1, 0, 1, 1],\n",
    "              [0, 1, 0, 1, 1, 1, 0, 1, 0, 1],\n",
    "              [1, 1, 0, 1, 0, 0, 1, 1, 1, 0]])\n",
    "\n",
    "# Inverse of first part, to get systematic form (not needed for decoding)\n",
    "Apinv = np.array([[1, 0, 1, 1, 0],\n",
    "                  [0, 1, 1, 0, 1],\n",
    "                  [0, 1, 0, 1, 1],\n",
    "                  [1, 1, 0, 1, 0],\n",
    "                  [1, 0, 1, 0, 1]])\n",
    "\n",
    "H = (Apinv@A)%2   # systematic parity check matrix\n",
    "\n",
    "M, N = A.shape\n",
    "K = N-M;\n",
    "P = H[:,N-K:N];\n",
    "G = np.concatenate((P, np.eye(int(K)))) # now A*G = 0 (mod 2)\n",
    "\n",
    "m = np.array([[1, 0, 1, 0, 1]]).T\n",
    "c = (G@m)%2;\n",
    "t = 2*(2*c-1);\n",
    "\n",
    "a = 2;   # signal amplitude\n",
    "sigma2 = 2;  # noise variance\n",
    "\n",
    "# First set the channel posterior probabilities\n",
    "p1 = np.array([[.22, .16,  .19,  .48, .55,  .87, .18, .79, .25, .76]]).T\n",
    "\n",
    "# then compute the received values that correspond to these\n",
    "r =  np.log((1./p1)-1)/(-2*a)*sigma2;  # received vector\n",
    "\n",
    "x0 = p1 > 0.5\n",
    "z0 = (A@x0)%2\n",
    "\n",
    "Nloop = 50;\n",
    "\n",
    "Lc = 2*a/sigma2;\n",
    "Nl, Ml = sparse(H)\n",
    "\n",
    "#x = galdecode(A,p1,Nloop)\n",
    "lamb, x = loggaldecode(H, r, Nloop,Lc, Nl, Ml)"
   ]
  },
  {
   "cell_type": "code",
   "execution_count": 21,
   "id": "a24c6a2d",
   "metadata": {
    "ExecuteTime": {
     "end_time": "2021-11-23T04:55:24.651428Z",
     "start_time": "2021-11-23T04:55:24.395586Z"
    },
    "lines_to_next_cell": 0
   },
   "outputs": [
    {
     "name": "stdout",
     "output_type": "stream",
     "text": [
      "BER =  0.0109\n",
      "BERpostFEC =  0.0007\n"
     ]
    }
   ],
   "source": [
    "# Run AWGN simulation \n",
    "EbN0dB = 8\n",
    "M      = 16\n",
    "Nwords = 1000\n",
    "Nloop  = 50\n",
    "Lc = 1\n",
    "\n",
    "K = H.shape[0]\n",
    "\n",
    "# generate random bits\n",
    "bitsTx = np.random.randint(2, size=(K, Nwords)) \n",
    "encodedBitsTx = ((G@bitsTx)%2).astype('int')\n",
    "encodedBitsTx = (encodedBitsTx.T).reshape(1,-1).T\n",
    "\n",
    "# Map bits to constellation symbols\n",
    "mod = QAMModem(m=M)\n",
    "symbTx = mod.modulate(encodedBitsTx)\n",
    "\n",
    "# Normalize symbols energy to 1\n",
    "symbTx = symbTx/np.sqrt(mod.Es)\n",
    "\n",
    "# AWGN    \n",
    "snrdB    = EbN0dB + 10*np.log10(np.log2(M))\n",
    "noiseVar = 1/(10**(snrdB/10))\n",
    "\n",
    "symbRx = awgn(symbTx, noiseVar)\n",
    "\n",
    "# BER calculation\n",
    "BER, _, _ = fastBERcalc(symbRx, symbTx, mod)\n",
    "print('BER = ', BER[0])\n",
    "\n",
    "constSymb = mod.constellation\n",
    "bitMap = mod.demodulate(constSymb, demod_type=\"hard\")\n",
    "bitMap = bitMap.reshape(-1, int(np.log2(M)))\n",
    "Es = mod.Es\n",
    "\n",
    "llr = calcLLR(symbRx, noiseVar, constSymb / np.sqrt(Es), bitMap)\n",
    "llr = llr.reshape(-1,1)\n",
    "\n",
    "decBits = np.zeros((10*Nwords,1))\n",
    "decBits[:] = np.nan\n",
    "\n",
    "for k in range(Nwords):  \n",
    "    llr_in = llr[10*k:10*k+10, :]\n",
    "    llr_out,_ = loggaldecode(H, llr_in, Nloop, Lc, Nl, Ml)\n",
    "    decBits[10*k:10*k+10,:] = ( np.sign(-llr_out) + 1 )/2\n",
    "\n",
    "BERpost = np.mean(np.logical_xor(encodedBitsTx, decBits))\n",
    "\n",
    "print('BERpostFEC = ', BERpost)"
   ]
  },
  {
   "cell_type": "markdown",
   "id": "0dd4fada",
   "metadata": {},
   "source": [
    "## Test AR4JA LDPC "
   ]
  },
  {
   "cell_type": "code",
   "execution_count": 74,
   "id": "18a60d5c",
   "metadata": {
    "ExecuteTime": {
     "end_time": "2021-11-23T05:12:41.650614Z",
     "start_time": "2021-11-23T05:12:41.605642Z"
    }
   },
   "outputs": [],
   "source": [
    "path = r'C:\\Users\\edson\\Documents\\GitHub\\edsonportosilva\\robochameleon-private\\addons\\IEEE_802_11n_LDPC_FEC'\n",
    "\n",
    "d = sp.io.loadmat(path+'\\LDPC_11nD2_1944b_R12.mat')\n",
    "H = d['LDPC']['H'] # parity check matrix\n",
    "H = H[0][0][0][0][0]\n",
    "H = H.astype(np.int32)"
   ]
  },
  {
   "cell_type": "code",
   "execution_count": 75,
   "id": "b498e1f8",
   "metadata": {
    "ExecuteTime": {
     "end_time": "2021-11-23T05:12:43.046323Z",
     "start_time": "2021-11-23T05:12:43.001769Z"
    }
   },
   "outputs": [],
   "source": [
    "M, N = H.shape\n",
    "K = N-M\n",
    "P = H[:,N-K:N]\n",
    "G = np.concatenate((P, np.eye(int(K)))) # now A*G = 0 (mod 2)"
   ]
  },
  {
   "cell_type": "code",
   "execution_count": 79,
   "id": "e518c3cb",
   "metadata": {
    "ExecuteTime": {
     "end_time": "2021-11-23T05:13:04.620970Z",
     "start_time": "2021-11-23T05:13:03.655561Z"
    }
   },
   "outputs": [
    {
     "name": "stdout",
     "output_type": "stream",
     "text": [
      "BER =  0.0\n"
     ]
    },
    {
     "data": {
      "application/vnd.jupyter.widget-view+json": {
       "model_id": "9dd3874f6bf544fdac6c4f785920b609",
       "version_major": 2,
       "version_minor": 0
      },
      "text/plain": [
       "  0%|          | 0/1944 [00:00<?, ?it/s]"
      ]
     },
     "metadata": {},
     "output_type": "display_data"
    }
   ],
   "source": [
    "# Run AWGN simulation \n",
    "EbN0dB = 20\n",
    "M      = 4\n",
    "Nwords = 8\n",
    "Nloop  = 10\n",
    "Lc = 1\n",
    "\n",
    "# generate random bits\n",
    "bitsTx = np.random.randint(2, size=(K, Nwords)) \n",
    "encodedBitsTx = ((G@bitsTx)%2).astype('int')\n",
    "encodedBitsTx = (encodedBitsTx.T).reshape(1,-1).T\n",
    "\n",
    "# Map bits to constellation symbols\n",
    "mod = QAMModem(m=M)\n",
    "symbTx = mod.modulate(encodedBitsTx)\n",
    "\n",
    "# Normalize symbols energy to 1\n",
    "symbTx = symbTx/np.sqrt(mod.Es)\n",
    "\n",
    "# AWGN    \n",
    "snrdB    = EbN0dB + 10*np.log10(np.log2(M))\n",
    "noiseVar = 1/(10**(snrdB/10))\n",
    "\n",
    "symbRx = awgn(symbTx, noiseVar)\n",
    "\n",
    "# BER calculation\n",
    "BER, _, _ = fastBERcalc(symbRx, symbTx, mod)\n",
    "print('BER = ', BER[0])\n",
    "\n",
    "constSymb = mod.constellation\n",
    "bitMap = mod.demodulate(constSymb, demod_type=\"hard\")\n",
    "bitMap = bitMap.reshape(-1, int(np.log2(M)))\n",
    "Es = mod.Es\n",
    "\n",
    "llr = calcLLR(symbRx, noiseVar, constSymb / np.sqrt(Es), bitMap)\n",
    "llr = llr.reshape(-1,1)\n",
    "\n",
    "decBits = np.zeros((N*Nwords,1))\n",
    "decBits[:] = np.nan\n",
    "\n",
    "Nl, Ml = sparse(H)"
   ]
  },
  {
   "cell_type": "code",
   "execution_count": 80,
   "id": "14bef1fe",
   "metadata": {
    "ExecuteTime": {
     "end_time": "2021-11-23T05:13:09.289703Z",
     "start_time": "2021-11-23T05:13:06.300545Z"
    }
   },
   "outputs": [
    {
     "name": "stdout",
     "output_type": "stream",
     "text": [
      "BERpostFEC =  0.03825874485596708\n"
     ]
    }
   ],
   "source": [
    "for ii in range(Nwords):  \n",
    "    llr_in = llr[N*ii:N*ii+N, :]\n",
    "    llr_out,_ = loggaldecode(H, llr_in, Nloop, Lc, Nl, Ml)\n",
    "    decBits[N*ii:N*ii+N,:] = ( np.sign(-llr_out) + 1 )/2\n",
    "\n",
    "BERpost = np.mean(np.logical_xor(encodedBitsTx, decBits))\n",
    "\n",
    "print('BERpostFEC = ', BERpost)"
   ]
  },
  {
   "cell_type": "code",
   "execution_count": 81,
   "id": "6d10a282",
   "metadata": {
    "ExecuteTime": {
     "end_time": "2021-11-23T05:13:10.980900Z",
     "start_time": "2021-11-23T05:13:10.703072Z"
    }
   },
   "outputs": [
    {
     "data": {
      "text/plain": [
       "[<matplotlib.lines.Line2D at 0x106edce8>]"
      ]
     },
     "execution_count": 81,
     "metadata": {},
     "output_type": "execute_result"
    },
    {
     "data": {
      "image/png": "[encoded data removed]",
      "text/plain": [
       "<Figure size 432x288 with 1 Axes>"
      ]
     },
     "metadata": {
      "needs_background": "light"
     },
     "output_type": "display_data"
    }
   ],
   "source": [
    "plt.plot(np.logical_xor(encodedBitsTx, decBits))"
   ]
  },
  {
   "cell_type": "code",
   "execution_count": null,
   "id": "833d9bca",
   "metadata": {},
   "outputs": [],
   "source": []
  }
 ],
 "metadata": {
  "jupytext": {
   "encoding": "# -*- coding: utf-8 -*-",
   "formats": "ipynb,py:light"
  },
  "kernelspec": {
   "display_name": "Python 3",
   "language": "python",
   "name": "python3"
  },
  "language_info": {
   "codemirror_mode": {
    "name": "ipython",
    "version": 3
   },
   "file_extension": ".py",
   "mimetype": "text/x-python",
   "name": "python",
   "nbconvert_exporter": "python",
   "pygments_lexer": "ipython3",
   "version": "3.8.8"
  },
  "toc": {
   "base_numbering": 1,
   "nav_menu": {},
   "number_sections": true,
   "sideBar": true,
   "skip_h1_title": true,
   "title_cell": "Table of Contents",
   "title_sidebar": "Contents",
   "toc_cell": true,
   "toc_position": {},
   "toc_section_display": true,
   "toc_window_display": false
  },
  "varInspector": {
   "cols": {
    "lenName": 16,
    "lenType": 16,
    "lenVar": 40
   },
   "kernels_config": {
    "python": {
     "delete_cmd_postfix": "",
     "delete_cmd_prefix": "del ",
     "library": "var_list.py",
     "varRefreshCmd": "print(var_dic_list())"
    },
    "r": {
     "delete_cmd_postfix": ") ",
     "delete_cmd_prefix": "rm(",
     "library": "var_list.r",
     "varRefreshCmd": "cat(var_dic_list()) "
    }
   },
   "types_to_exclude": [
    "module",
    "function",
    "builtin_function_or_method",
    "instance",
    "_Feature"
   ],
   "window_display": false
  }
 },
 "nbformat": 4,
 "nbformat_minor": 5
}
