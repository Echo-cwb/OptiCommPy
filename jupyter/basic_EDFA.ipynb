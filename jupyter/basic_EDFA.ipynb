{
 "cells": [
  {
   "cell_type": "code",
   "execution_count": 3,
   "metadata": {},
   "outputs": [],
   "source": [
    "import numpy as np\n",
    "import matplotlib.pyplot as plt\n",
    "\n",
    "from optic.core import parameters\n",
    "from optic.tx import simpleWDMTx\n",
    "from optic.amplification import edfaSM, OSA\n",
    "\n",
    "from scipy.constants import c\n",
    "from numpy.fft import fft,fftfreq\n",
    "\n",
    "import logging as logg\n",
    "logg.getLogger().setLevel(logg.INFO)\n",
    "logg.basicConfig(format='%(message)s')"
   ]
  },
  {
   "cell_type": "code",
   "execution_count": 2,
   "metadata": {},
   "outputs": [],
   "source": [
    "# EDFA parameters\n",
    "param_edfa = parameters()\n",
    "param_edfa.type     = \"AGC\"\n",
    "param_edfa.value    = 20 #dB\n",
    "param_edfa.forPump  = {'pump_signal': np.array([100e-3]), 'pump_lambda': np.array([980e-9])}\n",
    "param_edfa.bckPump  = {'pump_signal': np.array([000e-3]), 'pump_lambda': np.array([980e-9])}\n",
    "param_edfa.file     = 'C:\\\\Users\\\\Adolfo\\\\Documents\\\\GitHub\\\\OptiCommPy\\\\jupyter\\\\giles_MP980.dat'\n",
    "param_edfa.fileunit = 'nm'\n",
    "param_edfa.gmtc     = 'Bessel'\n",
    "param_edfa.tol      = 0.05\n",
    "param_edfa.tolCtrl  = 0.5"
   ]
  },
  {
   "cell_type": "code",
   "execution_count": 8,
   "metadata": {},
   "outputs": [],
   "source": [
    "# Transmitter parameters:\n",
    "paramTx = parameters()\n",
    "paramTx.M   = 4             # order of the modulation format\n",
    "paramTx.Rs  = 40e9          # symbol rate [baud]\n",
    "paramTx.SpS = 256           # samples per symbol\n",
    "paramTx.Nbits = 2**12       # total number of bits per polarization\n",
    "paramTx.pulse = 'rrc'       # pulse shaping filter\n",
    "paramTx.Ntaps = 1024        # number of pulse shaping filter coefficients\n",
    "paramTx.alphaRRC = 0.01     # RRC rolloff\n",
    "paramTx.Pch_dBm = -15       # power per WDM channel [dBm]\n",
    "paramTx.Nch     = 40        # number of WDM channels\n",
    "paramTx.Fc      = c/1550e-9 # central optical frequency of the WDM spectrum\n",
    "paramTx.freqSpac = 200e9    # WDM grid spacing\n",
    "paramTx.Nmodes = 2          # number of signal modes [2 for polarization multiplexed signals]"
   ]
  },
  {
   "cell_type": "code",
   "execution_count": null,
   "metadata": {},
   "outputs": [],
   "source": [
    "# generate WDM signal\n",
    "sigWDM_Tx, symbTx_, paramTx = simpleWDMTx(paramTx)"
   ]
  },
  {
   "cell_type": "code",
   "execution_count": null,
   "metadata": {},
   "outputs": [],
   "source": [
    "lenFrqSg,isy = np.shape(sigWDM_Tx)\n",
    "Fs = paramTx.Rs*paramTx.SpS\n",
    "#Tw = 1/Fs * (paramTx.Nbits / np.log2(paramTx.M)) * paramTx.SpS\n",
    "simOpticalBand = (Fs*(c/paramTx.Fc)**2)/c"
   ]
  },
  {
   "cell_type": "code",
   "execution_count": null,
   "metadata": {},
   "outputs": [],
   "source": [
    "OSA(sigWDM_Tx, Fs, paramTx.Fc)"
   ]
  },
  {
   "cell_type": "code",
   "execution_count": null,
   "metadata": {},
   "outputs": [],
   "source": [
    "# information TX\n",
    "print('Sample rate [THz]: %5.3f' %(1e-12*Fs))\n",
    "print('Time window [ns]:  %5.3f' %(1e9*lenFrqSg/Fs))\n",
    "print('Central wavelength [nm]: %6.2f' %(1e9*c/paramTx.Fc))\n",
    "print('Simulation window  [nm]: %f - [%6.2f nm - %6.2f nm]' \n",
    "      %(1e9*simOpticalBand, 1e9*(c/paramTx.Fc-simOpticalBand/2), 1e9*(c/paramTx.Fc+simOpticalBand/2)))\n",
    "print('Distância entre pontos [GHz]: %f' %(1e-9*Fs/lenFrqSg))\n",
    "print('Number of points: %d' %(lenFrqSg))\n",
    "print('Number of modes: %d' %(paramTx.Nmodes))\n",
    "print('Average power - TX [mW] : %.3f mW' %(1000*np.sum(np.mean(sigWDM_Tx * np.conj(sigWDM_Tx), axis = 0).real)))\n",
    "print('Average power - TX [dBm] : %.3f dBm' %(10*np.log10(np.sum(1000*np.mean(sigWDM_Tx * np.conj(sigWDM_Tx), axis = 0).real))))"
   ]
  },
  {
   "cell_type": "code",
   "execution_count": null,
   "metadata": {},
   "outputs": [],
   "source": [
    "#%load_ext line_profiler\n",
    "#%lprun -f edfaSM edfaSM(sigTxo, Fs, Fc, param_edfa)\n",
    "# amplification\n",
    "Eout, PumpF, PumpB = edfaSM(sigWDM_Tx, Fs, paramTx.Fc, param_edfa)"
   ]
  },
  {
   "cell_type": "code",
   "execution_count": null,
   "metadata": {},
   "outputs": [],
   "source": [
    "# information amp\n",
    "print('Average power - RX amp [mW] : %.3f mW' %(1000*np.sum(np.mean(sigWDM_Tx * np.conj(Eout), axis = 0).real)))\n",
    "print('Average power - RX amp [dBm] : %.3f dBm' %(10*np.log10(np.sum(1000*np.mean(Eout * np.conj(Eout), axis = 0).real))))"
   ]
  },
  {
   "cell_type": "code",
   "execution_count": null,
   "metadata": {},
   "outputs": [],
   "source": [
    "OSA(Eout, Fs, paramTx.Fc)"
   ]
  },
  {
   "cell_type": "code",
   "execution_count": null,
   "metadata": {},
   "outputs": [],
   "source": [
    "# plot signal\n",
    "lenFrqSg, isy = np.shape(Eout)\n",
    "freqSgn = Fs * fftfreq(lenFrqSg) + paramTx.Fc\n",
    "\n",
    "EinFFT  = fft(sigWDM_Tx, axis = 0)/lenFrqSg\n",
    "EoutFFT = fft(Eout, axis = 0)/lenFrqSg\n",
    "\n",
    "plt.plot(1e9*c/freqSgn, 10*np.log10(1000*np.abs(EinFFT)**2))\n",
    "plt.xlabel('Wavelength [nm]')\n",
    "plt.ylabel('Optical power [dBm]')\n",
    "plt.xlim([1515,1585])\n",
    "plt.ylim([-100,0])\n",
    "plt.grid()\n",
    "\n",
    "plt.plot(1e9*c/freqSgn, 10*np.log10(1000*np.abs(EoutFFT)**2))\n",
    "plt.xlabel('Wavelength [nm]')\n",
    "plt.ylabel('Optical power [dBm]')\n",
    "plt.xlim([1515,1585])\n",
    "plt.ylim([-100,0])\n",
    "plt.grid()"
   ]
  }
 ],
 "metadata": {
  "kernelspec": {
   "display_name": "Python 3.9.13",
   "language": "python",
   "name": "python3"
  },
  "language_info": {
   "codemirror_mode": {
    "name": "ipython",
    "version": 3
   },
   "file_extension": ".py",
   "mimetype": "text/x-python",
   "name": "python",
   "nbconvert_exporter": "python",
   "pygments_lexer": "ipython3",
   "version": "3.9.13"
  },
  "orig_nbformat": 4,
  "vscode": {
   "interpreter": {
    "hash": "fe6c4cde29b0c19359af5e8069e76466e74ec4aaceb024dd44afb17408094e36"
   }
  }
 },
 "nbformat": 4,
 "nbformat_minor": 2
}
