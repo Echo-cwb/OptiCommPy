{
  "cells": [
    {
      "cell_type": "markdown",
      "metadata": {
        "id": "view-in-github",
        "colab_type": "text"
      },
      "source": [
        "<a href=\"https://colab.research.google.com/github/edsonportosilva/OptiCommPy/blob/main/jupyter/test_WDM_transmission.ipynb\" target=\"_parent\"><img src=\"https://colab.research.google.com/assets/colab-badge.svg\" alt=\"Open In Colab\"/></a>"
      ]
    },
    {
      "cell_type": "markdown",
      "id": "0270b2b0",
      "metadata": {
        "id": "0270b2b0"
      },
      "source": [
        "# Simulation of coherent WDM transmission"
      ]
    },
    {
      "cell_type": "code",
      "execution_count": 1,
      "id": "1ca1b9d6",
      "metadata": {
        "ExecuteTime": {
          "end_time": "2022-10-06T19:51:08.474627Z",
          "start_time": "2022-10-06T19:51:08.455764Z"
        },
        "colab": {
          "base_uri": "https://localhost:8080/"
        },
        "id": "1ca1b9d6",
        "outputId": "842dd4fc-f03a-4069-cf21-3ff634969be9"
      },
      "outputs": [
        {
          "output_type": "stream",
          "name": "stdout",
          "text": [
            "Cloning into 'OptiCommPy'...\n",
            "remote: Enumerating objects: 2710, done.\u001b[K\n",
            "remote: Counting objects: 100% (941/941), done.\u001b[K\n",
            "remote: Compressing objects: 100% (378/378), done.\u001b[K\n",
            "remote: Total 2710 (delta 609), reused 886 (delta 562), pack-reused 1769\u001b[K\n",
            "Receiving objects: 100% (2710/2710), 63.26 MiB | 20.00 MiB/s, done.\n",
            "Resolving deltas: 100% (1874/1874), done.\n",
            "Looking in indexes: https://pypi.org/simple, https://us-python.pkg.dev/colab-wheels/public/simple/\n",
            "Processing /content/OptiCommPy\n",
            "\u001b[33m  DEPRECATION: A future pip version will change local packages to be built in-place without first copying to a temporary directory. We recommend you use --use-feature=in-tree-build to test your packages with this new behavior before it becomes the default.\n",
            "   pip 21.3 will remove support for this functionality. You can find discussion regarding this at https://github.com/pypa/pip/issues/7555.\u001b[0m\n",
            "Requirement already satisfied: numpy in /usr/local/lib/python3.7/dist-packages (from OpticCommpy==0.1.0) (1.21.6)\n",
            "Requirement already satisfied: scipy in /usr/local/lib/python3.7/dist-packages (from OpticCommpy==0.1.0) (1.7.3)\n",
            "Requirement already satisfied: matplotlib in /usr/local/lib/python3.7/dist-packages (from OpticCommpy==0.1.0) (3.2.2)\n",
            "Requirement already satisfied: sympy in /usr/local/lib/python3.7/dist-packages (from OpticCommpy==0.1.0) (1.7.1)\n",
            "Requirement already satisfied: tqdm in /usr/local/lib/python3.7/dist-packages (from OpticCommpy==0.1.0) (4.64.1)\n",
            "Requirement already satisfied: numba in /usr/local/lib/python3.7/dist-packages (from OpticCommpy==0.1.0) (0.56.3)\n",
            "Collecting scikit-commpy\n",
            "  Downloading scikit-commpy-0.8.0.tar.gz (102 kB)\n",
            "\u001b[K     |████████████████████████████████| 102 kB 6.1 MB/s \n",
            "\u001b[?25hRequirement already satisfied: cycler>=0.10 in /usr/local/lib/python3.7/dist-packages (from matplotlib->OpticCommpy==0.1.0) (0.11.0)\n",
            "Requirement already satisfied: pyparsing!=2.0.4,!=2.1.2,!=2.1.6,>=2.0.1 in /usr/local/lib/python3.7/dist-packages (from matplotlib->OpticCommpy==0.1.0) (3.0.9)\n",
            "Requirement already satisfied: python-dateutil>=2.1 in /usr/local/lib/python3.7/dist-packages (from matplotlib->OpticCommpy==0.1.0) (2.8.2)\n",
            "Requirement already satisfied: kiwisolver>=1.0.1 in /usr/local/lib/python3.7/dist-packages (from matplotlib->OpticCommpy==0.1.0) (1.4.4)\n",
            "Requirement already satisfied: typing-extensions in /usr/local/lib/python3.7/dist-packages (from kiwisolver>=1.0.1->matplotlib->OpticCommpy==0.1.0) (4.1.1)\n",
            "Requirement already satisfied: six>=1.5 in /usr/local/lib/python3.7/dist-packages (from python-dateutil>=2.1->matplotlib->OpticCommpy==0.1.0) (1.15.0)\n",
            "Requirement already satisfied: setuptools in /usr/local/lib/python3.7/dist-packages (from numba->OpticCommpy==0.1.0) (57.4.0)\n",
            "Requirement already satisfied: importlib-metadata in /usr/local/lib/python3.7/dist-packages (from numba->OpticCommpy==0.1.0) (4.13.0)\n",
            "Requirement already satisfied: llvmlite<0.40,>=0.39.0dev0 in /usr/local/lib/python3.7/dist-packages (from numba->OpticCommpy==0.1.0) (0.39.1)\n",
            "Requirement already satisfied: zipp>=0.5 in /usr/local/lib/python3.7/dist-packages (from importlib-metadata->numba->OpticCommpy==0.1.0) (3.9.0)\n",
            "Requirement already satisfied: mpmath>=0.19 in /usr/local/lib/python3.7/dist-packages (from sympy->OpticCommpy==0.1.0) (1.2.1)\n",
            "Building wheels for collected packages: OpticCommpy, scikit-commpy\n",
            "  Building wheel for OpticCommpy (setup.py) ... \u001b[?25l\u001b[?25hdone\n",
            "  Created wheel for OpticCommpy: filename=OpticCommpy-0.1.0-py3-none-any.whl size=38855 sha256=f57913b4d74cb8b77716a2b41cc2831e3210d060838588c703065b261eb4a344\n",
            "  Stored in directory: /tmp/pip-ephem-wheel-cache-ntxv5ibp/wheels/86/a6/e4/b590dcf328df4752195276814fd608a284f1ead675da00b64c\n",
            "  Building wheel for scikit-commpy (setup.py) ... \u001b[?25l\u001b[?25hdone\n",
            "  Created wheel for scikit-commpy: filename=scikit_commpy-0.8.0-py3-none-any.whl size=115023 sha256=df397b78a9a4073fac6d7475a30010f3c41e10a8c6f6eaa93eac702e3b000045\n",
            "  Stored in directory: /root/.cache/pip/wheels/53/31/e7/5eb3325934a65c0e0c2ee1e718c2b1a3db6f0ea13a403a3e9e\n",
            "Successfully built OpticCommpy scikit-commpy\n",
            "Installing collected packages: scikit-commpy, OpticCommpy\n",
            "Successfully installed OpticCommpy-0.1.0 scikit-commpy-0.8.0\n"
          ]
        }
      ],
      "source": [
        "if 'google.colab' in str(get_ipython()):    \n",
        "    ! git clone -b main https://github.com/edsonportosilva/OptiCommPy\n",
        "    from os import chdir as cd\n",
        "    cd('/content/OptiCommPy/')\n",
        "    ! pip install . "
      ]
    },
    {
      "cell_type": "code",
      "execution_count": 2,
      "id": "a4110d40",
      "metadata": {
        "ExecuteTime": {
          "end_time": "2022-10-06T19:51:10.646655Z",
          "start_time": "2022-10-06T19:51:08.475624Z"
        },
        "id": "a4110d40"
      },
      "outputs": [],
      "source": [
        "import matplotlib.pyplot as plt\n",
        "import numpy as np\n",
        "\n",
        "from optic.dsp import pulseShape, firFilter, decimate, symbolSync\n",
        "from optic.models import phaseNoise, pdmCoherentReceiver\n",
        "\n",
        "try:\n",
        "    from optic.modelsGPU import manakovSSF\n",
        "except:\n",
        "    from optic.models import manakovSSF\n",
        "\n",
        "from optic.tx import simpleWDMTx\n",
        "from optic.core import parameters\n",
        "from optic.equalization import edc, mimoAdaptEqualizer\n",
        "from optic.carrierRecovery import cpr\n",
        "from optic.metrics import fastBERcalc, monteCarloGMI, monteCarloMI, signal_power\n",
        "from optic.plot import pconst\n",
        "\n",
        "import scipy.constants as const"
      ]
    },
    {
      "cell_type": "code",
      "execution_count": 3,
      "id": "7df01820",
      "metadata": {
        "ExecuteTime": {
          "end_time": "2022-10-06T19:51:10.661615Z",
          "start_time": "2022-10-06T19:51:10.647653Z"
        },
        "colab": {
          "base_uri": "https://localhost:8080/",
          "height": 17
        },
        "id": "7df01820",
        "outputId": "604d8ed4-041f-4280-ec2b-972c3a244a4d"
      },
      "outputs": [
        {
          "output_type": "execute_result",
          "data": {
            "text/plain": [
              "<IPython.core.display.HTML object>"
            ],
            "text/html": [
              "\n",
              "<style>\n",
              ".output_png {\n",
              "    display: table-cell;\n",
              "    text-align: center;\n",
              "    vertical-align: middle;\n",
              "}\n",
              "</style>\n"
            ]
          },
          "metadata": {},
          "execution_count": 3
        }
      ],
      "source": [
        "from IPython.core.display import HTML\n",
        "from IPython.core.pylabtools import figsize\n",
        "\n",
        "HTML(\"\"\"\n",
        "<style>\n",
        ".output_png {\n",
        "    display: table-cell;\n",
        "    text-align: center;\n",
        "    vertical-align: middle;\n",
        "}\n",
        "</style>\n",
        "\"\"\")"
      ]
    },
    {
      "cell_type": "code",
      "execution_count": 4,
      "id": "b8626f68",
      "metadata": {
        "ExecuteTime": {
          "end_time": "2022-10-06T19:51:10.754849Z",
          "start_time": "2022-10-06T19:51:10.663610Z"
        },
        "id": "b8626f68"
      },
      "outputs": [],
      "source": [
        "figsize(10, 3)"
      ]
    },
    {
      "cell_type": "code",
      "execution_count": 5,
      "id": "fc09c144",
      "metadata": {
        "ExecuteTime": {
          "end_time": "2022-10-06T19:51:10.894922Z",
          "start_time": "2022-10-06T19:51:10.760834Z"
        },
        "id": "fc09c144"
      },
      "outputs": [],
      "source": [
        "%load_ext autoreload\n",
        "%autoreload 2\n",
        "#%load_ext line_profiler"
      ]
    },
    {
      "cell_type": "markdown",
      "id": "e22e32db",
      "metadata": {
        "id": "e22e32db"
      },
      "source": [
        "\n",
        "## Transmitter"
      ]
    },
    {
      "cell_type": "markdown",
      "id": "f01da2ca",
      "metadata": {
        "id": "f01da2ca"
      },
      "source": [
        "**Polarization multiplexed WDM signal generation**"
      ]
    },
    {
      "cell_type": "code",
      "execution_count": 6,
      "id": "51257869",
      "metadata": {
        "ExecuteTime": {
          "end_time": "2022-10-06T19:51:16.635689Z",
          "start_time": "2022-10-06T19:51:10.895729Z"
        },
        "lines_to_next_cell": 0,
        "colab": {
          "base_uri": "https://localhost:8080/"
        },
        "id": "51257869",
        "outputId": "4efb007d-d5fe-4d7d-ad28-f0bbffdd13fd"
      },
      "outputs": [
        {
          "output_type": "stream",
          "name": "stdout",
          "text": [
            "channel 0\t fc : 192.9125 THz\n",
            "  mode #0\t power: -2.01 dBm\n",
            "  mode #1\t power: -2.01 dBm\n",
            "channel 0\t power: 1.00 dBm\n",
            "\n",
            "channel 1\t fc : 192.9500 THz\n",
            "  mode #0\t power: -2.01 dBm\n",
            "  mode #1\t power: -2.01 dBm\n",
            "channel 1\t power: 1.00 dBm\n",
            "\n",
            "channel 2\t fc : 192.9875 THz\n",
            "  mode #0\t power: -2.01 dBm\n",
            "  mode #1\t power: -2.01 dBm\n",
            "channel 2\t power: 1.00 dBm\n",
            "\n",
            "channel 3\t fc : 193.0250 THz\n",
            "  mode #0\t power: -2.01 dBm\n",
            "  mode #1\t power: -2.01 dBm\n",
            "channel 3\t power: 1.00 dBm\n",
            "\n",
            "channel 4\t fc : 193.0625 THz\n",
            "  mode #0\t power: -2.01 dBm\n",
            "  mode #1\t power: -2.01 dBm\n",
            "channel 4\t power: 1.00 dBm\n",
            "\n",
            "channel 5\t fc : 193.1000 THz\n",
            "  mode #0\t power: -2.01 dBm\n",
            "  mode #1\t power: -2.01 dBm\n",
            "channel 5\t power: 1.00 dBm\n",
            "\n",
            "channel 6\t fc : 193.1375 THz\n",
            "  mode #0\t power: -2.01 dBm\n",
            "  mode #1\t power: -2.01 dBm\n",
            "channel 6\t power: 1.00 dBm\n",
            "\n",
            "channel 7\t fc : 193.1750 THz\n",
            "  mode #0\t power: -2.01 dBm\n",
            "  mode #1\t power: -2.01 dBm\n",
            "channel 7\t power: 1.00 dBm\n",
            "\n",
            "channel 8\t fc : 193.2125 THz\n",
            "  mode #0\t power: -2.01 dBm\n",
            "  mode #1\t power: -2.01 dBm\n",
            "channel 8\t power: 1.00 dBm\n",
            "\n",
            "channel 9\t fc : 193.2500 THz\n",
            "  mode #0\t power: -2.01 dBm\n",
            "  mode #1\t power: -2.01 dBm\n",
            "channel 9\t power: 1.00 dBm\n",
            "\n",
            "channel 10\t fc : 193.2875 THz\n",
            "  mode #0\t power: -2.01 dBm\n",
            "  mode #1\t power: -2.01 dBm\n",
            "channel 10\t power: 1.00 dBm\n",
            "\n",
            "total WDM signal power: 11.41 dBm\n"
          ]
        }
      ],
      "source": [
        "# Transmitter parameters:\n",
        "paramTx = parameters()\n",
        "paramTx.M   = 16           # order of the modulation format\n",
        "paramTx.Rs  = 32e9         # symbol rate [baud]\n",
        "paramTx.SpS = 16           # samples per symbol\n",
        "paramTx.Nbits = 400000     # total number of bits per polarization\n",
        "paramTx.pulse = 'rrc'      # pulse shaping filter\n",
        "paramTx.Ntaps = 1024       # number of pulse shaping filter coefficients\n",
        "paramTx.alphaRRC = 0.01    # RRC rolloff\n",
        "paramTx.Pch_dBm = 1        # power per WDM channel [dBm]\n",
        "paramTx.Nch     = 11       # number of WDM channels\n",
        "paramTx.Fc      = 193.1e12 # central optical frequency of the WDM spectrum\n",
        "paramTx.freqSpac = 37.5e9  # WDM grid spacing\n",
        "paramTx.Nmodes = 2         # number of signal modes [2 for polarization multiplexed signals]\n",
        "\n",
        "# generate WDM signal\n",
        "sigWDM_Tx, symbTx_, paramTx = simpleWDMTx(paramTx)"
      ]
    },
    {
      "cell_type": "markdown",
      "id": "0cb851bf",
      "metadata": {
        "id": "0cb851bf"
      },
      "source": [
        "**Nonlinear fiber propagation with the split-step Fourier method**"
      ]
    },
    {
      "cell_type": "code",
      "execution_count": 7,
      "id": "05599d49",
      "metadata": {
        "ExecuteTime": {
          "end_time": "2022-10-06T20:03:52.227021Z",
          "start_time": "2022-10-06T20:00:30.731098Z"
        },
        "scrolled": false,
        "colab": {
          "base_uri": "https://localhost:8080/",
          "height": 49,
          "referenced_widgets": [
            "d7ec57b1b19d4660a0548563dd43f97c",
            "f973387453444cc4b5fbec8658506a3a",
            "0d0d223577654c0980520ed48c4866a7",
            "92a22dde2b5e4ab882f824d5dff0d377",
            "7b1b87f7b77049a691df25723928eef3",
            "32ef48a5dd1d4a2cb94e5409dd572d74",
            "c5a9e5d034e64b00b295e93140f51e72",
            "b70bb6363ff64ccbb7087900ef892eb5",
            "d4247b94ef5c4a439cd4af9458125fc2",
            "6a786005faa04fd8b7c5e69dc70df06a",
            "994d17059a9b47f0b2ed3654712fb0c3"
          ]
        },
        "id": "05599d49",
        "outputId": "debb83bb-27f7-46f4-be76-89fc838c11ac"
      },
      "outputs": [
        {
          "output_type": "display_data",
          "data": {
            "text/plain": [
              "  0%|          | 0/14 [00:00<?, ?it/s]"
            ],
            "application/vnd.jupyter.widget-view+json": {
              "version_major": 2,
              "version_minor": 0,
              "model_id": "d7ec57b1b19d4660a0548563dd43f97c"
            }
          },
          "metadata": {}
        }
      ],
      "source": [
        "# optical channel parameters\n",
        "paramCh = parameters()\n",
        "paramCh.Ltotal = 700     # total link distance [km]\n",
        "paramCh.Lspan  = 50      # span length [km]\n",
        "paramCh.alpha = 0.2      # fiber loss parameter [dB/km]\n",
        "paramCh.D = 16           # fiber dispersion parameter [ps/nm/km]\n",
        "paramCh.gamma = 1.3      # fiber nonlinear parameter [1/(W.km)]\n",
        "paramCh.Fc = paramTx.Fc  # central optical frequency of the WDM spectrum\n",
        "paramCh.hz = 1           # step-size of the split-step Fourier method [km]\n",
        "paramCh.maxIter = 5      # maximum number of convergence iterations per step\n",
        "paramCh.tol = 1e-5       # error tolerance per step\n",
        "paramCh.prgsBar = True   # show progress bar?\n",
        "\n",
        "Fs = paramTx.Rs*paramTx.SpS # sampling rate\n",
        "\n",
        "# nonlinear signal propagation\n",
        "sigWDM, paramCh = manakovSSF(sigWDM_Tx, Fs, paramCh)"
      ]
    },
    {
      "cell_type": "markdown",
      "id": "45da6d22",
      "metadata": {
        "id": "45da6d22"
      },
      "source": [
        "**Optical WDM spectrum before and after transmission**"
      ]
    },
    {
      "cell_type": "code",
      "execution_count": 8,
      "id": "489a01ea",
      "metadata": {
        "ExecuteTime": {
          "end_time": "2022-10-06T20:03:52.505962Z",
          "start_time": "2022-10-06T20:03:52.228891Z"
        },
        "lines_to_next_cell": 2,
        "colab": {
          "base_uri": "https://localhost:8080/",
          "height": 241
        },
        "id": "489a01ea",
        "outputId": "a50a47a0-e564-4b88-de4d-21440eab470c"
      },
      "outputs": [
        {
          "output_type": "display_data",
          "data": {
            "text/plain": [
              "<Figure size 720x216 with 1 Axes>"
            ],
            "image/png": "[encoded data removed]"
          },
          "metadata": {
            "needs_background": "light"
          }
        }
      ],
      "source": [
        "# plot psd\n",
        "plt.figure(figsize=(10, 3))\n",
        "plt.xlim(paramCh.Fc-Fs/2,paramCh.Fc+Fs/2);\n",
        "plt.psd(sigWDM_Tx[:,0], Fs=Fs, Fc=paramCh.Fc, NFFT = 4*1024, sides='twosided', label = 'WDM spectrum - Tx')\n",
        "plt.psd(sigWDM[:,0], Fs=Fs, Fc=paramCh.Fc, NFFT = 4*1024, sides='twosided', label = 'WDM spectrum - Rx')\n",
        "plt.legend(loc='lower left')\n",
        "plt.title('optical WDM spectrum');"
      ]
    },
    {
      "cell_type": "markdown",
      "id": "f291b19a",
      "metadata": {
        "id": "f291b19a"
      },
      "source": [
        "### WDM channels coherent detection and demodulation"
      ]
    },
    {
      "cell_type": "code",
      "execution_count": 9,
      "id": "76945fb5",
      "metadata": {
        "ExecuteTime": {
          "end_time": "2022-10-06T20:03:53.844085Z",
          "start_time": "2022-10-06T20:03:52.506934Z"
        },
        "colab": {
          "base_uri": "https://localhost:8080/",
          "height": 294
        },
        "id": "76945fb5",
        "outputId": "c57aaf50-d5cf-404b-cae2-60fb631b65e6"
      },
      "outputs": [
        {
          "output_type": "stream",
          "name": "stdout",
          "text": [
            "Demodulating channel #5 , fc: 193.1000 THz, λ: 1552.5244 nm\n",
            "\n",
            "Local oscillator P: 10.00 dBm, lw: 200.00 kHz, FO: 0.00 MHz\n",
            "\n"
          ]
        },
        {
          "output_type": "display_data",
          "data": {
            "text/plain": [
              "<Figure size 720x216 with 2 Axes>"
            ],
            "image/png": "[encoded data removed]"
          },
          "metadata": {
            "needs_background": "light"
          }
        }
      ],
      "source": [
        "# Receiver\n",
        "\n",
        "# parameters\n",
        "chIndex  = 5     # index of the channel to be demodulated\n",
        "\n",
        "Fc = paramCh.Fc\n",
        "Ts = 1/Fs\n",
        "freqGrid = paramTx.freqGrid\n",
        "\n",
        "print('Demodulating channel #%d , fc: %.4f THz, λ: %.4f nm\\n'\\\n",
        "      %(chIndex, (Fc + freqGrid[chIndex])/1e12, const.c/(Fc + freqGrid[chIndex])/1e-9))\n",
        "\n",
        "symbTx = symbTx_[:,:,chIndex]\n",
        "\n",
        "# local oscillator (LO) parameters:\n",
        "FO      = 0*64e6                # frequency offset\n",
        "Δf_lo   = freqGrid[chIndex]+FO  # downshift of the channel to be demodulated\n",
        "lw      = 200e3                 # linewidth\n",
        "Plo_dBm = 10                    # power in dBm\n",
        "Plo     = 10**(Plo_dBm/10)*1e-3 # power in W\n",
        "ϕ_lo    = 0                     # initial phase in rad    \n",
        "\n",
        "print('Local oscillator P: %.2f dBm, lw: %.2f kHz, FO: %.2f MHz\\n'\\\n",
        "      %(Plo_dBm, lw/1e3, FO/1e6))\n",
        "\n",
        "# generate LO field\n",
        "π       = np.pi\n",
        "t       = np.arange(0, len(sigWDM))*Ts\n",
        "ϕ_pn_lo = phaseNoise(lw, len(sigWDM), Ts)\n",
        "sigLO   = np.sqrt(Plo)*np.exp(1j*(2*π*Δf_lo*t + ϕ_lo + ϕ_pn_lo))\n",
        "\n",
        "# polarization multiplexed coherent optical receiver\n",
        "sigRx = pdmCoherentReceiver(sigWDM, sigLO, θsig = π/3, Rdx=1, Rdy=1)\n",
        "\n",
        "# plot constellations\n",
        "pconst(sigRx[0::paramTx.SpS,:], lim=True, R=3)"
      ]
    },
    {
      "cell_type": "markdown",
      "id": "1cbf39db",
      "metadata": {
        "id": "1cbf39db"
      },
      "source": [
        "### Matched filtering and CD compensation"
      ]
    },
    {
      "cell_type": "code",
      "execution_count": 10,
      "id": "065d823a",
      "metadata": {
        "ExecuteTime": {
          "end_time": "2022-10-06T20:03:55.916985Z",
          "start_time": "2022-10-06T20:03:53.846080Z"
        },
        "colab": {
          "base_uri": "https://localhost:8080/",
          "height": 433
        },
        "id": "065d823a",
        "outputId": "15b896b0-0310-44b2-e3d1-269c74419fd4"
      },
      "outputs": [
        {
          "output_type": "display_data",
          "data": {
            "text/plain": [
              "<Figure size 720x216 with 2 Axes>"
            ],
            "image/png": "[encoded data removed]"
          },
          "metadata": {
            "needs_background": "light"
          }
        },
        {
          "output_type": "display_data",
          "data": {
            "text/plain": [
              "<Figure size 720x216 with 2 Axes>"
            ],
            "image/png": "[encoded data removed]"
          },
          "metadata": {
            "needs_background": "light"
          }
        }
      ],
      "source": [
        "# Rx filtering\n",
        "\n",
        "# Matched filtering\n",
        "if paramTx.pulse == 'nrz':\n",
        "    pulse = pulseShape('nrz', paramTx.SpS)\n",
        "elif paramTx.pulse == 'rrc':\n",
        "    pulse = pulseShape('rrc', paramTx.SpS, N=paramTx.Ntaps, alpha=paramTx.alphaRRC, Ts=1/paramTx.Rs)\n",
        "    \n",
        "pulse = pulse/np.max(np.abs(pulse))            \n",
        "sigRx = firFilter(pulse, sigRx)\n",
        "\n",
        "# plot constellations after matched filtering\n",
        "pconst(sigRx[0::paramTx.SpS,:], lim=True, R=3)\n",
        "\n",
        "# CD compensation\n",
        "sigRx = edc(sigRx, paramCh.Ltotal, paramCh.D, Fc-Δf_lo, Fs)\n",
        "\n",
        "# plot constellations after CD compensation\n",
        "pconst(sigRx[0::paramTx.SpS,:], lim=True, R=3)"
      ]
    },
    {
      "cell_type": "markdown",
      "id": "901da914",
      "metadata": {
        "id": "901da914"
      },
      "source": [
        "### Downsampling to 2 samples/symbol and re-synchronization with transmitted sequences"
      ]
    },
    {
      "cell_type": "code",
      "execution_count": 11,
      "id": "0d7e62a5",
      "metadata": {
        "ExecuteTime": {
          "end_time": "2022-10-06T20:03:56.073984Z",
          "start_time": "2022-10-06T20:03:55.917982Z"
        },
        "id": "0d7e62a5"
      },
      "outputs": [],
      "source": [
        "# decimation\n",
        "paramDec = parameters()\n",
        "paramDec.SpS_in  = paramTx.SpS\n",
        "paramDec.SpS_out = 2\n",
        "sigRx = decimate(sigRx, paramDec)\n",
        "\n",
        "symbRx = symbolSync(sigRx, symbTx, 2)"
      ]
    },
    {
      "cell_type": "markdown",
      "id": "e3813947",
      "metadata": {
        "id": "e3813947"
      },
      "source": [
        "### Power normalization"
      ]
    },
    {
      "cell_type": "code",
      "execution_count": 12,
      "id": "e6af9d14",
      "metadata": {
        "ExecuteTime": {
          "end_time": "2022-10-06T20:03:56.586391Z",
          "start_time": "2022-10-06T20:03:56.075032Z"
        },
        "id": "e6af9d14"
      },
      "outputs": [],
      "source": [
        "x = sigRx\n",
        "d = symbRx\n",
        "\n",
        "x = x.reshape(len(x),2)/np.sqrt(signal_power(x))\n",
        "d = d.reshape(len(d),2)/np.sqrt(signal_power(d))"
      ]
    },
    {
      "cell_type": "markdown",
      "id": "f9c25025",
      "metadata": {
        "id": "f9c25025"
      },
      "source": [
        "### Adaptive equalization"
      ]
    },
    {
      "cell_type": "code",
      "execution_count": 13,
      "id": "512e12d6",
      "metadata": {
        "ExecuteTime": {
          "end_time": "2022-10-06T20:04:16.675750Z",
          "start_time": "2022-10-06T20:03:56.587237Z"
        },
        "colab": {
          "base_uri": "https://localhost:8080/",
          "height": 552,
          "referenced_widgets": [
            "305e5dc45df947c4b3640746643c4a26",
            "b07e3d1c0eee407ba3a2b6b3498edb61",
            "e0f8d22f269246b9b4ed8c6c7e61aeae",
            "5b6ae8306e70477580b6203d44e33a38",
            "0ef4e5276a4344638674b547b859a129",
            "0cec9d9b71ba45018460f4942672e73b",
            "596d425cdf7f4a0697238e3664c5195f",
            "9eef6ad9e86b4434b244d76fb90653b2",
            "d751e4cdab95433f8fabdaebf41d630a",
            "5773596ed660451aac75b1f0b2a052e5",
            "f6e0856c07ed4069940d749b31c5d6d5"
          ]
        },
        "id": "512e12d6",
        "outputId": "e3f465e7-4243-45e7-90ec-cfd37a45d1c8"
      },
      "outputs": [
        {
          "output_type": "stream",
          "name": "stdout",
          "text": [
            "\n",
            "\n",
            "da-rde - training stage #0\n"
          ]
        },
        {
          "output_type": "display_data",
          "data": {
            "text/plain": [
              "  0%|          | 0/5 [00:00<?, ?it/s]"
            ],
            "application/vnd.jupyter.widget-view+json": {
              "version_major": 2,
              "version_minor": 0,
              "model_id": "305e5dc45df947c4b3640746643c4a26"
            }
          },
          "metadata": {}
        },
        {
          "output_type": "stream",
          "name": "stdout",
          "text": [
            "da-rde pre-convergence training iteration #0\n",
            "da-rde MSE = 0.044789.\n",
            "da-rde pre-convergence training iteration #1\n",
            "da-rde MSE = 0.042314.\n",
            "da-rde pre-convergence training iteration #2\n",
            "da-rde MSE = 0.042259.\n",
            "da-rde pre-convergence training iteration #3\n",
            "da-rde MSE = 0.042221.\n",
            "da-rde pre-convergence training iteration #4\n",
            "da-rde MSE = 0.042195.\n",
            "\n",
            "\n",
            "rde - training stage #1\n",
            "rde MSE = 0.031270.\n"
          ]
        },
        {
          "output_type": "display_data",
          "data": {
            "text/plain": [
              "<Figure size 720x216 with 2 Axes>"
            ],
            "image/png": "[encoded data removed]"
          },
          "metadata": {
            "needs_background": "light"
          }
        }
      ],
      "source": [
        "# adaptive equalization parameters\n",
        "paramEq = parameters()\n",
        "paramEq.nTaps = 15\n",
        "paramEq.SpS   = 2\n",
        "paramEq.mu    = [5e-3, 2e-3]\n",
        "paramEq.numIter = 5\n",
        "paramEq.storeCoeff = False\n",
        "paramEq.alg   = ['da-rde','rde']\n",
        "paramEq.M     = paramTx.M\n",
        "paramEq.L = [20000, 80000]\n",
        "\n",
        "y_EQ, H, errSq, Hiter = mimoAdaptEqualizer(x, dx=d, paramEq=paramEq)\n",
        "\n",
        "#plot constellations after adaptive equalization\n",
        "discard = 5000\n",
        "pconst([y_EQ[discard:-discard,:], d], lim=True)"
      ]
    },
    {
      "cell_type": "markdown",
      "id": "aaf0f85c",
      "metadata": {
        "id": "aaf0f85c"
      },
      "source": [
        "### Carrier phase recovery"
      ]
    },
    {
      "cell_type": "code",
      "execution_count": 14,
      "id": "4f6650fe",
      "metadata": {
        "ExecuteTime": {
          "end_time": "2022-10-06T20:04:23.270455Z",
          "start_time": "2022-10-06T20:04:16.676720Z"
        },
        "colab": {
          "base_uri": "https://localhost:8080/",
          "height": 435
        },
        "id": "4f6650fe",
        "outputId": "c5e97918-3305-4e71-8017-8b3432ff1e38"
      },
      "outputs": [
        {
          "output_type": "display_data",
          "data": {
            "text/plain": [
              "<Figure size 720x216 with 1 Axes>"
            ],
            "image/png": "[encoded data removed]"
          },
          "metadata": {
            "needs_background": "light"
          }
        },
        {
          "output_type": "display_data",
          "data": {
            "text/plain": [
              "<Figure size 720x216 with 2 Axes>"
            ],
            "image/png": "[encoded data removed]"
          },
          "metadata": {
            "needs_background": "light"
          }
        }
      ],
      "source": [
        "paramCPR = parameters()\n",
        "paramCPR.alg = 'bps'\n",
        "paramCPR.M   = paramTx.M\n",
        "paramCPR.N   = 75\n",
        "paramCPR.B   = 64\n",
        "paramCPR.pilotInd = np.arange(0, len(y_EQ), 20) \n",
        "\n",
        "y_CPR, θ = cpr(y_EQ, symbTx=d, paramCPR=paramCPR)\n",
        "\n",
        "y_CPR = y_CPR/np.sqrt(signal_power(y_CPR))\n",
        "\n",
        "plt.figure(figsize=(10, 3))\n",
        "plt.title('CPR estimated phase')\n",
        "plt.plot(θ,'-')\n",
        "plt.xlim(0, len(θ))\n",
        "plt.grid();\n",
        "\n",
        "discard = 5000\n",
        "\n",
        "#plot constellations after CPR\n",
        "pconst([y_CPR[discard:-discard,:], d], lim=True)"
      ]
    },
    {
      "cell_type": "markdown",
      "id": "e9e07048",
      "metadata": {
        "id": "e9e07048"
      },
      "source": [
        "### Evaluate transmission metrics"
      ]
    },
    {
      "cell_type": "code",
      "execution_count": 15,
      "id": "67c66471",
      "metadata": {
        "ExecuteTime": {
          "end_time": "2022-10-06T20:04:25.129751Z",
          "start_time": "2022-10-06T20:04:23.271478Z"
        },
        "colab": {
          "base_uri": "https://localhost:8080/"
        },
        "id": "67c66471",
        "outputId": "5e6538be-8488-470e-ab15-c1be2c1a9191"
      },
      "outputs": [
        {
          "output_type": "stream",
          "name": "stdout",
          "text": [
            "     pol.X     pol.Y      \n",
            "SER: 3.94e-03, 4.06e-03\n",
            "BER: 9.89e-04, 1.02e-03\n",
            "SNR: 17.04 dB, 17.05 dB\n",
            "MI: 3.98 bits, 3.98 bits\n",
            "GMI: 3.98 bits, 3.98 bits\n"
          ]
        }
      ],
      "source": [
        "# correct (possible) phase ambiguity\n",
        "for k in range(y_CPR.shape[1]):\n",
        "    rot = np.mean(d[:,k]/y_CPR[:,k])\n",
        "    y_CPR[:,k] = rot*y_CPR[:,k]\n",
        "\n",
        "y_CPR = y_CPR/np.sqrt(signal_power(y_CPR))\n",
        "\n",
        "\n",
        "ind = np.arange(discard, d.shape[0]-discard)\n",
        "BER, SER, SNR = fastBERcalc(y_CPR[ind,:], d[ind,:], paramTx.M, 'qam')\n",
        "GMI,_    = monteCarloGMI(y_CPR[ind,:], d[ind,:], paramTx.M, 'qam')\n",
        "MI       = monteCarloMI(y_CPR[ind,:], d[ind,:], paramTx.M, 'qam')\n",
        "\n",
        "print('     pol.X     pol.Y      ')\n",
        "print('SER: %.2e, %.2e'%(SER[0], SER[1]))\n",
        "print('BER: %.2e, %.2e'%(BER[0], BER[1]))\n",
        "print('SNR: %.2f dB, %.2f dB'%(SNR[0], SNR[1]))\n",
        "print('MI: %.2f bits, %.2f bits'%(MI[0], MI[1]))\n",
        "print('GMI: %.2f bits, %.2f bits'%(GMI[0], GMI[1]))"
      ]
    }
  ],
  "metadata": {
    "jupytext": {
      "encoding": "# -*- coding: utf-8 -*-",
      "formats": "ipynb,py:light"
    },
    "kernelspec": {
      "display_name": "Python 3 (ipykernel)",
      "language": "python",
      "name": "python3"
    },
    "language_info": {
      "codemirror_mode": {
        "name": "ipython",
        "version": 3
      },
      "file_extension": ".py",
      "mimetype": "text/x-python",
      "name": "python",
      "nbconvert_exporter": "python",
      "pygments_lexer": "ipython3",
      "version": "3.9.12"
    },
    "toc": {
      "base_numbering": 1,
      "nav_menu": {},
      "number_sections": true,
      "sideBar": true,
      "skip_h1_title": true,
      "title_cell": "Table of Contents",
      "title_sidebar": "Contents",
      "toc_cell": true,
      "toc_position": {
        "height": "calc(100% - 180px)",
        "left": "10px",
        "top": "150px",
        "width": "261.719px"
      },
      "toc_section_display": true,
      "toc_window_display": false
    },
    "varInspector": {
      "cols": {
        "lenName": 16,
        "lenType": 16,
        "lenVar": 40
      },
      "kernels_config": {
        "python": {
          "delete_cmd_postfix": "",
          "delete_cmd_prefix": "del ",
          "library": "var_list.py",
          "varRefreshCmd": "print(var_dic_list())"
        },
        "r": {
          "delete_cmd_postfix": ") ",
          "delete_cmd_prefix": "rm(",
          "library": "var_list.r",
          "varRefreshCmd": "cat(var_dic_list()) "
        }
      },
      "position": {
        "height": "144.4px",
        "left": "1163px",
        "right": "20px",
        "top": "121px",
        "width": "350px"
      },
      "types_to_exclude": [
        "module",
        "function",
        "builtin_function_or_method",
        "instance",
        "_Feature"
      ],
      "window_display": false
    },
    "colab": {
      "provenance": [],
      "include_colab_link": true
    },
    "accelerator": "GPU",
    "widgets": {
      "application/vnd.jupyter.widget-state+json": {
        "d7ec57b1b19d4660a0548563dd43f97c": {
          "model_module": "@jupyter-widgets/controls",
          "model_name": "HBoxModel",
          "model_module_version": "1.5.0",
          "state": {
            "_dom_classes": [],
            "_model_module": "@jupyter-widgets/controls",
            "_model_module_version": "1.5.0",
            "_model_name": "HBoxModel",
            "_view_count": null,
            "_view_module": "@jupyter-widgets/controls",
            "_view_module_version": "1.5.0",
            "_view_name": "HBoxView",
            "box_style": "",
            "children": [
              "IPY_MODEL_f973387453444cc4b5fbec8658506a3a",
              "IPY_MODEL_0d0d223577654c0980520ed48c4866a7",
              "IPY_MODEL_92a22dde2b5e4ab882f824d5dff0d377"
            ],
            "layout": "IPY_MODEL_7b1b87f7b77049a691df25723928eef3"
          }
        },
        "f973387453444cc4b5fbec8658506a3a": {
          "model_module": "@jupyter-widgets/controls",
          "model_name": "HTMLModel",
          "model_module_version": "1.5.0",
          "state": {
            "_dom_classes": [],
            "_model_module": "@jupyter-widgets/controls",
            "_model_module_version": "1.5.0",
            "_model_name": "HTMLModel",
            "_view_count": null,
            "_view_module": "@jupyter-widgets/controls",
            "_view_module_version": "1.5.0",
            "_view_name": "HTMLView",
            "description": "",
            "description_tooltip": null,
            "layout": "IPY_MODEL_32ef48a5dd1d4a2cb94e5409dd572d74",
            "placeholder": "​",
            "style": "IPY_MODEL_c5a9e5d034e64b00b295e93140f51e72",
            "value": "100%"
          }
        },
        "0d0d223577654c0980520ed48c4866a7": {
          "model_module": "@jupyter-widgets/controls",
          "model_name": "FloatProgressModel",
          "model_module_version": "1.5.0",
          "state": {
            "_dom_classes": [],
            "_model_module": "@jupyter-widgets/controls",
            "_model_module_version": "1.5.0",
            "_model_name": "FloatProgressModel",
            "_view_count": null,
            "_view_module": "@jupyter-widgets/controls",
            "_view_module_version": "1.5.0",
            "_view_name": "ProgressView",
            "bar_style": "success",
            "description": "",
            "description_tooltip": null,
            "layout": "IPY_MODEL_b70bb6363ff64ccbb7087900ef892eb5",
            "max": 14,
            "min": 0,
            "orientation": "horizontal",
            "style": "IPY_MODEL_d4247b94ef5c4a439cd4af9458125fc2",
            "value": 14
          }
        },
        "92a22dde2b5e4ab882f824d5dff0d377": {
          "model_module": "@jupyter-widgets/controls",
          "model_name": "HTMLModel",
          "model_module_version": "1.5.0",
          "state": {
            "_dom_classes": [],
            "_model_module": "@jupyter-widgets/controls",
            "_model_module_version": "1.5.0",
            "_model_name": "HTMLModel",
            "_view_count": null,
            "_view_module": "@jupyter-widgets/controls",
            "_view_module_version": "1.5.0",
            "_view_name": "HTMLView",
            "description": "",
            "description_tooltip": null,
            "layout": "IPY_MODEL_6a786005faa04fd8b7c5e69dc70df06a",
            "placeholder": "​",
            "style": "IPY_MODEL_994d17059a9b47f0b2ed3654712fb0c3",
            "value": " 14/14 [00:57&lt;00:00,  3.82s/it]"
          }
        },
        "7b1b87f7b77049a691df25723928eef3": {
          "model_module": "@jupyter-widgets/base",
          "model_name": "LayoutModel",
          "model_module_version": "1.2.0",
          "state": {
            "_model_module": "@jupyter-widgets/base",
            "_model_module_version": "1.2.0",
            "_model_name": "LayoutModel",
            "_view_count": null,
            "_view_module": "@jupyter-widgets/base",
            "_view_module_version": "1.2.0",
            "_view_name": "LayoutView",
            "align_content": null,
            "align_items": null,
            "align_self": null,
            "border": null,
            "bottom": null,
            "display": null,
            "flex": null,
            "flex_flow": null,
            "grid_area": null,
            "grid_auto_columns": null,
            "grid_auto_flow": null,
            "grid_auto_rows": null,
            "grid_column": null,
            "grid_gap": null,
            "grid_row": null,
            "grid_template_areas": null,
            "grid_template_columns": null,
            "grid_template_rows": null,
            "height": null,
            "justify_content": null,
            "justify_items": null,
            "left": null,
            "margin": null,
            "max_height": null,
            "max_width": null,
            "min_height": null,
            "min_width": null,
            "object_fit": null,
            "object_position": null,
            "order": null,
            "overflow": null,
            "overflow_x": null,
            "overflow_y": null,
            "padding": null,
            "right": null,
            "top": null,
            "visibility": null,
            "width": null
          }
        },
        "32ef48a5dd1d4a2cb94e5409dd572d74": {
          "model_module": "@jupyter-widgets/base",
          "model_name": "LayoutModel",
          "model_module_version": "1.2.0",
          "state": {
            "_model_module": "@jupyter-widgets/base",
            "_model_module_version": "1.2.0",
            "_model_name": "LayoutModel",
            "_view_count": null,
            "_view_module": "@jupyter-widgets/base",
            "_view_module_version": "1.2.0",
            "_view_name": "LayoutView",
            "align_content": null,
            "align_items": null,
            "align_self": null,
            "border": null,
            "bottom": null,
            "display": null,
            "flex": null,
            "flex_flow": null,
            "grid_area": null,
            "grid_auto_columns": null,
            "grid_auto_flow": null,
            "grid_auto_rows": null,
            "grid_column": null,
            "grid_gap": null,
            "grid_row": null,
            "grid_template_areas": null,
            "grid_template_columns": null,
            "grid_template_rows": null,
            "height": null,
            "justify_content": null,
            "justify_items": null,
            "left": null,
            "margin": null,
            "max_height": null,
            "max_width": null,
            "min_height": null,
            "min_width": null,
            "object_fit": null,
            "object_position": null,
            "order": null,
            "overflow": null,
            "overflow_x": null,
            "overflow_y": null,
            "padding": null,
            "right": null,
            "top": null,
            "visibility": null,
            "width": null
          }
        },
        "c5a9e5d034e64b00b295e93140f51e72": {
          "model_module": "@jupyter-widgets/controls",
          "model_name": "DescriptionStyleModel",
          "model_module_version": "1.5.0",
          "state": {
            "_model_module": "@jupyter-widgets/controls",
            "_model_module_version": "1.5.0",
            "_model_name": "DescriptionStyleModel",
            "_view_count": null,
            "_view_module": "@jupyter-widgets/base",
            "_view_module_version": "1.2.0",
            "_view_name": "StyleView",
            "description_width": ""
          }
        },
        "b70bb6363ff64ccbb7087900ef892eb5": {
          "model_module": "@jupyter-widgets/base",
          "model_name": "LayoutModel",
          "model_module_version": "1.2.0",
          "state": {
            "_model_module": "@jupyter-widgets/base",
            "_model_module_version": "1.2.0",
            "_model_name": "LayoutModel",
            "_view_count": null,
            "_view_module": "@jupyter-widgets/base",
            "_view_module_version": "1.2.0",
            "_view_name": "LayoutView",
            "align_content": null,
            "align_items": null,
            "align_self": null,
            "border": null,
            "bottom": null,
            "display": null,
            "flex": null,
            "flex_flow": null,
            "grid_area": null,
            "grid_auto_columns": null,
            "grid_auto_flow": null,
            "grid_auto_rows": null,
            "grid_column": null,
            "grid_gap": null,
            "grid_row": null,
            "grid_template_areas": null,
            "grid_template_columns": null,
            "grid_template_rows": null,
            "height": null,
            "justify_content": null,
            "justify_items": null,
            "left": null,
            "margin": null,
            "max_height": null,
            "max_width": null,
            "min_height": null,
            "min_width": null,
            "object_fit": null,
            "object_position": null,
            "order": null,
            "overflow": null,
            "overflow_x": null,
            "overflow_y": null,
            "padding": null,
            "right": null,
            "top": null,
            "visibility": null,
            "width": null
          }
        },
        "d4247b94ef5c4a439cd4af9458125fc2": {
          "model_module": "@jupyter-widgets/controls",
          "model_name": "ProgressStyleModel",
          "model_module_version": "1.5.0",
          "state": {
            "_model_module": "@jupyter-widgets/controls",
            "_model_module_version": "1.5.0",
            "_model_name": "ProgressStyleModel",
            "_view_count": null,
            "_view_module": "@jupyter-widgets/base",
            "_view_module_version": "1.2.0",
            "_view_name": "StyleView",
            "bar_color": null,
            "description_width": ""
          }
        },
        "6a786005faa04fd8b7c5e69dc70df06a": {
          "model_module": "@jupyter-widgets/base",
          "model_name": "LayoutModel",
          "model_module_version": "1.2.0",
          "state": {
            "_model_module": "@jupyter-widgets/base",
            "_model_module_version": "1.2.0",
            "_model_name": "LayoutModel",
            "_view_count": null,
            "_view_module": "@jupyter-widgets/base",
            "_view_module_version": "1.2.0",
            "_view_name": "LayoutView",
            "align_content": null,
            "align_items": null,
            "align_self": null,
            "border": null,
            "bottom": null,
            "display": null,
            "flex": null,
            "flex_flow": null,
            "grid_area": null,
            "grid_auto_columns": null,
            "grid_auto_flow": null,
            "grid_auto_rows": null,
            "grid_column": null,
            "grid_gap": null,
            "grid_row": null,
            "grid_template_areas": null,
            "grid_template_columns": null,
            "grid_template_rows": null,
            "height": null,
            "justify_content": null,
            "justify_items": null,
            "left": null,
            "margin": null,
            "max_height": null,
            "max_width": null,
            "min_height": null,
            "min_width": null,
            "object_fit": null,
            "object_position": null,
            "order": null,
            "overflow": null,
            "overflow_x": null,
            "overflow_y": null,
            "padding": null,
            "right": null,
            "top": null,
            "visibility": null,
            "width": null
          }
        },
        "994d17059a9b47f0b2ed3654712fb0c3": {
          "model_module": "@jupyter-widgets/controls",
          "model_name": "DescriptionStyleModel",
          "model_module_version": "1.5.0",
          "state": {
            "_model_module": "@jupyter-widgets/controls",
            "_model_module_version": "1.5.0",
            "_model_name": "DescriptionStyleModel",
            "_view_count": null,
            "_view_module": "@jupyter-widgets/base",
            "_view_module_version": "1.2.0",
            "_view_name": "StyleView",
            "description_width": ""
          }
        },
        "305e5dc45df947c4b3640746643c4a26": {
          "model_module": "@jupyter-widgets/controls",
          "model_name": "HBoxModel",
          "model_module_version": "1.5.0",
          "state": {
            "_dom_classes": [],
            "_model_module": "@jupyter-widgets/controls",
            "_model_module_version": "1.5.0",
            "_model_name": "HBoxModel",
            "_view_count": null,
            "_view_module": "@jupyter-widgets/controls",
            "_view_module_version": "1.5.0",
            "_view_name": "HBoxView",
            "box_style": "",
            "children": [
              "IPY_MODEL_b07e3d1c0eee407ba3a2b6b3498edb61",
              "IPY_MODEL_e0f8d22f269246b9b4ed8c6c7e61aeae",
              "IPY_MODEL_5b6ae8306e70477580b6203d44e33a38"
            ],
            "layout": "IPY_MODEL_0ef4e5276a4344638674b547b859a129"
          }
        },
        "b07e3d1c0eee407ba3a2b6b3498edb61": {
          "model_module": "@jupyter-widgets/controls",
          "model_name": "HTMLModel",
          "model_module_version": "1.5.0",
          "state": {
            "_dom_classes": [],
            "_model_module": "@jupyter-widgets/controls",
            "_model_module_version": "1.5.0",
            "_model_name": "HTMLModel",
            "_view_count": null,
            "_view_module": "@jupyter-widgets/controls",
            "_view_module_version": "1.5.0",
            "_view_name": "HTMLView",
            "description": "",
            "description_tooltip": null,
            "layout": "IPY_MODEL_0cec9d9b71ba45018460f4942672e73b",
            "placeholder": "​",
            "style": "IPY_MODEL_596d425cdf7f4a0697238e3664c5195f",
            "value": "100%"
          }
        },
        "e0f8d22f269246b9b4ed8c6c7e61aeae": {
          "model_module": "@jupyter-widgets/controls",
          "model_name": "FloatProgressModel",
          "model_module_version": "1.5.0",
          "state": {
            "_dom_classes": [],
            "_model_module": "@jupyter-widgets/controls",
            "_model_module_version": "1.5.0",
            "_model_name": "FloatProgressModel",
            "_view_count": null,
            "_view_module": "@jupyter-widgets/controls",
            "_view_module_version": "1.5.0",
            "_view_name": "ProgressView",
            "bar_style": "success",
            "description": "",
            "description_tooltip": null,
            "layout": "IPY_MODEL_9eef6ad9e86b4434b244d76fb90653b2",
            "max": 5,
            "min": 0,
            "orientation": "horizontal",
            "style": "IPY_MODEL_d751e4cdab95433f8fabdaebf41d630a",
            "value": 5
          }
        },
        "5b6ae8306e70477580b6203d44e33a38": {
          "model_module": "@jupyter-widgets/controls",
          "model_name": "HTMLModel",
          "model_module_version": "1.5.0",
          "state": {
            "_dom_classes": [],
            "_model_module": "@jupyter-widgets/controls",
            "_model_module_version": "1.5.0",
            "_model_name": "HTMLModel",
            "_view_count": null,
            "_view_module": "@jupyter-widgets/controls",
            "_view_module_version": "1.5.0",
            "_view_name": "HTMLView",
            "description": "",
            "description_tooltip": null,
            "layout": "IPY_MODEL_5773596ed660451aac75b1f0b2a052e5",
            "placeholder": "​",
            "style": "IPY_MODEL_f6e0856c07ed4069940d749b31c5d6d5",
            "value": " 5/5 [00:29&lt;00:00,  2.62s/it]"
          }
        },
        "0ef4e5276a4344638674b547b859a129": {
          "model_module": "@jupyter-widgets/base",
          "model_name": "LayoutModel",
          "model_module_version": "1.2.0",
          "state": {
            "_model_module": "@jupyter-widgets/base",
            "_model_module_version": "1.2.0",
            "_model_name": "LayoutModel",
            "_view_count": null,
            "_view_module": "@jupyter-widgets/base",
            "_view_module_version": "1.2.0",
            "_view_name": "LayoutView",
            "align_content": null,
            "align_items": null,
            "align_self": null,
            "border": null,
            "bottom": null,
            "display": null,
            "flex": null,
            "flex_flow": null,
            "grid_area": null,
            "grid_auto_columns": null,
            "grid_auto_flow": null,
            "grid_auto_rows": null,
            "grid_column": null,
            "grid_gap": null,
            "grid_row": null,
            "grid_template_areas": null,
            "grid_template_columns": null,
            "grid_template_rows": null,
            "height": null,
            "justify_content": null,
            "justify_items": null,
            "left": null,
            "margin": null,
            "max_height": null,
            "max_width": null,
            "min_height": null,
            "min_width": null,
            "object_fit": null,
            "object_position": null,
            "order": null,
            "overflow": null,
            "overflow_x": null,
            "overflow_y": null,
            "padding": null,
            "right": null,
            "top": null,
            "visibility": null,
            "width": null
          }
        },
        "0cec9d9b71ba45018460f4942672e73b": {
          "model_module": "@jupyter-widgets/base",
          "model_name": "LayoutModel",
          "model_module_version": "1.2.0",
          "state": {
            "_model_module": "@jupyter-widgets/base",
            "_model_module_version": "1.2.0",
            "_model_name": "LayoutModel",
            "_view_count": null,
            "_view_module": "@jupyter-widgets/base",
            "_view_module_version": "1.2.0",
            "_view_name": "LayoutView",
            "align_content": null,
            "align_items": null,
            "align_self": null,
            "border": null,
            "bottom": null,
            "display": null,
            "flex": null,
            "flex_flow": null,
            "grid_area": null,
            "grid_auto_columns": null,
            "grid_auto_flow": null,
            "grid_auto_rows": null,
            "grid_column": null,
            "grid_gap": null,
            "grid_row": null,
            "grid_template_areas": null,
            "grid_template_columns": null,
            "grid_template_rows": null,
            "height": null,
            "justify_content": null,
            "justify_items": null,
            "left": null,
            "margin": null,
            "max_height": null,
            "max_width": null,
            "min_height": null,
            "min_width": null,
            "object_fit": null,
            "object_position": null,
            "order": null,
            "overflow": null,
            "overflow_x": null,
            "overflow_y": null,
            "padding": null,
            "right": null,
            "top": null,
            "visibility": null,
            "width": null
          }
        },
        "596d425cdf7f4a0697238e3664c5195f": {
          "model_module": "@jupyter-widgets/controls",
          "model_name": "DescriptionStyleModel",
          "model_module_version": "1.5.0",
          "state": {
            "_model_module": "@jupyter-widgets/controls",
            "_model_module_version": "1.5.0",
            "_model_name": "DescriptionStyleModel",
            "_view_count": null,
            "_view_module": "@jupyter-widgets/base",
            "_view_module_version": "1.2.0",
            "_view_name": "StyleView",
            "description_width": ""
          }
        },
        "9eef6ad9e86b4434b244d76fb90653b2": {
          "model_module": "@jupyter-widgets/base",
          "model_name": "LayoutModel",
          "model_module_version": "1.2.0",
          "state": {
            "_model_module": "@jupyter-widgets/base",
            "_model_module_version": "1.2.0",
            "_model_name": "LayoutModel",
            "_view_count": null,
            "_view_module": "@jupyter-widgets/base",
            "_view_module_version": "1.2.0",
            "_view_name": "LayoutView",
            "align_content": null,
            "align_items": null,
            "align_self": null,
            "border": null,
            "bottom": null,
            "display": null,
            "flex": null,
            "flex_flow": null,
            "grid_area": null,
            "grid_auto_columns": null,
            "grid_auto_flow": null,
            "grid_auto_rows": null,
            "grid_column": null,
            "grid_gap": null,
            "grid_row": null,
            "grid_template_areas": null,
            "grid_template_columns": null,
            "grid_template_rows": null,
            "height": null,
            "justify_content": null,
            "justify_items": null,
            "left": null,
            "margin": null,
            "max_height": null,
            "max_width": null,
            "min_height": null,
            "min_width": null,
            "object_fit": null,
            "object_position": null,
            "order": null,
            "overflow": null,
            "overflow_x": null,
            "overflow_y": null,
            "padding": null,
            "right": null,
            "top": null,
            "visibility": null,
            "width": null
          }
        },
        "d751e4cdab95433f8fabdaebf41d630a": {
          "model_module": "@jupyter-widgets/controls",
          "model_name": "ProgressStyleModel",
          "model_module_version": "1.5.0",
          "state": {
            "_model_module": "@jupyter-widgets/controls",
            "_model_module_version": "1.5.0",
            "_model_name": "ProgressStyleModel",
            "_view_count": null,
            "_view_module": "@jupyter-widgets/base",
            "_view_module_version": "1.2.0",
            "_view_name": "StyleView",
            "bar_color": null,
            "description_width": ""
          }
        },
        "5773596ed660451aac75b1f0b2a052e5": {
          "model_module": "@jupyter-widgets/base",
          "model_name": "LayoutModel",
          "model_module_version": "1.2.0",
          "state": {
            "_model_module": "@jupyter-widgets/base",
            "_model_module_version": "1.2.0",
            "_model_name": "LayoutModel",
            "_view_count": null,
            "_view_module": "@jupyter-widgets/base",
            "_view_module_version": "1.2.0",
            "_view_name": "LayoutView",
            "align_content": null,
            "align_items": null,
            "align_self": null,
            "border": null,
            "bottom": null,
            "display": null,
            "flex": null,
            "flex_flow": null,
            "grid_area": null,
            "grid_auto_columns": null,
            "grid_auto_flow": null,
            "grid_auto_rows": null,
            "grid_column": null,
            "grid_gap": null,
            "grid_row": null,
            "grid_template_areas": null,
            "grid_template_columns": null,
            "grid_template_rows": null,
            "height": null,
            "justify_content": null,
            "justify_items": null,
            "left": null,
            "margin": null,
            "max_height": null,
            "max_width": null,
            "min_height": null,
            "min_width": null,
            "object_fit": null,
            "object_position": null,
            "order": null,
            "overflow": null,
            "overflow_x": null,
            "overflow_y": null,
            "padding": null,
            "right": null,
            "top": null,
            "visibility": null,
            "width": null
          }
        },
        "f6e0856c07ed4069940d749b31c5d6d5": {
          "model_module": "@jupyter-widgets/controls",
          "model_name": "DescriptionStyleModel",
          "model_module_version": "1.5.0",
          "state": {
            "_model_module": "@jupyter-widgets/controls",
            "_model_module_version": "1.5.0",
            "_model_name": "DescriptionStyleModel",
            "_view_count": null,
            "_view_module": "@jupyter-widgets/base",
            "_view_module_version": "1.2.0",
            "_view_name": "StyleView",
            "description_width": ""
          }
        }
      }
    }
  },
  "nbformat": 4,
  "nbformat_minor": 5
}