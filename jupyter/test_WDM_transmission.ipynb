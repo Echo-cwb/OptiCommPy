{
  "cells": [
    {
      "cell_type": "markdown",
      "metadata": {
        "id": "view-in-github",
        "colab_type": "text"
      },
      "source": [
        "<a href=\"https://colab.research.google.com/github/edsonportosilva/OptiCommPy/blob/main/jupyter/test_WDM_transmission.ipynb\" target=\"_parent\"><img src=\"https://colab.research.google.com/assets/colab-badge.svg\" alt=\"Open In Colab\"/></a>"
      ]
    },
    {
      "cell_type": "markdown",
      "id": "0270b2b0",
      "metadata": {
        "id": "0270b2b0"
      },
      "source": [
        "# Simulation of coherent WDM transmission"
      ]
    },
    {
      "cell_type": "code",
      "execution_count": 1,
      "id": "1ca1b9d6",
      "metadata": {
        "ExecuteTime": {
          "end_time": "2022-10-06T19:51:08.474627Z",
          "start_time": "2022-10-06T19:51:08.455764Z"
        },
        "id": "1ca1b9d6",
        "outputId": "b4a2547a-c5a8-4bce-b0aa-8c5f86ccb837",
        "colab": {
          "base_uri": "https://localhost:8080/"
        }
      },
      "outputs": [
        {
          "output_type": "stream",
          "name": "stdout",
          "text": [
            "Cloning into 'OptiCommPy'...\n",
            "remote: Enumerating objects: 2706, done.\u001b[K\n",
            "remote: Counting objects: 100% (937/937), done.\u001b[K\n",
            "remote: Compressing objects: 100% (374/374), done.\u001b[K\n",
            "remote: Total 2706 (delta 604), reused 890 (delta 562), pack-reused 1769\u001b[K\n",
            "Receiving objects: 100% (2706/2706), 63.25 MiB | 27.18 MiB/s, done.\n",
            "Resolving deltas: 100% (1869/1869), done.\n",
            "Looking in indexes: https://pypi.org/simple, https://us-python.pkg.dev/colab-wheels/public/simple/\n",
            "Processing /content/OptiCommPy\n",
            "\u001b[33m  DEPRECATION: A future pip version will change local packages to be built in-place without first copying to a temporary directory. We recommend you use --use-feature=in-tree-build to test your packages with this new behavior before it becomes the default.\n",
            "   pip 21.3 will remove support for this functionality. You can find discussion regarding this at https://github.com/pypa/pip/issues/7555.\u001b[0m\n",
            "Requirement already satisfied: numpy in /usr/local/lib/python3.7/dist-packages (from OpticCommpy==0.1.0) (1.21.6)\n",
            "Requirement already satisfied: scipy in /usr/local/lib/python3.7/dist-packages (from OpticCommpy==0.1.0) (1.7.3)\n",
            "Requirement already satisfied: matplotlib in /usr/local/lib/python3.7/dist-packages (from OpticCommpy==0.1.0) (3.2.2)\n",
            "Requirement already satisfied: sympy in /usr/local/lib/python3.7/dist-packages (from OpticCommpy==0.1.0) (1.7.1)\n",
            "Requirement already satisfied: tqdm in /usr/local/lib/python3.7/dist-packages (from OpticCommpy==0.1.0) (4.64.1)\n",
            "Requirement already satisfied: numba in /usr/local/lib/python3.7/dist-packages (from OpticCommpy==0.1.0) (0.56.3)\n",
            "Collecting scikit-commpy\n",
            "  Downloading scikit-commpy-0.8.0.tar.gz (102 kB)\n",
            "\u001b[K     |████████████████████████████████| 102 kB 5.7 MB/s \n",
            "\u001b[?25hRequirement already satisfied: pyparsing!=2.0.4,!=2.1.2,!=2.1.6,>=2.0.1 in /usr/local/lib/python3.7/dist-packages (from matplotlib->OpticCommpy==0.1.0) (3.0.9)\n",
            "Requirement already satisfied: kiwisolver>=1.0.1 in /usr/local/lib/python3.7/dist-packages (from matplotlib->OpticCommpy==0.1.0) (1.4.4)\n",
            "Requirement already satisfied: cycler>=0.10 in /usr/local/lib/python3.7/dist-packages (from matplotlib->OpticCommpy==0.1.0) (0.11.0)\n",
            "Requirement already satisfied: python-dateutil>=2.1 in /usr/local/lib/python3.7/dist-packages (from matplotlib->OpticCommpy==0.1.0) (2.8.2)\n",
            "Requirement already satisfied: typing-extensions in /usr/local/lib/python3.7/dist-packages (from kiwisolver>=1.0.1->matplotlib->OpticCommpy==0.1.0) (4.1.1)\n",
            "Requirement already satisfied: six>=1.5 in /usr/local/lib/python3.7/dist-packages (from python-dateutil>=2.1->matplotlib->OpticCommpy==0.1.0) (1.15.0)\n",
            "Requirement already satisfied: setuptools in /usr/local/lib/python3.7/dist-packages (from numba->OpticCommpy==0.1.0) (57.4.0)\n",
            "Requirement already satisfied: importlib-metadata in /usr/local/lib/python3.7/dist-packages (from numba->OpticCommpy==0.1.0) (4.13.0)\n",
            "Requirement already satisfied: llvmlite<0.40,>=0.39.0dev0 in /usr/local/lib/python3.7/dist-packages (from numba->OpticCommpy==0.1.0) (0.39.1)\n",
            "Requirement already satisfied: zipp>=0.5 in /usr/local/lib/python3.7/dist-packages (from importlib-metadata->numba->OpticCommpy==0.1.0) (3.9.0)\n",
            "Requirement already satisfied: mpmath>=0.19 in /usr/local/lib/python3.7/dist-packages (from sympy->OpticCommpy==0.1.0) (1.2.1)\n",
            "Building wheels for collected packages: OpticCommpy, scikit-commpy\n",
            "  Building wheel for OpticCommpy (setup.py) ... \u001b[?25l\u001b[?25hdone\n",
            "  Created wheel for OpticCommpy: filename=OpticCommpy-0.1.0-py3-none-any.whl size=38855 sha256=d270ce629cf65d9d1f0d088eadfa8102cadee0ab06074de9d60ca8e00d13b94e\n",
            "  Stored in directory: /tmp/pip-ephem-wheel-cache-jm_igg_u/wheels/86/a6/e4/b590dcf328df4752195276814fd608a284f1ead675da00b64c\n",
            "  Building wheel for scikit-commpy (setup.py) ... \u001b[?25l\u001b[?25hdone\n",
            "  Created wheel for scikit-commpy: filename=scikit_commpy-0.8.0-py3-none-any.whl size=115023 sha256=e80d154749d5e50ed70095d03ed50ae03884c3393a77eb7259ab10086ae6f62d\n",
            "  Stored in directory: /root/.cache/pip/wheels/53/31/e7/5eb3325934a65c0e0c2ee1e718c2b1a3db6f0ea13a403a3e9e\n",
            "Successfully built OpticCommpy scikit-commpy\n",
            "Installing collected packages: scikit-commpy, OpticCommpy\n",
            "Successfully installed OpticCommpy-0.1.0 scikit-commpy-0.8.0\n"
          ]
        }
      ],
      "source": [
        "if 'google.colab' in str(get_ipython()):    \n",
        "    ! git clone -b main https://github.com/edsonportosilva/OptiCommPy\n",
        "    from os import chdir as cd\n",
        "    cd('/content/OptiCommPy/')\n",
        "    ! pip install . "
      ]
    },
    {
      "cell_type": "code",
      "execution_count": 2,
      "id": "a4110d40",
      "metadata": {
        "ExecuteTime": {
          "end_time": "2022-10-06T19:51:10.646655Z",
          "start_time": "2022-10-06T19:51:08.475624Z"
        },
        "id": "a4110d40"
      },
      "outputs": [],
      "source": [
        "import matplotlib.pyplot as plt\n",
        "import numpy as np\n",
        "\n",
        "from optic.dsp import pulseShape, firFilter, decimate, symbolSync\n",
        "from optic.models import phaseNoise, pdmCoherentReceiver\n",
        "\n",
        "try:\n",
        "    from optic.modelsGPU import manakovSSF\n",
        "except:\n",
        "    from optic.models import manakovSSF\n",
        "\n",
        "from optic.tx import simpleWDMTx\n",
        "from optic.core import parameters\n",
        "from optic.equalization import edc, mimoAdaptEqualizer\n",
        "from optic.carrierRecovery import cpr\n",
        "from optic.metrics import fastBERcalc, monteCarloGMI, monteCarloMI, signal_power\n",
        "from optic.plot import pconst\n",
        "\n",
        "import scipy.constants as const"
      ]
    },
    {
      "cell_type": "code",
      "execution_count": 3,
      "id": "7df01820",
      "metadata": {
        "ExecuteTime": {
          "end_time": "2022-10-06T19:51:10.661615Z",
          "start_time": "2022-10-06T19:51:10.647653Z"
        },
        "id": "7df01820",
        "outputId": "b1d17a8d-a99b-42ee-cf24-c51a27cac96c",
        "colab": {
          "base_uri": "https://localhost:8080/",
          "height": 17
        }
      },
      "outputs": [
        {
          "output_type": "execute_result",
          "data": {
            "text/plain": [
              "<IPython.core.display.HTML object>"
            ],
            "text/html": [
              "\n",
              "<style>\n",
              ".output_png {\n",
              "    display: table-cell;\n",
              "    text-align: center;\n",
              "    vertical-align: middle;\n",
              "}\n",
              "</style>\n"
            ]
          },
          "metadata": {},
          "execution_count": 3
        }
      ],
      "source": [
        "from IPython.core.display import HTML\n",
        "from IPython.core.pylabtools import figsize\n",
        "\n",
        "HTML(\"\"\"\n",
        "<style>\n",
        ".output_png {\n",
        "    display: table-cell;\n",
        "    text-align: center;\n",
        "    vertical-align: middle;\n",
        "}\n",
        "</style>\n",
        "\"\"\")"
      ]
    },
    {
      "cell_type": "code",
      "execution_count": 4,
      "id": "b8626f68",
      "metadata": {
        "ExecuteTime": {
          "end_time": "2022-10-06T19:51:10.754849Z",
          "start_time": "2022-10-06T19:51:10.663610Z"
        },
        "id": "b8626f68"
      },
      "outputs": [],
      "source": [
        "figsize(10, 3)"
      ]
    },
    {
      "cell_type": "code",
      "execution_count": 5,
      "id": "fc09c144",
      "metadata": {
        "ExecuteTime": {
          "end_time": "2022-10-06T19:51:10.894922Z",
          "start_time": "2022-10-06T19:51:10.760834Z"
        },
        "id": "fc09c144"
      },
      "outputs": [],
      "source": [
        "%load_ext autoreload\n",
        "%autoreload 2\n",
        "#%load_ext line_profiler"
      ]
    },
    {
      "cell_type": "markdown",
      "id": "e22e32db",
      "metadata": {
        "id": "e22e32db"
      },
      "source": [
        "\n",
        "## Transmitter"
      ]
    },
    {
      "cell_type": "markdown",
      "id": "f01da2ca",
      "metadata": {
        "id": "f01da2ca"
      },
      "source": [
        "**Polarization multiplexed WDM signal generation**"
      ]
    },
    {
      "cell_type": "code",
      "execution_count": 6,
      "id": "51257869",
      "metadata": {
        "ExecuteTime": {
          "end_time": "2022-10-06T19:51:16.635689Z",
          "start_time": "2022-10-06T19:51:10.895729Z"
        },
        "lines_to_next_cell": 0,
        "id": "51257869",
        "outputId": "a63d540c-8cbe-42e3-d100-8acdc850816c",
        "colab": {
          "base_uri": "https://localhost:8080/"
        }
      },
      "outputs": [
        {
          "output_type": "stream",
          "name": "stdout",
          "text": [
            "channel 0\t fc : 192.9125 THz\n",
            "  mode #0\t power: -2.01 dBm\n",
            "  mode #1\t power: -2.01 dBm\n",
            "channel 0\t power: 1.00 dBm\n",
            "\n",
            "channel 1\t fc : 192.9500 THz\n",
            "  mode #0\t power: -2.01 dBm\n",
            "  mode #1\t power: -2.01 dBm\n",
            "channel 1\t power: 1.00 dBm\n",
            "\n",
            "channel 2\t fc : 192.9875 THz\n",
            "  mode #0\t power: -2.01 dBm\n",
            "  mode #1\t power: -2.01 dBm\n",
            "channel 2\t power: 1.00 dBm\n",
            "\n",
            "channel 3\t fc : 193.0250 THz\n",
            "  mode #0\t power: -2.01 dBm\n",
            "  mode #1\t power: -2.01 dBm\n",
            "channel 3\t power: 1.00 dBm\n",
            "\n",
            "channel 4\t fc : 193.0625 THz\n",
            "  mode #0\t power: -2.01 dBm\n",
            "  mode #1\t power: -2.01 dBm\n",
            "channel 4\t power: 1.00 dBm\n",
            "\n",
            "channel 5\t fc : 193.1000 THz\n",
            "  mode #0\t power: -2.01 dBm\n",
            "  mode #1\t power: -2.01 dBm\n",
            "channel 5\t power: 1.00 dBm\n",
            "\n",
            "channel 6\t fc : 193.1375 THz\n",
            "  mode #0\t power: -2.01 dBm\n",
            "  mode #1\t power: -2.01 dBm\n",
            "channel 6\t power: 1.00 dBm\n",
            "\n",
            "channel 7\t fc : 193.1750 THz\n",
            "  mode #0\t power: -2.01 dBm\n",
            "  mode #1\t power: -2.01 dBm\n",
            "channel 7\t power: 1.00 dBm\n",
            "\n",
            "channel 8\t fc : 193.2125 THz\n",
            "  mode #0\t power: -2.01 dBm\n",
            "  mode #1\t power: -2.01 dBm\n",
            "channel 8\t power: 1.00 dBm\n",
            "\n",
            "channel 9\t fc : 193.2500 THz\n",
            "  mode #0\t power: -2.01 dBm\n",
            "  mode #1\t power: -2.01 dBm\n",
            "channel 9\t power: 1.00 dBm\n",
            "\n",
            "channel 10\t fc : 193.2875 THz\n",
            "  mode #0\t power: -2.01 dBm\n",
            "  mode #1\t power: -2.01 dBm\n",
            "channel 10\t power: 1.00 dBm\n",
            "\n",
            "total WDM signal power: 11.41 dBm\n"
          ]
        }
      ],
      "source": [
        "# Transmitter parameters:\n",
        "paramTx = parameters()\n",
        "paramTx.M   = 16           # order of the modulation format\n",
        "paramTx.Rs  = 32e9         # symbol rate [baud]\n",
        "paramTx.SpS = 16           # samples per symbol\n",
        "paramTx.Nbits = 400000     # total number of bits per polarization\n",
        "paramTx.pulse = 'rrc'      # pulse shaping filter\n",
        "paramTx.Ntaps = 1024       # number of pulse shaping filter coefficients\n",
        "paramTx.alphaRRC = 0.01    # RRC rolloff\n",
        "paramTx.Pch_dBm = 1        # power per WDM channel [dBm]\n",
        "paramTx.Nch     = 11       # number of WDM channels\n",
        "paramTx.Fc      = 193.1e12 # central optical frequency of the WDM spectrum\n",
        "paramTx.freqSpac = 37.5e9  # WDM grid spacing\n",
        "paramTx.Nmodes = 2         # number of signal modes [2 for polarization multiplexed signals]\n",
        "\n",
        "# generate WDM signal\n",
        "sigWDM_Tx, symbTx_, paramTx = simpleWDMTx(paramTx)"
      ]
    },
    {
      "cell_type": "markdown",
      "id": "0cb851bf",
      "metadata": {
        "id": "0cb851bf"
      },
      "source": [
        "**Nonlinear fiber propagation with the split-step Fourier method**"
      ]
    },
    {
      "cell_type": "code",
      "execution_count": null,
      "id": "05599d49",
      "metadata": {
        "ExecuteTime": {
          "end_time": "2022-10-06T20:03:52.227021Z",
          "start_time": "2022-10-06T20:00:30.731098Z"
        },
        "scrolled": false,
        "id": "05599d49",
        "outputId": "f7e14602-4bdd-4661-910f-be1d57379e45",
        "colab": {
          "base_uri": "https://localhost:8080/",
          "height": 49,
          "referenced_widgets": [
            "a6905474225d4528a92e0976028b8fb7",
            "0edca0af40ab4aa4a8bb93ad7674a28b",
            "5314e7415563429eb8ecabded2bcc4cd",
            "e8c562ca95944be5a7e1a6534163c6ea",
            "04c8393afc2d446fb53bd211d06bf888",
            "1d19799f1fb94b94ac6e99aeb4f6c586",
            "e1342362826646379203c03a50fd494b",
            "6d35e9ad262b4beb82d7459e74d5b0da",
            "3a31b902edba426595bbbe6405e57168",
            "0a0a2246032f47a3b0dd3b0d473e68da",
            "34e745abdbc941d9b72f1a408f502fc1"
          ]
        }
      },
      "outputs": [
        {
          "output_type": "display_data",
          "data": {
            "text/plain": [
              "  0%|          | 0/14 [00:00<?, ?it/s]"
            ],
            "application/vnd.jupyter.widget-view+json": {
              "version_major": 2,
              "version_minor": 0,
              "model_id": "a6905474225d4528a92e0976028b8fb7"
            }
          },
          "metadata": {}
        }
      ],
      "source": [
        "# optical channel parameters\n",
        "paramCh = parameters()\n",
        "paramCh.Ltotal = 700     # total link distance [km]\n",
        "paramCh.Lspan  = 50      # span length [km]\n",
        "paramCh.alpha = 0.2      # fiber loss parameter [dB/km]\n",
        "paramCh.D = 16           # fiber dispersion parameter [ps/nm/km]\n",
        "paramCh.gamma = 1.3      # fiber nonlinear parameter [1/(W.km)]\n",
        "paramCh.Fc = paramTx.Fc  # central optical frequency of the WDM spectrum\n",
        "paramCh.hz = 1           # step-size of the split-step Fourier method [km]\n",
        "paramCh.maxIter = 5      # maximum number of convergence iterations per step\n",
        "paramCh.tol = 1e-5       # error tolerance per step\n",
        "paramCh.prgsBar = True   # show progress bar?\n",
        "\n",
        "Fs = paramTx.Rs*paramTx.SpS # sampling rate\n",
        "\n",
        "# nonlinear signal propagation\n",
        "sigWDM, paramCh = manakovSSF(sigWDM_Tx, Fs, paramCh)"
      ]
    },
    {
      "cell_type": "markdown",
      "id": "45da6d22",
      "metadata": {
        "id": "45da6d22"
      },
      "source": [
        "**Optical WDM spectrum before and after transmission**"
      ]
    },
    {
      "cell_type": "code",
      "execution_count": null,
      "id": "489a01ea",
      "metadata": {
        "ExecuteTime": {
          "end_time": "2022-10-06T20:03:52.505962Z",
          "start_time": "2022-10-06T20:03:52.228891Z"
        },
        "lines_to_next_cell": 2,
        "id": "489a01ea"
      },
      "outputs": [],
      "source": [
        "# plot psd\n",
        "plt.figure(figsize=(10, 3))\n",
        "plt.xlim(paramCh.Fc-Fs/2,paramCh.Fc+Fs/2);\n",
        "plt.psd(sigWDM_Tx[:,0], Fs=Fs, Fc=paramCh.Fc, NFFT = 4*1024, sides='twosided', label = 'WDM spectrum - Tx')\n",
        "plt.psd(sigWDM[:,0], Fs=Fs, Fc=paramCh.Fc, NFFT = 4*1024, sides='twosided', label = 'WDM spectrum - Rx')\n",
        "plt.legend(loc='lower left')\n",
        "plt.title('optical WDM spectrum');"
      ]
    },
    {
      "cell_type": "markdown",
      "id": "f291b19a",
      "metadata": {
        "id": "f291b19a"
      },
      "source": [
        "### WDM channels coherent detection and demodulation"
      ]
    },
    {
      "cell_type": "code",
      "execution_count": null,
      "id": "76945fb5",
      "metadata": {
        "ExecuteTime": {
          "end_time": "2022-10-06T20:03:53.844085Z",
          "start_time": "2022-10-06T20:03:52.506934Z"
        },
        "id": "76945fb5",
        "outputId": "4eadee3c-56ee-4c52-a35e-8fc76a1b5b96"
      },
      "outputs": [
        {
          "name": "stdout",
          "output_type": "stream",
          "text": [
            "Demodulating channel #5 , fc: 193.1000 THz, λ: 1552.5244 nm\n",
            "\n",
            "Local oscillator P: 10.00 dBm, lw: 200.00 kHz, FO: 0.00 MHz\n",
            "\n"
          ]
        },
        {
          "data": {
            "image/png": "[encoded data removed]",
            "text/plain": [
              "<Figure size 432x288 with 2 Axes>"
            ]
          },
          "metadata": {
            "needs_background": "light"
          },
          "output_type": "display_data"
        }
      ],
      "source": [
        "# Receiver\n",
        "\n",
        "# parameters\n",
        "chIndex  = 5     # index of the channel to be demodulated\n",
        "\n",
        "Fc = paramCh.Fc\n",
        "Ts = 1/Fs\n",
        "freqGrid = paramTx.freqGrid\n",
        "\n",
        "print('Demodulating channel #%d , fc: %.4f THz, λ: %.4f nm\\n'\\\n",
        "      %(chIndex, (Fc + freqGrid[chIndex])/1e12, const.c/(Fc + freqGrid[chIndex])/1e-9))\n",
        "\n",
        "symbTx = symbTx_[:,:,chIndex]\n",
        "\n",
        "# local oscillator (LO) parameters:\n",
        "FO      = 0*64e6                # frequency offset\n",
        "Δf_lo   = freqGrid[chIndex]+FO  # downshift of the channel to be demodulated\n",
        "lw      = 200e3                 # linewidth\n",
        "Plo_dBm = 10                    # power in dBm\n",
        "Plo     = 10**(Plo_dBm/10)*1e-3 # power in W\n",
        "ϕ_lo    = 0                     # initial phase in rad    \n",
        "\n",
        "print('Local oscillator P: %.2f dBm, lw: %.2f kHz, FO: %.2f MHz\\n'\\\n",
        "      %(Plo_dBm, lw/1e3, FO/1e6))\n",
        "\n",
        "# generate LO field\n",
        "π       = np.pi\n",
        "t       = np.arange(0, len(sigWDM))*Ts\n",
        "ϕ_pn_lo = phaseNoise(lw, len(sigWDM), Ts)\n",
        "sigLO   = np.sqrt(Plo)*np.exp(1j*(2*π*Δf_lo*t + ϕ_lo + ϕ_pn_lo))\n",
        "\n",
        "# polarization multiplexed coherent optical receiver\n",
        "sigRx = pdmCoherentReceiver(sigWDM, sigLO, θsig = π/3, Rdx=1, Rdy=1)\n",
        "\n",
        "# plot constellations\n",
        "pconst(sigRx[0::paramTx.SpS,:], lim=True, R=3)"
      ]
    },
    {
      "cell_type": "markdown",
      "id": "1cbf39db",
      "metadata": {
        "id": "1cbf39db"
      },
      "source": [
        "### Matched filtering and CD compensation"
      ]
    },
    {
      "cell_type": "code",
      "execution_count": null,
      "id": "065d823a",
      "metadata": {
        "ExecuteTime": {
          "end_time": "2022-10-06T20:03:55.916985Z",
          "start_time": "2022-10-06T20:03:53.846080Z"
        },
        "id": "065d823a",
        "outputId": "9a449e63-1794-43c3-a4ed-5f6206f9131f"
      },
      "outputs": [
        {
          "data": {
            "image/png": "[encoded data removed]",
            "text/plain": [
              "<Figure size 432x288 with 2 Axes>"
            ]
          },
          "metadata": {
            "needs_background": "light"
          },
          "output_type": "display_data"
        },
        {
          "data": {
            "image/png": "[encoded data removed]",
            "text/plain": [
              "<Figure size 432x288 with 2 Axes>"
            ]
          },
          "metadata": {
            "needs_background": "light"
          },
          "output_type": "display_data"
        }
      ],
      "source": [
        "# Rx filtering\n",
        "\n",
        "# Matched filtering\n",
        "if paramTx.pulse == 'nrz':\n",
        "    pulse = pulseShape('nrz', paramTx.SpS)\n",
        "elif paramTx.pulse == 'rrc':\n",
        "    pulse = pulseShape('rrc', paramTx.SpS, N=paramTx.Ntaps, alpha=paramTx.alphaRRC, Ts=1/paramTx.Rs)\n",
        "    \n",
        "pulse = pulse/np.max(np.abs(pulse))            \n",
        "sigRx = firFilter(pulse, sigRx)\n",
        "\n",
        "# plot constellations after matched filtering\n",
        "pconst(sigRx[0::paramTx.SpS,:], lim=True, R=3)\n",
        "\n",
        "# CD compensation\n",
        "sigRx = edc(sigRx, paramCh.Ltotal, paramCh.D, Fc-Δf_lo, Fs)\n",
        "\n",
        "# plot constellations after CD compensation\n",
        "pconst(sigRx[0::paramTx.SpS,:], lim=True, R=3)"
      ]
    },
    {
      "cell_type": "markdown",
      "id": "901da914",
      "metadata": {
        "id": "901da914"
      },
      "source": [
        "### Downsampling to 2 samples/symbol and re-synchronization with transmitted sequences"
      ]
    },
    {
      "cell_type": "code",
      "execution_count": null,
      "id": "0d7e62a5",
      "metadata": {
        "ExecuteTime": {
          "end_time": "2022-10-06T20:03:56.073984Z",
          "start_time": "2022-10-06T20:03:55.917982Z"
        },
        "id": "0d7e62a5"
      },
      "outputs": [],
      "source": [
        "# decimation\n",
        "paramDec = parameters()\n",
        "paramDec.SpS_in  = paramTx.SpS\n",
        "paramDec.SpS_out = 2\n",
        "sigRx = decimate(sigRx, paramDec)\n",
        "\n",
        "symbRx = symbolSync(sigRx, symbTx, 2)"
      ]
    },
    {
      "cell_type": "markdown",
      "id": "e3813947",
      "metadata": {
        "id": "e3813947"
      },
      "source": [
        "### Power normalization"
      ]
    },
    {
      "cell_type": "code",
      "execution_count": null,
      "id": "e6af9d14",
      "metadata": {
        "ExecuteTime": {
          "end_time": "2022-10-06T20:03:56.586391Z",
          "start_time": "2022-10-06T20:03:56.075032Z"
        },
        "id": "e6af9d14"
      },
      "outputs": [],
      "source": [
        "x = sigRx\n",
        "d = symbRx\n",
        "\n",
        "x = x.reshape(len(x),2)/np.sqrt(signal_power(x))\n",
        "d = d.reshape(len(d),2)/np.sqrt(signal_power(d))"
      ]
    },
    {
      "cell_type": "markdown",
      "id": "f9c25025",
      "metadata": {
        "id": "f9c25025"
      },
      "source": [
        "### Adaptive equalization"
      ]
    },
    {
      "cell_type": "code",
      "execution_count": null,
      "id": "512e12d6",
      "metadata": {
        "ExecuteTime": {
          "end_time": "2022-10-06T20:04:16.675750Z",
          "start_time": "2022-10-06T20:03:56.587237Z"
        },
        "id": "512e12d6",
        "outputId": "23c72ea1-4514-4a0b-8ef1-c35235534e86",
        "colab": {
          "referenced_widgets": [
            "31918779d2404207a1ecd3f494ccce2d"
          ]
        }
      },
      "outputs": [
        {
          "name": "stdout",
          "output_type": "stream",
          "text": [
            "\n",
            "\n",
            "da-rde - training stage #0\n"
          ]
        },
        {
          "data": {
            "application/vnd.jupyter.widget-view+json": {
              "model_id": "31918779d2404207a1ecd3f494ccce2d",
              "version_major": 2,
              "version_minor": 0
            },
            "text/plain": [
              "  0%|          | 0/5 [00:00<?, ?it/s]"
            ]
          },
          "metadata": {},
          "output_type": "display_data"
        },
        {
          "name": "stdout",
          "output_type": "stream",
          "text": [
            "da-rde pre-convergence training iteration #0\n",
            "da-rde MSE = 0.041706.\n",
            "da-rde pre-convergence training iteration #1\n",
            "da-rde MSE = 0.039498.\n",
            "da-rde pre-convergence training iteration #2\n",
            "da-rde MSE = 0.039459.\n",
            "da-rde pre-convergence training iteration #3\n",
            "da-rde MSE = 0.039431.\n",
            "da-rde pre-convergence training iteration #4\n",
            "da-rde MSE = 0.039412.\n",
            "\n",
            "\n",
            "rde - training stage #1\n",
            "rde MSE = 0.031575.\n"
          ]
        },
        {
          "data": {
            "image/png": "[encoded data removed]",
            "text/plain": [
              "<Figure size 432x288 with 2 Axes>"
            ]
          },
          "metadata": {
            "needs_background": "light"
          },
          "output_type": "display_data"
        }
      ],
      "source": [
        "# adaptive equalization parameters\n",
        "paramEq = parameters()\n",
        "paramEq.nTaps = 15\n",
        "paramEq.SpS   = 2\n",
        "paramEq.mu    = [5e-3, 2e-3]\n",
        "paramEq.numIter = 5\n",
        "paramEq.storeCoeff = False\n",
        "paramEq.alg   = ['da-rde','rde']\n",
        "paramEq.M     = paramTx.M\n",
        "paramEq.L = [20000, 80000]\n",
        "\n",
        "y_EQ, H, errSq, Hiter = mimoAdaptEqualizer(x, dx=d, paramEq=paramEq)\n",
        "\n",
        "#plot constellations after adaptive equalization\n",
        "discard = 5000\n",
        "pconst([y_EQ[discard:-discard,:], d], lim=True)"
      ]
    },
    {
      "cell_type": "markdown",
      "id": "aaf0f85c",
      "metadata": {
        "id": "aaf0f85c"
      },
      "source": [
        "### Carrier phase recovery"
      ]
    },
    {
      "cell_type": "code",
      "execution_count": null,
      "id": "4f6650fe",
      "metadata": {
        "ExecuteTime": {
          "end_time": "2022-10-06T20:04:23.270455Z",
          "start_time": "2022-10-06T20:04:16.676720Z"
        },
        "id": "4f6650fe",
        "outputId": "a93a9d44-383c-4ac5-f23d-6ae173d1d6ab"
      },
      "outputs": [
        {
          "data": {
            "image/png": "[encoded data removed]",
            "text/plain": [
              "<Figure size 720x216 with 1 Axes>"
            ]
          },
          "metadata": {
            "needs_background": "light"
          },
          "output_type": "display_data"
        },
        {
          "data": {
            "image/png": "[encoded data removed]",
            "text/plain": [
              "<Figure size 432x288 with 2 Axes>"
            ]
          },
          "metadata": {
            "needs_background": "light"
          },
          "output_type": "display_data"
        }
      ],
      "source": [
        "paramCPR = parameters()\n",
        "paramCPR.alg = 'bps'\n",
        "paramCPR.M   = paramTx.M\n",
        "paramCPR.N   = 75\n",
        "paramCPR.B   = 64\n",
        "paramCPR.pilotInd = np.arange(0, len(y_EQ), 20) \n",
        "\n",
        "y_CPR, θ = cpr(y_EQ, symbTx=d, paramCPR=paramCPR)\n",
        "\n",
        "y_CPR = y_CPR/np.sqrt(signal_power(y_CPR))\n",
        "\n",
        "plt.figure(figsize=(10, 3))\n",
        "plt.title('CPR estimated phase')\n",
        "plt.plot(θ,'-')\n",
        "plt.xlim(0, len(θ))\n",
        "plt.grid();\n",
        "\n",
        "discard = 5000\n",
        "\n",
        "#plot constellations after CPR\n",
        "pconst([y_CPR[discard:-discard,:], d], lim=True)"
      ]
    },
    {
      "cell_type": "markdown",
      "id": "e9e07048",
      "metadata": {
        "id": "e9e07048"
      },
      "source": [
        "### Evaluate transmission metrics"
      ]
    },
    {
      "cell_type": "code",
      "execution_count": null,
      "id": "67c66471",
      "metadata": {
        "ExecuteTime": {
          "end_time": "2022-10-06T20:04:25.129751Z",
          "start_time": "2022-10-06T20:04:23.271478Z"
        },
        "id": "67c66471",
        "outputId": "cdc2f93a-aef7-45a0-ffa6-105645f33b98"
      },
      "outputs": [
        {
          "name": "stdout",
          "output_type": "stream",
          "text": [
            "     pol.X     pol.Y      \n",
            "SER: 3.49e-03, 4.08e-03\n",
            "BER: 8.72e-04, 1.02e-03\n",
            "SNR: 17.08 dB, 17.04 dB\n",
            "MI: 3.98 bits, 3.98 bits\n",
            "GMI: 3.98 bits, 3.98 bits\n"
          ]
        }
      ],
      "source": [
        "# correct (possible) phase ambiguity\n",
        "for k in range(y_CPR.shape[1]):\n",
        "    rot = np.mean(d[:,k]/y_CPR[:,k])\n",
        "    y_CPR[:,k] = rot*y_CPR[:,k]\n",
        "\n",
        "y_CPR = y_CPR/np.sqrt(signal_power(y_CPR))\n",
        "\n",
        "\n",
        "ind = np.arange(discard, d.shape[0]-discard)\n",
        "BER, SER, SNR = fastBERcalc(y_CPR[ind,:], d[ind,:], paramTx.M, 'qam')\n",
        "GMI,_    = monteCarloGMI(y_CPR[ind,:], d[ind,:], paramTx.M, 'qam')\n",
        "MI       = monteCarloMI(y_CPR[ind,:], d[ind,:], paramTx.M, 'qam')\n",
        "\n",
        "print('     pol.X     pol.Y      ')\n",
        "print('SER: %.2e, %.2e'%(SER[0], SER[1]))\n",
        "print('BER: %.2e, %.2e'%(BER[0], BER[1]))\n",
        "print('SNR: %.2f dB, %.2f dB'%(SNR[0], SNR[1]))\n",
        "print('MI: %.2f bits, %.2f bits'%(MI[0], MI[1]))\n",
        "print('GMI: %.2f bits, %.2f bits'%(GMI[0], GMI[1]))"
      ]
    }
  ],
  "metadata": {
    "jupytext": {
      "encoding": "# -*- coding: utf-8 -*-",
      "formats": "ipynb,py:light"
    },
    "kernelspec": {
      "display_name": "Python 3 (ipykernel)",
      "language": "python",
      "name": "python3"
    },
    "language_info": {
      "codemirror_mode": {
        "name": "ipython",
        "version": 3
      },
      "file_extension": ".py",
      "mimetype": "text/x-python",
      "name": "python",
      "nbconvert_exporter": "python",
      "pygments_lexer": "ipython3",
      "version": "3.9.12"
    },
    "toc": {
      "base_numbering": 1,
      "nav_menu": {},
      "number_sections": true,
      "sideBar": true,
      "skip_h1_title": true,
      "title_cell": "Table of Contents",
      "title_sidebar": "Contents",
      "toc_cell": true,
      "toc_position": {
        "height": "calc(100% - 180px)",
        "left": "10px",
        "top": "150px",
        "width": "261.719px"
      },
      "toc_section_display": true,
      "toc_window_display": false
    },
    "varInspector": {
      "cols": {
        "lenName": 16,
        "lenType": 16,
        "lenVar": 40
      },
      "kernels_config": {
        "python": {
          "delete_cmd_postfix": "",
          "delete_cmd_prefix": "del ",
          "library": "var_list.py",
          "varRefreshCmd": "print(var_dic_list())"
        },
        "r": {
          "delete_cmd_postfix": ") ",
          "delete_cmd_prefix": "rm(",
          "library": "var_list.r",
          "varRefreshCmd": "cat(var_dic_list()) "
        }
      },
      "position": {
        "height": "144.4px",
        "left": "1163px",
        "right": "20px",
        "top": "121px",
        "width": "350px"
      },
      "types_to_exclude": [
        "module",
        "function",
        "builtin_function_or_method",
        "instance",
        "_Feature"
      ],
      "window_display": false
    },
    "colab": {
      "provenance": [],
      "include_colab_link": true
    },
    "widgets": {
      "application/vnd.jupyter.widget-state+json": {
        "a6905474225d4528a92e0976028b8fb7": {
          "model_module": "@jupyter-widgets/controls",
          "model_name": "HBoxModel",
          "model_module_version": "1.5.0",
          "state": {
            "_dom_classes": [],
            "_model_module": "@jupyter-widgets/controls",
            "_model_module_version": "1.5.0",
            "_model_name": "HBoxModel",
            "_view_count": null,
            "_view_module": "@jupyter-widgets/controls",
            "_view_module_version": "1.5.0",
            "_view_name": "HBoxView",
            "box_style": "",
            "children": [
              "IPY_MODEL_0edca0af40ab4aa4a8bb93ad7674a28b",
              "IPY_MODEL_5314e7415563429eb8ecabded2bcc4cd",
              "IPY_MODEL_e8c562ca95944be5a7e1a6534163c6ea"
            ],
            "layout": "IPY_MODEL_04c8393afc2d446fb53bd211d06bf888"
          }
        },
        "0edca0af40ab4aa4a8bb93ad7674a28b": {
          "model_module": "@jupyter-widgets/controls",
          "model_name": "HTMLModel",
          "model_module_version": "1.5.0",
          "state": {
            "_dom_classes": [],
            "_model_module": "@jupyter-widgets/controls",
            "_model_module_version": "1.5.0",
            "_model_name": "HTMLModel",
            "_view_count": null,
            "_view_module": "@jupyter-widgets/controls",
            "_view_module_version": "1.5.0",
            "_view_name": "HTMLView",
            "description": "",
            "description_tooltip": null,
            "layout": "IPY_MODEL_1d19799f1fb94b94ac6e99aeb4f6c586",
            "placeholder": "​",
            "style": "IPY_MODEL_e1342362826646379203c03a50fd494b",
            "value": "  7%"
          }
        },
        "5314e7415563429eb8ecabded2bcc4cd": {
          "model_module": "@jupyter-widgets/controls",
          "model_name": "FloatProgressModel",
          "model_module_version": "1.5.0",
          "state": {
            "_dom_classes": [],
            "_model_module": "@jupyter-widgets/controls",
            "_model_module_version": "1.5.0",
            "_model_name": "FloatProgressModel",
            "_view_count": null,
            "_view_module": "@jupyter-widgets/controls",
            "_view_module_version": "1.5.0",
            "_view_name": "ProgressView",
            "bar_style": "",
            "description": "",
            "description_tooltip": null,
            "layout": "IPY_MODEL_6d35e9ad262b4beb82d7459e74d5b0da",
            "max": 14,
            "min": 0,
            "orientation": "horizontal",
            "style": "IPY_MODEL_3a31b902edba426595bbbe6405e57168",
            "value": 1
          }
        },
        "e8c562ca95944be5a7e1a6534163c6ea": {
          "model_module": "@jupyter-widgets/controls",
          "model_name": "HTMLModel",
          "model_module_version": "1.5.0",
          "state": {
            "_dom_classes": [],
            "_model_module": "@jupyter-widgets/controls",
            "_model_module_version": "1.5.0",
            "_model_name": "HTMLModel",
            "_view_count": null,
            "_view_module": "@jupyter-widgets/controls",
            "_view_module_version": "1.5.0",
            "_view_name": "HTMLView",
            "description": "",
            "description_tooltip": null,
            "layout": "IPY_MODEL_0a0a2246032f47a3b0dd3b0d473e68da",
            "placeholder": "​",
            "style": "IPY_MODEL_34e745abdbc941d9b72f1a408f502fc1",
            "value": " 1/14 [00:37&lt;08:06, 37.41s/it]"
          }
        },
        "04c8393afc2d446fb53bd211d06bf888": {
          "model_module": "@jupyter-widgets/base",
          "model_name": "LayoutModel",
          "model_module_version": "1.2.0",
          "state": {
            "_model_module": "@jupyter-widgets/base",
            "_model_module_version": "1.2.0",
            "_model_name": "LayoutModel",
            "_view_count": null,
            "_view_module": "@jupyter-widgets/base",
            "_view_module_version": "1.2.0",
            "_view_name": "LayoutView",
            "align_content": null,
            "align_items": null,
            "align_self": null,
            "border": null,
            "bottom": null,
            "display": null,
            "flex": null,
            "flex_flow": null,
            "grid_area": null,
            "grid_auto_columns": null,
            "grid_auto_flow": null,
            "grid_auto_rows": null,
            "grid_column": null,
            "grid_gap": null,
            "grid_row": null,
            "grid_template_areas": null,
            "grid_template_columns": null,
            "grid_template_rows": null,
            "height": null,
            "justify_content": null,
            "justify_items": null,
            "left": null,
            "margin": null,
            "max_height": null,
            "max_width": null,
            "min_height": null,
            "min_width": null,
            "object_fit": null,
            "object_position": null,
            "order": null,
            "overflow": null,
            "overflow_x": null,
            "overflow_y": null,
            "padding": null,
            "right": null,
            "top": null,
            "visibility": null,
            "width": null
          }
        },
        "1d19799f1fb94b94ac6e99aeb4f6c586": {
          "model_module": "@jupyter-widgets/base",
          "model_name": "LayoutModel",
          "model_module_version": "1.2.0",
          "state": {
            "_model_module": "@jupyter-widgets/base",
            "_model_module_version": "1.2.0",
            "_model_name": "LayoutModel",
            "_view_count": null,
            "_view_module": "@jupyter-widgets/base",
            "_view_module_version": "1.2.0",
            "_view_name": "LayoutView",
            "align_content": null,
            "align_items": null,
            "align_self": null,
            "border": null,
            "bottom": null,
            "display": null,
            "flex": null,
            "flex_flow": null,
            "grid_area": null,
            "grid_auto_columns": null,
            "grid_auto_flow": null,
            "grid_auto_rows": null,
            "grid_column": null,
            "grid_gap": null,
            "grid_row": null,
            "grid_template_areas": null,
            "grid_template_columns": null,
            "grid_template_rows": null,
            "height": null,
            "justify_content": null,
            "justify_items": null,
            "left": null,
            "margin": null,
            "max_height": null,
            "max_width": null,
            "min_height": null,
            "min_width": null,
            "object_fit": null,
            "object_position": null,
            "order": null,
            "overflow": null,
            "overflow_x": null,
            "overflow_y": null,
            "padding": null,
            "right": null,
            "top": null,
            "visibility": null,
            "width": null
          }
        },
        "e1342362826646379203c03a50fd494b": {
          "model_module": "@jupyter-widgets/controls",
          "model_name": "DescriptionStyleModel",
          "model_module_version": "1.5.0",
          "state": {
            "_model_module": "@jupyter-widgets/controls",
            "_model_module_version": "1.5.0",
            "_model_name": "DescriptionStyleModel",
            "_view_count": null,
            "_view_module": "@jupyter-widgets/base",
            "_view_module_version": "1.2.0",
            "_view_name": "StyleView",
            "description_width": ""
          }
        },
        "6d35e9ad262b4beb82d7459e74d5b0da": {
          "model_module": "@jupyter-widgets/base",
          "model_name": "LayoutModel",
          "model_module_version": "1.2.0",
          "state": {
            "_model_module": "@jupyter-widgets/base",
            "_model_module_version": "1.2.0",
            "_model_name": "LayoutModel",
            "_view_count": null,
            "_view_module": "@jupyter-widgets/base",
            "_view_module_version": "1.2.0",
            "_view_name": "LayoutView",
            "align_content": null,
            "align_items": null,
            "align_self": null,
            "border": null,
            "bottom": null,
            "display": null,
            "flex": null,
            "flex_flow": null,
            "grid_area": null,
            "grid_auto_columns": null,
            "grid_auto_flow": null,
            "grid_auto_rows": null,
            "grid_column": null,
            "grid_gap": null,
            "grid_row": null,
            "grid_template_areas": null,
            "grid_template_columns": null,
            "grid_template_rows": null,
            "height": null,
            "justify_content": null,
            "justify_items": null,
            "left": null,
            "margin": null,
            "max_height": null,
            "max_width": null,
            "min_height": null,
            "min_width": null,
            "object_fit": null,
            "object_position": null,
            "order": null,
            "overflow": null,
            "overflow_x": null,
            "overflow_y": null,
            "padding": null,
            "right": null,
            "top": null,
            "visibility": null,
            "width": null
          }
        },
        "3a31b902edba426595bbbe6405e57168": {
          "model_module": "@jupyter-widgets/controls",
          "model_name": "ProgressStyleModel",
          "model_module_version": "1.5.0",
          "state": {
            "_model_module": "@jupyter-widgets/controls",
            "_model_module_version": "1.5.0",
            "_model_name": "ProgressStyleModel",
            "_view_count": null,
            "_view_module": "@jupyter-widgets/base",
            "_view_module_version": "1.2.0",
            "_view_name": "StyleView",
            "bar_color": null,
            "description_width": ""
          }
        },
        "0a0a2246032f47a3b0dd3b0d473e68da": {
          "model_module": "@jupyter-widgets/base",
          "model_name": "LayoutModel",
          "model_module_version": "1.2.0",
          "state": {
            "_model_module": "@jupyter-widgets/base",
            "_model_module_version": "1.2.0",
            "_model_name": "LayoutModel",
            "_view_count": null,
            "_view_module": "@jupyter-widgets/base",
            "_view_module_version": "1.2.0",
            "_view_name": "LayoutView",
            "align_content": null,
            "align_items": null,
            "align_self": null,
            "border": null,
            "bottom": null,
            "display": null,
            "flex": null,
            "flex_flow": null,
            "grid_area": null,
            "grid_auto_columns": null,
            "grid_auto_flow": null,
            "grid_auto_rows": null,
            "grid_column": null,
            "grid_gap": null,
            "grid_row": null,
            "grid_template_areas": null,
            "grid_template_columns": null,
            "grid_template_rows": null,
            "height": null,
            "justify_content": null,
            "justify_items": null,
            "left": null,
            "margin": null,
            "max_height": null,
            "max_width": null,
            "min_height": null,
            "min_width": null,
            "object_fit": null,
            "object_position": null,
            "order": null,
            "overflow": null,
            "overflow_x": null,
            "overflow_y": null,
            "padding": null,
            "right": null,
            "top": null,
            "visibility": null,
            "width": null
          }
        },
        "34e745abdbc941d9b72f1a408f502fc1": {
          "model_module": "@jupyter-widgets/controls",
          "model_name": "DescriptionStyleModel",
          "model_module_version": "1.5.0",
          "state": {
            "_model_module": "@jupyter-widgets/controls",
            "_model_module_version": "1.5.0",
            "_model_name": "DescriptionStyleModel",
            "_view_count": null,
            "_view_module": "@jupyter-widgets/base",
            "_view_module_version": "1.2.0",
            "_view_name": "StyleView",
            "description_width": ""
          }
        }
      }
    }
  },
  "nbformat": 4,
  "nbformat_minor": 5
}