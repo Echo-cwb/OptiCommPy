{
 "cells": [
  {
   "cell_type": "markdown",
   "id": "b9cb4ac7",
   "metadata": {},
   "source": [
    "# Simulation of coherent WDM transmission"
   ]
  },
  {
   "cell_type": "code",
   "execution_count": 1,
   "id": "1ca1b9d6",
   "metadata": {
    "ExecuteTime": {
     "end_time": "2022-10-06T19:51:08.474627Z",
     "start_time": "2022-10-06T19:51:08.455764Z"
    }
   },
   "outputs": [],
   "source": [
    "if 'google.colab' in str(get_ipython()):    \n",
    "    ! git clone -b master https://github.com/edsonportosilva/OptiCommPy\n",
    "    from os import chdir as cd\n",
    "    cd('/content/OptiCommPy/Jupyter')"
   ]
  },
  {
   "cell_type": "code",
   "execution_count": 2,
   "id": "a4110d40",
   "metadata": {
    "ExecuteTime": {
     "end_time": "2022-10-06T19:51:10.646655Z",
     "start_time": "2022-10-06T19:51:08.475624Z"
    }
   },
   "outputs": [],
   "source": [
    "import matplotlib.pyplot as plt\n",
    "import numpy as np\n",
    "\n",
    "from commpy.modulation import QAMModem\n",
    "\n",
    "from optic.dsp import pulseShape, firFilter, decimate, symbolSync\n",
    "from optic.models import phaseNoise, pdmCoherentReceiver\n",
    "\n",
    "try:\n",
    "    from optic.modelsGPU import manakovSSF\n",
    "except:\n",
    "    from optic.models import manakovSSF\n",
    "\n",
    "from optic.tx import simpleWDMTx\n",
    "from optic.core import parameters\n",
    "from optic.equalization import edc, mimoAdaptEqualizer\n",
    "from optic.carrierRecovery import cpr\n",
    "from optic.metrics import fastBERcalc, monteCarloGMI, monteCarloMI, signal_power\n",
    "from optic.plot import pconst\n",
    "\n",
    "import scipy.constants as const"
   ]
  },
  {
   "cell_type": "code",
   "execution_count": 3,
   "id": "7df01820",
   "metadata": {
    "ExecuteTime": {
     "end_time": "2022-10-06T19:51:10.661615Z",
     "start_time": "2022-10-06T19:51:10.647653Z"
    }
   },
   "outputs": [
    {
     "data": {
      "text/html": [
       "\n",
       "<style>\n",
       ".output_png {\n",
       "    display: table-cell;\n",
       "    text-align: center;\n",
       "    vertical-align: middle;\n",
       "}\n",
       "</style>\n"
      ],
      "text/plain": [
       "<IPython.core.display.HTML object>"
      ]
     },
     "execution_count": 3,
     "metadata": {},
     "output_type": "execute_result"
    }
   ],
   "source": [
    "from IPython.core.display import HTML\n",
    "from IPython.core.pylabtools import figsize\n",
    "\n",
    "HTML(\"\"\"\n",
    "<style>\n",
    ".output_png {\n",
    "    display: table-cell;\n",
    "    text-align: center;\n",
    "    vertical-align: middle;\n",
    "}\n",
    "</style>\n",
    "\"\"\")"
   ]
  },
  {
   "cell_type": "code",
   "execution_count": 4,
   "id": "b8626f68",
   "metadata": {
    "ExecuteTime": {
     "end_time": "2022-10-06T19:51:10.754849Z",
     "start_time": "2022-10-06T19:51:10.663610Z"
    }
   },
   "outputs": [],
   "source": [
    "figsize(10, 3)"
   ]
  },
  {
   "cell_type": "code",
   "execution_count": 5,
   "id": "fc09c144",
   "metadata": {
    "ExecuteTime": {
     "end_time": "2022-10-06T19:51:10.894922Z",
     "start_time": "2022-10-06T19:51:10.760834Z"
    }
   },
   "outputs": [],
   "source": [
    "%load_ext autoreload\n",
    "%autoreload 2\n",
    "#%load_ext line_profiler"
   ]
  },
  {
   "cell_type": "markdown",
   "id": "e22e32db",
   "metadata": {},
   "source": [
    "\n",
    "## Transmitter"
   ]
  },
  {
   "cell_type": "markdown",
   "id": "f01da2ca",
   "metadata": {},
   "source": [
    "**Polarization multiplexed WDM signal generation**"
   ]
  },
  {
   "cell_type": "code",
   "execution_count": 6,
   "id": "51257869",
   "metadata": {
    "ExecuteTime": {
     "end_time": "2022-10-06T19:51:16.635689Z",
     "start_time": "2022-10-06T19:51:10.895729Z"
    },
    "lines_to_next_cell": 0
   },
   "outputs": [
    {
     "name": "stdout",
     "output_type": "stream",
     "text": [
      "channel 0\t fc : 192.9125 THz\n",
      "  mode #0\t power: -2.01 dBm\n",
      "  mode #1\t power: -2.01 dBm\n",
      "channel 0\t power: 1.00 dBm\n",
      "\n",
      "channel 1\t fc : 192.9500 THz\n",
      "  mode #0\t power: -2.01 dBm\n",
      "  mode #1\t power: -2.01 dBm\n",
      "channel 1\t power: 1.00 dBm\n",
      "\n",
      "channel 2\t fc : 192.9875 THz\n",
      "  mode #0\t power: -2.01 dBm\n",
      "  mode #1\t power: -2.01 dBm\n",
      "channel 2\t power: 1.00 dBm\n",
      "\n",
      "channel 3\t fc : 193.0250 THz\n",
      "  mode #0\t power: -2.01 dBm\n",
      "  mode #1\t power: -2.01 dBm\n",
      "channel 3\t power: 1.00 dBm\n",
      "\n",
      "channel 4\t fc : 193.0625 THz\n",
      "  mode #0\t power: -2.01 dBm\n",
      "  mode #1\t power: -2.01 dBm\n",
      "channel 4\t power: 1.00 dBm\n",
      "\n",
      "channel 5\t fc : 193.1000 THz\n",
      "  mode #0\t power: -2.01 dBm\n",
      "  mode #1\t power: -2.01 dBm\n",
      "channel 5\t power: 1.00 dBm\n",
      "\n",
      "channel 6\t fc : 193.1375 THz\n",
      "  mode #0\t power: -2.01 dBm\n",
      "  mode #1\t power: -2.01 dBm\n",
      "channel 6\t power: 1.00 dBm\n",
      "\n",
      "channel 7\t fc : 193.1750 THz\n",
      "  mode #0\t power: -2.01 dBm\n",
      "  mode #1\t power: -2.01 dBm\n",
      "channel 7\t power: 1.00 dBm\n",
      "\n",
      "channel 8\t fc : 193.2125 THz\n",
      "  mode #0\t power: -2.01 dBm\n",
      "  mode #1\t power: -2.01 dBm\n",
      "channel 8\t power: 1.00 dBm\n",
      "\n",
      "channel 9\t fc : 193.2500 THz\n",
      "  mode #0\t power: -2.01 dBm\n",
      "  mode #1\t power: -2.01 dBm\n",
      "channel 9\t power: 1.00 dBm\n",
      "\n",
      "channel 10\t fc : 193.2875 THz\n",
      "  mode #0\t power: -2.01 dBm\n",
      "  mode #1\t power: -2.01 dBm\n",
      "channel 10\t power: 1.00 dBm\n",
      "\n",
      "total WDM signal power: 11.41 dBm\n"
     ]
    }
   ],
   "source": [
    "# Transmitter parameters:\n",
    "paramTx = parameters()\n",
    "paramTx.M   = 16           # order of the modulation format\n",
    "paramTx.Rs  = 32e9         # symbol rate [baud]\n",
    "paramTx.SpS = 16           # samples per symbol\n",
    "paramTx.Nbits = 400000     # total number of bits per polarization\n",
    "paramTx.pulse = 'rrc'      # pulse shaping filter\n",
    "paramTx.Ntaps = 1024       # number of pulse shaping filter coefficients\n",
    "paramTx.alphaRRC = 0.01    # RRC rolloff\n",
    "paramTx.Pch_dBm = 1        # power per WDM channel [dBm]\n",
    "paramTx.Nch     = 11       # number of WDM channels\n",
    "paramTx.Fc      = 193.1e12 # central optical frequency of the WDM spectrum\n",
    "paramTx.freqSpac = 37.5e9  # WDM grid spacing\n",
    "paramTx.Nmodes = 2         # number of signal modes [2 for polarization multiplexed signals]\n",
    "\n",
    "# generate WDM signal\n",
    "sigWDM_Tx, symbTx_, paramTx = simpleWDMTx(paramTx)"
   ]
  },
  {
   "cell_type": "markdown",
   "id": "0cb851bf",
   "metadata": {},
   "source": [
    "**Nonlinear fiber propagation with the split-step Fourier method**"
   ]
  },
  {
   "cell_type": "code",
   "execution_count": 7,
   "id": "05599d49",
   "metadata": {
    "ExecuteTime": {
     "end_time": "2022-10-06T20:03:52.227021Z",
     "start_time": "2022-10-06T20:00:30.731098Z"
    },
    "scrolled": false
   },
   "outputs": [
    {
     "data": {
      "application/vnd.jupyter.widget-view+json": {
       "model_id": "b48ac9d3f1ca44a8ad498a6c2b8c13c2",
       "version_major": 2,
       "version_minor": 0
      },
      "text/plain": [
       "  0%|          | 0/14 [00:00<?, ?it/s]"
      ]
     },
     "metadata": {},
     "output_type": "display_data"
    }
   ],
   "source": [
    "# optical channel parameters\n",
    "paramCh = parameters()\n",
    "paramCh.Ltotal = 700     # total link distance [km]\n",
    "paramCh.Lspan  = 50      # span length [km]\n",
    "paramCh.alpha = 0.2      # fiber loss parameter [dB/km]\n",
    "paramCh.D = 16           # fiber dispersion parameter [ps/nm/km]\n",
    "paramCh.gamma = 1.3      # fiber nonlinear parameter [1/(W.km)]\n",
    "paramCh.Fc = paramTx.Fc  # central optical frequency of the WDM spectrum\n",
    "paramCh.hz = 1           # step-size of the split-step Fourier method [km]\n",
    "paramCh.maxIter = 5      # maximum number of convergence iterations per step\n",
    "paramCh.tol = 1e-5       # error tolerance per step\n",
    "paramCh.prgsBar = True   # show progress bar?\n",
    "\n",
    "Fs = paramTx.Rs*paramTx.SpS # sampling rate\n",
    "\n",
    "# nonlinear signal propagation\n",
    "sigWDM, paramCh = manakovSSF(sigWDM_Tx, Fs, paramCh)"
   ]
  },
  {
   "cell_type": "markdown",
   "id": "45da6d22",
   "metadata": {},
   "source": [
    "**Optical WDM spectrum before and after transmission**"
   ]
  },
  {
   "cell_type": "code",
   "execution_count": 8,
   "id": "489a01ea",
   "metadata": {
    "ExecuteTime": {
     "end_time": "2022-10-06T20:03:52.505962Z",
     "start_time": "2022-10-06T20:03:52.228891Z"
    },
    "lines_to_next_cell": 2
   },
   "outputs": [
    {
     "data": {
      "image/png": "[encoded data removed]",
      "text/plain": [
       "<Figure size 720x216 with 1 Axes>"
      ]
     },
     "metadata": {
      "needs_background": "light"
     },
     "output_type": "display_data"
    }
   ],
   "source": [
    "# plot psd\n",
    "plt.figure(figsize=(10, 3))\n",
    "plt.xlim(paramCh.Fc-Fs/2,paramCh.Fc+Fs/2);\n",
    "plt.psd(sigWDM_Tx[:,0], Fs=Fs, Fc=paramCh.Fc, NFFT = 4*1024, sides='twosided', label = 'WDM spectrum - Tx')\n",
    "plt.psd(sigWDM[:,0], Fs=Fs, Fc=paramCh.Fc, NFFT = 4*1024, sides='twosided', label = 'WDM spectrum - Rx')\n",
    "plt.legend(loc='lower left')\n",
    "plt.title('optical WDM spectrum');"
   ]
  },
  {
   "cell_type": "markdown",
   "id": "f291b19a",
   "metadata": {},
   "source": [
    "### WDM channels coherent detection and demodulation"
   ]
  },
  {
   "cell_type": "code",
   "execution_count": 9,
   "id": "76945fb5",
   "metadata": {
    "ExecuteTime": {
     "end_time": "2022-10-06T20:03:53.844085Z",
     "start_time": "2022-10-06T20:03:52.506934Z"
    }
   },
   "outputs": [
    {
     "name": "stdout",
     "output_type": "stream",
     "text": [
      "Demodulating channel #5 , fc: 193.1000 THz, λ: 1552.5244 nm\n",
      "\n",
      "Local oscillator P: 10.00 dBm, lw: 200.00 kHz, FO: 0.00 MHz\n",
      "\n"
     ]
    },
    {
     "data": {
      "image/png": "[encoded data removed]",
      "text/plain": [
       "<Figure size 432x288 with 2 Axes>"
      ]
     },
     "metadata": {
      "needs_background": "light"
     },
     "output_type": "display_data"
    }
   ],
   "source": [
    "# Receiver\n",
    "\n",
    "# parameters\n",
    "chIndex  = 5     # index of the channel to be demodulated\n",
    "\n",
    "Fc = paramCh.Fc\n",
    "Ts = 1/Fs\n",
    "freqGrid = paramTx.freqGrid\n",
    "\n",
    "print('Demodulating channel #%d , fc: %.4f THz, λ: %.4f nm\\n'\\\n",
    "      %(chIndex, (Fc + freqGrid[chIndex])/1e12, const.c/(Fc + freqGrid[chIndex])/1e-9))\n",
    "\n",
    "symbTx = symbTx_[:,:,chIndex]\n",
    "\n",
    "# local oscillator (LO) parameters:\n",
    "FO      = 0*64e6                # frequency offset\n",
    "Δf_lo   = freqGrid[chIndex]+FO  # downshift of the channel to be demodulated\n",
    "lw      = 200e3                 # linewidth\n",
    "Plo_dBm = 10                    # power in dBm\n",
    "Plo     = 10**(Plo_dBm/10)*1e-3 # power in W\n",
    "ϕ_lo    = 0                     # initial phase in rad    \n",
    "\n",
    "print('Local oscillator P: %.2f dBm, lw: %.2f kHz, FO: %.2f MHz\\n'\\\n",
    "      %(Plo_dBm, lw/1e3, FO/1e6))\n",
    "\n",
    "# generate LO field\n",
    "π       = np.pi\n",
    "t       = np.arange(0, len(sigWDM))*Ts\n",
    "ϕ_pn_lo = phaseNoise(lw, len(sigWDM), Ts)\n",
    "sigLO   = np.sqrt(Plo)*np.exp(1j*(2*π*Δf_lo*t + ϕ_lo + ϕ_pn_lo))\n",
    "\n",
    "# polarization multiplexed coherent optical receiver\n",
    "sigRx = pdmCoherentReceiver(sigWDM, sigLO, θsig = π/3, Rdx=1, Rdy=1)\n",
    "\n",
    "# plot constellations\n",
    "pconst(sigRx[0::paramTx.SpS,:], lim=True, R=3)"
   ]
  },
  {
   "cell_type": "markdown",
   "id": "1cbf39db",
   "metadata": {},
   "source": [
    "### Matched filtering and CD compensation"
   ]
  },
  {
   "cell_type": "code",
   "execution_count": 10,
   "id": "065d823a",
   "metadata": {
    "ExecuteTime": {
     "end_time": "2022-10-06T20:03:55.916985Z",
     "start_time": "2022-10-06T20:03:53.846080Z"
    }
   },
   "outputs": [
    {
     "data": {
      "image/png": "[encoded data removed]",
      "text/plain": [
       "<Figure size 432x288 with 2 Axes>"
      ]
     },
     "metadata": {
      "needs_background": "light"
     },
     "output_type": "display_data"
    },
    {
     "data": {
      "image/png": "[encoded data removed]",
      "text/plain": [
       "<Figure size 432x288 with 2 Axes>"
      ]
     },
     "metadata": {
      "needs_background": "light"
     },
     "output_type": "display_data"
    }
   ],
   "source": [
    "# Rx filtering\n",
    "\n",
    "# Matched filtering\n",
    "if paramTx.pulse == 'nrz':\n",
    "    pulse = pulseShape('nrz', paramTx.SpS)\n",
    "elif paramTx.pulse == 'rrc':\n",
    "    pulse = pulseShape('rrc', paramTx.SpS, N=paramTx.Ntaps, alpha=paramTx.alphaRRC, Ts=1/paramTx.Rs)\n",
    "    \n",
    "pulse = pulse/np.max(np.abs(pulse))            \n",
    "sigRx = firFilter(pulse, sigRx)\n",
    "\n",
    "# plot constellations after matched filtering\n",
    "pconst(sigRx[0::paramTx.SpS,:], lim=True, R=3)\n",
    "\n",
    "# CD compensation\n",
    "sigRx = edc(sigRx, paramCh.Ltotal, paramCh.D, Fc-Δf_lo, Fs)\n",
    "\n",
    "# plot constellations after CD compensation\n",
    "pconst(sigRx[0::paramTx.SpS,:], lim=True, R=3)"
   ]
  },
  {
   "cell_type": "markdown",
   "id": "901da914",
   "metadata": {},
   "source": [
    "### Downsampling to 2 samples/symbol and re-synchronization with transmitted sequences"
   ]
  },
  {
   "cell_type": "code",
   "execution_count": 11,
   "id": "0d7e62a5",
   "metadata": {
    "ExecuteTime": {
     "end_time": "2022-10-06T20:03:56.073984Z",
     "start_time": "2022-10-06T20:03:55.917982Z"
    }
   },
   "outputs": [],
   "source": [
    "# decimation\n",
    "paramDec = parameters()\n",
    "paramDec.SpS_in  = paramTx.SpS\n",
    "paramDec.SpS_out = 2\n",
    "sigRx = decimate(sigRx, paramDec)\n",
    "\n",
    "symbRx = symbolSync(sigRx, symbTx, 2)"
   ]
  },
  {
   "cell_type": "markdown",
   "id": "e3813947",
   "metadata": {},
   "source": [
    "### Power normalization"
   ]
  },
  {
   "cell_type": "code",
   "execution_count": 12,
   "id": "e6af9d14",
   "metadata": {
    "ExecuteTime": {
     "end_time": "2022-10-06T20:03:56.586391Z",
     "start_time": "2022-10-06T20:03:56.075032Z"
    }
   },
   "outputs": [],
   "source": [
    "x = sigRx\n",
    "d = symbRx\n",
    "\n",
    "x = x.reshape(len(x),2)/np.sqrt(signal_power(x))\n",
    "d = d.reshape(len(d),2)/np.sqrt(signal_power(d))"
   ]
  },
  {
   "cell_type": "markdown",
   "id": "f9c25025",
   "metadata": {},
   "source": [
    "### Adaptive equalization"
   ]
  },
  {
   "cell_type": "code",
   "execution_count": null,
   "id": "512e12d6",
   "metadata": {
    "ExecuteTime": {
     "end_time": "2022-10-06T20:04:16.675750Z",
     "start_time": "2022-10-06T20:03:56.587237Z"
    }
   },
   "outputs": [
    {
     "name": "stdout",
     "output_type": "stream",
     "text": [
      "\n",
      "\n",
      "da-rde - training stage #0\n"
     ]
    },
    {
     "data": {
      "application/vnd.jupyter.widget-view+json": {
       "model_id": "31918779d2404207a1ecd3f494ccce2d",
       "version_major": 2,
       "version_minor": 0
      },
      "text/plain": [
       "  0%|          | 0/5 [00:00<?, ?it/s]"
      ]
     },
     "metadata": {},
     "output_type": "display_data"
    },
    {
     "name": "stdout",
     "output_type": "stream",
     "text": [
      "da-rde pre-convergence training iteration #0\n"
     ]
    }
   ],
   "source": [
    "# adaptive equalization parameters\n",
    "paramEq = parameters()\n",
    "paramEq.nTaps = 15\n",
    "paramEq.SpS   = 2\n",
    "paramEq.mu    = [5e-3, 2e-3]\n",
    "paramEq.numIter = 5\n",
    "paramEq.storeCoeff = False\n",
    "paramEq.alg   = ['da-rde','rde']\n",
    "paramEq.M     = paramTx.M\n",
    "paramEq.L = [20000, 80000]\n",
    "\n",
    "y_EQ, H, errSq, Hiter = mimoAdaptEqualizer(x, dx=d, paramEq=paramEq)\n",
    "\n",
    "#plot constellations after adaptive equalization\n",
    "discard = 5000\n",
    "pconst([y_EQ[discard:-discard,:], d], lim=True)"
   ]
  },
  {
   "cell_type": "markdown",
   "id": "aaf0f85c",
   "metadata": {},
   "source": [
    "### Carrier phase recovery"
   ]
  },
  {
   "cell_type": "code",
   "execution_count": null,
   "id": "4f6650fe",
   "metadata": {
    "ExecuteTime": {
     "end_time": "2022-10-06T20:04:23.270455Z",
     "start_time": "2022-10-06T20:04:16.676720Z"
    }
   },
   "outputs": [],
   "source": [
    "paramCPR = parameters()\n",
    "paramCPR.alg = 'bps'\n",
    "paramCPR.M   = paramTx.M\n",
    "paramCPR.N   = 20\n",
    "paramCPR.B   = 64\n",
    "paramCPR.pilotInd = np.arange(0, len(y_EQ), 20) \n",
    "\n",
    "y_CPR, θ = cpr(y_EQ, symbTx=d, paramCPR=paramCPR)\n",
    "\n",
    "y_CPR = y_CPR/np.sqrt(signal_power(y_CPR))\n",
    "\n",
    "plt.figure(figsize=(10, 3))\n",
    "plt.title('CPR estimated phase')\n",
    "plt.plot(θ,'-')\n",
    "plt.xlim(0, len(θ))\n",
    "plt.grid();\n",
    "\n",
    "discard = 5000\n",
    "\n",
    "#plot constellations after CPR\n",
    "pconst([y_CPR[discard:-discard,:], d], lim=True)"
   ]
  },
  {
   "cell_type": "markdown",
   "id": "e9e07048",
   "metadata": {},
   "source": [
    "### Evaluate transmission metrics"
   ]
  },
  {
   "cell_type": "code",
   "execution_count": null,
   "id": "67c66471",
   "metadata": {
    "ExecuteTime": {
     "end_time": "2022-10-06T20:04:25.129751Z",
     "start_time": "2022-10-06T20:04:23.271478Z"
    }
   },
   "outputs": [],
   "source": [
    "# correct (possible) phase ambiguity\n",
    "for k in range(y_CPR.shape[1]):\n",
    "    rot = np.mean(d[:,k]/y_CPR[:,k])\n",
    "    y_CPR[:,k] = rot*y_CPR[:,k]\n",
    "\n",
    "y_CPR = y_CPR/np.sqrt(signal_power(y_CPR))\n",
    "\n",
    "\n",
    "ind = np.arange(discard, d.shape[0]-discard)\n",
    "BER, SER, SNR = fastBERcalc(y_CPR[ind,:], d[ind,:], paramTx.M, 'qam')\n",
    "GMI,_    = monteCarloGMI(y_CPR[ind,:], d[ind,:], paramTx.M, 'qam')\n",
    "MI       = monteCarloMI(y_CPR[ind,:], d[ind,:], paramTx.M, 'qam')\n",
    "\n",
    "print('     pol.X     pol.Y      ')\n",
    "print('SER: %.2e, %.2e'%(SER[0], SER[1]))\n",
    "print('BER: %.2e, %.2e'%(BER[0], BER[1]))\n",
    "print('SNR: %.2f dB, %.2f dB'%(SNR[0], SNR[1]))\n",
    "print('MI: %.2f bits, %.2f bits'%(MI[0], MI[1]))\n",
    "print('GMI: %.2f bits, %.2f bits'%(GMI[0], GMI[1]))"
   ]
  }
 ],
 "metadata": {
  "jupytext": {
   "encoding": "# -*- coding: utf-8 -*-",
   "formats": "ipynb,py:light"
  },
  "kernelspec": {
   "display_name": "Python 3 (ipykernel)",
   "language": "python",
   "name": "python3"
  },
  "language_info": {
   "codemirror_mode": {
    "name": "ipython",
    "version": 3
   },
   "file_extension": ".py",
   "mimetype": "text/x-python",
   "name": "python",
   "nbconvert_exporter": "python",
   "pygments_lexer": "ipython3",
   "version": "3.9.12"
  },
  "toc": {
   "base_numbering": 1,
   "nav_menu": {},
   "number_sections": true,
   "sideBar": true,
   "skip_h1_title": true,
   "title_cell": "Table of Contents",
   "title_sidebar": "Contents",
   "toc_cell": true,
   "toc_position": {
    "height": "calc(100% - 180px)",
    "left": "10px",
    "top": "150px",
    "width": "261.719px"
   },
   "toc_section_display": true,
   "toc_window_display": false
  },
  "varInspector": {
   "cols": {
    "lenName": 16,
    "lenType": 16,
    "lenVar": 40
   },
   "kernels_config": {
    "python": {
     "delete_cmd_postfix": "",
     "delete_cmd_prefix": "del ",
     "library": "var_list.py",
     "varRefreshCmd": "print(var_dic_list())"
    },
    "r": {
     "delete_cmd_postfix": ") ",
     "delete_cmd_prefix": "rm(",
     "library": "var_list.r",
     "varRefreshCmd": "cat(var_dic_list()) "
    }
   },
   "position": {
    "height": "144.4px",
    "left": "1163px",
    "right": "20px",
    "top": "121px",
    "width": "350px"
   },
   "types_to_exclude": [
    "module",
    "function",
    "builtin_function_or_method",
    "instance",
    "_Feature"
   ],
   "window_display": false
  }
 },
 "nbformat": 4,
 "nbformat_minor": 5
}
