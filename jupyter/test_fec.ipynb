{
 "cells": [
  {
   "cell_type": "markdown",
   "metadata": {
    "toc": true
   },
   "source": [
    "<h1>Table of Contents<span class=\"tocSkip\"></span></h1>\n",
    "<div class=\"toc\"><ul class=\"toc-item\"><li><span><a href=\"#Test-LDPC-decoding\" data-toc-modified-id=\"Test-LDPC-decoding-1\"><span class=\"toc-item-num\">1&nbsp;&nbsp;</span>Test LDPC decoding</a></span></li></ul></div>"
   ]
  },
  {
   "cell_type": "code",
   "execution_count": 1,
   "metadata": {
    "ExecuteTime": {
     "end_time": "2021-11-21T19:36:02.350339Z",
     "start_time": "2021-11-21T19:35:59.634304Z"
    }
   },
   "outputs": [],
   "source": [
    "from commpy.modulation import QAMModem, PSKModem\n",
    "from optic.metrics import signal_power, calcLLR, fastBERcalc\n",
    "from optic.fec import loggaldecode\n",
    "import matplotlib.pyplot as plt\n",
    "import numpy as np\n",
    "import scipy as sp\n",
    "from tqdm.notebook import tqdm\n",
    "from numba import njit\n",
    "from numba.typed import List"
   ]
  },
  {
   "cell_type": "code",
   "execution_count": 2,
   "metadata": {
    "ExecuteTime": {
     "end_time": "2021-11-21T19:36:02.366328Z",
     "start_time": "2021-11-21T19:36:02.353336Z"
    }
   },
   "outputs": [],
   "source": [
    "@njit\n",
    "def awgn(tx, noiseVar):\n",
    "    \n",
    "    σ        = np.sqrt(noiseVar)\n",
    "    noise    = np.random.normal(0,σ, tx.size) + 1j*np.random.normal(0,σ, tx.size)\n",
    "    noise    = 1/np.sqrt(2)*noise\n",
    "    \n",
    "    rx = tx + noise\n",
    "    \n",
    "    return rx\n",
    "\n",
    "def sparse(H):\n",
    "    \n",
    "    M, N = H.shape\n",
    "\n",
    "    Nl = []\n",
    "    Ml = []\n",
    "    for m in range(M):\n",
    "        Nl.append([])\n",
    "\n",
    "    for n in range(N):\n",
    "        Ml.append([])\n",
    "\n",
    "    # Build the sparse representation of A using the M and N sets\n",
    "\n",
    "    for m in range(M):\n",
    "        for n in range(N):\n",
    "            if H[m, n]:\n",
    "                Nl[m].append(n)\n",
    "                Ml[n].append(m)\n",
    "    \n",
    "    return List(Nl), List(Ml)"
   ]
  },
  {
   "cell_type": "markdown",
   "metadata": {},
   "source": [
    "## Test LDPC decoding"
   ]
  },
  {
   "cell_type": "code",
   "execution_count": 3,
   "metadata": {
    "ExecuteTime": {
     "end_time": "2021-11-21T19:36:02.397312Z",
     "start_time": "2021-11-21T19:36:02.369328Z"
    }
   },
   "outputs": [
    {
     "name": "stderr",
     "output_type": "stream",
     "text": [
      "C:\\Users\\edson\\AppData\\Roaming\\Python\\Python38\\site-packages\\numba\\typed\\typedlist.py:83: NumbaPendingDeprecationWarning: \u001b[1m\u001b[1m\n",
      "Encountered the use of a type that is scheduled for deprecation: type 'reflected list' found for argument 'item' of function 'impl_append.<locals>.impl'.\n",
      "\n",
      "For more information visit https://numba.pydata.org/numba-doc/latest/reference/deprecation.html#deprecation-of-reflection-for-list-and-set-types\n",
      "\u001b[1m\n",
      "File \"..\\..\\..\\..\\AppData\\Roaming\\Python\\Python38\\site-packages\\numba\\typed\\listobject.py\", line 599:\u001b[0m\n",
      "\u001b[1m\n",
      "\u001b[1m    def impl(l, item):\n",
      "\u001b[0m    \u001b[1m^\u001b[0m\u001b[0m\n",
      "\u001b[0m\u001b[0m\n",
      "  l.append(item)\n",
      "C:\\Users\\edson\\AppData\\Roaming\\Python\\Python38\\site-packages\\numba\\core\\ir_utils.py:2139: NumbaPendingDeprecationWarning: \u001b[1m\n",
      "Encountered the use of a type that is scheduled for deprecation: type 'reflected list' found for argument 'item' of function '_append'.\n",
      "\n",
      "For more information visit https://numba.pydata.org/numba-doc/latest/reference/deprecation.html#deprecation-of-reflection-for-list-and-set-types\n",
      "\u001b[1m\n",
      "File \"..\\..\\..\\..\\AppData\\Roaming\\Python\\Python38\\site-packages\\numba\\typed\\typedlist.py\", line 82:\u001b[0m\n",
      "\u001b[1m@njit\n",
      "\u001b[1mdef _append(l, item):\n",
      "\u001b[0m\u001b[1m^\u001b[0m\u001b[0m\n",
      "\u001b[0m\n",
      "  warnings.warn(NumbaPendingDeprecationWarning(msg, loc=loc))\n"
     ]
    }
   ],
   "source": [
    "# A used in chapter\n",
    "A = np.array([[1, 1, 1, 0, 0, 1, 1, 0, 0, 1],\n",
    "              [1, 0, 1, 0, 1, 1, 0, 1, 1, 0],\n",
    "              [0, 0, 1, 1, 1, 0, 1, 0, 1, 1],\n",
    "              [0, 1, 0, 1, 1, 1, 0, 1, 0, 1],\n",
    "              [1, 1, 0, 1, 0, 0, 1, 1, 1, 0]])\n",
    "\n",
    "# Inverse of first part, to get systematic form (not needed for decoding)\n",
    "Apinv = np.array([[1, 0, 1, 1, 0],\n",
    "                  [0, 1, 1, 0, 1],\n",
    "                  [0, 1, 0, 1, 1],\n",
    "                  [1, 1, 0, 1, 0],\n",
    "                  [1, 0, 1, 0, 1]])\n",
    "\n",
    "H = (Apinv@A)%2   # systematic parity check matrix\n",
    "\n",
    "M, N = A.shape\n",
    "K = N-M;\n",
    "P = H[:,N-K:N];\n",
    "G = np.concatenate((P, np.eye(int(K)))) # now A*G = 0 (mod 2)\n",
    "\n",
    "m = np.array([[1, 0, 1, 0, 1]]).T\n",
    "c = (G@m)%2;\n",
    "t = 2*(2*c-1);\n",
    "\n",
    "a = 2;   # signal amplitude\n",
    "sigma2 = 2;  # noise variance\n",
    "\n",
    "# First set the channel posterior probabilities\n",
    "p1 = np.array([[.22, .16,  .19,  .48, .55,  .87, .18, .79, .25, .76]]).T\n",
    "\n",
    "# then compute the received values that correspond to these\n",
    "r =  np.log((1./p1)-1)/(-2*a)*sigma2;  # received vector\n",
    "\n",
    "x0 = p1 > 0.5\n",
    "z0 = (A@x0)%2\n",
    "\n",
    "Nloop = 50;\n",
    "\n",
    "Lc = 2*a/sigma2;\n",
    "Nl, Ml = sparse(H)\n",
    "\n",
    "#x = galdecode(A,p1,Nloop)\n",
    "lamb, x = loggaldecode(H, r, Nloop,Lc, Nl, Ml)"
   ]
  },
  {
   "cell_type": "code",
   "execution_count": 4,
   "metadata": {
    "ExecuteTime": {
     "end_time": "2021-11-21T19:36:06.008116Z",
     "start_time": "2021-11-21T19:36:02.399309Z"
    },
    "lines_to_next_cell": 0
   },
   "outputs": [
    {
     "name": "stdout",
     "output_type": "stream",
     "text": [
      "BER =  0.01728\n",
      "BERpostFEC =  0.00228\n"
     ]
    }
   ],
   "source": [
    "# Run AWGN simulation \n",
    "EbN0dB = 7\n",
    "M      = 16\n",
    "Nwords = 10000\n",
    "Nloop  = 50\n",
    "Lc = 1\n",
    "\n",
    "# generate random bits\n",
    "bitsTx = np.random.randint(2, size=(5, Nwords)) \n",
    "encodedBitsTx = ((G@bitsTx)%2).astype('int')\n",
    "encodedBitsTx = (encodedBitsTx.T).reshape(1,-1).T\n",
    "\n",
    "# Map bits to constellation symbols\n",
    "mod = QAMModem(m=M)\n",
    "symbTx = mod.modulate(encodedBitsTx)\n",
    "\n",
    "# Normalize symbols energy to 1\n",
    "symbTx = symbTx/np.sqrt(mod.Es)\n",
    "\n",
    "# AWGN    \n",
    "snrdB    = EbN0dB + 10*np.log10(np.log2(M))\n",
    "noiseVar = 1/(10**(snrdB/10))\n",
    "\n",
    "symbRx = awgn(symbTx, noiseVar)\n",
    "\n",
    "# BER calculation\n",
    "BER, _, _ = fastBERcalc(symbRx, symbTx, mod)\n",
    "print('BER = ', BER[0])\n",
    "\n",
    "constSymb = mod.constellation\n",
    "bitMap = mod.demodulate(constSymb, demod_type=\"hard\")\n",
    "bitMap = bitMap.reshape(-1, int(np.log2(M)))\n",
    "Es = mod.Es\n",
    "\n",
    "llr = calcLLR(symbRx, noiseVar, constSymb / np.sqrt(Es), bitMap)\n",
    "llr = llr.reshape(-1,1)\n",
    "\n",
    "decBits = np.zeros((10*Nwords,1))\n",
    "decBits[:] = np.nan\n",
    "\n",
    "for k in range(Nwords):  \n",
    "    llr_in = llr[10*k:10*k+10, :]\n",
    "    llr_out,_ = loggaldecode(H, llr_in, Nloop, Lc, Nl, Ml)\n",
    "    decBits[10*k:10*k+10,:] = ( np.sign(-llr_out) + 1 )/2\n",
    "\n",
    "BERpost = np.mean(np.logical_xor(encodedBitsTx, decBits))\n",
    "\n",
    "print('BERpostFEC = ', BERpost)"
   ]
  }
 ],
 "metadata": {
  "jupytext": {
   "encoding": "# -*- coding: utf-8 -*-",
   "formats": "ipynb,py:light"
  },
  "kernelspec": {
   "display_name": "Python 3",
   "language": "python",
   "name": "python3"
  },
  "language_info": {
   "codemirror_mode": {
    "name": "ipython",
    "version": 3
   },
   "file_extension": ".py",
   "mimetype": "text/x-python",
   "name": "python",
   "nbconvert_exporter": "python",
   "pygments_lexer": "ipython3",
   "version": "3.8.5"
  },
  "toc": {
   "base_numbering": 1,
   "nav_menu": {},
   "number_sections": true,
   "sideBar": true,
   "skip_h1_title": true,
   "title_cell": "Table of Contents",
   "title_sidebar": "Contents",
   "toc_cell": true,
   "toc_position": {},
   "toc_section_display": true,
   "toc_window_display": false
  },
  "varInspector": {
   "cols": {
    "lenName": 16,
    "lenType": 16,
    "lenVar": 40
   },
   "kernels_config": {
    "python": {
     "delete_cmd_postfix": "",
     "delete_cmd_prefix": "del ",
     "library": "var_list.py",
     "varRefreshCmd": "print(var_dic_list())"
    },
    "r": {
     "delete_cmd_postfix": ") ",
     "delete_cmd_prefix": "rm(",
     "library": "var_list.r",
     "varRefreshCmd": "cat(var_dic_list()) "
    }
   },
   "types_to_exclude": [
    "module",
    "function",
    "builtin_function_or_method",
    "instance",
    "_Feature"
   ],
   "window_display": false
  }
 },
 "nbformat": 4,
 "nbformat_minor": 5
}
