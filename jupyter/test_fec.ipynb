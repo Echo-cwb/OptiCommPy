{
 "cells": [
  {
   "cell_type": "code",
   "execution_count": 385,
   "id": "c3e436b4",
   "metadata": {
    "ExecuteTime": {
     "end_time": "2021-11-23T19:47:42.582977Z",
     "start_time": "2021-11-23T19:47:42.312669Z"
    }
   },
   "outputs": [],
   "source": [
    "from commpy.modulation import QAMModem, PSKModem\n",
    "from optic.metrics import signal_power, calcLLR, fastBERcalc\n",
    "from optic.fec import loggaldecode\n",
    "import matplotlib.pyplot as plt\n",
    "import numpy as np\n",
    "import scipy as sp\n",
    "from scipy import io\n",
    "from tqdm.notebook import tqdm\n",
    "from numba import njit\n",
    "from numba.typed import List\n",
    "\n",
    "import os.path as path"
   ]
  },
  {
   "cell_type": "code",
   "execution_count": 386,
   "id": "bbf65592",
   "metadata": {
    "ExecuteTime": {
     "end_time": "2021-11-23T19:47:44.557794Z",
     "start_time": "2021-11-23T19:47:44.398891Z"
    }
   },
   "outputs": [],
   "source": [
    "mainDir = path.abspath(path.join(\"../\"))"
   ]
  },
  {
   "cell_type": "code",
   "execution_count": 2,
   "id": "e53c3d7f",
   "metadata": {
    "ExecuteTime": {
     "end_time": "2021-11-23T14:40:13.297886Z",
     "start_time": "2021-11-23T14:40:13.157556Z"
    }
   },
   "outputs": [],
   "source": [
    "%load_ext autoreload\n",
    "%autoreload 2"
   ]
  },
  {
   "cell_type": "code",
   "execution_count": 3,
   "id": "4958f849",
   "metadata": {
    "ExecuteTime": {
     "end_time": "2021-11-23T14:40:13.437798Z",
     "start_time": "2021-11-23T14:40:13.300885Z"
    }
   },
   "outputs": [],
   "source": [
    "@njit\n",
    "def awgn(tx, noiseVar):\n",
    "    \n",
    "    σ        = np.sqrt(noiseVar)\n",
    "    noise    = np.random.normal(0,σ, tx.size) + 1j*np.random.normal(0,σ, tx.size)\n",
    "    noise    = 1/np.sqrt(2)*noise\n",
    "    \n",
    "    rx = tx + noise\n",
    "    \n",
    "    return rx\n",
    "\n",
    "def sparse(H):\n",
    "    \n",
    "    M, N = H.shape\n",
    "\n",
    "    Nl = []\n",
    "    Ml = []\n",
    "    for m in range(M):\n",
    "        Nl.append([])\n",
    "\n",
    "    for n in range(N):\n",
    "        Ml.append([])\n",
    "\n",
    "    # Build the sparse representation of A using the M and N sets\n",
    "    for n in tqdm(range(N)):\n",
    "        for m in range(M):\n",
    "            if H[m, n]:\n",
    "                Nl[m].append(n)\n",
    "                Ml[n].append(m)\n",
    "                \n",
    "   # return Nl, Ml            \n",
    "    return List(Nl), List(Ml)"
   ]
  },
  {
   "cell_type": "markdown",
   "id": "cad789cc",
   "metadata": {},
   "source": [
    "## Test LDPC decoding"
   ]
  },
  {
   "cell_type": "code",
   "execution_count": 192,
   "id": "f6ca6afa",
   "metadata": {
    "ExecuteTime": {
     "end_time": "2021-11-23T16:22:42.128062Z",
     "start_time": "2021-11-23T16:22:41.925187Z"
    }
   },
   "outputs": [
    {
     "data": {
      "application/vnd.jupyter.widget-view+json": {
       "model_id": "54db3f92f89b49cbbd57e92af94f84c6",
       "version_major": 2,
       "version_minor": 0
      },
      "text/plain": [
       "  0%|          | 0/10 [00:00<?, ?it/s]"
      ]
     },
     "metadata": {},
     "output_type": "display_data"
    },
    {
     "name": "stdout",
     "output_type": "stream",
     "text": [
      "c =  [[0. 0. 0. 1. 0. 1. 0. 1. 0. 1.]]\n",
      "x =  [[0. 0. 0. 1. 0. 1. 0. 1. 0. 1.]]\n"
     ]
    }
   ],
   "source": [
    "# A used in chapter\n",
    "A = np.array([[1, 1, 1, 0, 0, 1, 1, 0, 0, 1],\n",
    "              [1, 0, 1, 0, 1, 1, 0, 1, 1, 0],\n",
    "              [0, 0, 1, 1, 1, 0, 1, 0, 1, 1],\n",
    "              [0, 1, 0, 1, 1, 1, 0, 1, 0, 1],\n",
    "              [1, 1, 0, 1, 0, 0, 1, 1, 1, 0]])\n",
    "\n",
    "# Inverse of first part, to get systematic form (not needed for decoding)\n",
    "Apinv = np.array([[1, 0, 1, 1, 0],\n",
    "                  [0, 1, 1, 0, 1],\n",
    "                  [0, 1, 0, 1, 1],\n",
    "                  [1, 1, 0, 1, 0],\n",
    "                  [1, 0, 1, 0, 1]])\n",
    "\n",
    "H = (Apinv@A)%2   # systematic parity check matrix\n",
    "\n",
    "M, N = A.shape\n",
    "K = N-M;\n",
    "P = H[:,N-K:N];\n",
    "G = np.concatenate((P, np.eye(int(K)))) # now A*G = 0 (mod 2)\n",
    "\n",
    "m = np.array([[1, 0, 1, 0, 1]]).T\n",
    "c = (G@m)%2;\n",
    "t = 2*(2*c-1);\n",
    "\n",
    "a = 2;   # signal amplitude\n",
    "sigma2 = 2;  # noise variance\n",
    "\n",
    "# First set the channel posterior probabilities\n",
    "p1 = np.array([[.22, .16,  .19,  .48, .55,  .87, .18, .79, .25, .76]]).T\n",
    "\n",
    "# then compute the received values that correspond to these\n",
    "r =  np.log((1./p1)-1)/(-2*a)*sigma2;  # received vector\n",
    "\n",
    "x0 = p1 > 0.5\n",
    "z0 = (A@x0)%2\n",
    "\n",
    "Nloop = 50;\n",
    "\n",
    "Lc = 2*a/sigma2;\n",
    "Nl, Ml = sparse(H)\n",
    "\n",
    "#x = galdecode(A,p1,Nloop)\n",
    "lamb, x = loggaldecode(H, r, Nloop,Lc, Nl, Ml)\n",
    "print('c = ', c.T)\n",
    "print('x = ', x.T)"
   ]
  },
  {
   "cell_type": "code",
   "execution_count": 218,
   "id": "fa281175",
   "metadata": {
    "ExecuteTime": {
     "end_time": "2021-11-23T16:26:04.443486Z",
     "start_time": "2021-11-23T16:26:03.553033Z"
    },
    "lines_to_next_cell": 0
   },
   "outputs": [
    {
     "name": "stdout",
     "output_type": "stream",
     "text": [
      "BER =  0.00165\n"
     ]
    }
   ],
   "source": [
    "# Run AWGN simulation \n",
    "EbN0dB = 10\n",
    "M      = 16\n",
    "Nwords = 10000\n",
    "Nloop  = 100\n",
    "Lc = 2\n",
    "\n",
    "K = H.shape[0]\n",
    "\n",
    "inter = np.random.permutation(N)\n",
    "deint = inter.argsort()\n",
    "\n",
    "# generate random bits\n",
    "bitsTx = np.random.randint(2, size=(K, Nwords)) \n",
    "encodedBitsTx = ((G@bitsTx)%2).astype('int')\n",
    "interBitsTx   = (encodedBitsTx[inter,:].T).reshape(1,-1).T\n",
    "encodedBitsTx = (encodedBitsTx.T).reshape(1,-1).T\n",
    "\n",
    "# Map bits to constellation symbols\n",
    "mod = QAMModem(m=M)\n",
    "symbTx = mod.modulate(interBitsTx)\n",
    "\n",
    "# Normalize symbols energy to 1\n",
    "symbTx = symbTx/np.sqrt(mod.Es)\n",
    "\n",
    "# AWGN    \n",
    "snrdB    = EbN0dB + 10*np.log10(np.log2(M))\n",
    "noiseVar = 1/(10**(snrdB/10))\n",
    "\n",
    "symbRx = awgn(symbTx, noiseVar)\n",
    "\n",
    "# BER calculation\n",
    "BER, _, _ = fastBERcalc(symbRx, symbTx, mod)\n",
    "print('BER = ', BER[0])\n",
    "\n",
    "constSymb = mod.constellation\n",
    "bitMap = mod.demodulate(constSymb, demod_type=\"hard\")\n",
    "bitMap = bitMap.reshape(-1, int(np.log2(M)))\n",
    "Es = mod.Es\n",
    "\n",
    "llr = calcLLR(symbRx, noiseVar, constSymb / np.sqrt(Es), bitMap)\n",
    "llr = llr.reshape(-1,1)\n",
    "\n",
    "decBits = np.zeros((10*Nwords,1))\n",
    "decBits[:] = np.nan"
   ]
  },
  {
   "cell_type": "code",
   "execution_count": 222,
   "id": "a24c6a2d",
   "metadata": {
    "ExecuteTime": {
     "end_time": "2021-11-23T16:26:29.070272Z",
     "start_time": "2021-11-23T16:26:27.929992Z"
    },
    "lines_to_next_cell": 0
   },
   "outputs": [
    {
     "name": "stdout",
     "output_type": "stream",
     "text": [
      "BERpostFEC =  0.0\n"
     ]
    },
    {
     "data": {
      "text/plain": [
       "[<matplotlib.lines.Line2D at 0x382b7490>]"
      ]
     },
     "execution_count": 222,
     "metadata": {},
     "output_type": "execute_result"
    },
    {
     "data": {
      "image/png": "[encoded data removed]",
      "text/plain": [
       "<Figure size 432x288 with 1 Axes>"
      ]
     },
     "metadata": {
      "needs_background": "light"
     },
     "output_type": "display_data"
    }
   ],
   "source": [
    "Nloop = 4\n",
    "for k in range(Nwords):  \n",
    "    llr_in = llr[10*k:10*k+10, :]\n",
    "    llr_out,_ = loggaldecode(H, llr_in[deint], Nloop, Lc, Nl, Ml)\n",
    "    decBits[10*k:10*k+10,:] = ( np.sign(-llr_out) + 1 )/2\n",
    "\n",
    "BERpost = np.mean(np.logical_xor(encodedBitsTx, decBits))\n",
    "\n",
    "print('BERpostFEC = ', BERpost)\n",
    "\n",
    "plt.plot(np.logical_xor(encodedBitsTx, decBits))"
   ]
  },
  {
   "cell_type": "markdown",
   "id": "4f358488",
   "metadata": {},
   "source": [
    "## Test AR4JA LDPC "
   ]
  },
  {
   "cell_type": "code",
   "execution_count": 364,
   "id": "0b5e4c06",
   "metadata": {
    "ExecuteTime": {
     "end_time": "2021-11-23T19:18:48.071219Z",
     "start_time": "2021-11-23T19:18:47.876342Z"
    }
   },
   "outputs": [
    {
     "ename": "MemoryError",
     "evalue": "Unable to allocate 168. MiB for an array with shape (3072, 7168) and data type float64",
     "output_type": "error",
     "traceback": [
      "\u001b[1;31m---------------------------------------------------------------------------\u001b[0m",
      "\u001b[1;31mMemoryError\u001b[0m                               Traceback (most recent call last)",
      "\u001b[1;32m<ipython-input-364-275b44f8ff51>\u001b[0m in \u001b[0;36m<module>\u001b[1;34m\u001b[0m\n\u001b[0;32m      6\u001b[0m \u001b[1;31m# H = d['LDPC']['H'] # parity check matrix\u001b[0m\u001b[1;33m\u001b[0m\u001b[1;33m\u001b[0m\u001b[1;33m\u001b[0m\u001b[0m\n\u001b[0;32m      7\u001b[0m \u001b[1;31m# H = H[0][0][0][0][0]\u001b[0m\u001b[1;33m\u001b[0m\u001b[1;33m\u001b[0m\u001b[1;33m\u001b[0m\u001b[0m\n\u001b[1;32m----> 8\u001b[1;33m \u001b[0mH\u001b[0m \u001b[1;33m=\u001b[0m \u001b[0msp\u001b[0m\u001b[1;33m.\u001b[0m\u001b[0msparse\u001b[0m\u001b[1;33m.\u001b[0m\u001b[0mcsr_matrix\u001b[0m\u001b[1;33m.\u001b[0m\u001b[0mtodense\u001b[0m\u001b[1;33m(\u001b[0m\u001b[0mH\u001b[0m\u001b[1;33m)\u001b[0m\u001b[1;33m.\u001b[0m\u001b[0mastype\u001b[0m\u001b[1;33m(\u001b[0m\u001b[0mnp\u001b[0m\u001b[1;33m.\u001b[0m\u001b[0mint8\u001b[0m\u001b[1;33m)\u001b[0m\u001b[1;33m\u001b[0m\u001b[1;33m\u001b[0m\u001b[0m\n\u001b[0m\u001b[0;32m      9\u001b[0m \u001b[0mH\u001b[0m \u001b[1;33m=\u001b[0m \u001b[0mnp\u001b[0m\u001b[1;33m.\u001b[0m\u001b[0masarray\u001b[0m\u001b[1;33m(\u001b[0m\u001b[0mH\u001b[0m\u001b[1;33m)\u001b[0m\u001b[1;33m\u001b[0m\u001b[1;33m\u001b[0m\u001b[0m\n\u001b[0;32m     10\u001b[0m \u001b[1;33m\u001b[0m\u001b[0m\n",
      "\u001b[1;32mc:\\users\\edson\\anaconda3\\lib\\site-packages\\scipy\\sparse\\base.py\u001b[0m in \u001b[0;36mtodense\u001b[1;34m(self, order, out)\u001b[0m\n\u001b[0;32m    862\u001b[0m             \u001b[0;31m`\u001b[0m\u001b[0mnumpy\u001b[0m\u001b[1;33m.\u001b[0m\u001b[0mmatrix\u001b[0m\u001b[0;31m`\u001b[0m \u001b[0mobject\u001b[0m \u001b[0mthat\u001b[0m \u001b[0mshares\u001b[0m \u001b[0mthe\u001b[0m \u001b[0msame\u001b[0m \u001b[0mmemory\u001b[0m\u001b[1;33m.\u001b[0m\u001b[1;33m\u001b[0m\u001b[1;33m\u001b[0m\u001b[0m\n\u001b[0;32m    863\u001b[0m         \"\"\"\n\u001b[1;32m--> 864\u001b[1;33m         \u001b[1;32mreturn\u001b[0m \u001b[0masmatrix\u001b[0m\u001b[1;33m(\u001b[0m\u001b[0mself\u001b[0m\u001b[1;33m.\u001b[0m\u001b[0mtoarray\u001b[0m\u001b[1;33m(\u001b[0m\u001b[0morder\u001b[0m\u001b[1;33m=\u001b[0m\u001b[0morder\u001b[0m\u001b[1;33m,\u001b[0m \u001b[0mout\u001b[0m\u001b[1;33m=\u001b[0m\u001b[0mout\u001b[0m\u001b[1;33m)\u001b[0m\u001b[1;33m)\u001b[0m\u001b[1;33m\u001b[0m\u001b[1;33m\u001b[0m\u001b[0m\n\u001b[0m\u001b[0;32m    865\u001b[0m \u001b[1;33m\u001b[0m\u001b[0m\n\u001b[0;32m    866\u001b[0m     \u001b[1;32mdef\u001b[0m \u001b[0mtoarray\u001b[0m\u001b[1;33m(\u001b[0m\u001b[0mself\u001b[0m\u001b[1;33m,\u001b[0m \u001b[0morder\u001b[0m\u001b[1;33m=\u001b[0m\u001b[1;32mNone\u001b[0m\u001b[1;33m,\u001b[0m \u001b[0mout\u001b[0m\u001b[1;33m=\u001b[0m\u001b[1;32mNone\u001b[0m\u001b[1;33m)\u001b[0m\u001b[1;33m:\u001b[0m\u001b[1;33m\u001b[0m\u001b[1;33m\u001b[0m\u001b[0m\n",
      "\u001b[1;32mc:\\users\\edson\\anaconda3\\lib\\site-packages\\scipy\\sparse\\compressed.py\u001b[0m in \u001b[0;36mtoarray\u001b[1;34m(self, order, out)\u001b[0m\n\u001b[0;32m   1029\u001b[0m         \u001b[1;32mif\u001b[0m \u001b[0mout\u001b[0m \u001b[1;32mis\u001b[0m \u001b[1;32mNone\u001b[0m \u001b[1;32mand\u001b[0m \u001b[0morder\u001b[0m \u001b[1;32mis\u001b[0m \u001b[1;32mNone\u001b[0m\u001b[1;33m:\u001b[0m\u001b[1;33m\u001b[0m\u001b[1;33m\u001b[0m\u001b[0m\n\u001b[0;32m   1030\u001b[0m             \u001b[0morder\u001b[0m \u001b[1;33m=\u001b[0m \u001b[0mself\u001b[0m\u001b[1;33m.\u001b[0m\u001b[0m_swap\u001b[0m\u001b[1;33m(\u001b[0m\u001b[1;34m'cf'\u001b[0m\u001b[1;33m)\u001b[0m\u001b[1;33m[\u001b[0m\u001b[1;36m0\u001b[0m\u001b[1;33m]\u001b[0m\u001b[1;33m\u001b[0m\u001b[1;33m\u001b[0m\u001b[0m\n\u001b[1;32m-> 1031\u001b[1;33m         \u001b[0mout\u001b[0m \u001b[1;33m=\u001b[0m \u001b[0mself\u001b[0m\u001b[1;33m.\u001b[0m\u001b[0m_process_toarray_args\u001b[0m\u001b[1;33m(\u001b[0m\u001b[0morder\u001b[0m\u001b[1;33m,\u001b[0m \u001b[0mout\u001b[0m\u001b[1;33m)\u001b[0m\u001b[1;33m\u001b[0m\u001b[1;33m\u001b[0m\u001b[0m\n\u001b[0m\u001b[0;32m   1032\u001b[0m         \u001b[1;32mif\u001b[0m \u001b[1;32mnot\u001b[0m \u001b[1;33m(\u001b[0m\u001b[0mout\u001b[0m\u001b[1;33m.\u001b[0m\u001b[0mflags\u001b[0m\u001b[1;33m.\u001b[0m\u001b[0mc_contiguous\u001b[0m \u001b[1;32mor\u001b[0m \u001b[0mout\u001b[0m\u001b[1;33m.\u001b[0m\u001b[0mflags\u001b[0m\u001b[1;33m.\u001b[0m\u001b[0mf_contiguous\u001b[0m\u001b[1;33m)\u001b[0m\u001b[1;33m:\u001b[0m\u001b[1;33m\u001b[0m\u001b[1;33m\u001b[0m\u001b[0m\n\u001b[0;32m   1033\u001b[0m             \u001b[1;32mraise\u001b[0m \u001b[0mValueError\u001b[0m\u001b[1;33m(\u001b[0m\u001b[1;34m'Output array must be C or F contiguous'\u001b[0m\u001b[1;33m)\u001b[0m\u001b[1;33m\u001b[0m\u001b[1;33m\u001b[0m\u001b[0m\n",
      "\u001b[1;32mc:\\users\\edson\\anaconda3\\lib\\site-packages\\scipy\\sparse\\base.py\u001b[0m in \u001b[0;36m_process_toarray_args\u001b[1;34m(self, order, out)\u001b[0m\n\u001b[0;32m   1200\u001b[0m             \u001b[1;32mreturn\u001b[0m \u001b[0mout\u001b[0m\u001b[1;33m\u001b[0m\u001b[1;33m\u001b[0m\u001b[0m\n\u001b[0;32m   1201\u001b[0m         \u001b[1;32melse\u001b[0m\u001b[1;33m:\u001b[0m\u001b[1;33m\u001b[0m\u001b[1;33m\u001b[0m\u001b[0m\n\u001b[1;32m-> 1202\u001b[1;33m             \u001b[1;32mreturn\u001b[0m \u001b[0mnp\u001b[0m\u001b[1;33m.\u001b[0m\u001b[0mzeros\u001b[0m\u001b[1;33m(\u001b[0m\u001b[0mself\u001b[0m\u001b[1;33m.\u001b[0m\u001b[0mshape\u001b[0m\u001b[1;33m,\u001b[0m \u001b[0mdtype\u001b[0m\u001b[1;33m=\u001b[0m\u001b[0mself\u001b[0m\u001b[1;33m.\u001b[0m\u001b[0mdtype\u001b[0m\u001b[1;33m,\u001b[0m \u001b[0morder\u001b[0m\u001b[1;33m=\u001b[0m\u001b[0morder\u001b[0m\u001b[1;33m)\u001b[0m\u001b[1;33m\u001b[0m\u001b[1;33m\u001b[0m\u001b[0m\n\u001b[0m\u001b[0;32m   1203\u001b[0m \u001b[1;33m\u001b[0m\u001b[0m\n\u001b[0;32m   1204\u001b[0m \u001b[1;33m\u001b[0m\u001b[0m\n",
      "\u001b[1;31mMemoryError\u001b[0m: Unable to allocate 168. MiB for an array with shape (3072, 7168) and data type float64"
     ]
    }
   ],
   "source": [
    "path = r'C:\\Users\\edson\\Documents\\GitHub\\edsonportosilva\\robochameleon-private\\addons\\AR4JA_LDPC_FEC'\n",
    "\n",
    "d = sp.io.loadmat(path+'\\LDPC_AR4JA_6144b_R23.mat')\n",
    "H = d['H']\n",
    "\n",
    "# H = d['LDPC']['H'] # parity check matrix\n",
    "# H = H[0][0][0][0][0]\n",
    "H = sp.sparse.csr_matrix.todense(H).astype(np.int8)\n",
    "H = np.asarray(H)\n",
    "\n",
    "file_path = r'C:\\Users\\edson\\Documents\\GitHub\\edsonportosilva\\OpticCommPy\\optic\\fecParams\\LDPC_AR4JA_6144b_R23.txt'\n",
    "\n",
    "ldpc.write_ldpc_params(H, file_path)"
   ]
  },
  {
   "cell_type": "code",
   "execution_count": 358,
   "id": "20b9aabc",
   "metadata": {
    "ExecuteTime": {
     "end_time": "2021-11-23T19:13:49.388395Z",
     "start_time": "2021-11-23T19:13:49.240485Z"
    }
   },
   "outputs": [
    {
     "data": {
      "text/plain": [
       "matrix([[0, 0, 0, ..., 0, 0, 0],\n",
       "        [0, 0, 0, ..., 0, 0, 0],\n",
       "        [0, 0, 0, ..., 0, 0, 0],\n",
       "        ...,\n",
       "        [0, 0, 0, ..., 1, 0, 0],\n",
       "        [0, 0, 0, ..., 0, 1, 0],\n",
       "        [0, 0, 0, ..., 0, 0, 1]], dtype=int8)"
      ]
     },
     "execution_count": 358,
     "metadata": {},
     "output_type": "execute_result"
    }
   ],
   "source": [
    "H"
   ]
  },
  {
   "cell_type": "code",
   "execution_count": 229,
   "id": "b498e1f8",
   "metadata": {
    "ExecuteTime": {
     "end_time": "2021-11-23T17:22:48.680954Z",
     "start_time": "2021-11-23T17:22:48.524052Z"
    }
   },
   "outputs": [],
   "source": [
    "M, N = H.shape\n",
    "K = N-M\n",
    "P = H[:,N-K:N]\n",
    "G = np.concatenate((P, np.eye(int(K)))) # now A*G = 0 (mod 2)"
   ]
  },
  {
   "cell_type": "code",
   "execution_count": 174,
   "id": "8dcafbc0",
   "metadata": {
    "ExecuteTime": {
     "end_time": "2021-11-23T16:17:01.732459Z",
     "start_time": "2021-11-23T16:17:01.435644Z"
    }
   },
   "outputs": [
    {
     "name": "stdout",
     "output_type": "stream",
     "text": [
      "BER =  0.0\n"
     ]
    },
    {
     "data": {
      "application/vnd.jupyter.widget-view+json": {
       "model_id": "f45c4cb5805b499bb6e6417a6aff4aa4",
       "version_major": 2,
       "version_minor": 0
      },
      "text/plain": [
       "  0%|          | 0/648 [00:00<?, ?it/s]"
      ]
     },
     "metadata": {},
     "output_type": "display_data"
    }
   ],
   "source": [
    "# Run AWGN simulation \n",
    "EbN0dB = 10\n",
    "M      = 16\n",
    "Nwords = 2\n",
    "Nloop  = 2\n",
    "Lc = 2\n",
    "\n",
    "inter = np.random.permutation(N)\n",
    "deint = inter.argsort()\n",
    "\n",
    "# generate random bits\n",
    "bitsTx = np.random.randint(2, size=(K, Nwords)) \n",
    "encodedBitsTx = ((G@bitsTx)%2).astype('int')\n",
    "interBitsTx   = (encodedBitsTx[inter,:].T).reshape(1,-1).T\n",
    "encodedBitsTx = (encodedBitsTx.T).reshape(1,-1).T\n",
    "\n",
    "# Map bits to constellation symbols\n",
    "mod = QAMModem(m=M)\n",
    "symbTx = mod.modulate(interBitsTx)\n",
    "\n",
    "# Normalize symbols energy to 1\n",
    "symbTx = symbTx/np.sqrt(mod.Es)\n",
    "\n",
    "# AWGN    \n",
    "snrdB    = EbN0dB + 10*np.log10(np.log2(M))\n",
    "noiseVar = 1/(10**(snrdB/10))\n",
    "\n",
    "symbRx = awgn(symbTx, noiseVar)\n",
    "\n",
    "# BER calculation\n",
    "BER, _, _ = fastBERcalc(symbRx, symbTx, mod)\n",
    "print('BER = ', BER[0])\n",
    "\n",
    "constSymb = mod.constellation\n",
    "bitMap = mod.demodulate(constSymb, demod_type=\"hard\")\n",
    "bitMap = bitMap.reshape(-1, int(np.log2(M)))\n",
    "Es = mod.Es\n",
    "\n",
    "llr = calcLLR(symbRx, noiseVar, constSymb / np.sqrt(Es), bitMap)\n",
    "llr = llr.reshape(-1,1)\n",
    "\n",
    "decBits = np.zeros((N*Nwords,1))\n",
    "decBits[:] = np.nan\n",
    "\n",
    "Nl, Ml = sparse(H)"
   ]
  },
  {
   "cell_type": "code",
   "execution_count": 190,
   "id": "1741e67b",
   "metadata": {
    "ExecuteTime": {
     "end_time": "2021-11-23T16:21:42.624487Z",
     "start_time": "2021-11-23T16:21:35.653775Z"
    }
   },
   "outputs": [
    {
     "name": "stdout",
     "output_type": "stream",
     "text": [
      "BERpostFEC =  0.23919753086419754\n"
     ]
    }
   ],
   "source": [
    "Nloop = 20\n",
    "for ii in range(Nwords):  \n",
    "    llr_in = llr[N*ii:N*ii+N, :]\n",
    "    llr_out,_ = loggaldecode(H, llr_in[deint], Nloop, Lc, Nl, Ml)\n",
    "    decBits[N*ii:N*ii+N,:] = ( np.sign(-llr_out) + 1 )/2\n",
    "\n",
    "BERpost = np.mean(np.logical_xor(encodedBitsTx, decBits))\n",
    "\n",
    "print('BERpostFEC = ', BERpost)"
   ]
  },
  {
   "cell_type": "code",
   "execution_count": 180,
   "id": "472e58e8",
   "metadata": {
    "ExecuteTime": {
     "end_time": "2021-11-23T16:20:53.177998Z",
     "start_time": "2021-11-23T16:20:52.831211Z"
    }
   },
   "outputs": [
    {
     "data": {
      "text/plain": [
       "[<matplotlib.lines.Line2D at 0x20d7a4c0>]"
      ]
     },
     "execution_count": 180,
     "metadata": {},
     "output_type": "execute_result"
    },
    {
     "data": {
      "image/png": "[encoded data removed]",
      "text/plain": [
       "<Figure size 432x288 with 1 Axes>"
      ]
     },
     "metadata": {
      "needs_background": "light"
     },
     "output_type": "display_data"
    }
   ],
   "source": [
    "plt.plot(np.logical_xor(encodedBitsTx, decBits))"
   ]
  },
  {
   "cell_type": "code",
   "execution_count": 294,
   "id": "5390deac",
   "metadata": {
    "ExecuteTime": {
     "end_time": "2021-11-23T18:15:10.280043Z",
     "start_time": "2021-11-23T18:15:10.123110Z"
    }
   },
   "outputs": [],
   "source": [
    "from commpy.channelcoding import ldpc\n",
    "from commpy.channelcoding.ldpc import triang_ldpc_systematic_encode as encodeLDPC\n",
    "from commpy.channelcoding.ldpc import ldpc_bp_decode as decodeLDPC\n",
    "from commpy.channelcoding.interleavers import RandInterlv"
   ]
  },
  {
   "cell_type": "code",
   "execution_count": 394,
   "id": "ea0dc009",
   "metadata": {
    "ExecuteTime": {
     "end_time": "2021-11-23T20:03:36.716250Z",
     "start_time": "2021-11-23T20:03:36.541362Z"
    }
   },
   "outputs": [
    {
     "data": {
      "text/plain": [
       "'C:\\\\Users\\\\edson\\\\Documents\\\\GitHub\\\\edsonportosilva\\\\OpticCommPy\\\\optic\\\\fecParams\\\\LDPC_11nD2_648b_R56.txt'"
      ]
     },
     "execution_count": 394,
     "metadata": {},
     "output_type": "execute_result"
    }
   ],
   "source": [
    "# FEC parameters\n",
    "family = \"11nD2\"\n",
    "R = 56\n",
    "n = 648\n",
    "    \n",
    "filename = '\\LDPC_' + family + '_' + str(n) + 'b_R' + str(R) + '.txt'\n",
    "filePath = mainDir + r'\\optic\\fecParams' + filename\n",
    "filePath"
   ]
  },
  {
   "cell_type": "code",
   "execution_count": 395,
   "id": "6758d20e",
   "metadata": {
    "ExecuteTime": {
     "end_time": "2021-11-23T20:03:40.226983Z",
     "start_time": "2021-11-23T20:03:38.224198Z"
    }
   },
   "outputs": [
    {
     "name": "stdout",
     "output_type": "stream",
     "text": [
      "BER =  0.019753086419753086\n",
      "BERpostFEC =  0.0\n",
      "Number of bits =  51840\n"
     ]
    }
   ],
   "source": [
    "# Run AWGN simulation \n",
    "EbN0dB = 15\n",
    "M      = 256\n",
    "Nwords = 80\n",
    "Nloop  = 40\n",
    "Lc = 2\n",
    "\n",
    "LDPCparams = ldpc.get_ldpc_code_params(filePath)\n",
    "\n",
    "N = LDPCparams['n_vnodes']\n",
    "K = N-LDPCparams['n_cnodes']\n",
    "\n",
    "inter = np.random.permutation(N)\n",
    "deint = inter.argsort()\n",
    "\n",
    "# generate random bits\n",
    "bitsTx = np.random.randint(2, size=(K, Nwords))\n",
    "\n",
    "encodedBitsTx = encodeLDPC(bitsTx, LDPCparams)\n",
    "interBitsTx   = (encodedBitsTx[inter,:].T).reshape(1,-1).T\n",
    "\n",
    "# Map bits to constellation symbols\n",
    "mod = QAMModem(m=M)\n",
    "symbTx = mod.modulate(interBitsTx)\n",
    "\n",
    "# Normalize symbols energy to 1\n",
    "symbTx = symbTx/np.sqrt(mod.Es)\n",
    "\n",
    "# AWGN    \n",
    "snrdB    = EbN0dB + 10*np.log10(np.log2(M))\n",
    "noiseVar = 1/(10**(snrdB/10))\n",
    "\n",
    "symbRx = awgn(symbTx, noiseVar)\n",
    "\n",
    "# BER calculation\n",
    "BER, _, _ = fastBERcalc(symbRx, symbTx, mod)\n",
    "print('BER = ', BER[0])\n",
    "\n",
    "constSymb = mod.constellation\n",
    "bitMap = mod.demodulate(constSymb, demod_type=\"hard\")\n",
    "bitMap = bitMap.reshape(-1, int(np.log2(M)))\n",
    "Es = mod.Es\n",
    "\n",
    "llr = calcLLR(symbRx, noiseVar, constSymb / np.sqrt(Es), bitMap)\n",
    "\n",
    "llr_in = llr.reshape(-1, N)\n",
    "llr_in = llr_in[:, deint].ravel()\n",
    "\n",
    "decodedBits, llr_out = decodeLDPC(llr_in, LDPCparams, 'SPA', Nloop)\n",
    "BERpost = np.mean(np.logical_xor(encodedBitsTx, decodedBits))\n",
    "\n",
    "print('BERpostFEC = ', BERpost)\n",
    "print('Number of bits = ', decodedBits.size)"
   ]
  },
  {
   "cell_type": "code",
   "execution_count": null,
   "id": "a3bd581a",
   "metadata": {},
   "outputs": [],
   "source": []
  }
 ],
 "metadata": {
  "jupytext": {
   "encoding": "# -*- coding: utf-8 -*-",
   "formats": "ipynb,py:light"
  },
  "kernelspec": {
   "display_name": "Python 3",
   "language": "python",
   "name": "python3"
  },
  "language_info": {
   "codemirror_mode": {
    "name": "ipython",
    "version": 3
   },
   "file_extension": ".py",
   "mimetype": "text/x-python",
   "name": "python",
   "nbconvert_exporter": "python",
   "pygments_lexer": "ipython3",
   "version": "3.8.8"
  },
  "toc": {
   "base_numbering": 1,
   "nav_menu": {},
   "number_sections": true,
   "sideBar": true,
   "skip_h1_title": true,
   "title_cell": "Table of Contents",
   "title_sidebar": "Contents",
   "toc_cell": true,
   "toc_position": {},
   "toc_section_display": true,
   "toc_window_display": false
  },
  "varInspector": {
   "cols": {
    "lenName": 16,
    "lenType": 16,
    "lenVar": 40
   },
   "kernels_config": {
    "python": {
     "delete_cmd_postfix": "",
     "delete_cmd_prefix": "del ",
     "library": "var_list.py",
     "varRefreshCmd": "print(var_dic_list())"
    },
    "r": {
     "delete_cmd_postfix": ") ",
     "delete_cmd_prefix": "rm(",
     "library": "var_list.r",
     "varRefreshCmd": "cat(var_dic_list()) "
    }
   },
   "types_to_exclude": [
    "module",
    "function",
    "builtin_function_or_method",
    "instance",
    "_Feature"
   ],
   "window_display": false
  }
 },
 "nbformat": 4,
 "nbformat_minor": 5
}
